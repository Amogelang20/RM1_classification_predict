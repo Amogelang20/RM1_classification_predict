{
 "cells": [
  {
   "cell_type": "markdown",
   "metadata": {},
   "source": [
    "# Classification Predict - Climate Change"
   ]
  },
  {
   "cell_type": "markdown",
   "metadata": {},
   "source": [
    "![eco-friendly.jpg](eco-friendly.jpg)"
   ]
  },
  {
   "cell_type": "markdown",
   "metadata": {
    "heading_collapsed": true
   },
   "source": [
    "## Table of contents"
   ]
  },
  {
   "cell_type": "markdown",
   "metadata": {
    "hidden": true
   },
   "source": [
    "1. [Problem identification](#the_problem)  \n",
    "\n",
    "\n",
    "2. [What data do we have?](#the_data)  \n",
    "    2.1. [Install necessary packages](#install)  \n",
    "    2.2. [Start experiment](#exps)  \n",
    "    2.3. [Import the libraries](#imp_lib)  \n",
    "    2.4. [Import the dataset](#imp_data)  \n",
    "    \n",
    "    \n",
    "3. [Exploratory data analysis](#the_analysis)   \n",
    "    \n",
    "    \n",
    "4. [Preprocessing](#the_prep)  \n",
    "    4.1. [Data cleaning](#clean)  \n",
    "    4.2. [Split data into response and predictors](#split1)  \n",
    "    4.3. [Split data into training and validation sets](#split2)    \n",
    "    \n",
    "    \n",
    "5. [Build pipelines for feature extraction](#vect)  \n",
    "    5.1. [Vectorize](#v)  \n",
    "    5.2. [Stem](#s)  \n",
    "    5.3. [Tokenization](#t)  \n",
    "    5.4. [Remove stopwords](#rs)  \n",
    "    5.5. [Hyperparameter optimization](#optimize)\n",
    "\n",
    "\n",
    "6. [Train models](#train)  \n",
    "\n",
    "\n",
    "7. [Make predictions](#pred)  \n",
    "\n",
    "\n",
    "8. [Evaluate model accuracy](#the_eval)  \n",
    "    8.1. [Confusion matrices](#mat)  \n",
    "    8.2. [Classification report](#report)  \n",
    "\n",
    "\n",
    "9. [Saving important data](#sav)  \n",
    "    9.1. [Save the model](#mod)  \n",
    "    9.2. [Save the graphs](#graph)\n",
    "\n",
    "\n",
    "10. [Log parameters](#log)  \n",
    "\n",
    "\n",
    "11. [Conclusion](#the_conclusion)\n"
   ]
  },
  {
   "cell_type": "markdown",
   "metadata": {
    "heading_collapsed": true
   },
   "source": [
    "## Problem identification"
   ]
  },
  {
   "cell_type": "markdown",
   "metadata": {
    "hidden": true
   },
   "source": [
    "#### Background"
   ]
  },
  {
   "cell_type": "markdown",
   "metadata": {
    "hidden": true
   },
   "source": [
    "In a [research article](https://www.barrons.com/articles/two-thirds-of-north-americans-prefer-eco-friendly-brands-study-finds-51578661728) conducted, 19,000 customers from 28 countries where given a poll to find out how individual shopping decisions are changing. Nearly 70% of consumers in the U.S. and Canada find that it is important for a company or brand to be sustainable or eco-friendly. More than a third (40%) of the respondents globally said that they are purpose-driven consumers, who select brands based on how well they align with their personal beliefs.\n",
    "\n",
    "Many companies are built around lessening their environmental impact or carbon footprint. They offer products and services that are environmentally friendly and sustainable, in line with their values and ideals. They would like to determine how people perceive climate change and whether or not they believe it is a real threat. This would add to their market research efforts in gauging how their product/service may be received."
   ]
  },
  {
   "cell_type": "markdown",
   "metadata": {
    "hidden": true
   },
   "source": [
    "#### Problem statement"
   ]
  },
  {
   "cell_type": "markdown",
   "metadata": {
    "hidden": true
   },
   "source": [
    "Build a machine learning model that is able to classify whether or not an individual believes in man-made climate change based on historical tweet to increase insights about customers and inform future marketing strategies.\n",
    "\n",
    "You can find the project overview [here](https://www.kaggle.com/c/climate-change-belief-analysis/overview)."
   ]
  },
  {
   "cell_type": "markdown",
   "metadata": {
    "heading_collapsed": true
   },
   "source": [
    "## What data do we have?"
   ]
  },
  {
   "cell_type": "markdown",
   "metadata": {
    "hidden": true
   },
   "source": [
    "The dataset that will be used in this classification project aggregates tweets pertaining to climate change, collected between Apr 27, 2015 and Feb 21, 2018. In total, 15819 tweets are used in the dataset. The data consists of 3 columns; tweetid, sentiment and message. A description of each column in the data is given below"
   ]
  },
  {
   "cell_type": "markdown",
   "metadata": {
    "hidden": true
   },
   "source": [
    "**Variable definitions**"
   ]
  },
  {
   "cell_type": "markdown",
   "metadata": {
    "hidden": true
   },
   "source": [
    "| **Variable** | **Description**   |\n",
    "|:------------:|:------------------|\n",
    "|**tweetid**   | Twitter unique ID |\n",
    "|**message**   | Tweet body        |\n",
    "|**sentiment** | Sentiment of tweet|"
   ]
  },
  {
   "cell_type": "markdown",
   "metadata": {
    "hidden": true
   },
   "source": [
    " Each tweet is labelled as one of the following classes:"
   ]
  },
  {
   "cell_type": "markdown",
   "metadata": {
    "hidden": true
   },
   "source": [
    "| **Class** | **Tag** | **Description** |\n",
    "|:---------:|:----------------:|:----------------|\n",
    "|   **2**   | **News** |The tweet links to factual news about climate change |\n",
    "|   **1**   | **Pro** |The tweet supports the belief of man-made climate change |\n",
    "|   **0**   | **Neutral** |The tweet neither supports nor refutes the belief of man-made climate change |\n",
    "|  **-1**   | **Anti** |The tweet does not believe in man-made climate change |"
   ]
  },
  {
   "cell_type": "code",
   "execution_count": null,
   "metadata": {
    "hidden": true
   },
   "outputs": [],
   "source": [
    "!pip install comet_ml\n",
    "!pip install seaborn\n",
    "!pip install wordcloud\n",
    "!pip install emoji\n",
    "!pip install pyspellchecker\n",
    "!pip install ftfy"
   ]
  },
  {
   "cell_type": "markdown",
   "metadata": {
    "heading_collapsed": true,
    "hidden": true
   },
   "source": [
    "### Start experiment"
   ]
  },
  {
   "cell_type": "code",
   "execution_count": null,
   "metadata": {
    "hidden": true
   },
   "outputs": [],
   "source": [
    "# from comet_ml import Experiment"
   ]
  },
  {
   "cell_type": "code",
   "execution_count": null,
   "metadata": {
    "hidden": true
   },
   "outputs": [],
   "source": [
    "# Setting the API key (saved as environment variable)\n",
    "# experiment = Experiment(api_key=\"upOwchWrd7H1e6VEnWKW7PSvz\", project_name=\"classification-predict\", workspace=\"team-rm1\")"
   ]
  },
  {
   "cell_type": "markdown",
   "metadata": {
    "heading_collapsed": true,
    "hidden": true
   },
   "source": [
    "## 1. Importing packages"
   ]
  },
  {
   "cell_type": "markdown",
   "metadata": {},
   "source": [
    "This notebook requires some packages that may not be installed on your local machine. Below we provide a list of packages to be installed (if they are not yet installed) and the code to install them.  \n",
    "\n",
    "Run the following commands within Git bash (Windows), terminal (Mac/Linux) or inside your Anaconda Prompt."
   ]
  },
  {
   "cell_type": "markdown",
   "metadata": {},
   "source": [
    "- Comet_ml - `pip install comet_ml==3.1.9`  \n",
    "- Seaborn - `pip install seaborn==0.9.0`  \n",
    "- Wordcloud - `pip install wordcloud==1.7.0`  \n",
    "- Emoji - `pip install emoji==0.5.4`  \n",
    "- Pyspellchecker - `pip install pyspellchecker==0.5.4`  \n",
    "- Ftfy - `pip install ftfy==5.7`  \n",
    "- PyLDAvis - `pip install pyldavis==2.1.2`  \n",
    "- Gensim - `pip install gensim==`"
   ]
  },
  {
   "cell_type": "code",
   "execution_count": 168,
   "metadata": {
    "hidden": true
   },
   "outputs": [],
   "source": [
    "# Packages for data analysis\n",
    "import numpy as np\n",
    "import pandas as pd\n",
    "\n",
    "# Packages for visualisations\n",
    "from wordcloud import WordCloud\n",
    "import matplotlib.pyplot as plt\n",
    "%matplotlib inline\n",
    "import seaborn as sns\n",
    "\n",
    "# Packages for preprocessing\n",
    "import re\n",
    "from nltk import word_tokenize\n",
    "from nltk.corpus import stopwords\n",
    "from sklearn.feature_extraction.text import TfidfVectorizer\n",
    "from nltk.probability import FreqDist\n",
    "import emoji\n",
    "from ftfy import fix_text\n",
    "from spellchecker import SpellChecker \n",
    "from nltk.stem.snowball import SnowballStemmer\n",
    "from nltk.sentiment.vader import SentimentIntensityAnalyzer\n",
    "import itertools\n",
    "from sklearn.model_selection import train_test_split\n",
    "\n",
    "# Packages for training models\n",
    "from sklearn.pipeline import Pipeline\n",
    "from sklearn.linear_model import LogisticRegression\n",
    "from sklearn.naive_bayes import MultinomialNB\n",
    "from sklearn.svm import SVC\n",
    "from sklearn.ensemble import RandomForestClassifier\n",
    "from sklearn.neighbors import KNeighborsClassifier\n",
    "from sklearn.neural_network import MLPClassifier\n",
    "\n",
    "# Packages for hyperparameter optimisation\n",
    "from sklearn.model_selection import GridSearchCV\n",
    "\n",
    "# Packages for evaluating model accuracy\n",
    "from sklearn.metrics import f1_score \n",
    "from sklearn.metrics import precision_score\n",
    "from sklearn.metrics import recall_score\n",
    "from sklearn.metrics import confusion_matrix\n",
    "from sklearn.metrics import accuracy_score\n",
    "from sklearn.metrics import classification_report\n",
    "\n",
    "# Packages for saving models\n",
    "import pickle"
   ]
  },
  {
   "cell_type": "markdown",
   "metadata": {
    "heading_collapsed": true,
    "hidden": true
   },
   "source": [
    "## 2. Importing the data"
   ]
  },
  {
   "cell_type": "code",
   "execution_count": 2,
   "metadata": {
    "hidden": true
   },
   "outputs": [],
   "source": [
    "df_test = pd.read_csv('https://raw.githubusercontent.com/Amogelang20/RM1_classification_predict/dev/test.csv')\n",
    "df_train = pd.read_csv('https://raw.githubusercontent.com/Amogelang20/RM1_classification_predict/dev/train.csv')"
   ]
  },
  {
   "cell_type": "code",
   "execution_count": 3,
   "metadata": {
    "hidden": true
   },
   "outputs": [],
   "source": [
    "# Import training dataset\n",
    "df_train.set_index('tweetid',inplace = True)"
   ]
  },
  {
   "cell_type": "code",
   "execution_count": 4,
   "metadata": {
    "hidden": true
   },
   "outputs": [],
   "source": [
    "# Import testing dataset\n",
    "df_test.set_index('tweetid',inplace = True)"
   ]
  },
  {
   "cell_type": "code",
   "execution_count": 5,
   "metadata": {},
   "outputs": [],
   "source": [
    "df_train_eda=df_train.copy()"
   ]
  },
  {
   "cell_type": "markdown",
   "metadata": {
    "heading_collapsed": true
   },
   "source": [
    "## Preprocessing"
   ]
  },
  {
   "cell_type": "markdown",
   "metadata": {
    "heading_collapsed": true,
    "hidden": true
   },
   "source": [
    "### Data cleaning"
   ]
  },
  {
   "cell_type": "markdown",
   "metadata": {
    "hidden": true
   },
   "source": [
    "The `message` column is currently in its raw form and needs to be cleaned for the model to be able to better process, analyze and provide predictions for sentiments. Before we start cleaning, we'll extract some extra features that could possibly improve our model's predicting accuracy."
   ]
  },
  {
   "cell_type": "markdown",
   "metadata": {
    "hidden": true
   },
   "source": [
    "**Extra feature extraction**"
   ]
  },
  {
   "cell_type": "markdown",
   "metadata": {
    "hidden": true
   },
   "source": [
    "The first feature we will extract is the sentiment of a tweet. We determine the sentiment of a tweet by using python's VADER library. This feature could be useful since we would expect tweets classified as `Anti` to have a more negative tone than tweets classified as `Pro`. We'll start by writing a function that takes a text string as input and determines its sentiment, i.e. negative, positive or neutral. Since these tweets do not have a wide range when it comes to sentiment scores (rarely more than 0.4) we decided to classify all tweets with scores of less than -0.05 as negative, scores between -0.05 and 0.05 where classified as neutral and a score of more than 0.05 indicated a positive tweet."
   ]
  },
  {
   "cell_type": "code",
   "execution_count": 6,
   "metadata": {
    "hidden": true
   },
   "outputs": [],
   "source": [
    "# Function to extract sentiment\n",
    "def sentiment_score(text):\n",
    "    \"\"\" A function that determines the sentiment of a text string.\n",
    "\n",
    "        Parameters\n",
    "        ----------\n",
    "        text: Text string.\n",
    "\n",
    "        Returns\n",
    "        -------\n",
    "        sentiment:  String indicating the sentiment of the input string.\n",
    "    \"\"\"\n",
    "    \n",
    "    sid = SentimentIntensityAnalyzer()\n",
    "    s = sid.polarity_scores(text)['compound']\n",
    "    if s<-0.05:\n",
    "        sentiment='negative'\n",
    "    elif s>0.05:\n",
    "        sentiment='positive'\n",
    "    else:\n",
    "        sentiment='neutral'\n",
    "    \n",
    "    return sentiment"
   ]
  },
  {
   "cell_type": "markdown",
   "metadata": {
    "hidden": true
   },
   "source": [
    "Twitter handles could be a second useful feature. Sentiment will help us a lot with classifying classes like `Anti`, `Neutral` and `Pro`, but we would find it more difficult to classify `News` using these sentiments. Twitter handles could help the model distinguish between the `News` class and the other classes. We assume that tweets classified as `News` would've probably been extracted from news accounts and therefore have news related handles.  \n",
    "\n",
    "We now extract all **unique** Twitter handles found in tweets within the `News` class."
   ]
  },
  {
   "cell_type": "code",
   "execution_count": 7,
   "metadata": {
    "hidden": true,
    "scrolled": true
   },
   "outputs": [],
   "source": [
    "# Extract all unique news related handles into a list\n",
    "df_temp = df_train.copy()\n",
    "df_temp.sort_index(inplace=True)\n",
    "n_temp = [re.findall(r'@[\\w]+',df_temp['message'].iloc[i]) for i,x in enumerate(df_temp['sentiment']) if x==2]\n",
    "news = [x for x in n_temp if x!=[]]\n",
    "news = sorted(list(set(itertools.chain.from_iterable(news))))"
   ]
  },
  {
   "cell_type": "code",
   "execution_count": 8,
   "metadata": {},
   "outputs": [],
   "source": [
    "# Export list of unique news related handles\n",
    "with open('news_file.pkl', 'wb') as file:\n",
    "    pickle.dump(news, file)"
   ]
  },
  {
   "cell_type": "code",
   "execution_count": 9,
   "metadata": {
    "hidden": true
   },
   "outputs": [
    {
     "name": "stdout",
     "output_type": "stream",
     "text": [
      "First 5 entries: ['@02Cents0', '@100isNow', '@1306Chomley', '@1o5CleanEnergy', '@233liveOnline'] \n",
      "Last 5 entries: ['@yceek', '@yearsofliving', '@yicaichina', '@zsstevens', '@Ã']\n"
     ]
    }
   ],
   "source": [
    "print(f'First 5 entries: {news[:5]} \\nLast 5 entries: {news[-5:]}')"
   ]
  },
  {
   "cell_type": "markdown",
   "metadata": {
    "hidden": true
   },
   "source": [
    "Looking at the first and last 5 entries inside our list we see our hunch was correct. We can see news channels like `@233liveOnline` and organizations like `@100isNow` (better known as \"The Solutions Project\") that has made it clear that their goal is to radically transform how people understand climate change and the role we all can play to solve it. There are also handles from influential people like `@zsstevens` (Stewart Stevenson), former Scottish Minister for Environment and Climate Change from, and is currently still part o fthe Environment, Climate Change and Land Reform Committee for the Scottish Parliament.  \n",
    "\n",
    "We have now created our features and move on to cleaning the text data."
   ]
  },
  {
   "cell_type": "markdown",
   "metadata": {
    "hidden": true
   },
   "source": [
    "**Hashtags**"
   ]
  },
  {
   "cell_type": "markdown",
   "metadata": {
    "hidden": true
   },
   "source": [
    "`#Hashtags` are used to make a statement about something, or to start a conversation around a specific topic or trend. In twitter data a lot of hashtags are generally used and may contain viable information that indicate a certain sentiment towards a specific topic. However, hashtags are a compressed set of words or sentences and since they are recorded as 1 word it may be hard for the model to decipher them. For this reason a dictionary,`hashtags`, has been created. This dictionary contains all the possible hashtags about climate change along with their corresponding decompressed words."
   ]
  },
  {
   "cell_type": "markdown",
   "metadata": {
    "hidden": true
   },
   "source": [
    "We start by extracting all unique hashtags from the training dataset and export them into two seperate .PKL files. One will be used for the keys in the dictionary and the other will be used for values (separated words). _These files are then modified further outside the jupyter notebook._ \n",
    "\n",
    "*Below we show the code that was used to extract and export all unique hashtags. This is merely for illustration of the process taken.*"
   ]
  },
  {
   "cell_type": "markdown",
   "metadata": {
    "hidden": true
   },
   "source": [
    "***\n",
    "\n",
    "`hashtags = df_train['message'].apply(lambda x: re.findall(r'[#]\\\\w+',x))`  \n",
    "\n",
    "**Extracting all unique hashtags**  \n",
    "`hashtags = list(set([item for sublist in hashtags for item in sublist])) `  \n",
    "\n",
    "**Exporting twice. One is used for the keys in the dictionary and the other is used for values(separated words).**  \n",
    "`with open('hash_file', 'wb') as fp:`  \n",
    "`    pickle.dump(hashtags, fp)`  \n",
    "`with open('hash_file_clean', 'wb') as fp:`  \n",
    "`    pickle.dump(itemlist, fp)`  \n",
    "***"
   ]
  },
  {
   "cell_type": "markdown",
   "metadata": {
    "hidden": true
   },
   "source": [
    "After modifying those files we will load them back into the notebook to help with preprocessing the text data."
   ]
  },
  {
   "cell_type": "code",
   "execution_count": 10,
   "metadata": {
    "hidden": true
   },
   "outputs": [],
   "source": [
    "# Read in created hashtag text file and create a hashtags dictionary\n",
    "\n",
    "# Keys\n",
    "hash_file = [line.rstrip('\\n') for line in open('hash_file.txt')]\n",
    "hash_file = [i.center(len(i)+2) for i in hash_file]\n",
    "\n",
    "# Values\n",
    "hash_file_clean = [line.rstrip('\\n') for line in open('hash_file_clean.txt')] \n",
    "hash_file_clean = [i.center(len(i)+2) for i in hash_file_clean]\n",
    "\n",
    "hashtags = {hash_file[i]: hash_file_clean[i] for i in range(len(hash_file))} \n",
    "hashtags.update({'todayinmaker ':'today in maker'})#this is added to differentiate it from ' todayinmaker ' because this 1 occurs at start of tweet"
   ]
  },
  {
   "cell_type": "markdown",
   "metadata": {
    "hidden": true
   },
   "source": [
    "Next we write a function to expand hashtags inside the text data into seperate words."
   ]
  },
  {
   "cell_type": "code",
   "execution_count": 11,
   "metadata": {
    "hidden": true
   },
   "outputs": [],
   "source": [
    "# Substitute hastags with separated words\n",
    "def expand_hashtags(df,column_name):\n",
    "    \"\"\" A funtion that expands the hashtag words into separate words.\n",
    "\n",
    "        Parameters\n",
    "        ----------\n",
    "        df:          Dataframe containing the text column to be transformed.\n",
    "        column_name: Name of the column containing the text data.\n",
    "\n",
    "        Returns\n",
    "        -------\n",
    "        df:  Dataframe containg the updated text column\n",
    "        \n",
    "        Example\n",
    "        -------\n",
    "        #iamgreat returns 'i am great'\n",
    "    \"\"\"\n",
    "    \n",
    "    df[column_name] = df[column_name].str.lower()\n",
    "    df[column_name] = df[column_name].apply(lambda x: re.sub(r\"[#]\",'',x))\n",
    "    for word in hashtags.keys():\n",
    "            df[column_name] = df[column_name].apply(lambda x: re.sub(word,hashtags[word]+' ',x))\n",
    "    return df"
   ]
  },
  {
   "cell_type": "code",
   "execution_count": 12,
   "metadata": {
    "hidden": true
   },
   "outputs": [],
   "source": [
    "df_train = expand_hashtags(df_train,'message')"
   ]
  },
  {
   "cell_type": "markdown",
   "metadata": {
    "hidden": true
   },
   "source": [
    "**Contractions**"
   ]
  },
  {
   "cell_type": "markdown",
   "metadata": {
    "hidden": true
   },
   "source": [
    "The `message` column contains some contracted words such as *can't* and *don't*. As part of the cleaning process these words will be replaced with their expanded words that do not contain any omission. We do this because we will need to tokenize the text later on. We assume that a model would have an easier time using tokens like `can` and `not` than `can` and `'t`. To help with this transformation, a dictionary `contractions` is created, that contain possible contractions and their corresponding full words."
   ]
  },
  {
   "cell_type": "code",
   "execution_count": 13,
   "metadata": {
    "hidden": true
   },
   "outputs": [],
   "source": [
    "# Dictionary of contracted words\n",
    "contractions = {\n",
    "\"aren't\" : \"are not\",\n",
    "\"can't\" : \"cannot\",\n",
    "\"couldn't\" : \"could not\",\n",
    "\"didn't\" : \"did not\",\n",
    "\"doesn't\" : \"does not\",\n",
    "\"don't\" : \"do not\",\n",
    "\"hadn't\" : \"had not\",\n",
    "\"hasn't\" : \"has not\",\n",
    "\"haven't\" : \"have not\",\n",
    "\"he'd\" : \"he would\",\n",
    "\"he'll\" : \"he will\",\n",
    "\"he's\" : \"he is\",\n",
    "\"i'd\" : \"I would\",\n",
    "\"i'd\" : \"I had\",\n",
    "\"i'll\" : \"I will\",\n",
    "\"i'm\" : \"I am\",\n",
    "\"isn't\" : \"is not\",\n",
    "\"it's\" : \"it is\",\n",
    "\"it'll\":\"it will\",\n",
    "\"i've\" : \"I have\",\n",
    "\"let's\" : \"let us\",\n",
    "\"mightn't\" : \"might not\",\n",
    "\"mustn't\" : \"must not\",\n",
    "\"shan't\" : \"shall not\",\n",
    "\"she'd\" : \"she would\",\n",
    "\"she'll\" : \"she will\",\n",
    "\"she's\" : \"she is\",\n",
    "\"shouldn't\" : \"should not\",\n",
    "\"that's\" : \"that is\",\n",
    "\"there's\" : \"there is\",\n",
    "\"they'd\" : \"they would\",\n",
    "\"they'll\" : \"they will\",\n",
    "\"they're\" : \"they are\",\n",
    "\"they've\" : \"they have\",\n",
    "\"wasn't\": \"was not\",\n",
    "\"we'd\" : \"we would\",\n",
    "\"we're\" : \"we are\",\n",
    "\"weren't\" : \"were not\",\n",
    "\"we'll\":\"we will\",\n",
    "\"we've\" : \"we have\",\n",
    "\"what'll\" : \"what will\",\n",
    "\"what're\" : \"what are\",\n",
    "\"what's\" : \"what is\",\n",
    "\"what've\" : \"what have\",\n",
    "\"where's\" : \"where is\",\n",
    "\"who'd\" : \"who would\",\n",
    "\"who'll\" : \"who will\",\n",
    "\"who's\" : \"who is\",\n",
    "\"who've\" : \"who have\",\n",
    "\"won't\" : \"will not\",\n",
    "\"wouldn't\" : \"would not\",\n",
    "\"you'd\" : \"you would\",\n",
    "\"you'll\" : \"you will\",\n",
    "\"you're\" : \"you are\",\n",
    "\"you've\" : \"you have\",\n",
    "\"'re\": \" are\",\n",
    "}"
   ]
  },
  {
   "cell_type": "code",
   "execution_count": 14,
   "metadata": {},
   "outputs": [],
   "source": [
    "# Export dictionary of contractions\n",
    "with open('contractions_dict.pkl', 'wb') as file:\n",
    "    pickle.dump(contractions, file)"
   ]
  },
  {
   "cell_type": "markdown",
   "metadata": {
    "hidden": true
   },
   "source": [
    "Now let's replace the contracted words by their expanded alternatives."
   ]
  },
  {
   "cell_type": "code",
   "execution_count": 15,
   "metadata": {
    "hidden": true
   },
   "outputs": [],
   "source": [
    "# Replace contracted words with full word\n",
    "df_train['message'] = [' '.join([contractions[w.lower()] if w.lower() in contractions.keys() else w for w in raw.split()]) for raw in df_train['message']]\n"
   ]
  },
  {
   "cell_type": "markdown",
   "metadata": {
    "hidden": true
   },
   "source": [
    "**Lowercase**"
   ]
  },
  {
   "cell_type": "markdown",
   "metadata": {
    "hidden": true
   },
   "source": [
    "To help our model, we will be converting all text to lowercase. We work with lower cased data to remove the noise from capitalised words. This is due to the computer seeing uppercased words as different from lower cased words. If this transformation is not applied we run the risk of the model possibly classifying cases like `Snowball` and `snowball` differently. By transforming we help the model understand that those two words are in fact the same."
   ]
  },
  {
   "cell_type": "code",
   "execution_count": 16,
   "metadata": {
    "hidden": true
   },
   "outputs": [],
   "source": [
    "# Lower case all words to remove noise from Capital words. Capital words may be seen as different from lower case words\n",
    "df_train['message'] = df_train['message'].str.lower()\n"
   ]
  },
  {
   "cell_type": "markdown",
   "metadata": {
    "hidden": true
   },
   "source": [
    "**Encoding**"
   ]
  },
  {
   "cell_type": "markdown",
   "metadata": {
    "hidden": true
   },
   "source": [
    "Tweet data can also include bad unicode. For example, where a person wants so say `José Florés` or use a `(—)`, it ends up being `JosÃ© Florés` or `â€”` instead. These issues can make it hard for the model to process the data. There is a package in python that takes care of these issues for us. The ftfy(fixed this for you) package takes all the bad unicode and outputs the good unicode. So let's let the package fix these problems for us."
   ]
  },
  {
   "cell_type": "code",
   "execution_count": 17,
   "metadata": {
    "hidden": true,
    "scrolled": false
   },
   "outputs": [],
   "source": [
    "df_train['message'] = df_train['message'].apply(lambda x: fix_text(x))\n"
   ]
  },
  {
   "cell_type": "markdown",
   "metadata": {
    "hidden": true
   },
   "source": [
    "**URLs**"
   ]
  },
  {
   "cell_type": "markdown",
   "metadata": {
    "hidden": true
   },
   "source": [
    "We will also not be using any urls. Since urls tend to be unique and random for any class, they do not really add explanatory power and will therefore be removed."
   ]
  },
  {
   "cell_type": "code",
   "execution_count": 18,
   "metadata": {
    "hidden": true
   },
   "outputs": [],
   "source": [
    "# Removing urls\n",
    "df_train['message'] = df_train['message'].apply(lambda x: re.sub(r'https\\S+','url',x))\n",
    "df_train['message'] = df_train['message'].apply(lambda x: re.sub(r'www\\S+', 'url',x))\n"
   ]
  },
  {
   "cell_type": "markdown",
   "metadata": {
    "hidden": true
   },
   "source": [
    "**Emojis**"
   ]
  },
  {
   "cell_type": "markdown",
   "metadata": {
    "hidden": true
   },
   "source": [
    "The `message` column may also contain emojis, ex. 👨🏽‍💻. As we can see, alone they're just symbols and don't have a word association to them. This makes them hard to interpret and also makes them useless to our model. But emojis could potentially be useful in the modeling process. So instead of removing them, we'll be replacing them with the word that describes them."
   ]
  },
  {
   "cell_type": "code",
   "execution_count": 19,
   "metadata": {
    "hidden": true
   },
   "outputs": [],
   "source": [
    "# Replace emojis with their word meaning\n",
    "df_train['message'] = df_train['message'].apply(lambda x: emoji.demojize(x))\n"
   ]
  },
  {
   "cell_type": "markdown",
   "metadata": {
    "hidden": true
   },
   "source": [
    "**Shortened words/Slang**"
   ]
  },
  {
   "cell_type": "markdown",
   "metadata": {
    "hidden": true
   },
   "source": [
    "With tweets data a lot of shortened words like *abt* are used instead of the full words *about*. This can make it difficult for the model to process these words. We will replace the shortened words with their corresponding full word. To help with this transformation, a dictionary of possible shortened words and their corresponding full words is given below."
   ]
  },
  {
   "cell_type": "code",
   "execution_count": 20,
   "metadata": {
    "hidden": true,
    "scrolled": false
   },
   "outputs": [],
   "source": [
    "# Replace shortened words with full words\n",
    "short = {' BD ': ' Big Deal ',\n",
    " ' abt ':' about ',\n",
    " ' ab ': ' about ',\n",
    " ' fav ': ' favourite ',\n",
    " ' fab ': ' fabulous ',\n",
    " ' smh ': ' shaking my head ',\n",
    " ' u ': ' you ',\n",
    " ' c ': ' see ',\n",
    " ' anon ': ' anonymous ',\n",
    " ' ac ': ' aircon ',\n",
    " ' a/c ': ' aircon ',\n",
    " ' yo ':' year old ',\n",
    " ' n ':' and ',\n",
    " ' nd ':' and ',\n",
    " ' 2 ': ' to ',\n",
    " ' w ': ' with ',\n",
    " ' w/o ': ' without ',\n",
    " ' r ': ' are ',\n",
    " ' rip ':' rest in peace ',\n",
    " ' 4 ' : ' for ',\n",
    "' BF ': ' Boyfriend ',\n",
    "' BRB ': ' Be Right Back ',\n",
    "' BTW ': ' By The Way ',\n",
    "' GF ': ' Girlfriend ',\n",
    "' HBD ': ' Happy Birthday ',\n",
    "' JK ': ' Just Kidding ',\n",
    "' K ':' Okay ',\n",
    "' LMK ': ' Let Me Know ',\n",
    "' LOL ': ' Laugh Out Loud ',\n",
    "' HA ':' laugh ',\n",
    "' MYOB ': ' Mind Your Own Business ',\n",
    "' NBD ': ' No Big Deal ',\n",
    "' NVM ': ' Nevermind ',\n",
    "' Obv ':' Obviously ',\n",
    "' Obvi ':' Obviously ',\n",
    "' OMG ': ' Oh My God ',\n",
    "' Pls ': ' Please ',\n",
    "' Plz ': ' Please ',\n",
    "' Q ': ' Question ', \n",
    "' QQ ': ' Quick Question ',\n",
    "' RLY ': ' Really ',\n",
    "' SRLSY ': ' Seriously ',\n",
    "' TMI ': ' Too Much Information ',\n",
    "' TY ': ' Thank You, ',\n",
    "' TYVM ': ' Thank You Very Much ',\n",
    "' YW ': ' You are Welcome ',\n",
    "' FOMO ': ' Fear Of Missing Out ',\n",
    "' FTFY ': ' Fixed This For You ',\n",
    "' FTW ': ' For The Win ',\n",
    "' FYA ': ' For Your Amusement ',\n",
    "' FYE ': ' For Your Entertainment ',\n",
    "' GTI ': ' Going Through It ',\n",
    "' HTH ': ' Here to Help ',\n",
    "' IRL ': ' In Real Life ',\n",
    "' ICYMI ': ' In Case You Missed It ',\n",
    "' ICYWW ': ' In Case You Were Wondering ',\n",
    "' NBC ': ' Nobody Cares Though ',\n",
    "' NTW ': ' Not To Worry ',\n",
    "' OTD ': ' Of The Day ',\n",
    "' OOTD ': ' Outfit Of The Day ',\n",
    "' QOTD ': ' Quote of the Day ',\n",
    "' FOTD ': ' Find Of the Day ',\n",
    "' POIDH ': ' Pictures Or It Did ntt Happen ',\n",
    "' YOLO ': ' You Only Live Once ',\n",
    "' AFAIK ': ' As Far As I Know ',\n",
    "' DGYF ': ' Dang Girl You Fine ',\n",
    "' FWIW ': ' For What It is Worth ',\n",
    "' IDC ': ' I Do not Care ',\n",
    "' IDK ': ' I Do not Know ',\n",
    "' IIRC ': ' If I Remember Correctly ',\n",
    "' IMHO ': ' In My Honest Opinion ',\n",
    "' IMO ': ' In My Opinion ',\n",
    "' Jelly ': ' Jealous ',\n",
    "' Jellz ': ' Jealous ',\n",
    "' JSYK ': ' Just So You Know ',\n",
    "' LMAO ': ' Laughing My Ass Off ',\n",
    "' LMFAO ': ' Laughing My Fucking Ass Off ',\n",
    "' NTS ': ' Note to Self ',\n",
    "' ROFL ': ' Rolling On the Floor Laughing ',\n",
    "' ROFLMAO ': ' Rolling On the Floor Laughing My Ass Off ',\n",
    "' SMH ': ' Shaking My Head ',\n",
    "' TBH ': ' To Be Honest ',\n",
    "' TL;DR ':  ' Too Long; Did not Read ',\n",
    "' TLDR ':  ' Too Long; Did not Read ',\n",
    "' YGTR ': ' You Got That Right ',\n",
    "' AYKMWTS ': ' Are You Kidding Me With This Shit ',\n",
    "' BAMF ': ' Bad Ass Mother Fucker ',\n",
    "' FFS ': ' For Fuck Sake ',\n",
    "' FML ': ' Fuck My Life ',\n",
    "' HYFR ': ' Hell Yeah Fucking Right ',\n",
    "' IDGAF ': ' I Do not Give A Fuck ',\n",
    "' NFW ': ' No Fucking Way ',\n",
    "' PITA ': ' Pain In The Ass ',\n",
    "' POS ': ' Piece of Shit ',\n",
    "' SOL ': ' Shit Outta Luck ',\n",
    "' STFU ': ' Shut the Fuck Up ',\n",
    "' TF ': ' The Fuck ',\n",
    "' WTF ': ' What The Fuck ',\n",
    "' BFN ': ' Bye For Now ',\n",
    "' CU ': ' See You ',\n",
    "' IC ': ' I see ',\n",
    "' CYL ': ' See You Later ',\n",
    "' GTG ': ' Got to Go ',\n",
    "' OMW ': ' On My Way ',\n",
    "' RN ': ' Right Now ',\n",
    "' TTYL ': ' Talk To You Later ',\n",
    "' TYT ': ' Take Your time ',\n",
    "' CC ': ' Carbon Copy ',\n",
    "' CX ': ' Correction ',\n",
    "' DM ': ' Direct Message ',\n",
    "' FB ': ' Facebook ',\n",
    "' FBF ': ' Flash-Back Friday ',\n",
    "' FF ': ' Follow Friday ',\n",
    "' HT ': ' Tipping my hat ',\n",
    "' H/T ': ' Tipping my hat ',\n",
    "' IG ': ' Instagram ',\n",
    "' Insta ': ' Instagram ',\n",
    "' MT ':' Modified Tweet ',\n",
    "' OH ': ' Overheard ',\n",
    "' PRT ': ' Partial Retweet ',\n",
    "' RT ': ' Retweet ',\n",
    "'rt ' : ' retweet ',\n",
    "' SO ':' Shout Out ',\n",
    "' S/O ': ' Shout Out ',\n",
    "' TBT ': ' Throw-Back Thursday ',\n",
    "' AWOL ': ' Away While Online ',\n",
    "' BFF ': ' Best Friend Forever ',\n",
    "' NSFW ': ' Not Safe For Work ',\n",
    "' OG ': ' Original Gangster ',\n",
    "' PSA ': ' Public Service Announcement ',\n",
    "' PDA ': ' Public Display of Affection '}\n",
    "\n",
    "short = dict((key.lower(), value.lower()) for key,value in short.items())"
   ]
  },
  {
   "cell_type": "code",
   "execution_count": 21,
   "metadata": {},
   "outputs": [],
   "source": [
    "# Export dictionary of slang words\n",
    "with open('short_dict.pkl', 'wb') as file:\n",
    "    pickle.dump(short, file)"
   ]
  },
  {
   "cell_type": "markdown",
   "metadata": {
    "hidden": true
   },
   "source": [
    "Now let's replace the shortened words by their full alternatives."
   ]
  },
  {
   "cell_type": "code",
   "execution_count": 22,
   "metadata": {
    "hidden": true,
    "scrolled": false
   },
   "outputs": [],
   "source": [
    "# Replacing shortened words with full words\n",
    "for word in short.keys():\n",
    "    df_train['message'] = df_train['message'].apply(lambda x: re.sub(word,short[word],x))\n"
   ]
  },
  {
   "cell_type": "markdown",
   "metadata": {
    "hidden": true
   },
   "source": [
    "**News handles**"
   ]
  },
  {
   "cell_type": "markdown",
   "metadata": {
    "hidden": true
   },
   "source": [
    "Here is where we will now use our first created feature. We hope that by removing all handles that are **not** news related, we are helping the model distinguish between news and non news tweets. Where news related handles can be found inside our `news` list we created earlier."
   ]
  },
  {
   "cell_type": "code",
   "execution_count": 23,
   "metadata": {
    "hidden": true
   },
   "outputs": [],
   "source": [
    "# Remove twitter non news related handles and @ symbol\n",
    "df_train['message'] = df_train['message'].apply(lambda x: re.sub(r'@','', ' '.join([y for y in x.split() if y not in [z for z in re.findall(r'@[\\w]*',x) if z not in news]])))\n"
   ]
  },
  {
   "cell_type": "markdown",
   "metadata": {
    "hidden": true
   },
   "source": [
    "**Sentiment**"
   ]
  },
  {
   "cell_type": "markdown",
   "metadata": {
    "hidden": true
   },
   "source": [
    "And now we will use the second feature we created. As explained earlier, we hope that by adding sentiment words (`negative`,`positive`,`neutral`) to the text, we are helping the model distinguish between the classes `Anti`, `Pro` and `Neutral`. We apply this transformation before removing punctuation, since punctuation like exclamation marks (`!`) are of great value during sentiment analysis. Depending on the computer you have the code below might take a minute to run."
   ]
  },
  {
   "cell_type": "code",
   "execution_count": 24,
   "metadata": {
    "hidden": true
   },
   "outputs": [],
   "source": [
    "# Add sentiment\n",
    "df_train['message'] = df_train['message'].apply(lambda x: x + ' ' + sentiment_score(x))  "
   ]
  },
  {
   "cell_type": "markdown",
   "metadata": {
    "hidden": true
   },
   "source": [
    "**Punctuation**"
   ]
  },
  {
   "cell_type": "markdown",
   "metadata": {
    "hidden": true
   },
   "source": [
    "Other than with sentiment analysis, where some punctuation is useful, punctuations, symbols and numbers tend to be rendered useless in modeling. As they are not specific to certain classes, they add no explanatory power and can therefore be removed."
   ]
  },
  {
   "cell_type": "code",
   "execution_count": 25,
   "metadata": {
    "hidden": true
   },
   "outputs": [],
   "source": [
    "# Remove punctuation\n",
    "df_train['message'] = df_train['message'].apply(lambda x: re.sub(r\"[^A-Za-z ]*\",'',x))\n"
   ]
  },
  {
   "cell_type": "markdown",
   "metadata": {
    "hidden": true
   },
   "source": [
    "**Vowels repeated at least 3 times**"
   ]
  },
  {
   "cell_type": "markdown",
   "metadata": {
    "hidden": true
   },
   "source": [
    "It is not uncommon for people to stretch words when typing. For example, instead of using `cool` the word is stretched to `cooooool`. Words are of no use to us in this form, so we wish to shrink them back to their appropriate size. We'll do this by removing any extra vowels that are repeated at least three times. Note that we are aware that words like `nooooo` should be reduced to only one vowel to result in `no`. The reason we reduce to two vowels is to reduce the probability of creating misspelled words that could mean something else in their transformed form. A good example would be `beeeee`. Where `bee` and `be` would mean two completely different things."
   ]
  },
  {
   "cell_type": "code",
   "execution_count": 26,
   "metadata": {
    "hidden": true
   },
   "outputs": [],
   "source": [
    "# Remove vowels repeated at least 3 times ex. Coooool > Cool\n",
    "df_train['message'] = df_train['message'].apply(lambda x: re.sub(r'([aeiou])\\1+', r'\\1\\1', x))\n"
   ]
  },
  {
   "cell_type": "markdown",
   "metadata": {
    "hidden": true
   },
   "source": [
    "**Sequences indicating laughing**"
   ]
  },
  {
   "cell_type": "markdown",
   "metadata": {
    "hidden": true
   },
   "source": [
    "It is also very common for people to express laughter in different ways. A few of these ways are in fact just a sequence of repeating letters like `haha` or `lolol`. For these sequences to add more value to our model we'll change them to the word `laugh`, which the model can easily understand."
   ]
  },
  {
   "cell_type": "code",
   "execution_count": 27,
   "metadata": {
    "hidden": true
   },
   "outputs": [],
   "source": [
    "# Replace sequence of 'h' and 'a', as well as 'lol' with 'laugh'\n",
    "df_train['message'] = df_train['message'].apply(lambda x: re.sub(r' ha([ha]) *', r'laugh', x))\n",
    "df_train['message'] = df_train['message'].apply(lambda x: re.sub(r' he([he]) *', r'laugh', x))\n",
    "df_train['message'] = df_train['message'].apply(lambda x: re.sub(r' lol([ol]) *', r'laugh', x))\n",
    "df_train['message'] = df_train['message'].apply(lambda x: re.sub(r' lo([o])*l ', r'laugh', x))"
   ]
  },
  {
   "cell_type": "markdown",
   "metadata": {
    "hidden": true
   },
   "source": [
    "**Cleaning function**"
   ]
  },
  {
   "cell_type": "markdown",
   "metadata": {
    "hidden": true
   },
   "source": [
    "Tweets can have a lot of noise in them from the type of language, style and grammar used. All things the computer may find hard to process. These issues have to be dealt with in order for the model to be able to process the text data and make predictions. We'll write a function (`cleanup`) to apply all the necessary transformations that we applied and explained above."
   ]
  },
  {
   "cell_type": "code",
   "execution_count": 28,
   "metadata": {
    "hidden": true
   },
   "outputs": [],
   "source": [
    "def cleanup(raw):\n",
    "    \"\"\" A function that 'cleans' tweet data. The text gets modified by:\n",
    "        - being lower cased, \n",
    "        - removing urls, \n",
    "        - removing bad unicode,\n",
    "        - replacing emojis with words,\n",
    "        - removing twitter non news related handles,\n",
    "        - removing punctuation,\n",
    "        - removing vowels repeated at least 3 times,\n",
    "        - replacing sequences of 'h' and 'a', as well as 'lol' with 'laugh',\n",
    "        - adding sentiment\n",
    "\n",
    "        Parameters\n",
    "        ----------\n",
    "        raw: Text string.\n",
    "\n",
    "        Returns\n",
    "        -------\n",
    "        raw:  Modified clean string\n",
    "    \"\"\"\n",
    "    \n",
    "    # Convert to lowercase\n",
    "    raw = raw.lower()\n",
    "    \n",
    "    # Fix strange characters\n",
    "    raw = fix_text(raw)\n",
    "    \n",
    "    # Removing urls\n",
    "    raw = re.sub(r'https\\S+','url',raw)\n",
    "    raw = re.sub(r'www\\S+', 'url',raw)\n",
    "    \n",
    "    # Replace emojis with their word meaning\n",
    "    raw = emoji.demojize(raw)\n",
    "\n",
    "    # Remove twitter non news related handles\n",
    "    raw = ' '.join([y for y in raw.split() if y not in [x for x in re.findall(r'@[\\w]*',raw) if x not in news]])\n",
    "    \n",
    "    # Add sentiment\n",
    "    raw = raw + ' ' + sentiment_score(raw)\n",
    "    \n",
    "    # Remove punctuation\n",
    "    raw = re.sub(r\"[^A-Za-z ]*\",'',raw)\n",
    "    \n",
    "    # Remove vowels repeated at least 3 times ex. Coooool > Cool\n",
    "    raw = re.sub(r'([aeiou])\\1+', r'\\1\\1', raw)\n",
    "    \n",
    "    # Replace sequence of 'h' and 'a', as well as 'lol' with 'laugh'\n",
    "    raw = re.sub(r' ha([ha]) *', r'laugh', raw)\n",
    "    raw = re.sub(r' he([he]) *', r'laugh', raw)\n",
    "    raw = re.sub(r' lol([ol]) *', r'laugh', raw)\n",
    "    raw = re.sub(r' lo([o])*l ', r'laugh', raw)\n",
    "    \n",
    "    return raw\n"
   ]
  },
  {
   "cell_type": "markdown",
   "metadata": {
    "hidden": true
   },
   "source": [
    "To be able to make somewhat accurate predictions we need to apply all the above transformations to our testing set `df_test` as well."
   ]
  },
  {
   "cell_type": "code",
   "execution_count": 29,
   "metadata": {
    "hidden": true
   },
   "outputs": [],
   "source": [
    "# Seperate hashtags\n",
    "df_test = expand_hashtags(df_test,'message')"
   ]
  },
  {
   "cell_type": "code",
   "execution_count": 30,
   "metadata": {
    "hidden": true
   },
   "outputs": [],
   "source": [
    "# Replace contracted words with full word\n",
    "df_test['message'] = [' '.join([contractions[w.lower()] if w.lower() in contractions.keys() else w for w in raw.split()]) for raw in df_test['message']]\n"
   ]
  },
  {
   "cell_type": "code",
   "execution_count": 31,
   "metadata": {
    "hidden": true
   },
   "outputs": [],
   "source": [
    "# Replacing shortened words with full words\n",
    "for word in short.keys():\n",
    "    df_test['message'] = df_test['message'].apply(lambda x: re.sub(word,short[word],x))\n"
   ]
  },
  {
   "cell_type": "code",
   "execution_count": 32,
   "metadata": {
    "hidden": true
   },
   "outputs": [],
   "source": [
    "# Apply cleaning function\n",
    "df_test['message'] = df_test['message'].apply(lambda x: cleanup(x))\n"
   ]
  },
  {
   "cell_type": "markdown",
   "metadata": {
    "hidden": true
   },
   "source": [
    "**Spelling**"
   ]
  },
  {
   "cell_type": "markdown",
   "metadata": {
    "hidden": true
   },
   "source": [
    "We also check the percentage of misspelled words in the data, so we can know if this is also an issue that needs to be fixed."
   ]
  },
  {
   "cell_type": "code",
   "execution_count": 33,
   "metadata": {
    "hidden": true
   },
   "outputs": [
    {
     "data": {
      "text/plain": [
       "0.0"
      ]
     },
     "execution_count": 33,
     "metadata": {},
     "output_type": "execute_result"
    }
   ],
   "source": [
    "spell = SpellChecker() \n",
    "# check for misspelled words\n",
    "misspelled = df_train['message'].apply(lambda x: spell.unknown(x))\n",
    "misspelled.isnull().mean()"
   ]
  },
  {
   "cell_type": "markdown",
   "metadata": {},
   "source": [
    "Seems like we do not have misspelled words after cleaning.  \n",
    "\n",
    "*Great!* We've finished cleaning our data. We can now move on to exploring the data, splitting the data and training our models."
   ]
  },
  {
   "cell_type": "markdown",
   "metadata": {
    "heading_collapsed": true
   },
   "source": [
    "## Exploratory data analysis"
   ]
  },
  {
   "cell_type": "markdown",
   "metadata": {
    "hidden": true
   },
   "source": [
    "Let's first get quick overview of the dataset we will be working with throughout the notebook. Below is the shape of the dataset, a list of all columns with their data types and the number of non-null values present in each column."
   ]
  },
  {
   "cell_type": "code",
   "execution_count": 34,
   "metadata": {
    "hidden": true
   },
   "outputs": [
    {
     "name": "stdout",
     "output_type": "stream",
     "text": [
      "train data: (15819, 2)\n"
     ]
    }
   ],
   "source": [
    "# Data shape\n",
    "print('train data:',df_train.shape)"
   ]
  },
  {
   "cell_type": "code",
   "execution_count": 35,
   "metadata": {
    "hidden": true
   },
   "outputs": [
    {
     "name": "stdout",
     "output_type": "stream",
     "text": [
      "<class 'pandas.core.frame.DataFrame'>\n",
      "Int64Index: 15819 entries, 625221 to 806319\n",
      "Data columns (total 2 columns):\n",
      " #   Column     Non-Null Count  Dtype \n",
      "---  ------     --------------  ----- \n",
      " 0   sentiment  15819 non-null  int64 \n",
      " 1   message    15819 non-null  object\n",
      "dtypes: int64(1), object(1)\n",
      "memory usage: 309.0+ KB\n"
     ]
    }
   ],
   "source": [
    "df_train.info()"
   ]
  },
  {
   "cell_type": "markdown",
   "metadata": {
    "hidden": true
   },
   "source": [
    "There are only two columns present in the training dataset; the label variable we want to classify to (`'sentiment'`), and the feature we will use to make this classification (`'message'`). We initially had a third column (`'tweetid'`) but set this column to be the index of the dataset.  The dataset contains no null entries, and the data types for (`'sentiment'`) and (`'message'`) are integer and object respectively. "
   ]
  },
  {
   "cell_type": "markdown",
   "metadata": {
    "hidden": true
   },
   "source": [
    "**Missing values**  \n",
    "\n",
    "If we look at the output above, we can see that there does not seem to be any missing values present. The dataset has **15819** entries and both columns have the same amount of non-null entries. But since an empty string for tweets can also be considered as a missing entry, we need to check for empty strings in the `message` column as well."
   ]
  },
  {
   "cell_type": "code",
   "execution_count": 36,
   "metadata": {
    "hidden": true
   },
   "outputs": [
    {
     "data": {
      "text/plain": [
       "[]"
      ]
     },
     "execution_count": 36,
     "metadata": {},
     "output_type": "execute_result"
    }
   ],
   "source": [
    "# Checking for empty strings\n",
    "blanks = [i for i,lb,tweet in df_train.itertuples() if type(tweet) == str if tweet.isspace()]\n",
    "blanks"
   ]
  },
  {
   "cell_type": "markdown",
   "metadata": {
    "hidden": true
   },
   "source": [
    "The list is empty, indicating that there are no empty strings and therefore no missing values present in the dataset.  \n"
   ]
  },
  {
   "cell_type": "markdown",
   "metadata": {
    "hidden": true
   },
   "source": [
    "**Duplicates**  \n",
    "\n",
    "Another thing we need to look out for are duplicates. A large amount of duplicates in the data tend to increase the bias of the estimated coefficients and standard errors of the model."
   ]
  },
  {
   "cell_type": "code",
   "execution_count": 37,
   "metadata": {
    "hidden": true,
    "scrolled": true
   },
   "outputs": [
    {
     "data": {
      "text/plain": [
       "sentiment    12.548202\n",
       "message      12.548202\n",
       "dtype: float64"
      ]
     },
     "execution_count": 37,
     "metadata": {},
     "output_type": "execute_result"
    }
   ],
   "source": [
    "# Checking for duplicates in tweets\n",
    "df_train[df_train.duplicated(subset='message') == True].count()/len(df_train)*100"
   ]
  },
  {
   "cell_type": "markdown",
   "metadata": {
    "hidden": true
   },
   "source": [
    "Roughly 12% of the tweets seem to be duplicated tweets but with different ID's. Since we don't have a significantly large amount of data we will keep these duplicates and later check the impact they have when fitting the models.   "
   ]
  },
  {
   "cell_type": "markdown",
   "metadata": {},
   "source": [
    "[VADER](https://medium.com/analytics-vidhya/simplifying-social-media-sentiment-analysis-using-vader-in-python-f9e6ec6fc52f) (Valence Aware Dictionary and sEntiment Reasoner) is a lexicon and rule-based sentiment analysis tool that is specifically attuned to sentiments expressed in text data. It provides sentiment scores based on words used (\"completely\" boosts a score, while \"slightly\" reduces it), on capitalization & punctuation (\"GREAT!!!\" is stronger than \"great.\")\n",
    "\n",
    "Next we will analyse our text data using the `Vader` sentiment analysis polarity score, to get a view of our negative,neutral and positive tweets before we perform any analysis. We use the compound score output of vader, which is a metric that calculates the sum of all the lexicon ratings which have been normalized between -1(most extreme negative) and +1 (most extreme positive).\n",
    "Note: We will be working on a copy of the train dataset to preserve it from the modifications done to it during this exploratory data analysis process"
   ]
  },
  {
   "cell_type": "code",
   "execution_count": 108,
   "metadata": {},
   "outputs": [
    {
     "data": {
      "text/html": [
       "<div>\n",
       "<style scoped>\n",
       "    .dataframe tbody tr th:only-of-type {\n",
       "        vertical-align: middle;\n",
       "    }\n",
       "\n",
       "    .dataframe tbody tr th {\n",
       "        vertical-align: top;\n",
       "    }\n",
       "\n",
       "    .dataframe thead th {\n",
       "        text-align: right;\n",
       "    }\n",
       "</style>\n",
       "<table border=\"1\" class=\"dataframe\">\n",
       "  <thead>\n",
       "    <tr style=\"text-align: right;\">\n",
       "      <th></th>\n",
       "      <th>sentiment</th>\n",
       "      <th>message</th>\n",
       "      <th>compound</th>\n",
       "      <th>comp_score</th>\n",
       "    </tr>\n",
       "    <tr>\n",
       "      <th>tweetid</th>\n",
       "      <th></th>\n",
       "      <th></th>\n",
       "      <th></th>\n",
       "      <th></th>\n",
       "    </tr>\n",
       "  </thead>\n",
       "  <tbody>\n",
       "    <tr>\n",
       "      <th>625221</th>\n",
       "      <td>1</td>\n",
       "      <td>PolySciMajor EPA chief doesn't think carbon di...</td>\n",
       "      <td>0.2244</td>\n",
       "      <td>pos</td>\n",
       "    </tr>\n",
       "    <tr>\n",
       "      <th>126103</th>\n",
       "      <td>1</td>\n",
       "      <td>It's not like we lack evidence of anthropogeni...</td>\n",
       "      <td>0.1159</td>\n",
       "      <td>pos</td>\n",
       "    </tr>\n",
       "    <tr>\n",
       "      <th>573736</th>\n",
       "      <td>1</td>\n",
       "      <td>#TodayinMaker# WIRED : 2016 was a pivotal year...</td>\n",
       "      <td>-0.5994</td>\n",
       "      <td>neg</td>\n",
       "    </tr>\n",
       "    <tr>\n",
       "      <th>466954</th>\n",
       "      <td>1</td>\n",
       "      <td>RT @SoyNovioDeTodas: It's 2016, and a racist, ...</td>\n",
       "      <td>-0.7506</td>\n",
       "      <td>neg</td>\n",
       "    </tr>\n",
       "    <tr>\n",
       "      <th>425577</th>\n",
       "      <td>1</td>\n",
       "      <td>Worth a read whether you do or don't believe i...</td>\n",
       "      <td>0.2263</td>\n",
       "      <td>pos</td>\n",
       "    </tr>\n",
       "  </tbody>\n",
       "</table>\n",
       "</div>"
      ],
      "text/plain": [
       "         sentiment                                            message  \\\n",
       "tweetid                                                                 \n",
       "625221           1  PolySciMajor EPA chief doesn't think carbon di...   \n",
       "126103           1  It's not like we lack evidence of anthropogeni...   \n",
       "573736           1  #TodayinMaker# WIRED : 2016 was a pivotal year...   \n",
       "466954           1  RT @SoyNovioDeTodas: It's 2016, and a racist, ...   \n",
       "425577           1  Worth a read whether you do or don't believe i...   \n",
       "\n",
       "         compound comp_score  \n",
       "tweetid                       \n",
       "625221     0.2244        pos  \n",
       "126103     0.1159        pos  \n",
       "573736    -0.5994        neg  \n",
       "466954    -0.7506        neg  \n",
       "425577     0.2263        pos  "
      ]
     },
     "execution_count": 108,
     "metadata": {},
     "output_type": "execute_result"
    }
   ],
   "source": [
    "sid = SentimentIntensityAnalyzer()\n",
    "df_sent = df_train_eda.copy()\n",
    "df_sent['compound']  =  df_sent['message'].apply(lambda x: sid.polarity_scores(x)['compound'])\n",
    "df_sent['comp_score'] = df_sent['compound'].apply(lambda c: 'pos' if c >0 else 'neg' if c<0 else 'neu')\n",
    "df_news = df_sent[df_sent['sentiment']==2] #extract all news and separate them from positive,neut and neg\n",
    "df_analyse = df_analyse[df_analyse['sentiment'] != 2]\n",
    "df_analyse.head()"
   ]
  },
  {
   "cell_type": "markdown",
   "metadata": {},
   "source": [
    "Lets look at the 5 most positive tweets(i.e Pro: Believes in man-made climate change)"
   ]
  },
  {
   "cell_type": "code",
   "execution_count": 39,
   "metadata": {},
   "outputs": [
    {
     "name": "stdout",
     "output_type": "stream",
     "text": [
      "\u001b[1m 5 random tweets with the highest positive sentiment: \u001b[0m \n",
      "\n",
      "RT @BarryGardiner: Had a great evening talking with Harrogate CLP about climate change &amp; zero carbon\n",
      "Then found this great gif explain… \n",
      "\n",
      "\n",
      "RT @earthhour: Check out this stunning #EarthHour shot from our friends over at Bolivia! Thank you for changing climate change wit…\n",
      "\n",
      "\n",
      "hey guys climate change is real but i'm going to make fun of people who try to make it better https://t.co/O3QlxFEALO\n",
      "\n",
      "\n",
      "Prof Michael Mann giving a lecture on climate change @Georgetown great honor to have him #climatechange https://t.co/814LpGY6wj\n",
      "\n",
      "\n",
      "My name charity, you can let me have the 5% of the value of this, for the sake of world peace and climate change ������ https://t.co/lobDsxbIEi\n",
      "\n",
      "\n"
     ]
    }
   ],
   "source": [
    "print('\\033[1m 5 random tweets with the highest positive sentiment: \\033[0m \\n')\n",
    "tweets = df_analyse.loc[df_analyse['compound'] > 0.8, ['message']].sample(5).values\n",
    "for c in tweets:\n",
    "    print(c[0])\n",
    "    print('\\n')"
   ]
  },
  {
   "cell_type": "markdown",
   "metadata": {},
   "source": [
    "Lets look at the 5 most negative tweets(i.e Anti: Does not believe in man-made climate change)"
   ]
  },
  {
   "cell_type": "code",
   "execution_count": 40,
   "metadata": {},
   "outputs": [
    {
     "name": "stdout",
     "output_type": "stream",
     "text": [
      "\u001b[1m 5 random tweets with the highest negative sentiment: \u001b[0m \n",
      "\n",
      "RT @gardcorejose: Man, us millennials have grown up in a time of perpetual war, economic recessions, climate change, and now a racist in thÃ¢â‚¬Â¦\n",
      "\n",
      "\n",
      "RT @DesiJed: Anyway, climate change is about to kill us all, and Trump is ruining my final days, so I'm really fucking irritated right now.\n",
      "\n",
      "\n",
      "My stepdad just 100% denied climate change and I'm FUCKED UP\n",
      "\n",
      "\n",
      "@TysonSlocum UR a TOTAL IDIOT. U lost on Stossel. WHERE ARE UR facts? Plz cite ! scientific study that man is causing global warming! IDIOT!\n",
      "\n",
      "\n",
      "76 on November 1st? Fuck this shit if you don't think climate change is real, wake the fuck up\n",
      "\n",
      "\n"
     ]
    }
   ],
   "source": [
    "print('\\033[1m 5 random tweets with the highest negative sentiment: \\033[0m \\n')\n",
    "tweets = df_analyse.loc[df_analyse['compound'] < -0.8, ['message']].sample(5).values\n",
    "for c in tweets:\n",
    "    print(c[0])\n",
    "    print('\\n')"
   ]
  },
  {
   "cell_type": "markdown",
   "metadata": {},
   "source": [
    "Lets look at 5 neutral tweets(i.e Neutral: Neither supports nor refutes belief of man-made climate change)"
   ]
  },
  {
   "cell_type": "code",
   "execution_count": 41,
   "metadata": {},
   "outputs": [
    {
     "name": "stdout",
     "output_type": "stream",
     "text": [
      "\u001b[1m 5 random tweets with the neutral sentiment: \u001b[0m \n",
      "\n",
      "RT @SethMacFarlane: HRC proposes installing half a billion solar panels by the end of her first term. Trump thinks climate change is a hoaxÃ¢â‚¬Â¦\n",
      "\n",
      "\n",
      "Everytime I tell an adult I'm going into the environmental science field they start telling me how climate change isn't real. ����❤��\n",
      "\n",
      "\n",
      "RT @TheNextWeb: National GeographicÃ¢â‚¬â„¢s climate change documentary with Leonardo DiCaprio is now on YouTube https://t.co/qMsxAyKcjo https://tÃ¢â‚¬Â¦\n",
      "\n",
      "\n",
      "RT @RVAwonk: Aaaaand here we go. The Trump admin has started to remove climate change-related information from the EPA website.…\n",
      "\n",
      "\n",
      "@LESCAVE1 I think they even know about global warming😂😂\n",
      "\n",
      "\n"
     ]
    }
   ],
   "source": [
    "print('\\033[1m 5 random tweets with the neutral sentiment: \\033[0m \\n')\n",
    "tweets = df_analyse.loc[df_analyse['compound'] == 0, ['message']].sample(5).values\n",
    "for c in tweets:\n",
    "    print(c[0])\n",
    "    print('\\n')"
   ]
  },
  {
   "cell_type": "markdown",
   "metadata": {},
   "source": [
    "Lastly we will look at 5 news related tweets(i.e News: Factual news about climate change)"
   ]
  },
  {
   "cell_type": "code",
   "execution_count": 42,
   "metadata": {},
   "outputs": [
    {
     "name": "stdout",
     "output_type": "stream",
     "text": [
      "\u001b[1m 5 random tweets from news: \u001b[0m \n",
      "\n",
      "RT @adrian_joyce: EU climate laws undermined by Polish and Czech revolt | climate change news https://t.co/eto0Ty9XAb via @ClimateHome #ece…\n",
      "\n",
      "\n",
      "RT @NewRepublic: Rex Tillerson isn’t sweating climate change. https://t.co/XkKbG0K4os https://t.co/u9flCZNw4l\n",
      "\n",
      "\n",
      "RT @climateprogress: #GameofThrones star: ‘I saw global warming with my own eyes, and it’s terrifying’ https://t.co/8hyQrxtfpg https://t.co…\n",
      "\n",
      "\n",
      "RT @Bristol4Europe: World leaders should ignore Donald Trump on climate change, says Michael Bloomberg @Independent https://t.co/5XbmLWXGZu\n",
      "\n",
      "\n",
      "RT @CNN: Scientists are scrambling to protect research on climate change, energized by concerns about Trump administration… \n",
      "\n",
      "\n"
     ]
    }
   ],
   "source": [
    "print('\\033[1m 5 random tweets from news: \\033[0m \\n')\n",
    "tweets = df_news['message'].sample(5).values\n",
    "for c in tweets:\n",
    "    print(c)\n",
    "    print('\\n')"
   ]
  },
  {
   "cell_type": "markdown",
   "metadata": {
    "hidden": true
   },
   "source": [
    "Next we will have a look at the most common words in tweets with highest sentiment, for each class."
   ]
  },
  {
   "cell_type": "code",
   "execution_count": 43,
   "metadata": {
    "hidden": true
   },
   "outputs": [],
   "source": [
    "df_pro = df_train.loc[df_train['sentiment'] ==1, ['message']]\n",
    "df_anti = df_train.loc[df_train['sentiment'] ==-1, ['message']]\n",
    "df_neutral = df_train.loc[df_train['sentiment'] ==0, ['message']]\n",
    "df_news=df_train.loc[df_train['sentiment']==2, ['message']]"
   ]
  },
  {
   "cell_type": "code",
   "execution_count": 74,
   "metadata": {
    "hidden": true
   },
   "outputs": [
    {
     "data": {
      "image/png": "[encoded data removed]",
      "text/plain": [
       "<Figure size 1080x360 with 1 Axes>"
      ]
     },
     "metadata": {
      "needs_background": "light"
     },
     "output_type": "display_data"
    }
   ],
   "source": [
    "p= (' '.join(df_pro['message']))\n",
    "\n",
    "wordcloud = WordCloud(width = 1000, height = 500,max_words=50,background_color=\"white\",colormap=\"gist_earth\").generate(p)\n",
    "plt.figure(figsize=(15,5))\n",
    "plt.imshow(wordcloud)\n",
    "plt.axis('off')\n",
    "plt.figtext(.5,.9,'Common words in Pro class: \"Believes in man-made climate change\"\\n',fontsize=14, ha='center')\n",
    "\n",
    "plt.show()"
   ]
  },
  {
   "cell_type": "code",
   "execution_count": 62,
   "metadata": {
    "hidden": true
   },
   "outputs": [
    {
     "data": {
      "image/png": "[encoded data removed]",
      "text/plain": [
       "<Figure size 1080x360 with 1 Axes>"
      ]
     },
     "metadata": {
      "needs_background": "light"
     },
     "output_type": "display_data"
    }
   ],
   "source": [
    "a= (' '.join(df_anti['message']))\n",
    "\n",
    "wordcloud = WordCloud(width = 1000, height = 500,max_words=50,background_color=\"white\",colormap=\"gist_earth\").generate(a)\n",
    "plt.figure(figsize=(15,5))\n",
    "plt.imshow(wordcloud)\n",
    "plt.axis('off')\n",
    "plt.figtext(.515,.9,'Common words in Anti class: \"Does not believe in man-made climate change\"\\n',fontsize=14, ha='center')\n",
    "\n",
    "plt.show()"
   ]
  },
  {
   "cell_type": "code",
   "execution_count": 65,
   "metadata": {
    "hidden": true
   },
   "outputs": [
    {
     "data": {
      "image/png": "[encoded data removed]",
      "text/plain": [
       "<Figure size 1080x360 with 1 Axes>"
      ]
     },
     "metadata": {
      "needs_background": "light"
     },
     "output_type": "display_data"
    }
   ],
   "source": [
    "n= (' '.join(df_neutral['message']))\n",
    "\n",
    "wordcloud = WordCloud(width = 1000, height = 500,max_words=50,background_color=\"white\",colormap=\"gist_earth\").generate(n)\n",
    "plt.figure(figsize=(15,5))\n",
    "plt.imshow(wordcloud)\n",
    "plt.axis('off')\n",
    "plt.figtext(.515,.9,'Common words in Neutral class: \"Neither supports nor refutes belief of man-made climate change\\n\"',fontsize=14, ha='center')\n",
    "\n",
    "plt.show()"
   ]
  },
  {
   "cell_type": "code",
   "execution_count": 64,
   "metadata": {
    "hidden": true
   },
   "outputs": [
    {
     "data": {
      "image/png": "[encoded data removed]",
      "text/plain": [
       "<Figure size 1080x360 with 1 Axes>"
      ]
     },
     "metadata": {
      "needs_background": "light"
     },
     "output_type": "display_data"
    }
   ],
   "source": [
    "nw= (' '.join(df_news['message']))\n",
    "\n",
    "wordcloud = WordCloud(width = 1000, height = 500,max_words=50,background_color=\"white\",colormap=\"gist_earth\").generate(nw)\n",
    "plt.figure(figsize=(15,5))\n",
    "plt.imshow(wordcloud)\n",
    "plt.axis('off')\n",
    "plt.figtext(.515,.9,'Common words in News class: \"Factual news about climate change\"\\n',fontsize=14, ha='center')\n",
    "\n",
    "plt.show()"
   ]
  },
  {
   "cell_type": "markdown",
   "metadata": {
    "hidden": true
   },
   "source": [
    "From these word clouds we can see some of the most common words that are used in tweets with the highest sentiment in each class.This gives us some sort of indication on the type of words a tweet with certain sentiment might have. For example, in our outputs above Pro class has words and phrases like *love*, *building new*, *new earth* and Anti has words and phrases like *die*, *doesn't believe*. "
   ]
  },
  {
   "cell_type": "markdown",
   "metadata": {},
   "source": [
    "Next we will look at the distribution of the sentiment scores to see the overall distribution of the sentiment in our tweets data "
   ]
  },
  {
   "cell_type": "code",
   "execution_count": 66,
   "metadata": {},
   "outputs": [
    {
     "data": {
      "text/plain": [
       "neg    0.413827\n",
       "pos    0.385335\n",
       "neu    0.200838\n",
       "Name: comp_score, dtype: float64"
      ]
     },
     "execution_count": 66,
     "metadata": {},
     "output_type": "execute_result"
    }
   ],
   "source": [
    "#proportion of the negative positive and neutral sentiments.\n",
    "df_analyse['comp_score'].replace({1:'positive',0:'neutral',-1:'negative'}).value_counts()/len(df_analyse)"
   ]
  },
  {
   "cell_type": "code",
   "execution_count": 82,
   "metadata": {},
   "outputs": [
    {
     "data": {
      "image/png": "[encoded data removed]",
      "text/plain": [
       "<Figure size 1080x288 with 2 Axes>"
      ]
     },
     "metadata": {
      "needs_background": "light"
     },
     "output_type": "display_data"
    }
   ],
   "source": [
    "fig, (ax1, ax2) = plt.subplots(1, 2,figsize=(15, 4))\n",
    "plt.figtext(.51,.95, 'Distribution of sentiment scores\\n', fontsize=20, ha='center',fontweight='bold')\n",
    "\n",
    "ax1.hist(df_analyse['compound'], bins=15, edgecolor='k',color='lightblue')\n",
    "plt.figtext(0.23, 0.06, 'sentiment score\\n', horizontalalignment='left',fontsize = 12)\n",
    "fig.text(0.00001, 0.5, 'number of tweets', va='center', rotation='vertical',fontsize=12)\n",
    "plt.figtext(0.10, 0.0001, 'figure 1: positive, negative and neutral sentiment', horizontalalignment='left',fontsize = 14,style='italic')\n",
    "\n",
    "bins = np.linspace(-1, 1, 30)\n",
    "ax2.hist([df_analyse['compound'][df_analyse['compound'] > 0], df_analyse['compound'][df_analyse['compound'] < 0]], bins, label=['Positive sentiment', 'Negative sentiment'])\n",
    "plt.xlabel('sentiment score\\n',fontsize=12)\n",
    "ax2.legend(loc='upper right')\n",
    "plt.figtext(0.90, 0.0001, 'figure 2: positive and negative sentiment', horizontalalignment='right',fontsize = 14,style='italic')\n",
    "\n",
    "plt.tight_layout()\n",
    "plt.show()"
   ]
  },
  {
   "cell_type": "markdown",
   "metadata": {},
   "source": [
    "In *figure 1* we can see that the data has a somewhat symmetric shape indicating uniformity in our data with a spike at 0(i.e neutral). The spike indicates that more data falls in that range, i.e most of our tweets were assigned a neutral sentiment. This makes sense since all the neutral data was packed into the 0 range,whereas the positive and negative sentiments where distributed in the ranges [-1:0) and (0:1], respectively\n",
    "\n",
    "In *figure 2* we only look a the positive(right) and negative(left) sentiments. The positive sentiment has less tweets with sentiment greater that 0.5(i.e high positive sentiment), whereas negative sentiment has significantly more tweets below -0.5(i.e high negative sentiment)."
   ]
  },
  {
   "cell_type": "code",
   "execution_count": 147,
   "metadata": {},
   "outputs": [
    {
     "data": {
      "image/png": "[encoded data removed]",
      "text/plain": [
       "<Figure size 720x576 with 1 Axes>"
      ]
     },
     "metadata": {
      "needs_background": "light"
     },
     "output_type": "display_data"
    }
   ],
   "source": [
    "df_sent['sentiment'] = df_sent['sentiment'].replace({2:'News',1:'Pro',0:'Neutral',-1:'Anti'})\n",
    "plt.figure(figsize=(10,8))\n",
    "sns.boxplot(x='sentiment', y='compound' , data= df_sent)\n",
    "plt.title('Distribution of the sentiment scores for all classes',fontsize = 14)\n",
    "plt.xlabel('sentiment score', fontsize = 10)\n",
    "plt.figtext(0.12, 0.00000001, 'figure 3: Distribution of positive, negative and neutral sentiment scores', horizontalalignment='left',\n",
    "            fontsize = 14,style='italic')\n",
    "\n",
    "plt.show()"
   ]
  },
  {
   "cell_type": "markdown",
   "metadata": {},
   "source": [
    "Looking at the overall distribution of the sentiment score for the tweets data, *figure 3* shows a left skewed distribution. This is indicating that most of the tweets are scored with a negative sentiment. "
   ]
  },
  {
   "cell_type": "markdown",
   "metadata": {},
   "source": [
    "Next we will have a look at the different labels we will be classifying to. We know that our data is classified to four unique classes (*News*, *Pro*, *Neutral*, *Anti*). Let us have a look at the data associated with each class."
   ]
  },
  {
   "cell_type": "code",
   "execution_count": 101,
   "metadata": {
    "hidden": true,
    "scrolled": true
   },
   "outputs": [
    {
     "data": {
      "image/png": "[encoded data removed]",
      "text/plain": [
       "<Figure size 1080x360 with 1 Axes>"
      ]
     },
     "metadata": {},
     "output_type": "display_data"
    }
   ],
   "source": [
    "plt.figure(figsize=(15,5))\n",
    "names = ['Pro','News','Neutral','Anti']\n",
    "perc = df_train['sentiment'].replace({-1: 'Anti',0:'Neutral',1:'Pro',2:'News'}).value_counts()\n",
    "perc.name = ''\n",
    "perc.plot(kind='pie', labels=names, autopct='%1.1f%%')\n",
    "plt.title('Proportion of tweets in each class',fontsize = 16)\n",
    "plt.figtext(0.12, 0.1, 'figure 4: Percentage of tweets that are classified as either Anti, Pro, Neutral and News',\n",
    "            horizontalalignment='left',fontsize = 14,style='italic')\n",
    "plt.legend(df_train['sentiment'].replace({-1: 'Anti: Does not believe in man-made climate change',\n",
    "                                          0:'Neutral: Neither believes nor refutes man-made climate change',\n",
    "                                          1:'Pro:Believe in man-made climate change',\n",
    "                                          2:'News: Factual News about climate change'}).value_counts().index,\n",
    "           bbox_to_anchor=(2.3,0.7), loc=\"right\")\n",
    "\n",
    "plt.show()"
   ]
  },
  {
   "cell_type": "markdown",
   "metadata": {},
   "source": [
    "Examining *figure 4* and *figure 5* it is apparent that the majority of the tweets(53.9%) are classified as Pro, i.e. supports the belief of man-made climate change, and the minority of the tweets(8.2%) are classified as Anti, i.e Does not believe in man made climate change. Tweets classified as Pro are 6.6 times more than those classified as AntiTweets classified as Pro are 6.6 times more than those classified as Anti. There is a signican imbalance between the two groups.\n",
    "Unbalanced data is a problem, in that, the model might perform well in classifying the larger class but do poorly in classifying the smaller classes. So we can expect that the classification algorithm will perform better when classifying larger classes ( _Pro_ ) than the smaller classes ( _News, Neutral, Anti_ ). \n",
    "In our case knowing when a tweet has a sentiment that is Anti man-made climate change has an impact on how that customer may perceive a product. So if the model will mostly sentiment as Pro  man made climate change, it could classify some of the anti as pro which gives a skewed idea about customers."
   ]
  },
  {
   "cell_type": "markdown",
   "metadata": {
    "hidden": true
   },
   "source": [
    "To deal with unbalanced data one can apply resampling to the classes by adjusting the number of observations in the classes. There are 3 types of resampling:\n",
    "\n",
    "    1.Upsampling: Taking repeated random samples from the minority class until we have as many observations as the majority           class. This duplicates observations in the minority class at random\n",
    "    \n",
    "    2.Downsampling: Taking a random subset of the majority class small enough to match the number of observations in the             minority class. This then reduces the number of observations in the majority class.\n",
    "    \n",
    "    3.Both: You can apply both of these resampling methods by deciding on a class_size(usually half of major class) and               setting a threshold of 50% where classes above this threshold are downsampled and classes below this threshold are             upsampled\n"
   ]
  },
  {
   "cell_type": "markdown",
   "metadata": {},
   "source": [
    "We have then created a funtion To deal with the uneven distribution of class labels. The function will modify the number of observations for a class(es) we need to resample. "
   ]
  },
  {
   "cell_type": "code",
   "execution_count": 72,
   "metadata": {
    "hidden": true
   },
   "outputs": [],
   "source": [
    "# Create resampling function\n",
    "def resampling(df, class1, class2):\n",
    "    \"\"\" A function takes in a dataframe, a class to be resampled, and a class \n",
    "        thats observations are to be matched with.\n",
    "\n",
    "        Parameters\n",
    "        ----------\n",
    "        df:     Dataframe to be resampled.\n",
    "        class1: Integer of the class that is to be resampled.\n",
    "        class2: Integer of the class whose length is used to resample class1.\n",
    "\n",
    "        Returns\n",
    "        -------\n",
    "        df_resampled:  Resampled dataframe.\n",
    "    \"\"\"\n",
    "    df_class1= df[df.sentiment==class1]\n",
    "    df_class2 = df[df.sentiment==class2]\n",
    "    df_new= df[df.sentiment!=class1]\n",
    "    resampled = resample(df_class1, replace=False, n_samples=len(df_class2), random_state=27)\n",
    "    df_resampled = pd.concat([resampled, df_new])    \n",
    "    return df_resampled"
   ]
  },
  {
   "cell_type": "markdown",
   "metadata": {},
   "source": [
    "**Having a look at the distribution of word counts per class**"
   ]
  },
  {
   "cell_type": "code",
   "execution_count": 135,
   "metadata": {},
   "outputs": [],
   "source": [
    "df_sent['count'] = df_sent['message'].apply(lambda x: len(x.split()))"
   ]
  },
  {
   "cell_type": "code",
   "execution_count": 148,
   "metadata": {},
   "outputs": [
    {
     "data": {
      "text/plain": [
       "<matplotlib.legend.Legend at 0x19f27250>"
      ]
     },
     "execution_count": 148,
     "metadata": {},
     "output_type": "execute_result"
    },
    {
     "data": {
      "image/png": "[encoded data removed]",
      "text/plain": [
       "<Figure size 864x432 with 1 Axes>"
      ]
     },
     "metadata": {
      "needs_background": "light"
     },
     "output_type": "display_data"
    }
   ],
   "source": [
    "plt.figure(figsize=(12,6))\n",
    "plt.title('Kernel distribution of number of words per class',fontsize = 14)\n",
    "sns.kdeplot(df_sent['count'][df_sent['sentiment']=='Pro'], shade=True, color='g',legend=False)\n",
    "sns.kdeplot(df_sent['count'][df_sent['sentiment']=='Neutral'], shade=True, color='b',legend=False)\n",
    "sns.kdeplot(df_sent['count'][df_sent['sentiment']=='Anti'], shade=True, color='r',legend=False)\n",
    "sns.kdeplot(df_sent['count'][df_sent['sentiment']=='News'], shade=True, color='orange',legend=False)\n",
    "plt.legend(title='Sentiment class', loc='upper right', labels=['Pro', 'Neutral', 'Anti', 'News'])"
   ]
  },
  {
   "cell_type": "code",
   "execution_count": 151,
   "metadata": {
    "scrolled": false
   },
   "outputs": [
    {
     "data": {
      "text/plain": [
       "<matplotlib.legend.Legend at 0x1a2447f0>"
      ]
     },
     "execution_count": 151,
     "metadata": {},
     "output_type": "execute_result"
    },
    {
     "data": {
      "image/png": "[encoded data removed]",
      "text/plain": [
       "<Figure size 864x432 with 1 Axes>"
      ]
     },
     "metadata": {
      "needs_background": "light"
     },
     "output_type": "display_data"
    }
   ],
   "source": [
    "plt.figure(figsize=(12,6))\n",
    "plt.title('Kernel distribution of number of words per sentiment category',fontsize = 14)\n",
    "sns.kdeplot(df_sent['count'][df_sent['comp_score']=='pos'], shade=True, color='g',legend=False)\n",
    "sns.kdeplot(df_sent['count'][df_sent['comp_score']=='neu'], shade=True, color='b',legend=False)\n",
    "sns.kdeplot(df_sent['count'][df_sent['comp_score']=='neg'], shade=True, color='r',legend=False)\n",
    "plt.legend(title='Sentiment score', loc='upper right', labels=['Positive', 'Neutral', 'Negative'])"
   ]
  },
  {
   "cell_type": "markdown",
   "metadata": {},
   "source": [
    "??"
   ]
  },
  {
   "cell_type": "code",
   "execution_count": 207,
   "metadata": {},
   "outputs": [
    {
     "data": {
      "text/html": [
       "<style  type=\"text/css\" >\n",
       "    #T_a3661ed8_b8b8_11ea_bdf4_3859f9d5d279row0_col1 {\n",
       "            background-color:  #00441b;\n",
       "            color:  #f1f1f1;\n",
       "        }    #T_a3661ed8_b8b8_11ea_bdf4_3859f9d5d279row1_col1 {\n",
       "            background-color:  #005120;\n",
       "            color:  #f1f1f1;\n",
       "        }    #T_a3661ed8_b8b8_11ea_bdf4_3859f9d5d279row2_col1 {\n",
       "            background-color:  #026f2e;\n",
       "            color:  #f1f1f1;\n",
       "        }    #T_a3661ed8_b8b8_11ea_bdf4_3859f9d5d279row3_col1 {\n",
       "            background-color:  #05712f;\n",
       "            color:  #f1f1f1;\n",
       "        }    #T_a3661ed8_b8b8_11ea_bdf4_3859f9d5d279row4_col1 {\n",
       "            background-color:  #5db96b;\n",
       "            color:  #000000;\n",
       "        }    #T_a3661ed8_b8b8_11ea_bdf4_3859f9d5d279row5_col1 {\n",
       "            background-color:  #63bc6e;\n",
       "            color:  #000000;\n",
       "        }    #T_a3661ed8_b8b8_11ea_bdf4_3859f9d5d279row6_col1 {\n",
       "            background-color:  #e9f7e5;\n",
       "            color:  #000000;\n",
       "        }    #T_a3661ed8_b8b8_11ea_bdf4_3859f9d5d279row7_col1 {\n",
       "            background-color:  #f5fbf3;\n",
       "            color:  #000000;\n",
       "        }    #T_a3661ed8_b8b8_11ea_bdf4_3859f9d5d279row8_col1 {\n",
       "            background-color:  #f6fcf4;\n",
       "            color:  #000000;\n",
       "        }    #T_a3661ed8_b8b8_11ea_bdf4_3859f9d5d279row9_col1 {\n",
       "            background-color:  #f7fcf5;\n",
       "            color:  #000000;\n",
       "        }</style><table id=\"T_a3661ed8_b8b8_11ea_bdf4_3859f9d5d279\" ><thead>    <tr>        <th class=\"blank level0\" ></th>        <th class=\"col_heading level0 col0\" >Most common words</th>        <th class=\"col_heading level0 col1\" >Count</th>    </tr></thead><tbody>\n",
       "                <tr>\n",
       "                        <th id=\"T_a3661ed8_b8b8_11ea_bdf4_3859f9d5d279level0_row0\" class=\"row_heading level0 row0\" >0</th>\n",
       "                        <td id=\"T_a3661ed8_b8b8_11ea_bdf4_3859f9d5d279row0_col0\" class=\"data row0 col0\" >climate</td>\n",
       "                        <td id=\"T_a3661ed8_b8b8_11ea_bdf4_3859f9d5d279row0_col1\" class=\"data row0 col1\" >3800</td>\n",
       "            </tr>\n",
       "            <tr>\n",
       "                        <th id=\"T_a3661ed8_b8b8_11ea_bdf4_3859f9d5d279level0_row1\" class=\"row_heading level0 row1\" >1</th>\n",
       "                        <td id=\"T_a3661ed8_b8b8_11ea_bdf4_3859f9d5d279row1_col0\" class=\"data row1 col0\" >change</td>\n",
       "                        <td id=\"T_a3661ed8_b8b8_11ea_bdf4_3859f9d5d279row1_col1\" class=\"data row1 col1\" >3663</td>\n",
       "            </tr>\n",
       "            <tr>\n",
       "                        <th id=\"T_a3661ed8_b8b8_11ea_bdf4_3859f9d5d279level0_row2\" class=\"row_heading level0 row2\" >2</th>\n",
       "                        <td id=\"T_a3661ed8_b8b8_11ea_bdf4_3859f9d5d279row2_col0\" class=\"data row2 col0\" >rt</td>\n",
       "                        <td id=\"T_a3661ed8_b8b8_11ea_bdf4_3859f9d5d279row2_col1\" class=\"data row2 col1\" >3328</td>\n",
       "            </tr>\n",
       "            <tr>\n",
       "                        <th id=\"T_a3661ed8_b8b8_11ea_bdf4_3859f9d5d279level0_row3\" class=\"row_heading level0 row3\" >3</th>\n",
       "                        <td id=\"T_a3661ed8_b8b8_11ea_bdf4_3859f9d5d279row3_col0\" class=\"data row3 col0\" >https</td>\n",
       "                        <td id=\"T_a3661ed8_b8b8_11ea_bdf4_3859f9d5d279row3_col1\" class=\"data row3 col1\" >3304</td>\n",
       "            </tr>\n",
       "            <tr>\n",
       "                        <th id=\"T_a3661ed8_b8b8_11ea_bdf4_3859f9d5d279level0_row4\" class=\"row_heading level0 row4\" >4</th>\n",
       "                        <td id=\"T_a3661ed8_b8b8_11ea_bdf4_3859f9d5d279row4_col0\" class=\"data row4 col0\" >global</td>\n",
       "                        <td id=\"T_a3661ed8_b8b8_11ea_bdf4_3859f9d5d279row4_col1\" class=\"data row4 col1\" >2252</td>\n",
       "            </tr>\n",
       "            <tr>\n",
       "                        <th id=\"T_a3661ed8_b8b8_11ea_bdf4_3859f9d5d279level0_row5\" class=\"row_heading level0 row5\" >5</th>\n",
       "                        <td id=\"T_a3661ed8_b8b8_11ea_bdf4_3859f9d5d279row5_col0\" class=\"data row5 col0\" >warming</td>\n",
       "                        <td id=\"T_a3661ed8_b8b8_11ea_bdf4_3859f9d5d279row5_col1\" class=\"data row5 col1\" >2199</td>\n",
       "            </tr>\n",
       "            <tr>\n",
       "                        <th id=\"T_a3661ed8_b8b8_11ea_bdf4_3859f9d5d279level0_row6\" class=\"row_heading level0 row6\" >6</th>\n",
       "                        <td id=\"T_a3661ed8_b8b8_11ea_bdf4_3859f9d5d279row6_col0\" class=\"data row6 col0\" >trump</td>\n",
       "                        <td id=\"T_a3661ed8_b8b8_11ea_bdf4_3859f9d5d279row6_col1\" class=\"data row6 col1\" >652</td>\n",
       "            </tr>\n",
       "            <tr>\n",
       "                        <th id=\"T_a3661ed8_b8b8_11ea_bdf4_3859f9d5d279level0_row7\" class=\"row_heading level0 row7\" >7</th>\n",
       "                        <td id=\"T_a3661ed8_b8b8_11ea_bdf4_3859f9d5d279row7_col0\" class=\"data row7 col0\" >amp</td>\n",
       "                        <td id=\"T_a3661ed8_b8b8_11ea_bdf4_3859f9d5d279row7_col1\" class=\"data row7 col1\" >355</td>\n",
       "            </tr>\n",
       "            <tr>\n",
       "                        <th id=\"T_a3661ed8_b8b8_11ea_bdf4_3859f9d5d279level0_row8\" class=\"row_heading level0 row8\" >8</th>\n",
       "                        <td id=\"T_a3661ed8_b8b8_11ea_bdf4_3859f9d5d279row8_col0\" class=\"data row8 col0\" >real</td>\n",
       "                        <td id=\"T_a3661ed8_b8b8_11ea_bdf4_3859f9d5d279row8_col1\" class=\"data row8 col1\" >342</td>\n",
       "            </tr>\n",
       "            <tr>\n",
       "                        <th id=\"T_a3661ed8_b8b8_11ea_bdf4_3859f9d5d279level0_row9\" class=\"row_heading level0 row9\" >9</th>\n",
       "                        <td id=\"T_a3661ed8_b8b8_11ea_bdf4_3859f9d5d279row9_col0\" class=\"data row9 col0\" >believe</td>\n",
       "                        <td id=\"T_a3661ed8_b8b8_11ea_bdf4_3859f9d5d279row9_col1\" class=\"data row9 col1\" >306</td>\n",
       "            </tr>\n",
       "    </tbody></table>"
      ],
      "text/plain": [
       "<pandas.io.formats.style.Styler at 0x28206850>"
      ]
     },
     "execution_count": 207,
     "metadata": {},
     "output_type": "execute_result"
    }
   ],
   "source": [
    "# Pro tweets\n",
    "vecp = CountVectorizer(stop_words='english')\n",
    "count_vecp = vecp.fit_transform(df_sent['message'][df_sent['comp_score']=='pos'])\n",
    "c_words_p = count_vecp.sum(axis=0) \n",
    "wordcountp = [(w, c_words_p[0, i]) for w, i in vecp.vocabulary_.items()]\n",
    "wordcountp =sorted(wordcountp, key = lambda x: x[1], reverse=True)\n",
    "\n",
    "pd.DataFrame(wordcountp[:10],columns=['Most common words','Count']).style.background_gradient(cmap='Greens')"
   ]
  },
  {
   "cell_type": "markdown",
   "metadata": {},
   "source": [
    "Finally we look at the ditribution of the labels"
   ]
  },
  {
   "cell_type": "code",
   "execution_count": 73,
   "metadata": {
    "hidden": true,
    "scrolled": true
   },
   "outputs": [
    {
     "data": {
      "image/png": "[encoded data removed]",
      "text/plain": [
       "<Figure size 1080x288 with 2 Axes>"
      ]
     },
     "metadata": {
      "needs_background": "light"
     },
     "output_type": "display_data"
    }
   ],
   "source": [
    "cnt = df_train['sentiment'].value_counts().rename_axis('sentiment').reset_index(name='number of tweets')\n",
    "di = {-1: '-1: Anti',0:'0: Neutral',1:'1: Pro',2:'2: News'}\n",
    "cnt['sentiment'].replace(di, inplace=True)\n",
    "\n",
    "fig, (ax1, ax2) = plt.subplots(1, 2,figsize=(15, 4))\n",
    "plt.figtext(.51,.95, 'Distribution of the number of tweets on the classes Anti, Pro, Neutral and News\\n', fontsize=16, ha='center')\n",
    "\n",
    "ax1.boxplot(cnt['number of tweets'], widths = 0.3, vert=False, patch_artist=True)\n",
    "plt.xlabel('Number of tweets per sentiment class')\n",
    "# ax.set_xlabel('Number of tweets per sentiment class')\n",
    "plt.yticks([1],[''])\n",
    "\n",
    "font_size=14\n",
    "bbox=[0, 0, 1, 1]\n",
    "ax2.axis('off')\n",
    "mpl_table = ax2.table(cellText = cnt.values, rowLabels = cnt.index, bbox=bbox, colLabels=cnt.columns)\n",
    "mpl_table.auto_set_font_size(False)\n",
    "mpl_table.set_fontsize(font_size)\n",
    "\n",
    "plt.figtext(0.1, 0.0005, 'figure 6: Distribution of the classification( Anti, Pro, Neutral and News) classes based on the number of tweets in each class',\n",
    "            horizontalalignment='left',\n",
    "            fontsize = 14,style='italic')\n",
    "\n",
    "plt.show()"
   ]
  },
  {
   "cell_type": "markdown",
   "metadata": {},
   "source": [
    "*Figure 6* indicates a skewness to the right. This indicates further that the data consists of more Pro tweets than Anti tweets"
   ]
  },
  {
   "cell_type": "markdown",
   "metadata": {
    "heading_collapsed": true,
    "hidden": true
   },
   "source": [
    "## Split data into response and predictors"
   ]
  },
  {
   "cell_type": "markdown",
   "metadata": {
    "hidden": true
   },
   "source": [
    "Next we split our data into response (Y) and predictor variables (X). We will use the predictor to fit a model that can somewhat accurately classify a tweet. The response variable will be used to validate/test our predictions. Our predictor variable would be our `message` column and our response variable would be what we want to predict, which is the `sentiment` column."
   ]
  },
  {
   "cell_type": "code",
   "execution_count": 74,
   "metadata": {
    "hidden": true
   },
   "outputs": [],
   "source": [
    "y = df_train['sentiment']\n",
    "X = df_train['message']"
   ]
  },
  {
   "cell_type": "markdown",
   "metadata": {
    "heading_collapsed": true,
    "hidden": true
   },
   "source": [
    "## Split data into training and validation sets"
   ]
  },
  {
   "cell_type": "markdown",
   "metadata": {
    "hidden": true
   },
   "source": [
    "The ultimate goal of fitting our machine learning models is to make relatively accurate classifications on unseen data. This is data we don't have at our disposal. So to measure the performance of our model we want to test it on unseen data as well. This is why we create a validation or testing set.  \n",
    "\n",
    "- Training sets: The samples of data the model uses for learning  \n",
    "- Testing sets: The samples of data used to assess the model's performance.\n",
    "\n",
    "We chose to use 80% of the data for training and 20% was kept aside for validation. The observations for these datasets are selected at random. This ensures that the mix of data in the train set is as close as possible to the mix in the validation/test set.  "
   ]
  },
  {
   "cell_type": "code",
   "execution_count": 34,
   "metadata": {
    "hidden": true
   },
   "outputs": [],
   "source": [
    "X_train, X_test, y_train, y_test = train_test_split(X, y, test_size=0.2, random_state=42)"
   ]
  },
  {
   "cell_type": "markdown",
   "metadata": {},
   "source": [
    "## Feature extraction"
   ]
  },
  {
   "cell_type": "markdown",
   "metadata": {},
   "source": [
    "In this section we are going to transform our text data into something that the computer can understand and use for modeling.  \n",
    "\n",
    "But first we will explore stopwords, n-grams and the impact they have on some baseline model. We chose logistic regression to evaluate the impact of these features on our overall model accuracy. This model was chosen due to it being scalable to large data and also being one of the more computationally efficient models.  \n",
    "\n",
    "We start by extracting features from text data using `TfidfVectorizer()`. The tfidf vectorizer learns vocabulary from the text data and then proceeds to tokenize and create feature vectors from the text. Each tweet is then represented by a unique vector depending on its tokens, where the columns inside the vectors represent the features (which is the different words in the vocabulary) and the values represent the count of each word present in the tweet. See the illustration below.  \n",
    "\n",
    "<img src=\"Vectorize1.png\" style=\"width:800px;height:500px\">\n",
    "\n",
    "And voila! We have transformed text into a form that computers can understand. All these vectors are then transformed to contain tfidf(term frequency–inverse document frequency) scores instead of these counts. Tfidf is a numerical statistic that is intended to reflect how important a word is to a document (tweet in our case). It works by proportionally increasing to the number of times a word appears in a document (tweet), but is offset by the number of documents that contain the word. So words like 'you, 'this' and 'and' rank low even though they may appear many times. This is because they do not mean that much to the document. On the other hand, words like 'armadillo' would have a higher ranking since we assume that a word is very relevant to the given document if it does not appear in many other documents. \n",
    "\n",
    "Often in languages we have different versions of words that have the same core meaning. Examples would be 'run', 'ran' and 'running'. All three those word essentially refer to the action of running, just in different times. There is a method called stemming that reduces words to their base form. So essentially, after applying this method, all three of the words above would be reduced to the word 'run'. Python's nltk library has a method (`SnowballStemmer()`) that does exactly this for us. We will now write a class that will stem and tokenize text data and use this as a parameter in our vectorizer."
   ]
  },
  {
   "cell_type": "code",
   "execution_count": 35,
   "metadata": {},
   "outputs": [],
   "source": [
    "# Write class that has object that tokenizes text data AND stems the tokens\n",
    "class StemAndTokenize:\n",
    "    def __init__(self):\n",
    "        self.ss = SnowballStemmer('english')\n",
    "    def __call__(self, doc):\n",
    "        return [self.ss.stem(t) for t in word_tokenize(doc)]"
   ]
  },
  {
   "cell_type": "markdown",
   "metadata": {},
   "source": [
    "#### Stopwords  \n",
    "\n",
    "First we'll look at stopwords using **unigrams**. Stopwords are common words that, due to their frequency in all sentences of any class, could be seen as insignificant. These are words like 'the', 'and', 'with', 'for', 'you' and 'I'. It is often assumed that removing stopwords improves a model's performance. But since tweets tend to be very short, with a maximum of only 280 characters, we want to test whether removing them could possibly reduce model accuracy instead.  \n",
    "\n",
    "Let's create two different feature matrices, one containing stopwords and one with stopwords removed."
   ]
  },
  {
   "cell_type": "code",
   "execution_count": 36,
   "metadata": {},
   "outputs": [
    {
     "name": "stderr",
     "output_type": "stream",
     "text": [
      "C:\\ProgramData\\Anaconda3\\lib\\site-packages\\sklearn\\feature_extraction\\text.py:300: UserWarning: Your stop_words may be inconsistent with your preprocessing. Tokenizing the stop words generated tokens ['abov', 'afterward', 'alon', 'alreadi', 'alway', 'ani', 'anoth', 'anyon', 'anyth', 'anywher', 'becam', 'becaus', 'becom', 'befor', 'besid', 'cri', 'describ', 'dure', 'els', 'elsewher', 'empti', 'everi', 'everyon', 'everyth', 'everywher', 'fifti', 'forti', 'henc', 'hereaft', 'herebi', 'howev', 'hundr', 'inde', 'mani', 'meanwhil', 'moreov', 'nobodi', 'noon', 'noth', 'nowher', 'onc', 'onli', 'otherwis', 'ourselv', 'perhap', 'pleas', 'sever', 'sinc', 'sincer', 'sixti', 'someon', 'someth', 'sometim', 'somewher', 'themselv', 'thenc', 'thereaft', 'therebi', 'therefor', 'togeth', 'twelv', 'twenti', 'veri', 'whatev', 'whenc', 'whenev', 'wherea', 'whereaft', 'wherebi', 'wherev', 'whi', 'yourselv'] not in stop_words.\n",
      "  'stop_words.' % sorted(inconsistent))\n"
     ]
    }
   ],
   "source": [
    "# Stopwords included\n",
    "SW_vec_uni = TfidfVectorizer(tokenizer=StemAndTokenize())\n",
    "SW_X_uni = SW_vec_uni.fit_transform(X_train)\n",
    "\n",
    "# Stopwords excluded\n",
    "noSW_vec_uni = TfidfVectorizer(stop_words='english', tokenizer=StemAndTokenize())\n",
    "noSW_X_uni = noSW_vec_uni.fit_transform(X_train)"
   ]
  },
  {
   "cell_type": "markdown",
   "metadata": {},
   "source": [
    "Next we fit a logistic regression model to both these feature matrices."
   ]
  },
  {
   "cell_type": "code",
   "execution_count": 37,
   "metadata": {},
   "outputs": [
    {
     "name": "stderr",
     "output_type": "stream",
     "text": [
      "C:\\ProgramData\\Anaconda3\\lib\\site-packages\\sklearn\\linear_model\\logistic.py:432: FutureWarning: Default solver will be changed to 'lbfgs' in 0.22. Specify a solver to silence this warning.\n",
      "  FutureWarning)\n",
      "C:\\ProgramData\\Anaconda3\\lib\\site-packages\\sklearn\\linear_model\\logistic.py:469: FutureWarning: Default multi_class will be changed to 'auto' in 0.22. Specify the multi_class option to silence this warning.\n",
      "  \"this warning.\", FutureWarning)\n"
     ]
    },
    {
     "data": {
      "text/plain": [
       "LogisticRegression(C=1.0, class_weight=None, dual=False, fit_intercept=True,\n",
       "                   intercept_scaling=1, l1_ratio=None, max_iter=100,\n",
       "                   multi_class='warn', n_jobs=None, penalty='l2',\n",
       "                   random_state=None, solver='warn', tol=0.0001, verbose=0,\n",
       "                   warm_start=False)"
      ]
     },
     "execution_count": 37,
     "metadata": {},
     "output_type": "execute_result"
    }
   ],
   "source": [
    "# Stopwords included\n",
    "SW_uni = LogisticRegression()\n",
    "SW_uni.fit(SW_X_uni,y_train)\n",
    "\n",
    "# Stopwords excluded\n",
    "noSW_uni = LogisticRegression()\n",
    "noSW_uni.fit(noSW_X_uni,y_train)"
   ]
  },
  {
   "cell_type": "markdown",
   "metadata": {},
   "source": [
    "Let's look at both the accuracy score and F1 score when using these trained models to predict the sentiment of tweets. Since our test set serves as our unseen data we do not fit the vectorizer to the test set, we only transform it with the vectorizer fit to the corresponding train set."
   ]
  },
  {
   "cell_type": "code",
   "execution_count": 38,
   "metadata": {},
   "outputs": [
    {
     "name": "stdout",
     "output_type": "stream",
     "text": [
      "====== Stopwords included ======\n",
      "Accuracy: 0.7402022756005057 \n",
      "F1-score: 0.7191664897915931\n",
      "\n",
      "\n",
      "====== Stopwords excluded ======\n",
      "Accuracy: 0.7354614412136536 \n",
      "F1-score: 0.7123380136033697\n"
     ]
    }
   ],
   "source": [
    "# Stopwords included\n",
    "SW_uni_pred = SW_uni.predict(SW_vec_uni.transform(X_test))\n",
    "print('====== Stopwords included ======')\n",
    "print(f'Accuracy: {accuracy_score(y_test, SW_uni_pred)} \\nF1-score: {f1_score(y_test, SW_uni_pred, average=\"weighted\")}')\n",
    "print()\n",
    "print()\n",
    "\n",
    "# Stopwords excluded\n",
    "noSW_uni_pred = noSW_uni.predict(noSW_vec_uni.transform(X_test))\n",
    "print('====== Stopwords excluded ======')\n",
    "print(f'Accuracy: {accuracy_score(y_test, noSW_uni_pred)} \\nF1-score: {f1_score(y_test, noSW_uni_pred, average=\"weighted\")}')"
   ]
  },
  {
   "cell_type": "markdown",
   "metadata": {},
   "source": [
    "Albeit a small difference, the model containing stopwords seems to perform better. This will probably be the case for other models as well. After optimizing hyperparameters later on, this difference could possibly be even larger. So we conclude that it would be wise to keep stopwords inside the text data. "
   ]
  },
  {
   "cell_type": "markdown",
   "metadata": {},
   "source": [
    "#### N-grams\n",
    "\n",
    "Next we compare the model above with models that use bigrams and trigrams. N-grams are all possible combinations of adjacent words of length n in text (*or in our case a tweet*). Let us illustrate this using an example.  \n",
    "\n",
    "> *Text:*  \n",
    "`'The brown fox jumps over the gate'`  \n",
    "***\n",
    "> *List of bigrams (n-grams where n=2):*  \n",
    "`['The brown', 'brown fox', 'fox jumps', 'jumps over', 'over the', 'the gate']`  \n",
    "\n",
    "N-grams are used to capture the language structure of the text. They look at how likely it is for a letter or word to follow another one. The longer the n-gram (the larger the value of n), the more context you have to work with. N-grams are known to increase a model's accuracy, but generally we do not want n-grams to be too long, since they would start becoming counterproductive.  \n",
    "\n",
    "Now we create two different feature matrices, one using bigrams and one using trigrams. Both of these models will **not** have stopwords removed."
   ]
  },
  {
   "cell_type": "code",
   "execution_count": 39,
   "metadata": {},
   "outputs": [],
   "source": [
    "# Bigrams\n",
    "SW_vec_bi = TfidfVectorizer(tokenizer=StemAndTokenize(), ngram_range=(2, 2))\n",
    "SW_X_bi = SW_vec_bi.fit_transform(X_train)\n",
    "\n",
    "# Trigrams\n",
    "SW_vec_tri = TfidfVectorizer(tokenizer=StemAndTokenize(), ngram_range=(3, 3))\n",
    "SW_X_tri = SW_vec_tri.fit_transform(X_train)"
   ]
  },
  {
   "cell_type": "markdown",
   "metadata": {},
   "source": [
    "Next we fit a logistic regression model to both these feature matrices."
   ]
  },
  {
   "cell_type": "code",
   "execution_count": 40,
   "metadata": {},
   "outputs": [
    {
     "name": "stderr",
     "output_type": "stream",
     "text": [
      "C:\\ProgramData\\Anaconda3\\lib\\site-packages\\sklearn\\linear_model\\logistic.py:432: FutureWarning: Default solver will be changed to 'lbfgs' in 0.22. Specify a solver to silence this warning.\n",
      "  FutureWarning)\n",
      "C:\\ProgramData\\Anaconda3\\lib\\site-packages\\sklearn\\linear_model\\logistic.py:469: FutureWarning: Default multi_class will be changed to 'auto' in 0.22. Specify the multi_class option to silence this warning.\n",
      "  \"this warning.\", FutureWarning)\n"
     ]
    },
    {
     "data": {
      "text/plain": [
       "LogisticRegression(C=1.0, class_weight=None, dual=False, fit_intercept=True,\n",
       "                   intercept_scaling=1, l1_ratio=None, max_iter=100,\n",
       "                   multi_class='warn', n_jobs=None, penalty='l2',\n",
       "                   random_state=None, solver='warn', tol=0.0001, verbose=0,\n",
       "                   warm_start=False)"
      ]
     },
     "execution_count": 40,
     "metadata": {},
     "output_type": "execute_result"
    }
   ],
   "source": [
    "# Bigrams\n",
    "SW_bi = LogisticRegression()\n",
    "SW_bi.fit(SW_X_bi,y_train)\n",
    "\n",
    "# Trigrams\n",
    "SW_tri = LogisticRegression()\n",
    "SW_tri.fit(SW_X_tri,y_train)"
   ]
  },
  {
   "cell_type": "markdown",
   "metadata": {},
   "source": [
    "Let's look at both the accuracy score and F1 score when using these trained models to predict the sentiment of tweets. We will add the unigram model here again for comparison."
   ]
  },
  {
   "cell_type": "code",
   "execution_count": 41,
   "metadata": {},
   "outputs": [
    {
     "name": "stdout",
     "output_type": "stream",
     "text": [
      "========== Unigrams ==========\n",
      "Accuracy: 0.7402022756005057 \n",
      "F1-score: 0.7191664897915931\n",
      "\n",
      "\n",
      "========== Bigrams ==========\n",
      "Accuracy: 0.7098609355246523 \n",
      "F1-score: 0.6752124717719953\n",
      "\n",
      "\n",
      "========== Trigrams ==========\n",
      "Accuracy: 0.6665613147914032 \n",
      "F1-score: 0.6192155186320547\n"
     ]
    }
   ],
   "source": [
    "# Unigrams\n",
    "SW_uni_pred = SW_uni.predict(SW_vec_uni.transform(X_test))\n",
    "print('========== Unigrams ==========')\n",
    "print(f'Accuracy: {accuracy_score(y_test, SW_uni_pred)} \\nF1-score: {f1_score(y_test, SW_uni_pred, average=\"weighted\")}')\n",
    "print()\n",
    "print()\n",
    "      \n",
    "# Bigrams\n",
    "SW_bi_pred = SW_bi.predict(SW_vec_bi.transform(X_test))\n",
    "print('========== Bigrams ==========')\n",
    "print(f'Accuracy: {accuracy_score(y_test, SW_bi_pred)} \\nF1-score: {f1_score(y_test, SW_bi_pred, average=\"weighted\")}')\n",
    "print()\n",
    "print()\n",
    "\n",
    "# Trigrams\n",
    "SW_tri_pred = SW_tri.predict(SW_vec_tri.transform(X_test))\n",
    "print('========== Trigrams ==========')\n",
    "print(f'Accuracy: {accuracy_score(y_test, SW_tri_pred)} \\nF1-score: {f1_score(y_test, SW_tri_pred, average=\"weighted\")}')"
   ]
  },
  {
   "cell_type": "markdown",
   "metadata": {},
   "source": [
    "From the output we see that the model using bigrams seems to outperform the model using trigrams. But overall the model using unigrams reigns supreme.  \n",
    "\n",
    "So after examining the impact of both stopwords and n-grams we conclude that a model using unigrams and containing stopwords would be the better choice. We will use these parameter values for the vectorizers for all our models from this moment on."
   ]
  },
  {
   "cell_type": "markdown",
   "metadata": {},
   "source": [
    "### Build pipelines  "
   ]
  },
  {
   "cell_type": "markdown",
   "metadata": {},
   "source": [
    "To reduce the amount of code we use, we will be using pipelines that will both vectorize the text data and create our different models. In the spirit of killing two birds with one stone, let's add another and add the method `GridSearchCV()` to the pipeline. This method is used to optimize some parameters for each of the models we want to train. And we will be using cross validation to determine the best combination of parameters. An explanation will follow, but this image describes it nicely:  \n",
    "\n",
    "<img src=\"cv.png\" style=\"width:800px;height:500px\">\n",
    "\n",
    "According to an [article](https://machinelearningmastery.com/k-fold-cross-validation/#:~:text=Cross%2Dvalidation%20is%20a%20resampling,k%2Dfold%20cross%2Dvalidation.) by Machine Learning Mastery, cross-validation is a statistical method used to estimate the skill of machine learning models. We have already split our data into training and testing sets, but here we will do another split on our training set. As we can see from the image above, a certain percentage (we chose 10%) of the training data will be kept aside for validation purposes. We essentially train the model on 90% of the train set and using the rest of the 10% to calculate some accuracy statistic of our choice. This process is then repeated a number of times and in our case we are choosing a 10 fold split. Each repeat will have a different combination of the train set for training and validation. And finally we aggregate over all the statistics for our final accuracy statistic. \n",
    "\n",
    "The parameters that will be optimized, however, will differ from model to model, but we'll discuss our choices further below."
   ]
  },
  {
   "cell_type": "markdown",
   "metadata": {
    "heading_collapsed": true
   },
   "source": [
    "**Logistic Regression**"
   ]
  },
  {
   "cell_type": "markdown",
   "metadata": {
    "hidden": true
   },
   "source": [
    "The first model we're going to look at is Logistic regression. For this model and all the following models, we are using 10-fold crossvalidation (`cv=10`) and specifying the parameter `n_jobs=-1` so we can use all processors when applying the gridsearch method. In some cases we will also be setting `random_state=42` so we can compare the performance of our different models.  \n",
    "\n",
    "For logistic regression we are only going to look at the C parameter. It’s a penalty term, meant to disincentivize and regulate against overfitting. The parameter indicates the inverse of regularization strength, i.e. smaller values specify stronger regularization. So we will be looking which size of C yields the best results. \n",
    "\n",
    "*Hyperparameter optimization:*"
   ]
  },
  {
   "cell_type": "code",
   "execution_count": 42,
   "metadata": {
    "hidden": true
   },
   "outputs": [],
   "source": [
    "# parameters to be tested for Logistic Regression\n",
    "param_grid_lr = {'C':[0.01, 0.1, 1, 5, 10, 20]}"
   ]
  },
  {
   "cell_type": "markdown",
   "metadata": {
    "hidden": true
   },
   "source": [
    "*Pipeline:*"
   ]
  },
  {
   "cell_type": "code",
   "execution_count": 43,
   "metadata": {
    "hidden": true
   },
   "outputs": [],
   "source": [
    "# Create pipeline for Logistic Regression:\n",
    "lr = Pipeline([('tfidf', TfidfVectorizer(tokenizer=StemAndTokenize())),\n",
    "               ('lr', GridSearchCV(LogisticRegression(),\n",
    "                                   param_grid=param_grid_lr,\n",
    "                                   cv=10,\n",
    "                                   n_jobs=-1))\n",
    "              ])"
   ]
  },
  {
   "cell_type": "markdown",
   "metadata": {
    "heading_collapsed": true
   },
   "source": [
    "**Naïve Bayes**"
   ]
  },
  {
   "cell_type": "markdown",
   "metadata": {
    "hidden": true
   },
   "source": [
    "For the naïve bayes classifier we will also only be looking at one parameter. `alpha` is the regularization parameter for the naïve bayes classifier and is known as the smoothing parameter.  \n",
    "\n",
    "*Hyperparameter optimization:*"
   ]
  },
  {
   "cell_type": "code",
   "execution_count": 44,
   "metadata": {
    "hidden": true
   },
   "outputs": [],
   "source": [
    "# parameters to be tested for Naïve Bayes\n",
    "param_grid_nb = {'alpha':[0.001, 0.01, 0.1, 1, 5]}"
   ]
  },
  {
   "cell_type": "markdown",
   "metadata": {
    "hidden": true
   },
   "source": [
    "*Pipeline:*"
   ]
  },
  {
   "cell_type": "code",
   "execution_count": 45,
   "metadata": {
    "hidden": true
   },
   "outputs": [],
   "source": [
    "# Create pipeline for Naïve Bayes:\n",
    "nb = Pipeline([('tfidf', TfidfVectorizer(tokenizer=StemAndTokenize())),\n",
    "               ('nb', GridSearchCV(MultinomialNB(),\n",
    "                                   param_grid=param_grid_nb,\n",
    "                                   cv=10,\n",
    "                                   n_jobs=-1))\n",
    "              ])"
   ]
  },
  {
   "cell_type": "markdown",
   "metadata": {
    "heading_collapsed": true
   },
   "source": [
    "**SVM (Support Vector Machine)**"
   ]
  },
  {
   "cell_type": "markdown",
   "metadata": {
    "hidden": true
   },
   "source": [
    "For support vector machines we will be trying to optimize three parameters. Once again we'll have a look at the C parameter we explained above, along with the `kernel` and `gamma` parameters. Kernel methods are a class of algorithms used to detect and study patterns in data. We'll look at the linear kernel as well as the radial basis function (rbf) kernel. The `gamma` parameter indicates the kernel coefficient for the rbf kernel and we'll look at the options 'scale' and 'auto'.\n",
    "\n",
    "*Hyperparameter optimization:*"
   ]
  },
  {
   "cell_type": "code",
   "execution_count": 46,
   "metadata": {
    "hidden": true
   },
   "outputs": [],
   "source": [
    "# parameters to be tested for SVM\n",
    "param_grid_svm = {'C':[50, 100, 150, 200],\n",
    "                  'kernel':['linear', 'rbf'],\n",
    "                  'gamma':['scale','auto']}"
   ]
  },
  {
   "cell_type": "markdown",
   "metadata": {
    "hidden": true
   },
   "source": [
    "*Pipeline:*"
   ]
  },
  {
   "cell_type": "code",
   "execution_count": 47,
   "metadata": {
    "hidden": true
   },
   "outputs": [],
   "source": [
    "# Create pipeline for SVM:\n",
    "svm = Pipeline([('tfidf', TfidfVectorizer(tokenizer=StemAndTokenize())),\n",
    "               ('svm', GridSearchCV(SVC(random_state=42),\n",
    "                                   param_grid=param_grid_svm,\n",
    "                                   cv=10,\n",
    "                                   n_jobs=-1))\n",
    "              ])"
   ]
  },
  {
   "cell_type": "markdown",
   "metadata": {},
   "source": [
    "**Random Forest**"
   ]
  },
  {
   "cell_type": "markdown",
   "metadata": {},
   "source": [
    "For the random forest classifier we will be looking at four different parameter. `max_features` indicates the maximum number of features to consider when looking for the best split. By reducing the number of features each tree in a random forest can use to fit a model, we improve the model. This is simply due to the model now being able to test a lot of different combinations of variables, rather than fitting a model using all the features every time. `n_estimators` indicate the number of trees that we want in the forest and `max_depth` indicate the maximum depth of a single tree. And finally we also look at `criterion` which indicates the function to be used to measure the quality of a split.  \n",
    "\n",
    "*Hyperparameter optimization:*"
   ]
  },
  {
   "cell_type": "code",
   "execution_count": 55,
   "metadata": {},
   "outputs": [],
   "source": [
    "# parameters to be tested for Random Forest\n",
    "param_grid_rf = {'max_features':[0.5,'log2'],\n",
    "                 'n_estimators':[50,75,100],\n",
    "                 'criterion':['gini','entropy'],\n",
    "                 'max_depth':[10,15,None]}"
   ]
  },
  {
   "cell_type": "markdown",
   "metadata": {},
   "source": [
    "*Pipeline:*"
   ]
  },
  {
   "cell_type": "code",
   "execution_count": 56,
   "metadata": {},
   "outputs": [],
   "source": [
    "# Create pipeline for Random Forest:\n",
    "rf = Pipeline([('tfidf', TfidfVectorizer(tokenizer=StemAndTokenize())),\n",
    "               ('rf', GridSearchCV(RandomForestClassifier(random_state=42),\n",
    "                                   param_grid=param_grid_rf,\n",
    "                                   cv=10,\n",
    "                                   n_jobs=-1))\n",
    "              ],verbose=True)"
   ]
  },
  {
   "cell_type": "markdown",
   "metadata": {
    "heading_collapsed": true
   },
   "source": [
    "**KNN (K Nearest Neighbors)**"
   ]
  },
  {
   "cell_type": "markdown",
   "metadata": {
    "hidden": true
   },
   "source": [
    "The only parameter we are going to look at for the KNN model is `n_neighbors`, which indicates number of neighbors to use.  \n",
    "\n",
    "*Hyperparameter optimization:*"
   ]
  },
  {
   "cell_type": "code",
   "execution_count": 50,
   "metadata": {
    "hidden": true
   },
   "outputs": [],
   "source": [
    "# parameters to be tested for KNN\n",
    "param_grid_knn = {'n_neighbors':[3,5,10,15,20,50,100]}"
   ]
  },
  {
   "cell_type": "markdown",
   "metadata": {
    "hidden": true
   },
   "source": [
    "*Pipeline:*"
   ]
  },
  {
   "cell_type": "code",
   "execution_count": 51,
   "metadata": {
    "hidden": true
   },
   "outputs": [],
   "source": [
    "# Create pipeline for KNN:\n",
    "knn = Pipeline([('tfidf', TfidfVectorizer(tokenizer=StemAndTokenize())),\n",
    "               ('knn', GridSearchCV(KNeighborsClassifier(weights='distance'),\n",
    "                                    param_grid=param_grid_knn,\n",
    "                                    cv=10,\n",
    "                                    n_jobs=-1))\n",
    "              ])"
   ]
  },
  {
   "cell_type": "markdown",
   "metadata": {
    "heading_collapsed": true
   },
   "source": [
    "**Neural Networks**"
   ]
  },
  {
   "cell_type": "markdown",
   "metadata": {
    "hidden": true
   },
   "source": [
    "For our neural networks we are going to look at the methods used for our activation function. When discussing neural networks later on, we'll go into a bit more detail on what an activation function is and how these different methods work.  \n",
    "\n",
    "*Hyperparameter optimization:*"
   ]
  },
  {
   "cell_type": "code",
   "execution_count": 52,
   "metadata": {
    "hidden": true
   },
   "outputs": [],
   "source": [
    "# parameters to be tested for Neural Networks\n",
    "param_grid_nn = {'activation':['logistic','tanh','relu']}"
   ]
  },
  {
   "cell_type": "markdown",
   "metadata": {
    "hidden": true
   },
   "source": [
    "*Pipeline:*"
   ]
  },
  {
   "cell_type": "code",
   "execution_count": 53,
   "metadata": {
    "hidden": true
   },
   "outputs": [],
   "source": [
    "# Create pipeline for Neural Networks:\n",
    "nn = Pipeline([('tfidf', TfidfVectorizer(tokenizer=StemAndTokenize())),\n",
    "               ('nn', GridSearchCV(MLPClassifier(batch_size=100,random_state=42,verbose=True,early_stopping=True),\n",
    "                                   param_grid=param_grid_nn,\n",
    "                                   cv=10,\n",
    "                                   n_jobs=-1))\n",
    "              ])"
   ]
  },
  {
   "cell_type": "markdown",
   "metadata": {
    "heading_collapsed": true
   },
   "source": [
    "## Train models"
   ]
  },
  {
   "cell_type": "markdown",
   "metadata": {
    "hidden": true
   },
   "source": [
    "Before we can classify any new tweets we have to train a model using past tweets so the model can learn how to classify tweets into their respective classes. We will look into 6 classification models to train: `Logistic Regression`, `Naive Bayes`, `Support Vector Machine`, `Random Forest`, `K Nearest Neighbours` and `Neural Networks`.  \n",
    "\n",
    "_**NOTE:** After applying the gridsearch method above the following blocks of code will train longer than usual to find the optimal combination of hyperparameters. Patience is key._"
   ]
  },
  {
   "cell_type": "markdown",
   "metadata": {
    "heading_collapsed": true,
    "hidden": true
   },
   "source": [
    "**Logistic Regression**"
   ]
  },
  {
   "cell_type": "code",
   "execution_count": 51,
   "metadata": {
    "hidden": true
   },
   "outputs": [
    {
     "name": "stderr",
     "output_type": "stream",
     "text": [
      "C:\\ProgramData\\Anaconda3\\lib\\site-packages\\sklearn\\linear_model\\logistic.py:432: FutureWarning: Default solver will be changed to 'lbfgs' in 0.22. Specify a solver to silence this warning.\n",
      "  FutureWarning)\n",
      "C:\\ProgramData\\Anaconda3\\lib\\site-packages\\sklearn\\linear_model\\logistic.py:469: FutureWarning: Default multi_class will be changed to 'auto' in 0.22. Specify the multi_class option to silence this warning.\n",
      "  \"this warning.\", FutureWarning)\n"
     ]
    },
    {
     "data": {
      "text/plain": [
       "Pipeline(memory=None,\n",
       "         steps=[('tfidf',\n",
       "                 TfidfVectorizer(analyzer='word', binary=False,\n",
       "                                 decode_error='strict',\n",
       "                                 dtype=<class 'numpy.float64'>,\n",
       "                                 encoding='utf-8', input='content',\n",
       "                                 lowercase=True, max_df=1.0, max_features=None,\n",
       "                                 min_df=1, ngram_range=(1, 1), norm='l2',\n",
       "                                 preprocessor=None, smooth_idf=True,\n",
       "                                 stop_words=None, strip_accents=None,\n",
       "                                 sublinear_tf=False,\n",
       "                                 token_pattern='...\n",
       "                                                           intercept_scaling=1,\n",
       "                                                           l1_ratio=None,\n",
       "                                                           max_iter=100,\n",
       "                                                           multi_class='warn',\n",
       "                                                           n_jobs=None,\n",
       "                                                           penalty='l2',\n",
       "                                                           random_state=None,\n",
       "                                                           solver='warn',\n",
       "                                                           tol=0.0001,\n",
       "                                                           verbose=0,\n",
       "                                                           warm_start=False),\n",
       "                              iid='warn', n_jobs=-1,\n",
       "                              param_grid={'C': [0.001, 0.01, 0.1, 1, 5, 10, 20,\n",
       "                                                50, 100],\n",
       "                                          'class_weight': [None, 'balanced']},\n",
       "                              pre_dispatch='2*n_jobs', refit=True,\n",
       "                              return_train_score=False, scoring=None,\n",
       "                              verbose=0))],\n",
       "         verbose=False)"
      ]
     },
     "execution_count": 51,
     "metadata": {},
     "output_type": "execute_result"
    }
   ],
   "source": [
    "# Fitting the Logistic Regression model\n",
    "lr.fit(X_train, y_train)"
   ]
  },
  {
   "cell_type": "code",
   "execution_count": 75,
   "metadata": {},
   "outputs": [
    {
     "name": "stdout",
     "output_type": "stream",
     "text": [
      "{'C': 5, 'class_weight': None}\n"
     ]
    }
   ],
   "source": [
    "best_param_lr = lr['lr'].best_params_\n",
    "print(best_param_lr)"
   ]
  },
  {
   "cell_type": "markdown",
   "metadata": {
    "heading_collapsed": true,
    "hidden": true
   },
   "source": [
    "**Naïve Bayes**"
   ]
  },
  {
   "cell_type": "code",
   "execution_count": 61,
   "metadata": {
    "hidden": true
   },
   "outputs": [
    {
     "data": {
      "text/plain": [
       "Pipeline(memory=None,\n",
       "         steps=[('tfidf',\n",
       "                 TfidfVectorizer(analyzer='word', binary=False,\n",
       "                                 decode_error='strict',\n",
       "                                 dtype=<class 'numpy.float64'>,\n",
       "                                 encoding='utf-8', input='content',\n",
       "                                 lowercase=True, max_df=1.0, max_features=None,\n",
       "                                 min_df=1, ngram_range=(1, 1), norm='l2',\n",
       "                                 preprocessor=None, smooth_idf=True,\n",
       "                                 stop_words=None, strip_accents=None,\n",
       "                                 sublinear_tf=False,\n",
       "                                 token_pattern='...\n",
       "                                 tokenizer=<__main__.StemAndTokenize object at 0x0F55A510>,\n",
       "                                 use_idf=True, vocabulary=None)),\n",
       "                ('nb',\n",
       "                 GridSearchCV(cv=10, error_score='raise-deprecating',\n",
       "                              estimator=MultinomialNB(alpha=1.0,\n",
       "                                                      class_prior=None,\n",
       "                                                      fit_prior=True),\n",
       "                              iid='warn', n_jobs=-1,\n",
       "                              param_grid={'alpha': [0.001, 0.01, 0.1, 1, 5, 10,\n",
       "                                                    20, 50, 100]},\n",
       "                              pre_dispatch='2*n_jobs', refit=True,\n",
       "                              return_train_score=False, scoring=None,\n",
       "                              verbose=0))],\n",
       "         verbose=False)"
      ]
     },
     "execution_count": 61,
     "metadata": {},
     "output_type": "execute_result"
    }
   ],
   "source": [
    "# Fitting the Naïve Bayes model\n",
    "nb.fit(X_train, y_train)"
   ]
  },
  {
   "cell_type": "code",
   "execution_count": 76,
   "metadata": {},
   "outputs": [
    {
     "name": "stdout",
     "output_type": "stream",
     "text": [
      "{'alpha': 0.1}\n"
     ]
    }
   ],
   "source": [
    "best_param_nb = nb['nb'].best_params_\n",
    "print(best_param_nb)"
   ]
  },
  {
   "cell_type": "markdown",
   "metadata": {
    "heading_collapsed": true,
    "hidden": true
   },
   "source": [
    "**SVM (Support Vector Machine)**"
   ]
  },
  {
   "cell_type": "code",
   "execution_count": 63,
   "metadata": {
    "hidden": true,
    "scrolled": true
   },
   "outputs": [
    {
     "data": {
      "text/plain": [
       "Pipeline(memory=None,\n",
       "         steps=[('tfidf',\n",
       "                 TfidfVectorizer(analyzer='word', binary=False,\n",
       "                                 decode_error='strict',\n",
       "                                 dtype=<class 'numpy.float64'>,\n",
       "                                 encoding='utf-8', input='content',\n",
       "                                 lowercase=True, max_df=1.0, max_features=None,\n",
       "                                 min_df=1, ngram_range=(1, 1), norm='l2',\n",
       "                                 preprocessor=None, smooth_idf=True,\n",
       "                                 stop_words=None, strip_accents=None,\n",
       "                                 sublinear_tf=False,\n",
       "                                 token_pattern='...\n",
       "                                            degree=3, gamma='auto_deprecated',\n",
       "                                            kernel='rbf', max_iter=-1,\n",
       "                                            probability=False, random_state=42,\n",
       "                                            shrinking=True, tol=0.001,\n",
       "                                            verbose=False),\n",
       "                              iid='warn', n_jobs=-1,\n",
       "                              param_grid={'C': [0.001, 0.01, 0.1, 1, 5, 10, 20,\n",
       "                                                50, 100],\n",
       "                                          'gamma': ['scale', 'auto'],\n",
       "                                          'kernel': ['linear', 'poly', 'rbf']},\n",
       "                              pre_dispatch='2*n_jobs', refit=True,\n",
       "                              return_train_score=False, scoring=None,\n",
       "                              verbose=0))],\n",
       "         verbose=False)"
      ]
     },
     "execution_count": 63,
     "metadata": {},
     "output_type": "execute_result"
    }
   ],
   "source": [
    "# Fitting the SVM model\n",
    "svm.fit(X_train, y_train)"
   ]
  },
  {
   "cell_type": "code",
   "execution_count": 77,
   "metadata": {},
   "outputs": [
    {
     "name": "stdout",
     "output_type": "stream",
     "text": [
      "{'C': 100, 'gamma': 'scale', 'kernel': 'rbf'}\n"
     ]
    }
   ],
   "source": [
    "best_param_svm = svm['svm'].best_params_\n",
    "print(best_param_svm)"
   ]
  },
  {
   "cell_type": "markdown",
   "metadata": {
    "heading_collapsed": true,
    "hidden": true
   },
   "source": [
    "**Random Forest**"
   ]
  },
  {
   "cell_type": "code",
   "execution_count": 57,
   "metadata": {
    "hidden": true
   },
   "outputs": [
    {
     "name": "stdout",
     "output_type": "stream",
     "text": [
      "[Pipeline] ............. (step 1 of 2) Processing tfidf, total=  10.9s\n",
      "[Pipeline] ............... (step 2 of 2) Processing rf, total=498.3min\n"
     ]
    },
    {
     "data": {
      "text/plain": [
       "Pipeline(memory=None,\n",
       "         steps=[('tfidf',\n",
       "                 TfidfVectorizer(analyzer='word', binary=False,\n",
       "                                 decode_error='strict',\n",
       "                                 dtype=<class 'numpy.float64'>,\n",
       "                                 encoding='utf-8', input='content',\n",
       "                                 lowercase=True, max_df=1.0, max_features=None,\n",
       "                                 min_df=1, ngram_range=(1, 1), norm='l2',\n",
       "                                 preprocessor=None, smooth_idf=True,\n",
       "                                 stop_words=None, strip_accents=None,\n",
       "                                 sublinear_tf=False,\n",
       "                                 token_pattern='...\n",
       "                                                               n_estimators='warn',\n",
       "                                                               n_jobs=None,\n",
       "                                                               oob_score=False,\n",
       "                                                               random_state=42,\n",
       "                                                               verbose=0,\n",
       "                                                               warm_start=False),\n",
       "                              iid='warn', n_jobs=-1,\n",
       "                              param_grid={'criterion': ['gini', 'entropy'],\n",
       "                                          'max_depth': [5, 10, 15],\n",
       "                                          'max_features': [0.5, 'log2', 'sqrt'],\n",
       "                                          'n_estimators': [20, 50, 75, 100, 250,\n",
       "                                                           500]},\n",
       "                              pre_dispatch='2*n_jobs', refit=True,\n",
       "                              return_train_score=False, scoring=None,\n",
       "                              verbose=0))],\n",
       "         verbose=True)"
      ]
     },
     "execution_count": 57,
     "metadata": {},
     "output_type": "execute_result"
    }
   ],
   "source": [
    "# Fitting the Random Forest model\n",
    "rf.fit(X_train, y_train)"
   ]
  },
  {
   "cell_type": "code",
   "execution_count": 58,
   "metadata": {},
   "outputs": [
    {
     "name": "stdout",
     "output_type": "stream",
     "text": [
      "{'criterion': 'gini', 'max_depth': 15, 'max_features': 0.5, 'n_estimators': 75}\n"
     ]
    }
   ],
   "source": [
    "best_param_rf = rf['rf'].best_params_\n",
    "print(best_param_rf)"
   ]
  },
  {
   "cell_type": "markdown",
   "metadata": {
    "heading_collapsed": true,
    "hidden": true
   },
   "source": [
    "**KNN (K Nearest Neighbors)**"
   ]
  },
  {
   "cell_type": "code",
   "execution_count": 77,
   "metadata": {
    "hidden": true
   },
   "outputs": [
    {
     "name": "stderr",
     "output_type": "stream",
     "text": [
      "C:\\ProgramData\\Anaconda3\\lib\\site-packages\\sklearn\\feature_extraction\\text.py:300: UserWarning: Your stop_words may be inconsistent with your preprocessing. Tokenizing the stop words generated tokens ['abov', 'afterward', 'alon', 'alreadi', 'alway', 'ani', 'anoth', 'anyon', 'anyth', 'anywher', 'becam', 'becaus', 'becom', 'befor', 'besid', 'cri', 'describ', 'dure', 'els', 'elsewher', 'empti', 'everi', 'everyon', 'everyth', 'everywher', 'fifti', 'forti', 'henc', 'hereaft', 'herebi', 'howev', 'hundr', 'inde', 'mani', 'meanwhil', 'moreov', 'nobodi', 'noon', 'noth', 'nowher', 'onc', 'onli', 'otherwis', 'ourselv', 'perhap', 'pleas', 'sever', 'sinc', 'sincer', 'sixti', 'someon', 'someth', 'sometim', 'somewher', 'themselv', 'thenc', 'thereaft', 'therebi', 'therefor', 'togeth', 'twelv', 'twenti', 'veri', 'whatev', 'whenc', 'whenev', 'wherea', 'whereaft', 'wherebi', 'wherev', 'whi', 'yourselv'] not in stop_words.\n",
      "  'stop_words.' % sorted(inconsistent))\n"
     ]
    },
    {
     "data": {
      "text/plain": [
       "Pipeline(memory=None,\n",
       "         steps=[('tfidf',\n",
       "                 TfidfVectorizer(analyzer='word', binary=False,\n",
       "                                 decode_error='strict',\n",
       "                                 dtype=<class 'numpy.float64'>,\n",
       "                                 encoding='utf-8', input='content',\n",
       "                                 lowercase=True, max_df=1.0, max_features=None,\n",
       "                                 min_df=1, ngram_range=(1, 1), norm='l2',\n",
       "                                 preprocessor=None, smooth_idf=True,\n",
       "                                 stop_words='english', strip_accents=None,\n",
       "                                 sublinear_tf=False,\n",
       "                                 token_pattern='(?u)\\\\b\\\\w\\\\w+\\\\b',\n",
       "                                 tokenizer=<__main__.StemAndTokenize object at 0x119E3DF0>,\n",
       "                                 use_idf=True, vocabulary=None)),\n",
       "                ('knn',\n",
       "                 KNeighborsClassifier(algorithm='auto', leaf_size=30,\n",
       "                                      metric='minkowski', metric_params=None,\n",
       "                                      n_jobs=None, n_neighbors=5, p=2,\n",
       "                                      weights='uniform'))],\n",
       "         verbose=False)"
      ]
     },
     "execution_count": 77,
     "metadata": {},
     "output_type": "execute_result"
    }
   ],
   "source": [
    "# Fitting the KNN model\n",
    "knn.fit(X_train, y_train)"
   ]
  },
  {
   "cell_type": "code",
   "execution_count": null,
   "metadata": {},
   "outputs": [],
   "source": [
    "print(knn['knn'].best_params_)"
   ]
  },
  {
   "cell_type": "markdown",
   "metadata": {
    "heading_collapsed": true,
    "hidden": true
   },
   "source": [
    "**Neural Networks**"
   ]
  },
  {
   "cell_type": "code",
   "execution_count": 78,
   "metadata": {
    "hidden": true
   },
   "outputs": [
    {
     "name": "stderr",
     "output_type": "stream",
     "text": [
      "C:\\ProgramData\\Anaconda3\\lib\\site-packages\\sklearn\\feature_extraction\\text.py:300: UserWarning: Your stop_words may be inconsistent with your preprocessing. Tokenizing the stop words generated tokens ['abov', 'afterward', 'alon', 'alreadi', 'alway', 'ani', 'anoth', 'anyon', 'anyth', 'anywher', 'becam', 'becaus', 'becom', 'befor', 'besid', 'cri', 'describ', 'dure', 'els', 'elsewher', 'empti', 'everi', 'everyon', 'everyth', 'everywher', 'fifti', 'forti', 'henc', 'hereaft', 'herebi', 'howev', 'hundr', 'inde', 'mani', 'meanwhil', 'moreov', 'nobodi', 'noon', 'noth', 'nowher', 'onc', 'onli', 'otherwis', 'ourselv', 'perhap', 'pleas', 'sever', 'sinc', 'sincer', 'sixti', 'someon', 'someth', 'sometim', 'somewher', 'themselv', 'thenc', 'thereaft', 'therebi', 'therefor', 'togeth', 'twelv', 'twenti', 'veri', 'whatev', 'whenc', 'whenev', 'wherea', 'whereaft', 'wherebi', 'wherev', 'whi', 'yourselv'] not in stop_words.\n",
      "  'stop_words.' % sorted(inconsistent))\n",
      "C:\\ProgramData\\Anaconda3\\lib\\site-packages\\sklearn\\neural_network\\multilayer_perceptron.py:568: UserWarning: Training interrupted by user.\n",
      "  warnings.warn(\"Training interrupted by user.\")\n"
     ]
    },
    {
     "data": {
      "text/plain": [
       "Pipeline(memory=None,\n",
       "         steps=[('tfidf',\n",
       "                 TfidfVectorizer(analyzer='word', binary=False,\n",
       "                                 decode_error='strict',\n",
       "                                 dtype=<class 'numpy.float64'>,\n",
       "                                 encoding='utf-8', input='content',\n",
       "                                 lowercase=True, max_df=1.0, max_features=None,\n",
       "                                 min_df=1, ngram_range=(1, 1), norm='l2',\n",
       "                                 preprocessor=None, smooth_idf=True,\n",
       "                                 stop_words='english', strip_accents=None,\n",
       "                                 sublinear_tf=False,\n",
       "                                 token_patt...\n",
       "                               batch_size='auto', beta_1=0.9, beta_2=0.999,\n",
       "                               early_stopping=False, epsilon=1e-08,\n",
       "                               hidden_layer_sizes=(100,),\n",
       "                               learning_rate='constant',\n",
       "                               learning_rate_init=0.001, max_iter=200,\n",
       "                               momentum=0.9, n_iter_no_change=10,\n",
       "                               nesterovs_momentum=True, power_t=0.5,\n",
       "                               random_state=None, shuffle=True, solver='adam',\n",
       "                               tol=0.0001, validation_fraction=0.1,\n",
       "                               verbose=False, warm_start=False))],\n",
       "         verbose=False)"
      ]
     },
     "execution_count": 78,
     "metadata": {},
     "output_type": "execute_result"
    }
   ],
   "source": [
    "# Fitting the Neural Networks model\n",
    "nn.fit(X_train, y_train)"
   ]
  },
  {
   "cell_type": "code",
   "execution_count": null,
   "metadata": {},
   "outputs": [],
   "source": [
    "print(nn['nn'].best_params_)"
   ]
  },
  {
   "cell_type": "markdown",
   "metadata": {
    "heading_collapsed": true
   },
   "source": [
    "## Make predictions"
   ]
  },
  {
   "cell_type": "markdown",
   "metadata": {
    "hidden": true
   },
   "source": [
    "The ultimate goal of training a classification model is to be able to classify new instances or new data. So next we make new classifications for new data(test dataset)."
   ]
  },
  {
   "cell_type": "markdown",
   "metadata": {
    "heading_collapsed": true,
    "hidden": true
   },
   "source": [
    "**Logistic Regression**"
   ]
  },
  {
   "cell_type": "code",
   "execution_count": 65,
   "metadata": {
    "hidden": true
   },
   "outputs": [],
   "source": [
    "# Form a prediction set for the Logistic Regression model\n",
    "pred_lr = lr.predict(X_test)"
   ]
  },
  {
   "cell_type": "markdown",
   "metadata": {
    "heading_collapsed": true,
    "hidden": true
   },
   "source": [
    "**Naïve Bayes**"
   ]
  },
  {
   "cell_type": "code",
   "execution_count": 66,
   "metadata": {
    "hidden": true
   },
   "outputs": [],
   "source": [
    "# Form a prediction set for the Naïve Bayes model\n",
    "pred_nb = nb.predict(X_test)"
   ]
  },
  {
   "cell_type": "markdown",
   "metadata": {
    "heading_collapsed": true,
    "hidden": true
   },
   "source": [
    "**SVM (Support Vector Machine)**"
   ]
  },
  {
   "cell_type": "code",
   "execution_count": 67,
   "metadata": {
    "hidden": true
   },
   "outputs": [],
   "source": [
    "# Form a prediction set for the Linear SVM model\n",
    "pred_svm = svm.predict(X_test)"
   ]
  },
  {
   "cell_type": "markdown",
   "metadata": {
    "heading_collapsed": true,
    "hidden": true
   },
   "source": [
    "**Random Forest**"
   ]
  },
  {
   "cell_type": "code",
   "execution_count": 82,
   "metadata": {
    "hidden": true
   },
   "outputs": [],
   "source": [
    "# Form a prediction set for the Random Forest model\n",
    "pred_rf = rf.predict(X_test)"
   ]
  },
  {
   "cell_type": "markdown",
   "metadata": {
    "heading_collapsed": true,
    "hidden": true
   },
   "source": [
    "**KNN (K Nearest Neighbors)**"
   ]
  },
  {
   "cell_type": "code",
   "execution_count": null,
   "metadata": {
    "hidden": true
   },
   "outputs": [],
   "source": [
    "# Form a prediction set for the KNN model\n",
    "pred_knn = knn.predict(X_test)"
   ]
  },
  {
   "cell_type": "markdown",
   "metadata": {
    "heading_collapsed": true,
    "hidden": true
   },
   "source": [
    "**Neural Networks**"
   ]
  },
  {
   "cell_type": "code",
   "execution_count": 84,
   "metadata": {
    "hidden": true
   },
   "outputs": [],
   "source": [
    "# Form a prediction set for the Neural Network model\n",
    "pred_nn = nn.predict(X_test)"
   ]
  },
  {
   "cell_type": "markdown",
   "metadata": {
    "heading_collapsed": true
   },
   "source": [
    "## Evaluate model accuracy"
   ]
  },
  {
   "cell_type": "markdown",
   "metadata": {
    "heading_collapsed": true,
    "hidden": true
   },
   "source": [
    "### Confusion matrices"
   ]
  },
  {
   "cell_type": "markdown",
   "metadata": {
    "hidden": true
   },
   "source": [
    "A [confusion matrix](https://towardsdatascience.com/understanding-confusion-matrix-a9ad42dcfd62) is performance metric used in a machine learning classification problem where the output can be two or more classes. It is a table with 4 different combinations of predicted and actual values. Each block in the table is a number of those classifications made "
   ]
  },
  {
   "cell_type": "markdown",
   "metadata": {
    "hidden": true
   },
   "source": [
    "The table consists of 4 measures that form part of the confusion matrix:\n",
    "      \n",
    "- **TP(True Positive)** : You predicted positive and it’s true. Number of correctly classified positives\n",
    "- **FP(False Positive)** : You predicted positive and it’s false. Number of incorrectly classified positives\n",
    "- **FN(Falso Negative)** : You predicted negative and it’s false. Number of incorrectly classified negatives\n",
    "- **TN(True Negative)** :  You predicted negative and it’s true. Number of correctly classified negatives"
   ]
  },
  {
   "cell_type": "markdown",
   "metadata": {
    "hidden": true
   },
   "source": [
    "![confusionmatrix.png](confusionmatrix.png)"
   ]
  },
  {
   "cell_type": "code",
   "execution_count": 137,
   "metadata": {
    "hidden": true
   },
   "outputs": [],
   "source": [
    "labels = ['2: News', '1: Pro', '0: Neutral', '-1: Anti']"
   ]
  },
  {
   "cell_type": "markdown",
   "metadata": {
    "heading_collapsed": true,
    "hidden": true
   },
   "source": [
    "**Logistic Regression**"
   ]
  },
  {
   "cell_type": "code",
   "execution_count": 138,
   "metadata": {
    "hidden": true
   },
   "outputs": [
    {
     "data": {
      "text/html": [
       "<div>\n",
       "<style scoped>\n",
       "    .dataframe tbody tr th:only-of-type {\n",
       "        vertical-align: middle;\n",
       "    }\n",
       "\n",
       "    .dataframe tbody tr th {\n",
       "        vertical-align: top;\n",
       "    }\n",
       "\n",
       "    .dataframe thead th {\n",
       "        text-align: right;\n",
       "    }\n",
       "</style>\n",
       "<table border=\"1\" class=\"dataframe\">\n",
       "  <thead>\n",
       "    <tr style=\"text-align: right;\">\n",
       "      <th></th>\n",
       "      <th>2: News</th>\n",
       "      <th>1: Pro</th>\n",
       "      <th>0: Neutral</th>\n",
       "      <th>-1: Anti</th>\n",
       "    </tr>\n",
       "  </thead>\n",
       "  <tbody>\n",
       "    <tr>\n",
       "      <th>2: News</th>\n",
       "      <td>122</td>\n",
       "      <td>30</td>\n",
       "      <td>115</td>\n",
       "      <td>11</td>\n",
       "    </tr>\n",
       "    <tr>\n",
       "      <th>1: Pro</th>\n",
       "      <td>18</td>\n",
       "      <td>179</td>\n",
       "      <td>201</td>\n",
       "      <td>27</td>\n",
       "    </tr>\n",
       "    <tr>\n",
       "      <th>0: Neutral</th>\n",
       "      <td>26</td>\n",
       "      <td>97</td>\n",
       "      <td>1501</td>\n",
       "      <td>131</td>\n",
       "    </tr>\n",
       "    <tr>\n",
       "      <th>-1: Anti</th>\n",
       "      <td>5</td>\n",
       "      <td>13</td>\n",
       "      <td>131</td>\n",
       "      <td>557</td>\n",
       "    </tr>\n",
       "  </tbody>\n",
       "</table>\n",
       "</div>"
      ],
      "text/plain": [
       "            2: News  1: Pro  0: Neutral  -1: Anti\n",
       "2: News         122      30         115        11\n",
       "1: Pro           18     179         201        27\n",
       "0: Neutral       26      97        1501       131\n",
       "-1: Anti          5      13         131       557"
      ]
     },
     "execution_count": 138,
     "metadata": {},
     "output_type": "execute_result"
    }
   ],
   "source": [
    "pd.DataFrame(data=confusion_matrix(y_test, pred_lr), index=labels, columns=labels)"
   ]
  },
  {
   "cell_type": "markdown",
   "metadata": {
    "heading_collapsed": true,
    "hidden": true
   },
   "source": [
    "**Naïve Bayes**"
   ]
  },
  {
   "cell_type": "code",
   "execution_count": null,
   "metadata": {
    "hidden": true
   },
   "outputs": [],
   "source": [
    "pd.DataFrame(data=confusion_matrix(y_test, pred_nb), index=labels, columns=labels)"
   ]
  },
  {
   "cell_type": "markdown",
   "metadata": {
    "heading_collapsed": true,
    "hidden": true
   },
   "source": [
    "**SVM (Support Vector Machine)**"
   ]
  },
  {
   "cell_type": "code",
   "execution_count": null,
   "metadata": {
    "hidden": true
   },
   "outputs": [],
   "source": [
    "pd.DataFrame(data=confusion_matrix(y_test, pred_svm), index=labels, columns=labels)"
   ]
  },
  {
   "cell_type": "markdown",
   "metadata": {
    "heading_collapsed": true,
    "hidden": true
   },
   "source": [
    "**Random Forest**"
   ]
  },
  {
   "cell_type": "code",
   "execution_count": null,
   "metadata": {
    "hidden": true
   },
   "outputs": [],
   "source": [
    "pd.DataFrame(data=confusion_matrix(y_test, pred_rf), index=labels, columns=labels)"
   ]
  },
  {
   "cell_type": "markdown",
   "metadata": {
    "heading_collapsed": true,
    "hidden": true
   },
   "source": [
    "**KNN (K Nearest Neighbors)**"
   ]
  },
  {
   "cell_type": "code",
   "execution_count": null,
   "metadata": {
    "hidden": true
   },
   "outputs": [],
   "source": [
    "pd.DataFrame(data=confusion_matrix(y_test, pred_knn), index=labels, columns=labels)"
   ]
  },
  {
   "cell_type": "markdown",
   "metadata": {
    "heading_collapsed": true,
    "hidden": true
   },
   "source": [
    "**Neural Networks**"
   ]
  },
  {
   "cell_type": "code",
   "execution_count": null,
   "metadata": {
    "hidden": true
   },
   "outputs": [],
   "source": [
    "pd.DataFrame(data=confusion_matrix(y_test, pred_nn), index=labels, columns=labels)"
   ]
  },
  {
   "cell_type": "markdown",
   "metadata": {
    "heading_collapsed": true,
    "hidden": true
   },
   "source": [
    "### Classification report"
   ]
  },
  {
   "cell_type": "markdown",
   "metadata": {
    "hidden": true
   },
   "source": [
    "A [classification report](https://muthu.co/understanding-the-classification-report-in-sklearn/) measure the quality of the predictions made by a classification algorithm. it indicates how many predictions are True and how many are False. The report also uses the True Positives(TP), False Positives(FP), True Negatives(TN) and False Negatives(FN) to show the main classification metrics,i.e precision, recall and f1-score on a per-class basis.  These are the same concepts used in the confusion matrix above.\n",
    "\n",
    "**Precision** : The ability of a classifier to not label an instance positive when it is actually negative. So it considers how                  accurate a classifier is in predicting positive cases.\n",
    "                 For each class it is defined as the ratio of true positives to the sum of true and false positives:\n",
    "               \n",
    "                precision = TP/(TP + FP)\n",
    "               \n",
    "**Recall** : The ability of a classifier to find all positive instances. It considers the fraction of positives that were                     correctly identified.\n",
    "             For each class it is defined as the ratio of true positives to the sum of true positives and false negatives:\n",
    "              \n",
    "              recall = TP/(TP + FN)\n",
    "              \n",
    "**F1 Score** : A weighted harmonic mean of precision and recall such that the best score is 1.0 and the worst is 0.0. As a rule                 of thumb, the weighted average of F1 should be used to compare classifier models\n",
    "\n",
    "                F1 Score = 2*(Recall * Precision) / (Recall + Precision)"
   ]
  },
  {
   "cell_type": "markdown",
   "metadata": {
    "heading_collapsed": true,
    "hidden": true
   },
   "source": [
    "**Logistic Regression**"
   ]
  },
  {
   "cell_type": "code",
   "execution_count": 68,
   "metadata": {
    "hidden": true
   },
   "outputs": [
    {
     "name": "stdout",
     "output_type": "stream",
     "text": [
      "\u001b[1m Classification Report from Logistic Regression Model \u001b[0m \n",
      "\n",
      "              precision    recall  f1-score   support\n",
      "\n",
      "     2: News       0.75      0.44      0.55       278\n",
      "      1: Pro       0.60      0.44      0.51       425\n",
      "  0: Neutral       0.78      0.87      0.82      1755\n",
      "    -1: Anti       0.78      0.79      0.79       706\n",
      "\n",
      "    accuracy                           0.76      3164\n",
      "   macro avg       0.73      0.64      0.67      3164\n",
      "weighted avg       0.75      0.76      0.75      3164\n",
      "\n"
     ]
    }
   ],
   "source": [
    "print('\\033[1m Classification Report from Logistic Regression Model \\033[0m \\n')\n",
    "print(classification_report(y_test, pred_lr, target_names=['2: News', '1: Pro', '0: Neutral', '-1: Anti']))"
   ]
  },
  {
   "cell_type": "markdown",
   "metadata": {
    "heading_collapsed": true,
    "hidden": true
   },
   "source": [
    "**Naïve Bayes**"
   ]
  },
  {
   "cell_type": "code",
   "execution_count": 69,
   "metadata": {
    "hidden": true
   },
   "outputs": [
    {
     "name": "stdout",
     "output_type": "stream",
     "text": [
      "\u001b[1m Classification Report from Naïve Model \u001b[0m \n",
      "\n",
      "              precision    recall  f1-score   support\n",
      "\n",
      "     2: News       0.93      0.31      0.47       278\n",
      "      1: Pro       0.60      0.23      0.33       425\n",
      "  0: Neutral       0.71      0.92      0.80      1755\n",
      "    -1: Anti       0.80      0.72      0.75       706\n",
      "\n",
      "    accuracy                           0.73      3164\n",
      "   macro avg       0.76      0.54      0.59      3164\n",
      "weighted avg       0.73      0.73      0.70      3164\n",
      "\n"
     ]
    }
   ],
   "source": [
    "print('\\033[1m Classification Report from Naïve Model \\033[0m \\n')\n",
    "print(classification_report(y_test, pred_nb, target_names=['2: News', '1: Pro', '0: Neutral', '-1: Anti']))"
   ]
  },
  {
   "cell_type": "markdown",
   "metadata": {
    "heading_collapsed": true,
    "hidden": true
   },
   "source": [
    "**SVM (Support Vector Machine)**"
   ]
  },
  {
   "cell_type": "code",
   "execution_count": 70,
   "metadata": {
    "hidden": true
   },
   "outputs": [
    {
     "name": "stdout",
     "output_type": "stream",
     "text": [
      "\u001b[1m Classification Report from SVM (Support Vector Machine) Model \u001b[0m \n",
      "\n",
      "              precision    recall  f1-score   support\n",
      "\n",
      "     2: News       0.80      0.44      0.57       278\n",
      "      1: Pro       0.68      0.44      0.53       425\n",
      "  0: Neutral       0.78      0.90      0.83      1755\n",
      "    -1: Anti       0.81      0.81      0.81       706\n",
      "\n",
      "    accuracy                           0.78      3164\n",
      "   macro avg       0.77      0.65      0.69      3164\n",
      "weighted avg       0.77      0.78      0.76      3164\n",
      "\n"
     ]
    }
   ],
   "source": [
    "print('\\033[1m Classification Report from SVM (Support Vector Machine) Model \\033[0m \\n')\n",
    "print(classification_report(y_test, pred_svm, target_names=['2: News', '1: Pro', '0: Neutral', '-1: Anti']))"
   ]
  },
  {
   "cell_type": "markdown",
   "metadata": {
    "heading_collapsed": true,
    "hidden": true
   },
   "source": [
    "**Random Forest**"
   ]
  },
  {
   "cell_type": "code",
   "execution_count": 90,
   "metadata": {
    "hidden": true
   },
   "outputs": [
    {
     "name": "stdout",
     "output_type": "stream",
     "text": [
      "Classification Report from Random Forest Model\n",
      "              precision    recall  f1-score   support\n",
      "\n",
      "     2: News       0.70      0.27      0.39       278\n",
      "      1: Pro       0.52      0.38      0.44       425\n",
      "  0: Neutral       0.71      0.86      0.78      1755\n",
      "    -1: Anti       0.73      0.64      0.68       706\n",
      "\n",
      "    accuracy                           0.69      3164\n",
      "   macro avg       0.66      0.54      0.57      3164\n",
      "weighted avg       0.69      0.69      0.67      3164\n",
      "\n"
     ]
    }
   ],
   "source": [
    "print('\\033[1m Classification Report from Random Forest Model \\033[0m \\n')\n",
    "print(classification_report(y_test, pred_rf, target_names=['2: News', '1: Pro', '0: Neutral', '-1: Anti']))"
   ]
  },
  {
   "cell_type": "markdown",
   "metadata": {
    "heading_collapsed": true,
    "hidden": true
   },
   "source": [
    "**KNN (K Nearest Neighbors)**"
   ]
  },
  {
   "cell_type": "code",
   "execution_count": null,
   "metadata": {
    "hidden": true
   },
   "outputs": [],
   "source": [
    "print('\\033[1m Classification Report from KNN(K Nearest Neighbours) Model \\033[0m \\n')\n",
    "print(classification_report(y_test, pred_knn, target_names=['2: News', '1: Pro', '0: Neutral', '-1: Anti']))"
   ]
  },
  {
   "cell_type": "markdown",
   "metadata": {
    "heading_collapsed": true,
    "hidden": true
   },
   "source": [
    "**Neural Networks**"
   ]
  },
  {
   "cell_type": "code",
   "execution_count": 91,
   "metadata": {
    "hidden": true
   },
   "outputs": [
    {
     "name": "stdout",
     "output_type": "stream",
     "text": [
      "Classification Report from Neural Networks Model\n",
      "              precision    recall  f1-score   support\n",
      "\n",
      "     2: News       0.65      0.48      0.55       278\n",
      "      1: Pro       0.49      0.45      0.47       425\n",
      "  0: Neutral       0.78      0.82      0.80      1755\n",
      "    -1: Anti       0.76      0.77      0.76       706\n",
      "\n",
      "    accuracy                           0.73      3164\n",
      "   macro avg       0.67      0.63      0.65      3164\n",
      "weighted avg       0.72      0.73      0.72      3164\n",
      "\n"
     ]
    }
   ],
   "source": [
    "print('\\033[1m Classification Report from Neural Networks Model \\033[0m \\n')\n",
    "print(classification_report(y_test, pred_nn, target_names=['2: News', '1: Pro', '0: Neutral', '-1: Anti']))"
   ]
  },
  {
   "cell_type": "markdown",
   "metadata": {
    "hidden": true
   },
   "source": [
    "The `F1 score` is our main metric that we use to decide on the best model to use. Below is a dataframe that shows the models with their respective F1 scores from largest score i.e best model, to lowest score i.e poor model"
   ]
  },
  {
   "cell_type": "code",
   "execution_count": null,
   "metadata": {
    "hidden": true
   },
   "outputs": [],
   "source": [
    "F1_dict = {'Model':['Logistic Regression','Naïve Bayes','Linear SVM','Random Forest','KNN','Neural Network'],\n",
    "        'F1_score' :[f1_score(y_test, pred_lr),\n",
    "       f1_score(y_test, pred_nb),\n",
    "       f1_score(y_test, pred_svm)\n",
    "       f1_score(y_test, pred_rf),\n",
    "       f1_score(y_test, pred_knn),\n",
    "       f1_score(y_test, pred_nn)]}\n",
    "# data = sorted(data.items(), key = lambda x: x[1], reverse = True) #sorting dictionary by values\n",
    "\n",
    "F1_score = pd.DataFrame(data=F1_dict, columns=['Model F1_score'])\n",
    "F1_score.sort_values(\"F1_score\", axis = 0, ascending = False, inplace = True) "
   ]
  },
  {
   "cell_type": "markdown",
   "metadata": {
    "heading_collapsed": true
   },
   "source": [
    "## Saving important data "
   ]
  },
  {
   "cell_type": "markdown",
   "metadata": {
    "heading_collapsed": true,
    "hidden": true
   },
   "source": [
    "### Save the models"
   ]
  },
  {
   "cell_type": "code",
   "execution_count": 71,
   "metadata": {},
   "outputs": [],
   "source": [
    "# Logistic regression\n",
    "with open('Logistic_regression.pkl','wb') as file:\n",
    "    pickle.dump(lr,file)\n",
    "    \n",
    "# Naïve Bayes\n",
    "with open('Naive_bayes.pkl','wb') as file:\n",
    "    pickle.dump(nb,file)\n",
    "    \n",
    "# SVM\n",
    "with open('SVM.pkl','wb') as file:\n",
    "    pickle.dump(svm,file)\n",
    "    \n",
    "# Random Forest\n",
    "with open('Random_forest.pkl','wb') as file:\n",
    "    pickle.dump(rf,file)\n",
    "    \n",
    "# KNN\n",
    "with open('KNN.pkl','wb') as file:\n",
    "    pickle.dump(knn,file)\n",
    "    \n",
    "# Neural Network\n",
    "with open('Neural_network.pkl','wb') as file:\n",
    "    pickle.dump(nn,file)"
   ]
  },
  {
   "cell_type": "markdown",
   "metadata": {
    "heading_collapsed": true,
    "hidden": true
   },
   "source": [
    "### Save the optimal parameters"
   ]
  },
  {
   "cell_type": "code",
   "execution_count": 78,
   "metadata": {},
   "outputs": [],
   "source": [
    "# Logistic regression\n",
    "with open('best_param_dict_lr.pkl','wb') as file:\n",
    "    pickle.dump(best_param_lr,file)\n",
    "    \n",
    "# Naïve Bayes\n",
    "with open('best_param_dict_nb.pkl','wb') as file:\n",
    "    pickle.dump(best_param_nb,file)\n",
    "    \n",
    "# SVM\n",
    "with open('best_param_dict_svm.pkl','wb') as file:\n",
    "    pickle.dump(best_param_svm,file)\n",
    "    \n",
    "# Random Forest\n",
    "with open('best_param_dict_rf.pkl','wb') as file:\n",
    "    pickle.dump(best_param_rf,file)\n",
    "    \n",
    "# KNN\n",
    "with open('best_param_dict_knn.pkl','wb') as file:\n",
    "    pickle.dump(best_param_knn,file)\n",
    "    \n",
    "# Neural Network\n",
    "with open('best_param_dict_nn.pkl','wb') as file:\n",
    "    pickle.dump(best_param_nn,file)"
   ]
  },
  {
   "cell_type": "markdown",
   "metadata": {
    "heading_collapsed": true,
    "hidden": true
   },
   "source": [
    "### Save the graphs"
   ]
  },
  {
   "cell_type": "code",
   "execution_count": 12,
   "metadata": {
    "hidden": true
   },
   "outputs": [],
   "source": [
    "with open('Pie_chart.pkl','wb') as file:\n",
    "    pickle.dump(plot3,file)\n",
    "    \n",
    "with open('Common_words_pro.pkl','wb') as file:\n",
    "    pickle.dump(plot_wpro,file)\n",
    "    \n",
    "with open('Common_words_anti.pkl','wb') as file:\n",
    "    pickle.dump(plot_wanti,file)\n",
    "    \n",
    "with open('Common_words_neutral.pkl','wb') as file:\n",
    "    pickle.dump(plot_wneut,file)\n",
    "    \n",
    "with open('Common_words_news.pkl','wb') as file:\n",
    "    pickle.dump(plot_wnews,file)"
   ]
  },
  {
   "cell_type": "markdown",
   "metadata": {
    "heading_collapsed": true
   },
   "source": [
    "## Produce output"
   ]
  },
  {
   "cell_type": "code",
   "execution_count": null,
   "metadata": {
    "hidden": true
   },
   "outputs": [],
   "source": [
    "# Make predictions\n",
    "predictions = svm.predict(df_test['message']).reshape(-1, 1)\n",
    "Id = np.array(df_test.index).reshape(-1, 1)\n",
    "names = ['tweetid', 'sentiment']\n",
    "\n",
    "# Create output dataframe\n",
    "out = pd.DataFrame(np.append(Id,predictions, axis=1), columns=names)"
   ]
  },
  {
   "cell_type": "code",
   "execution_count": null,
   "metadata": {
    "hidden": true
   },
   "outputs": [],
   "source": [
    "# Output to csv file\n",
    "out.to_csv('output.csv',index=False)"
   ]
  },
  {
   "cell_type": "markdown",
   "metadata": {
    "heading_collapsed": true
   },
   "source": [
    "## Log parameters"
   ]
  },
  {
   "cell_type": "code",
   "execution_count": null,
   "metadata": {
    "hidden": true
   },
   "outputs": [],
   "source": [
    "f1 = f1_score(y_test, pred_Lsvm, average='weighted')\n",
    "recall = recall_score(y_test, pred_Lsvm, average='weighted')\n",
    "precision = precision_score(y_test, pred_Lsvm, average='weighted')\n",
    "accuracy = accuracy_score(y_test, pred_Lsvm)\n",
    "confusion_mat = confusion_matrix(y_test, pred_Lsvm)"
   ]
  },
  {
   "cell_type": "code",
   "execution_count": null,
   "metadata": {
    "hidden": true
   },
   "outputs": [],
   "source": [
    "#these will be logged to your sklearn-demos project on Comet.ml\n",
    "# (FINAL MODEL after gridsearch best parms)\n",
    "params={\"random_state\":42,\n",
    "        \"test_size\":0.2\n",
    "        \"model_type\":\"Linear SVM\"\n",
    "       }\n",
    "\n",
    "metrics = {\"f1\":f1,\n",
    "           \"recall\":recall,\n",
    "           \"precision\":precision,\n",
    "           \"accuracy\":accuracy\n",
    "            }\n",
    "\n",
    "# exp.log_dataset_hash(X_train_scaled)\n",
    "exp.log_parameters(params)\n",
    "exp.log_metrics(metrics)\n",
    "\n",
    "experiment.log_confusion_matrix(labels=['2: News', '1: Pro', '0: Neutral', '-1: Anti'],matrix=confusion_mat)\n",
    "\n",
    "experiment.log_figure(figure=plot1,figure_name='Distribution graph for different classes')\n",
    "experiment.log_figure(figure=plot2,figure_name='Number of types of comments')\n",
    "\n",
    "experiment.log_model(name='Linear SVM - base model', file_or_folder='pickled file')"
   ]
  },
  {
   "cell_type": "markdown",
   "metadata": {
    "heading_collapsed": true
   },
   "source": [
    "## End experiment"
   ]
  },
  {
   "cell_type": "code",
   "execution_count": null,
   "metadata": {
    "hidden": true
   },
   "outputs": [],
   "source": [
    "# experiment.end()"
   ]
  },
  {
   "cell_type": "markdown",
   "metadata": {
    "heading_collapsed": true
   },
   "source": [
    "## Conclusion"
   ]
  },
  {
   "cell_type": "code",
   "execution_count": null,
   "metadata": {
    "hidden": true
   },
   "outputs": [],
   "source": []
  }
 ],
 "metadata": {
  "kernelspec": {
   "display_name": "Python 3",
   "language": "python",
   "name": "python3"
  },
  "language_info": {
   "codemirror_mode": {
    "name": "ipython",
    "version": 3
   },
   "file_extension": ".py",
   "mimetype": "text/x-python",
   "name": "python",
   "nbconvert_exporter": "python",
   "pygments_lexer": "ipython3",
   "version": "3.7.4"
  }
 },
 "nbformat": 4,
 "nbformat_minor": 2
}
