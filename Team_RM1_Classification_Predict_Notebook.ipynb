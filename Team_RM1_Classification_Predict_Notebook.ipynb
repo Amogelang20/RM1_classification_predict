{
 "cells": [
  {
   "cell_type": "markdown",
   "metadata": {},
   "source": [
    "# Classification Predict - Climate Change"
   ]
  },
  {
   "cell_type": "markdown",
   "metadata": {},
   "source": [
    "### Table of contents"
   ]
  },
  {
   "cell_type": "code",
   "execution_count": null,
   "metadata": {},
   "outputs": [],
   "source": []
  },
  {
   "cell_type": "markdown",
   "metadata": {},
   "source": [
    "### Problem identification"
   ]
  },
  {
   "cell_type": "code",
   "execution_count": null,
   "metadata": {},
   "outputs": [],
   "source": [
    "# background and problem statement "
   ]
  },
  {
   "cell_type": "markdown",
   "metadata": {},
   "source": [
    "### What data do we have?"
   ]
  },
  {
   "cell_type": "code",
   "execution_count": null,
   "metadata": {},
   "outputs": [],
   "source": [
    "# description of data"
   ]
  },
  {
   "cell_type": "markdown",
   "metadata": {},
   "source": [
    "### Start experiment"
   ]
  },
  {
   "cell_type": "markdown",
   "metadata": {},
   "source": [
    "##### Install necessary packages"
   ]
  },
  {
   "cell_type": "code",
   "execution_count": null,
   "metadata": {},
   "outputs": [],
   "source": [
    "# Install necessary packages\n",
    "# !pip install comet_ml"
   ]
  },
  {
   "cell_type": "code",
   "execution_count": 1,
   "metadata": {},
   "outputs": [
    {
     "name": "stdout",
     "output_type": "stream",
     "text": [
      "Requirement already up-to-date: spacy in c:\\programdata\\anaconda3\\lib\\site-packages (2.3.0)\n",
      "Requirement already satisfied, skipping upgrade: tqdm<5.0.0,>=4.38.0 in c:\\programdata\\anaconda3\\lib\\site-packages (from spacy) (4.42.1)\n",
      "Requirement already satisfied, skipping upgrade: plac<1.2.0,>=0.9.6 in c:\\programdata\\anaconda3\\lib\\site-packages (from spacy) (1.1.3)\n",
      "Requirement already satisfied, skipping upgrade: murmurhash<1.1.0,>=0.28.0 in c:\\programdata\\anaconda3\\lib\\site-packages (from spacy) (1.0.2)\n",
      "Requirement already satisfied, skipping upgrade: thinc==7.4.1 in c:\\programdata\\anaconda3\\lib\\site-packages (from spacy) (7.4.1)\n",
      "Requirement already satisfied, skipping upgrade: blis<0.5.0,>=0.4.0 in c:\\programdata\\anaconda3\\lib\\site-packages (from spacy) (0.4.1)\n",
      "Requirement already satisfied, skipping upgrade: srsly<1.1.0,>=1.0.2 in c:\\programdata\\anaconda3\\lib\\site-packages (from spacy) (1.0.2)\n",
      "Requirement already satisfied, skipping upgrade: requests<3.0.0,>=2.13.0 in c:\\programdata\\anaconda3\\lib\\site-packages (from spacy) (2.22.0)\n",
      "Requirement already satisfied, skipping upgrade: catalogue<1.1.0,>=0.0.7 in c:\\programdata\\anaconda3\\lib\\site-packages (from spacy) (1.0.0)\n",
      "Requirement already satisfied, skipping upgrade: setuptools in c:\\programdata\\anaconda3\\lib\\site-packages (from spacy) (45.2.0.post20200210)\n",
      "Requirement already satisfied, skipping upgrade: wasabi<1.1.0,>=0.4.0 in c:\\programdata\\anaconda3\\lib\\site-packages (from spacy) (0.6.0)\n",
      "Requirement already satisfied, skipping upgrade: numpy>=1.15.0 in c:\\programdata\\anaconda3\\lib\\site-packages (from spacy) (1.18.1)\n",
      "Requirement already satisfied, skipping upgrade: preshed<3.1.0,>=3.0.2 in c:\\programdata\\anaconda3\\lib\\site-packages (from spacy) (3.0.2)\n",
      "Requirement already satisfied, skipping upgrade: cymem<2.1.0,>=2.0.2 in c:\\programdata\\anaconda3\\lib\\site-packages (from spacy) (2.0.3)\n",
      "Requirement already satisfied, skipping upgrade: idna<2.9,>=2.5 in c:\\programdata\\anaconda3\\lib\\site-packages (from requests<3.0.0,>=2.13.0->spacy) (2.8)\n",
      "Requirement already satisfied, skipping upgrade: urllib3!=1.25.0,!=1.25.1,<1.26,>=1.21.1 in c:\\programdata\\anaconda3\\lib\\site-packages (from requests<3.0.0,>=2.13.0->spacy) (1.25.8)\n",
      "Requirement already satisfied, skipping upgrade: chardet<3.1.0,>=3.0.2 in c:\\programdata\\anaconda3\\lib\\site-packages (from requests<3.0.0,>=2.13.0->spacy) (3.0.4)\n",
      "Requirement already satisfied, skipping upgrade: certifi>=2017.4.17 in c:\\programdata\\anaconda3\\lib\\site-packages (from requests<3.0.0,>=2.13.0->spacy) (2019.11.28)\n",
      "Requirement already satisfied, skipping upgrade: importlib-metadata>=0.20; python_version < \"3.8\" in c:\\programdata\\anaconda3\\lib\\site-packages (from catalogue<1.1.0,>=0.0.7->spacy) (1.5.0)\n",
      "Requirement already satisfied, skipping upgrade: zipp>=0.5 in c:\\programdata\\anaconda3\\lib\\site-packages (from importlib-metadata>=0.20; python_version < \"3.8\"->catalogue<1.1.0,>=0.0.7->spacy) (2.2.0)\n"
     ]
    }
   ],
   "source": [
    "!pip install -U spacy"
   ]
  },
  {
   "cell_type": "code",
   "execution_count": 2,
   "metadata": {},
   "outputs": [
    {
     "name": "stdout",
     "output_type": "stream",
     "text": [
      "Requirement already satisfied: seaborn in c:\\programdata\\anaconda3\\lib\\site-packages (0.10.0)\n",
      "Requirement already satisfied: scipy>=1.0.1 in c:\\programdata\\anaconda3\\lib\\site-packages (from seaborn) (1.4.1)\n",
      "Requirement already satisfied: pandas>=0.22.0 in c:\\programdata\\anaconda3\\lib\\site-packages (from seaborn) (1.0.1)\n",
      "Requirement already satisfied: numpy>=1.13.3 in c:\\programdata\\anaconda3\\lib\\site-packages (from seaborn) (1.18.1)\n",
      "Requirement already satisfied: matplotlib>=2.1.2 in c:\\programdata\\anaconda3\\lib\\site-packages (from seaborn) (3.1.3)\n",
      "Requirement already satisfied: pytz>=2017.2 in c:\\programdata\\anaconda3\\lib\\site-packages (from pandas>=0.22.0->seaborn) (2019.3)\n",
      "Requirement already satisfied: python-dateutil>=2.6.1 in c:\\programdata\\anaconda3\\lib\\site-packages (from pandas>=0.22.0->seaborn) (2.8.1)\n",
      "Requirement already satisfied: pyparsing!=2.0.4,!=2.1.2,!=2.1.6,>=2.0.1 in c:\\programdata\\anaconda3\\lib\\site-packages (from matplotlib>=2.1.2->seaborn) (2.4.6)\n",
      "Requirement already satisfied: cycler>=0.10 in c:\\programdata\\anaconda3\\lib\\site-packages (from matplotlib>=2.1.2->seaborn) (0.10.0)\n",
      "Requirement already satisfied: kiwisolver>=1.0.1 in c:\\programdata\\anaconda3\\lib\\site-packages (from matplotlib>=2.1.2->seaborn) (1.1.0)\n",
      "Requirement already satisfied: six>=1.5 in c:\\programdata\\anaconda3\\lib\\site-packages (from python-dateutil>=2.6.1->pandas>=0.22.0->seaborn) (1.14.0)\n",
      "Requirement already satisfied: setuptools in c:\\programdata\\anaconda3\\lib\\site-packages (from kiwisolver>=1.0.1->matplotlib>=2.1.2->seaborn) (45.2.0.post20200210)\n"
     ]
    }
   ],
   "source": [
    "!pip install seaborn"
   ]
  },
  {
   "cell_type": "code",
   "execution_count": 3,
   "metadata": {
    "scrolled": true
   },
   "outputs": [
    {
     "name": "stdout",
     "output_type": "stream",
     "text": [
      "Requirement already satisfied: wordcloud in c:\\programdata\\anaconda3\\lib\\site-packages (1.7.0)\n",
      "Requirement already satisfied: numpy>=1.6.1 in c:\\programdata\\anaconda3\\lib\\site-packages (from wordcloud) (1.18.1)\n",
      "Requirement already satisfied: pillow in c:\\programdata\\anaconda3\\lib\\site-packages (from wordcloud) (7.0.0)\n",
      "Requirement already satisfied: matplotlib in c:\\programdata\\anaconda3\\lib\\site-packages (from wordcloud) (3.1.3)\n",
      "Requirement already satisfied: kiwisolver>=1.0.1 in c:\\programdata\\anaconda3\\lib\\site-packages (from matplotlib->wordcloud) (1.1.0)\n",
      "Requirement already satisfied: python-dateutil>=2.1 in c:\\programdata\\anaconda3\\lib\\site-packages (from matplotlib->wordcloud) (2.8.1)\n",
      "Requirement already satisfied: cycler>=0.10 in c:\\programdata\\anaconda3\\lib\\site-packages (from matplotlib->wordcloud) (0.10.0)\n",
      "Requirement already satisfied: pyparsing!=2.0.4,!=2.1.2,!=2.1.6,>=2.0.1 in c:\\programdata\\anaconda3\\lib\\site-packages (from matplotlib->wordcloud) (2.4.6)\n",
      "Requirement already satisfied: setuptools in c:\\programdata\\anaconda3\\lib\\site-packages (from kiwisolver>=1.0.1->matplotlib->wordcloud) (45.2.0.post20200210)\n",
      "Requirement already satisfied: six>=1.5 in c:\\programdata\\anaconda3\\lib\\site-packages (from python-dateutil>=2.1->matplotlib->wordcloud) (1.14.0)\n"
     ]
    }
   ],
   "source": [
    "!pip install wordcloud"
   ]
  },
  {
   "cell_type": "code",
   "execution_count": 4,
   "metadata": {},
   "outputs": [
    {
     "name": "stdout",
     "output_type": "stream",
     "text": [
      "Requirement already satisfied: emoji in c:\\programdata\\anaconda3\\lib\\site-packages (0.5.4)\n"
     ]
    }
   ],
   "source": [
    "!pip install emoji"
   ]
  },
  {
   "cell_type": "code",
   "execution_count": 5,
   "metadata": {},
   "outputs": [
    {
     "name": "stdout",
     "output_type": "stream",
     "text": [
      "Requirement already satisfied: pyspellchecker in c:\\programdata\\anaconda3\\lib\\site-packages (0.5.4)\n"
     ]
    }
   ],
   "source": [
    "!pip install pyspellchecker"
   ]
  },
  {
   "cell_type": "code",
   "execution_count": 39,
   "metadata": {},
   "outputs": [
    {
     "name": "stdout",
     "output_type": "stream",
     "text": [
      "Requirement already satisfied: ftfy in c:\\programdata\\anaconda3\\lib\\site-packages (5.7)\n",
      "Requirement already satisfied: wcwidth in c:\\programdata\\anaconda3\\lib\\site-packages (from ftfy) (0.1.8)\n"
     ]
    }
   ],
   "source": [
    "!pip install ftfy"
   ]
  },
  {
   "cell_type": "code",
   "execution_count": null,
   "metadata": {},
   "outputs": [],
   "source": [
    "# from comet_ml import Experiment"
   ]
  },
  {
   "cell_type": "code",
   "execution_count": null,
   "metadata": {},
   "outputs": [],
   "source": [
    "# Setting the API key (saved as environment variable)\n",
    "# experiment = Experiment(api_key=\"upOwchWrd7H1e6VEnWKW7PSvz\", project_name=\"classification-predict\", workspace=\"team-rm1\")"
   ]
  },
  {
   "cell_type": "markdown",
   "metadata": {},
   "source": [
    "### Import libraries"
   ]
  },
  {
   "cell_type": "code",
   "execution_count": 2,
   "metadata": {},
   "outputs": [
    {
     "ename": "ModuleNotFoundError",
     "evalue": "No module named 'emoji'",
     "output_type": "error",
     "traceback": [
      "\u001b[1;31m---------------------------------------------------------------------------\u001b[0m",
      "\u001b[1;31mModuleNotFoundError\u001b[0m                       Traceback (most recent call last)",
      "\u001b[1;32m<ipython-input-2-214a6fec9723>\u001b[0m in \u001b[0;36m<module>\u001b[1;34m\u001b[0m\n\u001b[0;32m     34\u001b[0m \u001b[1;31m#Data cleaning\u001b[0m\u001b[1;33m\u001b[0m\u001b[1;33m\u001b[0m\u001b[1;33m\u001b[0m\u001b[0m\n\u001b[0;32m     35\u001b[0m \u001b[1;31m#decoding emojis\u001b[0m\u001b[1;33m\u001b[0m\u001b[1;33m\u001b[0m\u001b[1;33m\u001b[0m\u001b[0m\n\u001b[1;32m---> 36\u001b[1;33m \u001b[1;32mimport\u001b[0m \u001b[0memoji\u001b[0m\u001b[1;33m\u001b[0m\u001b[1;33m\u001b[0m\u001b[0m\n\u001b[0m\u001b[0;32m     37\u001b[0m \u001b[1;31m#cleaning unicode\u001b[0m\u001b[1;33m\u001b[0m\u001b[1;33m\u001b[0m\u001b[1;33m\u001b[0m\u001b[0m\n\u001b[0;32m     38\u001b[0m \u001b[1;32mfrom\u001b[0m \u001b[0mftfy\u001b[0m \u001b[1;32mimport\u001b[0m \u001b[0mfix_text\u001b[0m\u001b[1;33m\u001b[0m\u001b[1;33m\u001b[0m\u001b[0m\n",
      "\u001b[1;31mModuleNotFoundError\u001b[0m: No module named 'emoji'"
     ]
    }
   ],
   "source": [
    "import string\n",
    "import re\n",
    "from nltk import word_tokenize\n",
    "from sklearn.feature_extraction.text import TfidfVectorizer\n",
    "from sklearn.naive_bayes import MultinomialNB\n",
    "from sklearn.svm import LinearSVC\n",
    "from sklearn.ensemble import RandomForestClassifier\n",
    "from sklearn.neighbors import KNeighborsClassifier\n",
    "from sklearn.neural_network import MLPClassifier\n",
    "from sklearn.metrics import confusion_matrix\n",
    "\n",
    "from sklearn import preprocessing\n",
    "from sklearn.metrics import accuracy_score\n",
    "from sklearn.preprocessing import LabelEncoder\n",
    "from sklearn.preprocessing import MinMaxScaler\n",
    "from sklearn.metrics import roc_auc_score\n",
    "\n",
    "\n",
    "import numpy as np\n",
    "import pandas as pd\n",
    "from sklearn.model_selection import train_test_split, GridSearchCV\n",
    "from sklearn.linear_model import LogisticRegression\n",
    "from sklearn.tree import DecisionTreeClassifier\n",
    "from sklearn.preprocessing import StandardScaler\n",
    "from sklearn.metrics import f1_score, precision_score, recall_score, confusion_matrix\n",
    "\n",
    "from wordcloud import WordCloud, STOPWORDS\n",
    "import matplotlib.pyplot as plt\n",
    "%matplotlib inline\n",
    "import seaborn as sns\n",
    "from nltk.probability import FreqDist\n",
    "\n",
    "#Data cleaning\n",
    "#decoding emojis\n",
    "import emoji\n",
    "#cleaning unicode\n",
    "from ftfy import fix_text\n",
    "#check spelling errors\n",
    "from spellchecker import SpellChecker \n",
    "\n",
    "#NLP basics\n",
    "# Import spaCy and load the language library for tokenisation\n",
    "import spacy\n",
    "#Visualisations\n",
    "from spacy import displacy\n",
    "# Import the toolkit and the full Porter Stemmer library\n",
    "import nltk\n",
    "from nltk.stem.porter import *\n",
    "#Snowball Stemmer\n",
    "from nltk.stem.snowball import SnowballStemmer\n",
    "# Import the Matcher library\n",
    "from spacy.matcher import Matcher\n",
    "# Import the PhraseMatcher library\n",
    "from spacy.matcher import PhraseMatcher\n",
    "\n",
    "#Parts of speech tagging\n",
    "# Import the displaCy library for visualising POS\n",
    "from spacy import displacy\n",
    "#For adding what is not in a span to a Span (??will check it out)\n",
    "from spacy.tokens import Span\n",
    "#For sentence segmentation\n",
    "from spacy.pipeline import SentenceSegmenter\n",
    "\n",
    "#Text classification\n",
    "#Import CountVectorizer\n",
    "from sklearn.feature_extraction.text import CountVectorizer\n",
    "#Import TfidfTransformer\n",
    "from sklearn.feature_extraction.text import TfidfTransformer\n",
    "#Import TfidfVectorizer\n",
    "from sklearn.feature_extraction.text import TfidfVectorizer\n",
    "#Import SVM classifier LinearSVC\n",
    "from sklearn.svm import LinearSVC\n",
    "#Setting up a pipeline\n",
    "from sklearn.pipeline import Pipeline\n",
    "# For reporting the confusion matrix\n",
    "from sklearn import metrics\n",
    "#Taking a look at a review\n",
    "from IPython.display import Markdown, display\n",
    "#Part of bulding pipeline\n",
    "from sklearn.naive_bayes import MultinomialNB\n",
    "\n",
    "#Sematics and sentiment analysis\n",
    "from nltk.sentiment.vader import SentimentIntensityAnalyzer\n",
    "#For reporting accuracy\n",
    "from sklearn.metrics import accuracy_score,classification_report,confusion_matrix"
   ]
  },
  {
   "cell_type": "markdown",
   "metadata": {},
   "source": [
    "### Import data"
   ]
  },
  {
   "cell_type": "code",
<<<<<<< HEAD
   "execution_count": 5,
=======
   "execution_count": 2,
>>>>>>> fe9e58dc80b8810b300df52ad87ceb3f38cb1c39
   "metadata": {},
   "outputs": [],
   "source": [
    "df_test = pd.read_csv('https://raw.githubusercontent.com/Amogelang20/RM1_classification_predict/dev/test.csv')\n",
    "df_train = pd.read_csv('https://raw.githubusercontent.com/Amogelang20/RM1_classification_predict/dev/train.csv')"
   ]
  },
  {
   "cell_type": "code",
<<<<<<< HEAD
   "execution_count": 6,
=======
   "execution_count": 3,
>>>>>>> fe9e58dc80b8810b300df52ad87ceb3f38cb1c39
   "metadata": {},
   "outputs": [
    {
     "data": {
      "text/html": [
       "<div>\n",
       "<style scoped>\n",
       "    .dataframe tbody tr th:only-of-type {\n",
       "        vertical-align: middle;\n",
       "    }\n",
       "\n",
       "    .dataframe tbody tr th {\n",
       "        vertical-align: top;\n",
       "    }\n",
       "\n",
       "    .dataframe thead th {\n",
       "        text-align: right;\n",
       "    }\n",
       "</style>\n",
       "<table border=\"1\" class=\"dataframe\">\n",
       "  <thead>\n",
       "    <tr style=\"text-align: right;\">\n",
       "      <th></th>\n",
       "      <th>sentiment</th>\n",
       "      <th>message</th>\n",
       "    </tr>\n",
       "    <tr>\n",
       "      <th>tweetid</th>\n",
       "      <th></th>\n",
       "      <th></th>\n",
       "    </tr>\n",
       "  </thead>\n",
       "  <tbody>\n",
       "    <tr>\n",
       "      <th>625221</th>\n",
       "      <td>1</td>\n",
       "      <td>PolySciMajor EPA chief doesn't think carbon di...</td>\n",
       "    </tr>\n",
       "    <tr>\n",
       "      <th>126103</th>\n",
       "      <td>1</td>\n",
       "      <td>It's not like we lack evidence of anthropogeni...</td>\n",
       "    </tr>\n",
       "    <tr>\n",
       "      <th>698562</th>\n",
       "      <td>2</td>\n",
       "      <td>RT @RawStory: Researchers say we have three ye...</td>\n",
       "    </tr>\n",
       "    <tr>\n",
       "      <th>573736</th>\n",
       "      <td>1</td>\n",
       "      <td>#TodayinMaker# WIRED : 2016 was a pivotal year...</td>\n",
       "    </tr>\n",
       "    <tr>\n",
       "      <th>466954</th>\n",
       "      <td>1</td>\n",
       "      <td>RT @SoyNovioDeTodas: It's 2016, and a racist, ...</td>\n",
       "    </tr>\n",
       "  </tbody>\n",
       "</table>\n",
       "</div>"
      ],
      "text/plain": [
       "         sentiment                                            message\n",
       "tweetid                                                              \n",
       "625221           1  PolySciMajor EPA chief doesn't think carbon di...\n",
       "126103           1  It's not like we lack evidence of anthropogeni...\n",
       "698562           2  RT @RawStory: Researchers say we have three ye...\n",
       "573736           1  #TodayinMaker# WIRED : 2016 was a pivotal year...\n",
       "466954           1  RT @SoyNovioDeTodas: It's 2016, and a racist, ..."
      ]
     },
<<<<<<< HEAD
     "execution_count": 6,
=======
     "execution_count": 3,
>>>>>>> fe9e58dc80b8810b300df52ad87ceb3f38cb1c39
     "metadata": {},
     "output_type": "execute_result"
    }
   ],
   "source": [
    "df_train.set_index('tweetid',inplace = True)\n",
    "df_train.head()"
   ]
  },
  {
   "cell_type": "code",
<<<<<<< HEAD
   "execution_count": 7,
=======
   "execution_count": 4,
>>>>>>> fe9e58dc80b8810b300df52ad87ceb3f38cb1c39
   "metadata": {},
   "outputs": [
    {
     "data": {
      "text/html": [
       "<div>\n",
       "<style scoped>\n",
       "    .dataframe tbody tr th:only-of-type {\n",
       "        vertical-align: middle;\n",
       "    }\n",
       "\n",
       "    .dataframe tbody tr th {\n",
       "        vertical-align: top;\n",
       "    }\n",
       "\n",
       "    .dataframe thead th {\n",
       "        text-align: right;\n",
       "    }\n",
       "</style>\n",
       "<table border=\"1\" class=\"dataframe\">\n",
       "  <thead>\n",
       "    <tr style=\"text-align: right;\">\n",
       "      <th></th>\n",
       "      <th>message</th>\n",
       "    </tr>\n",
       "    <tr>\n",
       "      <th>tweetid</th>\n",
       "      <th></th>\n",
       "    </tr>\n",
       "  </thead>\n",
       "  <tbody>\n",
       "    <tr>\n",
       "      <th>169760</th>\n",
       "      <td>Europe will now be looking to China to make su...</td>\n",
       "    </tr>\n",
       "    <tr>\n",
       "      <th>35326</th>\n",
       "      <td>Combine this with the polling of staffers re c...</td>\n",
       "    </tr>\n",
       "    <tr>\n",
       "      <th>224985</th>\n",
       "      <td>The scary, unimpeachable evidence that climate...</td>\n",
       "    </tr>\n",
       "    <tr>\n",
       "      <th>476263</th>\n",
       "      <td>@Karoli @morgfair @OsborneInk @dailykos \\r\\nPu...</td>\n",
       "    </tr>\n",
       "    <tr>\n",
       "      <th>872928</th>\n",
       "      <td>RT @FakeWillMoore: 'Female orgasms cause globa...</td>\n",
       "    </tr>\n",
       "  </tbody>\n",
       "</table>\n",
       "</div>"
      ],
      "text/plain": [
       "                                                   message\n",
       "tweetid                                                   \n",
       "169760   Europe will now be looking to China to make su...\n",
       "35326    Combine this with the polling of staffers re c...\n",
       "224985   The scary, unimpeachable evidence that climate...\n",
       "476263   @Karoli @morgfair @OsborneInk @dailykos \\r\\nPu...\n",
       "872928   RT @FakeWillMoore: 'Female orgasms cause globa..."
      ]
     },
<<<<<<< HEAD
     "execution_count": 7,
=======
     "execution_count": 4,
>>>>>>> fe9e58dc80b8810b300df52ad87ceb3f38cb1c39
     "metadata": {},
     "output_type": "execute_result"
    }
   ],
   "source": [
    "df_test.set_index('tweetid',inplace = True)\n",
    "df_test.head()"
   ]
  },
  {
   "cell_type": "markdown",
   "metadata": {},
   "source": [
    "### Exploratory data analysis"
   ]
  },
  {
   "cell_type": "markdown",
   "metadata": {},
   "source": [
    "Let us first get quick overview of the dataset we will be working with throughout the notebook. Below is a list of all columns with their data types and the number of non-null values in each column."
   ]
  },
  {
   "cell_type": "code",
   "execution_count": 8,
   "metadata": {},
   "outputs": [
    {
     "name": "stdout",
     "output_type": "stream",
     "text": [
      "<class 'pandas.core.frame.DataFrame'>\n",
      "Int64Index: 15819 entries, 625221 to 806319\n",
      "Data columns (total 2 columns):\n",
      " #   Column     Non-Null Count  Dtype \n",
      "---  ------     --------------  ----- \n",
      " 0   sentiment  15819 non-null  int64 \n",
      " 1   message    15819 non-null  object\n",
      "dtypes: int64(1), object(1)\n",
      "memory usage: 370.8+ KB\n"
     ]
    }
   ],
   "source": [
    "df_train.info()"
   ]
  },
  {
   "cell_type": "markdown",
   "metadata": {},
   "source": [
    "There are only two columns present in the training dataset; the label variable we want to classify to (`'sentiment'`), and the feature we will use to make this classification (`'message'`). We initially had a third column (`'tweetid'`) but set this column to be the index of the dataset.  The dataset contains no null entries, and the data types for (`'sentiment'`) and (`'message'`) are integer and object respectively. \n",
    "\n",
    "Next we will have a look at the different labels we will be classifying to."
   ]
  },
  {
   "cell_type": "code",
   "execution_count": 11,
   "metadata": {},
   "outputs": [
    {
     "data": {
      "text/plain": [
       "array([ 1,  2,  0, -1], dtype=int64)"
      ]
     },
     "execution_count": 11,
     "metadata": {},
     "output_type": "execute_result"
    }
   ],
   "source": [
    "df_train['sentiment'].unique()"
   ]
  },
  {
   "cell_type": "markdown",
   "metadata": {},
   "source": [
    "The label has four different classes, each described further in the following table:  \n",
    "\n",
    "|Class|Tag|Description|  \n",
    "|:---:|:---:|:---|  \n",
    "|**-1**|**Anti**|The tweet does not believe in man-made climate change|  \n",
    "|**0**|**Neutral**|The tweet neither supports nor refuses the belief of man-made climate change|   \n",
    "|**1**|**Pro**|The tweet supports the belief of man-made climate change|   \n",
    "|**2**|**News**|The tweet links to factual news about climate change|  \n",
    "\n",
    "Let us have a look at the data associated with each class."
   ]
  },
  {
   "cell_type": "code",
   "execution_count": 12,
   "metadata": {},
   "outputs": [
    {
     "data": {
      "image/png": "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\n",
      "text/plain": [
       "<Figure size 432x288 with 1 Axes>"
      ]
     },
     "metadata": {
      "needs_background": "light"
     },
     "output_type": "display_data"
    }
   ],
   "source": [
    "sns.distplot(df_train['sentiment'],\n",
    "             color='g',kde_kws={'bw':0.1}, bins=100, hist_kws={'alpha': 0.4})\n",
    "plt.title('Distribution graph for different classes');"
   ]
  },
  {
   "cell_type": "code",
   "execution_count": 9,
   "metadata": {},
   "outputs": [
    {
     "data": {
      "image/png": "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\n",
      "text/plain": [
       "<Figure size 504x288 with 1 Axes>"
      ]
     },
     "metadata": {
      "needs_background": "light"
     },
     "output_type": "display_data"
    }
   ],
   "source": [
    "df_train['sentiment'].replace({-1: 'Anti',0:'Neutral',1:'Pro',2:'News'}).value_counts().plot(kind='bar',figsize=(7,4));\n",
    "plt.title('Number of types of comments');\n",
    "plt.xlabel('Comment type');\n",
    "plt.ylabel('Number of comments');"
   ]
  },
  {
   "cell_type": "markdown",
   "metadata": {},
   "source": [
    "Examining the plot reveals that the majority of the tweets are classified as Pro, i.e. supports the belief of man-made climate change. Since the classes are so unbalanced we expect the classification algorithm to perform better when classifying larger classes ( _Pro_ ) than the smaller classes ( _News, Neutral, Anti_ ).  \n",
    "We have then created a funtion ro deal with the uneven distribution of class labels. The function will modify the number of observations for a class(es) we need to resample. "
   ]
  },
  {
   "cell_type": "code",
   "execution_count": 10,
   "metadata": {},
   "outputs": [],
   "source": [
    "#Function takes in a dataframe, a class to be resampled, and a class whose observations are to be matched with.\n",
    "#df is the dataframe\n",
    "#class1 is the class that is to be resampled\n",
    "#class2 is the class whose length is used to resample class1\n",
    "def resampling(df, class1, class2):\n",
    "    df_class1= df[df.sentiment==class1]\n",
    "    df_class2 = df[df.sentiment==class2]\n",
    "    df_new= df[df.sentiment!=class1]\n",
    "    resampled = resample(df_class1, replace=False, n_samples=len(df_class2), random_state=27)\n",
    "    df_resampled = pd.concat([resampled, df_new])    \n",
    "    return df_resampled"
   ]
  },
  {
   "cell_type": "markdown",
   "metadata": {},
   "source": [
    "Let us have a look at the most common words associated with each class."
   ]
  },
  {
   "cell_type": "code",
   "execution_count": 12,
   "metadata": {},
   "outputs": [],
   "source": [
    "df_Pro = df_train[df_train.sentiment==1]\n",
    "df_News=df_train[df_train.sentiment==2]\n",
    "df_Neutral=df_train[df_train.sentiment==0]\n",
    "df_Anti=df_train[df_train.sentiment==-1]"
   ]
  },
  {
   "cell_type": "code",
   "execution_count": 13,
   "metadata": {},
   "outputs": [
    {
     "data": {
      "image/png": "iVBORw0KGgoAAAANSUhEUgAAAi0AAAEuCAYAAABClSJBAAAABHNCSVQICAgIfAhkiAAAAAlwSFlzAAALEgAACxIB0t1+/AAAADh0RVh0U29mdHdhcmUAbWF0cGxvdGxpYiB2ZXJzaW9uMy4xLjMsIGh0dHA6Ly9tYXRwbG90bGliLm9yZy+AADFEAAAgAElEQVR4nOydd3hUVdrAf2dKZiaZ9N5DSaR3kK5gLyhixbbqqruuvWAXLFhAdD9h14Lu6torKgioIII06b1DSCO915lMud8fdzLJZCbJpJAQuL/nmYe5p77n3DD3ve95z3uEJEkoKCgoKCgoKJzqqLpaAAUFBQUFBQUFb1CUFgUFBQUFBYVugaK0KCgoKCgoKHQLFKVFQUFBQUFBoVugKC0KCgoKCgoK3QJFaVFQUFBQUFDoFihKi4KCwklFCPGREGJ2G+pVCiF6ngyZTgZCiNuEEOu6Wg4FhdMZRWlRUPCAEOJGIcRWx4MzRwixXAgxvqvlOpOQJMkoSVJqa+sJIZKEEJLj3lUKIdKEEE+eDBkVFBQ6F0VpUVBohBDiEeD/gFeASCABeBu4sivlOtURQmi6WoZGBEmSZASmAzOFEBc3LnAKyqygoNAMitKioNAAIUQg8CJwryRJiyRJqpIkySJJ0hJJkmY4yuiEEP8nhMh2fP5PCKFz5J0rhMgSQjwuhMh3WGmmCiEuFUIcFkIUCyGebtDf80KIb4QQnwohKoQQe4QQKUKIpxz1M4UQFzYoHyOEWOxo56gQ4q5GbX0thPjY0dY+IcSIJsb5ghBigeO7VghRJYSY67g2CCFMQohgx/UVjrZKhRCrhRB9G7STJoR4QgixG6gSQmiEEEOFENsdMnwF6BuUDxNC/ORoq1gIsVYI4fF3yGEt6e34/pEQ4t9CiKWOdjcJIXp5c08lSdoI7AMGNGj3XiHEEeCII22sEGKLEKLM8e/YptoTQsQLIRYJIQqEEEVCiH81Ue4tx/0rF0JsE0JMaJA3ymHJKxdC5Akh3nSk6x1/C0WOOdoihIj0ZpwKCmcCitKioODKGOSH7PfNlHkGGA0MAQYDo4BnG+RHOdqIBWYC7wM3A8OBCchv/Q19NaYAnwDBwA7gF+T/m7HICtR7Dcp+AWQBMcA1wCtCiPMa5F8BfAkEAYsBjw9UYA1wruP7SCAXOKfBHBySJKlECJHi6PMhIBxYBiwRQvg0aGs6cJmjTxXwg2M8IcA3wNUNyj7qkD8c2Yr1NODtWSLTgReQ5+ko8HJLFYTMOKA/8tzWMRU4G+gnhAgBlgLzgVDgTWCpECLUQ3tq4CcgHUhCvkdfNtH9FuS/kRDgc+AbIUSdAvcW8JYkSQFAL+BrR/pfgEAg3iHL34GalsapoHCmoCgtCgquhAKFkiRZmylzE/CiJEn5kiQVID9Ib2mQbwFeliTJgvxAC0N+QFVIkrQP+a1/UIPyayVJ+sXR5zfID/TXGtRPEkIECSHigfHAE5IkmSRJ2gl80KjvdZIkLZMkyYasOAxuYgwbgWTHg3ki8B8gVghhRFZe1jjKXQ8slSRphUOeeYABaGiJmC9JUqYkSTXIypwW+D+Hhepb5Id3w7mJBhId+Wsl7w9AWyRJ0mbHPH2GrBA0RyFQjDxHT0qS9FuDvFclSSp2yHwZcESSpE8kSbJKkvQFcBBZmWzMKGSFcYbDCmeSJMmj860kSZ9KklTkaPMNQAec5ci2AL2FEGGSJFVKkvRng/RQoLckSTZJkrZJklTewjgVFM4YFKVFQcGVIiCsBV+HGOQ37TrSHWnONhxKA9S/Jec1yK8BjA2uG+cVeqhvdPRRLElSRaO+Yxtc5zb4Xg3oPY3F8bDeiqygTERWUjYA43BVWlzGKkmSHchs1Gdmg+8xwIlGikjDuXod2UryqxAiVbTOQbbx2IxNFXQQJklSsCRJfSVJmt8or7HM6Y3yG89rHfFAegtKLQBCiEeFEAccS06lyBaUMEf2X4EU4KBjCehyR/onyJa2Lx1Lj3OFENqW+lJQOFNQlBYFBVc2Aibk5YOmyAYSG1wnONJONtlAiBDCv1HfJ9rY3hpgMjAU2RqyBrgI2ZrwR4M+nWMVQgjkB3fDPhsqKDnIFhvRSEa5oGxtelSSpJ7IloxHGi1vdRYNZW58P6Hpec0EElpQanH4rzwBXAcES5IUBJQBAkCSpCOSJE0HIoA5wLdCCD+H9ekFSZL6IVuzLgdubfXoFBROUxSlRUGhAZIklSH7ofxbyA60vg5H1UvqHFWRfTyeFUKECyHCHOU/7QTZMpGtIa86HDYHIb+xf9bGJtcgPxD3S5JUC6wG7gSOO5a9QPa1uEwIcZ7jjf9RwOyQwxMbASvwgMMpdxqyEgSAEOJyIURvh1JTDtgcn65kGZAi5G3uGiHE9UA/ZN+VxmxGVsxeE0L4Oe7DOA/l/JHnoQDQCCFmAgF1mUKIm4UQ4Q7LVakj2SaEmCSEGOjwnSlHXi7q6vlRUDhlUJQWBYVGSJL0JvAIsnNtAfLb9X3IDqYAs5GXVnYDe4DtjrTOYDqyA2g2srPwLEmSVrSxrQ3I/il1VpX9yFamumskSTqE7ES8ANlHZAowxaHkuOFInwbcBpQg+8QsalAkGVgJVCIrOG9LkrS6jfJ3CJIkFSFbNB5FXh58HLhckqRCD2VtyHPQG8hAdiq+3kOzvwDLgcPIS00mXJekLgb2CSEqkZ1yb5AkyYTsxP0tssJyAFmxPOkKsYJCd0F47wOnoKCgoKCgoNB1KJYWBQUFBQUFhW6BorQoKCgoKCgodAsUpUVBQUFBQUGhW6AoLQoKCgoKCgrdAkVpUVBQUFBQUOgWtBQgSdlapKCgoKCgoNCpSJIkPKUrlhYFBQUFBQWFboGitCgoKCgoKCh0CxSlRUFBQUFBQaFboCgtCgqnGCqdjqQF8/CJjjppfaiNfiQtmHfS2veENjyMpAXzUBv9OrVfBQWF0wdFaVFQUFBQUFDoFihKi4KCgoKCwilGv0Uzu1qEU5JmtzwrtJ/EhXOd38uW/UbpD794VceSm0/2zM413ysonEyUw1kVuoJ+P8yi5kg2Qq1C3zOK/VNf6LA2bRXV+PZNoHTVTnLfX94B0nY9Peb8leNP/Mctvd8Pszpk7tqLorScZNLvfhxwVV5awpKTR+mPLSs3J4vEhXOdcp+OJC2YR/pDTyDZbM60uJeeo2z5r1Rs2AQqFUlvyffLWliEJiyUspW/U/LjUkD2OUmY9zJp9z/m0ibgTIt+9AGKvl5EzOMPOctUbtlG4cdfeC2noX9fYp56FHtNDSpfX068/DqW3Dxnf9mvzKM2J9dFhozHnsFuNrvIZC0qRhMagmSzkf7QE25zUTfG6l17yP/Px+BQLpz1i0vQhAS7jE+l0xE/50WESjbWepIRIUia/zr2GhNCq6Hs55Vej11BoSMIGNuPoh82kPfRCo/52tAAesy9E8luJ/WR97BV1AAQeM4ganOLibztAvQ9ozGn5Tkf5C21GX7DuYRcOhKVr46y1bvJ/tdilzbVvjrinrgOc3q+m3LQY85f8YkO4djD77q1G3PvFAInDabk563kfvCzM91/RAqSzYZxWDLBl4yg6PsN5H+2ypkfN+Na/EedhSktl8ptRyj4ck2zc1a54yi+feKpPpjZZJmm5q1TkCSpyQ8gKZ+O+SQunCsFTb2oy+Vo6aP2N0qJC+d2uRwn8xN06YVS1IP/cElLWjCv/l69+arkN3yIW75Kp5MASaXTuZSvy2+YFv3oA1Li/81pk3x17UfPeNCZFjBxnJQwd7ZLfz7RUU3KaOjXR4p74Zmm77PRz+MY4mY91WSd6McelAIvmOw6B3IASo8yxs16SgqZdqXzOuLO26SkBfMktdGvy/8GlM+Z8VHptFK/72e5/J02/PT7flb99x9mSTH3XSEBUuA5g6R+P9TnBV8yUkqYeZNXbfrEhjq/J716uxQwrp9LmyFTRru1KdQqKeXDRyVDcqwESAnP3ij1WzTT2U7PN+6WjEN7SYAUPv1cp5yA5D8iRUr532MSKuGUry4v7onrJH2vaPlaIPnEhHqUueHHcFacFH79ObIcz98sBU2WfwuT33/IKUvjeTsZ964pvaRbWlp8hw0g+NopqPx8qdqwleIvf3Qrk7hwLhn/eBrJaiXkpqswjh6OrbyCgvc/pzataQ3SW3Q9EwiZPhVtXDSSyUxtxglKvv+5zW2H3noNxvGjnNdVW3ZR+P5nbuXqrCAxzz+K3Wym9LtlmA6nEj3zYYRGQ/bM110rqFSE3HAlfiMHIzQabBWVlC1ZQeXGbS7Fgq+5DJ+4GPT9kp39NMST5cUnLpqwO29EExFKze4DFLz3KXSDJYDSZb+StOBC53XAOePrrQOA0Gqp2rbTpY45PYOAyedQuvxX7/tZ7vlNzFuKv6v/uzYdOYbKoEel0zktKc1Rs/8gKj9fkhbMw3T4KPkLP/SqniYs1Pld+PgQduN16Hv1QOVvRKjVmA4fda3Q4H7XyQhgOCsZTVgoJT/Vm8xLf1mB7+ABLcqgoNBR2M0WjvztLfp+9TRCo+bYA29jzioEIPz6c8j9b71F25xVSND5Q52WkZJftzvzSpZvIer2C93b9NFQvmE/WXO/cZatPVHk/F703XoMZ8VRvn6/s83iJX+6tRk6bRyaYCM1R04AkPHKF/T79jlnO/pe0VTuOAZAwRer6ffDLIoWb8ScUQCA6VgO2CWnfHWUr99H4vO3cOz+f2MtraI2u162pqg5lEXELedhPJqNcUgvDMmxlK7aSdWe405Zcv/jOm+6hHCnLCebbqW0qIMDiX7qPtRBgVSu24y1pIzASybhP3kc1Vt3UbDQ9SEfevt1+I0YTG3GCUp/WoH/xDFEP30/+W/9h5p9h9osR9zcZ1EHBWAtLqVy3WZUBgO+Qwdg6J/SZqWl6ONvKVu2CpXRj+in72+2bNRT91O1aTtBV11C5GN/x5pfRNWm7QROuYDY2Y9z4tl6hSPx7VeQLFYqVm8AQBsfQ+jt1+M3dgR5b7znLGc6nIrpcCrWklKM40aS/68Pm5WhTqmp+nM7lX9uI+CCc0h8bw6ZD83CXt2JpsI2Yk7PIOCc8ZSvWUfINVPJfGpWy5U8BpVuGqm2ZSWh2fo1pnbVz3jsGQAM/fqQ8PpszBlZ5Mx7y6u6wkdL4huvkPnMi9jKywGIuPMv3ncuHJPVUIm1272vr6DQQVjySzlw3csgoN/39X4Z2vBA9IF+aMMCAKjcdoTKbUec9azFFa4NCeHeJhAyZTS9376Po//4F0Kjpu+3z1K4aD2W3BK0kUFOZaK5NjWBjcIA2N1f/iJvr3/RKvpxI3ZTvXJSm1vicezl6/ZRufUwSa/egT4pisLv15P/ccvLtL4pcWjvvJjipZsJPGcguoQIqvakOfP9BvVwmbeGspxsupXSEvbX6aiDAqnetoeij78FoGrTdmJnP4HviMHQSGnxGzkEyWYj5+X5AFT8to6Et18l4OJz2660CIE6KABbWTknnnylPlnng0qna1ubDqyFxVBY3LIIahVly3/HOHE0mtBgVAF+lC5ZgTYmCt/hA13Kli5eQfmKNUgWqzMt8d3X0J/Vy6Vcze4DAGijIlyuPeE/aSwApkPHKPzvlwBU/L6BhAWzCb7+Coo+/MqL0XYt5avXEXjhZMrXrAPAVlnlki9UKqQGD1ltVCRlK1cDINltnAoIL//eavYfJPv1t1z8a1pC31v++6hTWADUAf5Y8gu9qm8plN/otJER1GbJb4+akBCv+1dQ6HAkMKfno/Y3YKuowVJUjik9j+Ilm9rVbPGSP4n660UABJ03hKqdqU7FIHDSYHQxoc1VB8BaXu2aINzfkPI+9N7K2xC7yULqw++R/MHDhE0b55XSInw0+ESHULnjKGqjAW1YAJb8Umd+1e7Uds9bW+lWW571KT0BKHjvE2eaNb+Iqs07ADBOONulvGSxkPlQ/Ru0ZLVRm3HC7YHdGiIe/CsAWTNmu/ZlrsVWXuGpSodT8t0yAMpXrJWvv5UdRCs3bHErW7bsNxeFBaD48x/a1X/I9KmUr/jDxVIjmWup3rEX45jhLstcpypVW7fjEx1F+G03Yy12VRSLv19C/JwX8RsyCAC/YYNR6XRU79wN4JxPXVIiACHTruxEyWWqd+0l4q7bAFD5Gtxk8B83Gp/YmPo3uVDPCkPQxRcAYBw9EoCirxcBsgNyQ+JmPeUcrzdYC4soXvQj0TMeBCEQanXrLDUKCh2Ab5/4+gsBuoQIp9NowRerifrrxc5slcEHfVJk69oEgi8cTs3RbADURoNziQcg5p7LvZKzaNF6rKVVGJJjAYh7/FqX/Joj2QSeM8h57Y2cAL5962Wt3NK6F/Wq3cep3HqEnPeWEnHzeVTvz3DK0njeOpNuY2kROnliJHOtW175irX4jRqK/6SxVK6t1/4qN2x1K28rKwdi2yyHoV8KtorKNtfvCKx58tqhZJKXDyzZsj+GVOvZROc7YjD+E0ahjYpA+GhR+RraLUPABRMJuGCixzx9Sk8q121udx8nm8ot2zCOHE7Wcy+5pJevWoPlRDb+E8cTdttN1Ow76LJTCODES3OIeuAehFZD/sIPMfRNQRvl3Q9JR5D/wUeE3TqdxLfmYjpwiLIVqzD0TXHm1xw6QvhtN6MND0XodJgOHibtgRkubVRt34U5M4uE12djLSgi7cHHnUs4lvwCir5eJOcVlXDi5dfRRkXgN2yo1zKW/74W7BKJb7yCOTWNtAcf7/QovApnNpLdTu9/34dPTAjmzAIO3/GGS/6hm+fS61/3og3xp2zdXkpXbG+iJc9t2s1WSn7ewvHH3geg8Lt1JL54K32+eprarEIOXP8yETdObrlNq43Dt82jx9w78YkJ4dgD7xBwdh9n/vEZ7xNx83n0/foZavNLyX7re6/Gb0iJI/6Z6SAERT9u5NBNc7yqZzdbyHP4+9irzeh7RjmXeo/PeB+10eAybzlv/+RVux1Cd9k9pA4KkBIXzpXiXn/WLU8THiolLpwrxb72tDOtqd06Efff3q7dMYkL50oxsx5pUz1vdw8lLpwrhd11U5N56gB/CZCMY0dIiQvnSrqeCRIg6c/q5Ta2xIVzpcT35kj+k8dJ2phISR0UKBnHj2pyDgIuPKfF+UlcOFcKvm6KFHD+BI8fw4A+Xf734s0nYd7LbjtolM/p/0maP0+Kuu9vXS5Hd/kEX3GZlDS/4/+fxD3/jJQ0f57z402dhFdflDShLe+AUT7d/9Ptdw/ZSuW1dXVggFuerlciAOZjaSddDslqRRt78s6E6UjC77kVgPS/ucbmqNvh0R5sJWWUr1zb7na6CkO/Pqh0Ogo/8T5uioLCqUDSfNlaVfDRp1Rt39lkOd+B/TFnZGErK+ss0VpF1vMvow7wJ/z2W9D36ulVHZWfL37DBlO2YlXLhRVOS7qVT0sdQuOqa4Xeeg0AxZ95ZzJrD3V9eFKeTjXU/kaP6UFXXdJkHXtVVZN5ddjKKwm+9nJ8h3XP7asJc14k5JqppD/4OJWbt7VcQUHhVMJhpm/sd9SY8NtvOeUPp7SVV7Rqt2HaA48pCssZTrextABkPjiTqCfuJeHtV+Qtz0WlBF46GaHRULP3YKdsta1cv4Xgay4j7vVnseYXUrP/CCpfPfo+vbGVlDl3KgHOnUaaUDmaqCYsFJ+4aKzFpdhrTDTcDip0PmhCglAZZH8TdZA/PvExctmqRp7lXlL8+fdEz3yYqBn3UL5yLb5D+uM7cjBVm7ZjHDeyifFtJfQv15GwYDalP61EbfRDHRxA4Qf1Fomsx14kceFcwv9+K7aycqp37EMdYMR36ACqd+2n4O3/tUneziLjCeVMD4Xui7WoGE1YKJaC5uNiNH65U1A4HehWf9X2GhO5c98m/v9ecNmhUrl2E8VftG9HTGvIeWU+sS8/iSYiDP+IMGe6rcTVDJuwYDbCR+u89hs1BL9RQ+QLSXJZtklY4LobSZ/ck+jn5C2qBe9+TPX2va2WszYrB+x2dMk9CE/uISfa7RT975smlRaQ337UAf4EX32pM62h0gJQ8vUSgq68CHVgAP7njnGm29sZW0RBoSPRhIQQee/dqP38KP35VyrWbmiybMC5Ewg8fzKoVZT//gdlv/7msZzvwP6EXD0Vtb8/1sJC8j/4CEuB+1ZwtZ8f4Xfciq5nEvbqGqxFRZT+spKaffXhBJLmz8NaXELW8y8TcedtGPr3pfZENvnvfICtCaunrboaDaHYTZ7jAIVcPRXjqOEAxDzxiEte+qNPuu0m9BohMI4YRvDUKUg2GwUffoz5eLrHouG33YzvwAFYCwupOXyU4u/a/vsc9cA9zi34APkL/0v13v1Nlm+u7+ArLiPw/EkUffUdFes3utTTJ/ci6v57qN67n/yF/3Wm+w7sj9/woc42m7rfCp2DaO4QMyGHKVZQUFDoduh6JBH98H2Y09Kp2LAJ//Fj0CXEI9lsmI+lkvsvecu+PiWZyHvuRKjVlCxZhmS1ETJV3qpa8NGnVO3Y5Wwz9rkn0YaHUfrzCqzFJeh798Q4agQli5dStvJ3ZzlNSDBxzz9D9d79VO/eizY8DF1iAvqU3qQ90ODMqvn1u6kqNm6iNusEIVdejvDxwVJQyImXXnMbV/itN+E3YqhLOw3R95RfUKIeupfCz77C2uABazqeRmujVtc96AEsefmUrVqN74D++A7sT/G331P+x3pnWZXBQMKcl7Dk5FL2+x/oe/fEb9gQhEbTpLwRd92O78D+TeYDqI1GVH5+xD4zo0mlxdu+6+a8cX8Jr7+MSqcj/eH6c8nq7nfDNj3db4WOR5Ikj+E8u5WlRUFBQcFboh++D0teHjlvLgCg8s/N8iGOb7kedRF1398A14dY+e9rSJo/j/Dbb3EqLdqIcLThYaQ9OMP54K/8czPm9ExCr73K5SHmP14OwNjwjb05Trw6D4vj8MuKtRtImj8PbXiYx7IFH39GwcfuR3zUYUo97vxem3WC2hPZXsnQEumPPeUMq1C5cTNht0wn5JqrXJSWhNdexJyW7jLnhZ9+SdL8eYTecA1FX37bpr5tlZXYKpsPNeFt33azWQ4EKoSLAlcXHLROYWnN/e6OJM9+kyPPPtJywVOMbumIq9B1hF18Bb1feL3lgqcoEVdeS9IjzxB7+z1dLYpCJ1D0dSPn/EZWBuEjx3/yFBiy7pwln9gYAEKuneaxjYq16x1t1S8Fly6TY1wkvPYi2siIFuW0NDit+1SlcRyoYkcgQheEoPDzr93r2u34jx19skRrVd/573wAQNhN1zvTAi+QY6kUffWdM6019/tkEv/3BxFa9wBuCf94BFRn3iNcsbQotIrCnxdT+PPirhajzeT/+A2hky9Cn+jdFkuF7o0lP7/Z/DprhiXPvVxtbh76lN5oo6OoPZGNT7Qc6qDhkk5D1EZ/Z3RlyWol7YHHiLrvb8Q+Ix82ajeZyHz2hSaDQHY36g7gFD4+SLX1QTxjn57RVJWTjjd9m1KPU7JkGcFTLqXwU/kYkuApl1K5ZZuLn0tr7vfJpPrIIXx7JVN1cF99okqFLjr2jDzPS1FaFBQUTlu0YaGOKNieseTLO3A8RTOue2jVWUEsBQWoA/yb9b1oTJ3fjO/A/gRPnULivFdbVf9URqWX4z01VFgATsye45zXzsbbvstWrCJ4yqVogoOwOv4+6hSYOtpyv08G1UcPYRwwmKqD+5xLOvqYuPojOvwD6PHE81Tu241fn/4U/LSIsi0bW2hVpuczs6lJPYLQ+uCX0te5XBR63sUEjZmAOTcHlY8Pupg4Z17y7DcpXP4jJevXAOCb3Ifg8ZM48eE7ACQ+9CRCqLBWlGFI7MmR5x7t0PlQlBYFr0me/SYAtfm5pM+f65bvP2gY4ZdeicrXD0thAcWrf6Vi9w6v24//+4Nkf/wB/oOGEnrBZVjLSqjcu4uiVfXHoEdePR3/QcOQLLUULF9M+bb6Yxv0cQn4Dx5GwLCzkWxWilf9Qumf69oxYoXujk9iAqZjx5vMlyyy1cNTTCOfhDgAah1Ki+loqtdB0BpTvWcf5oxM4l/q5O32Hg7e6yh0ifEe0/W9e3WZ0tLavv1GDKM2M0u+aLQM1J773ZFYiovQBsuHLkoWC0KjQeMf6MyPuOp6itespGjFMnQxccT/7UGqjx3GUtx8HB8AU1oqOV/IISp6PfsK+vhETJnplP65juLVK5z+PXW//XX4DxnhVFoCBg+nfEf9uXc+YRGyoiJJ9J41B21IqFeyeMuZtyCm0GaOPPsI+T+4rxkD6KJjiZx2A6lznufozMfI+s+/0QQFt7qP2Nv+hs1k4thLT1H4y09UHa7fHpr80huYMtI4OmsGx2Y/Q+j5lxB+2VXO/MCzx2MpKebYS09xfM7zhF8+DUOPth+OqdC9seTlEzJ1iktanYNsQ6xF8g9q3aGRID/8VDqdvD3YYYIvXfozAJH3/s2tDf8Jru0GTBznVkYTGOiWdrKpOxCzIwi/7WaEWu28jvzH3c4lojoqN20h9IZrUAe4Bt9UG41ogoM6TBZPtLbv8tVrCZ5yKWG3TKfm4GG3/Ib3u3Gbje/3ycRaUY4hqRe+vVM48dG7hJ53Mfr4BGe+X0pfilbIh+ias7MQajXhl0/zqu3sz+odxUvWrcK3VzIAtqpKp8JSJ4Nw+M8U/rxYXppy4D9kOBU7twIQNHoCZVv/dCqABct/9FoWb1EsLQodgrW8TH4DCAzCWlqCraqSkj9aH7nSUlrs/A9Qdah+W6MmMAiEcDF7Zr7zT3o8PouCpbKzZd53nzvzJJuNil3b8UvuQ83xY20dlkI35sTLc0l88zUXn4TazCxqs064lMt64VV84mOJmfEwYTfWO2cWfPwZVVtdLYXpjz1F4uuvuPs52O0uMWCMY0cTcs1VNKZkybL2DKlVFH39HaHXXe0ia1uXOmxl5agMehL/2eDAPUkiY8YzLuUKP/sKhCB+trtF6cTL9Q78dduLG+KU024n7aHH69Pfet3FYhRx9x3O/tMerPdh8bbvOooX/UjAuRNQ+/uTv/BlD6Ouv99ubTa63ycblV5P2EVTyPj3G8TdeR81aaku1ovIq6c7v5fv2NImy4Zkl5yKSfg6w3kAACAASURBVPQNf8G3VwpVhw9gykhD1cARuGTdagw9kzEk9aK2IA9LSb1fjyYoGH1svIs8pkzPsXzaiqK0KHQItqpKUl+bReJ9j6E2+mM3mzk+Zxb2WvdTuZujJi3VY7ohqRdIEokPPemSXltY70DZ88kXUBv9MeecwHQiE11sPNay0tYPRuG0If2RJ1suBNRmnvDqgS7VWlwelE2R/dobLZaBppWIjvCjqFi3kYp13vk2NEfJ4qWULF7qdfnCT7908w9pTGNlpzm8me/W9O3Sdgvz7O397gzqrBuW0hL0cfEuS+/5P3ztYhlpL8YBg122Q4dPcbWW5Hz+IT2eeJ7a3GynLwvICpOxb3/yvjt5Z7opSotCh2GrrCD1tVkA6GLi6DXztQ6LA2DKOA5CkP5/7sG2QHYGUxv9Of76i05FJf7uBzqk79YgtBoS5r9K4X8+o2pr04fZKbijjYogZtYMqrbsoPC/n7dcQUHhTMFup2KP/HtSsPR7Ym7+K9XH5S35qS8/S+8XXqf6yEFUOj36hCTS3pjtYgFpLbaqSuLuvBdzzgn8Bw93e5mUrFbUBl8MPXq7WHVq83KwmUz0fPIFatJS8e19Fhn/ntcuWRqjKC0KHULgyDGYMtMx58qBrLTBIR3avqWkGMluJ+ram8j9Rg6spY9NwDelD8W//4rV8Z/C2G8QpRv/wLdXMvr4xCYtNwqnHpbcfCRzLWVLV3S1KAoKpxRHZtZbhKoO7nN5GbTVVLfp5bBxnZI/6o+tSH21fjmsYKnnIxia6jPznX+2WpbWoCgtCl7h16c/xn6D0McloAkKJuq6m7GbTBT+uhS7qQZNYDAJV16LpaQYIQSaoGDnm0FHkfvNp0RffyvGAfL5TUKtpmKXfEpz3TJR+GVT8R88FH1cIoW/LEFtqD/l1n/ICHx7pWBI6olabyDq2puxm00U/LQI6QyMd3AqkvGQ98sGCgoKZx7K2UMKCh2IsjykoKCg0H6Us4cUFNqJ/8QxBJw3EZWfL0KjxpyWSfmK1dTsO+RWVrLbURn0hP/9NrThYQi9D1Wbd1D85fceWgaEIOiKizGOHo7KaEQym6neuZeiz751Dz3vUIzS75nRuj4A/wmjCbjkPNR+fm5hyG2lZWQ9NdutTsD55xAweQIqfyPWwiKKv/we06GjXsyYdyS+47qzo/irH6hYvb6J0jL6PskEX3UpmtAQhM4Hy4kcKtZsoHLj1g6TS0FB4dTjjLa0+Ap/xuuu5FfTpy7poaoY4tS92WX5o0P7u1B/M+vNi6mSmo7QqXDqofLzJX7eC54zJYn0f9Rvz6xTKIo//46QG69GqrVgLSlFExKE0MpKQvo97rsR6h7cdpMZa1Ex6sAA1EZ5aSvj/qeQrFa3PvLmv0/kA3d53UfC/FcRWg2Vf27FmpuPNjoSv7OHA7KiULPvINaCBlslhSDxbTmIoK20DFtVNT7RkaBSNangtAXj2JFooyJQGf0wjhnZotIS98qzqIMDkWw2bMWlIEloIuRw/Hn/fBfTYWWLe0eS8P5cMu56vOWCCgodiGJpaSU2rC0XUjgjqFNYMh+dib26xqs6ITdeTdbjL2CrqD+Z1nfYIMLvugX/SeOo+N31oZz9/Fwsea6RPIVGQ8KCV4m49w7y3lro1kfkA3d53YdPXAxCqyF37r8wH6+Pm1C5fjORj9yD6eARV4UFWckBdwXI0P8sIu67E/+JY6j4o/1bais31EfTNI4Z2UxJGXVwICWLfqJ8xZp2962goNC9UCLieqDIns1eS+cFDlI4ddEny2G8i7/83muFBcBaWOyiTABUb98NgN+wwW7lGyssgNO6oj+rd7v7MAzqB+CisACYjsi7qwwD+rg2rlIhNGoK3v/Erd+65bCQ6R0b6bI1GAb267K+z0Q0EaHE/XMW8e++StC1lzvT1f5GIh+/h4T3XiPu/57Hd9iALpRS4UxAUVo6GYnTesXttEPXW1ZaWutU25zPhzDoWydEE+fHtKaPlhQue41rOHaf2GgAatMzvZGw09En98QwoO9JPVtHoZ6op+/HdCgV04EjBFw40ZlunDQWbWwU1dv3YC0qIeyeW7tQSoUzgTNqeWiwdiKR6gRqpEoMwshR6y6X/Gh1EhGqBPxUgYDEBvNPbm1coL8JADs21GhYafoCO95HIoxW96SHph9mqQaDMJJny3DxnYlTJ9NPezYmqQq98KPInsO22vr98z5Cz7m6awBZARIIcmxp7LHIBwNeqL8ZkJe3BAIVaqfPjhoN5+lvYIP5JyolOQCbUQQxVne5i1/PhfqbsSIfJKdBi4SdFab6YF91c2CWqj3KeDqhP0s+u8heVd2qeuZjaU3m1YXKbohx/GhCb7r6pPVRsWYDIddPJeLeO8j/d/15I5EP3g1A5YbNLuX1fWTrTuzsp1slU2eQ8eDTJPxzNhH31odzz3/nQ2r2HGi+okKbyZk5D1u5bNULueVq/CePpWLVBsoW/0rZ4l+d5RLe8xz8UUGhozijlJZIdYLLw3mI9hyX/BxbGjm2NGLVvUnU9GlcnbN9LuGIdTtpVvnHMUqdxGT99aw2feN8yLeEr/Bnpak+xPGF+pupq3q2zyUEqkLdFAgNWmf75+quYXPtL5TaPZ9k2tip+GyfS+ih6c9x6z6v5AtTxVAjVbHW7HkHSuM58CTjaYUHBcMb6k4P9oaQ6dPwnziGmn2HyP/XBy55jXfWtLUPJInCj74k7LYb3NrMe2uh+w4lx7gz7n8Sydpx4cE7AqnWQvq9T6DyNeB39nBCrruSiH/ICownB+TWcuOfd7pcfz76gyZKnjnUKSwgL0uqDAbndchfrsUwIAWh08n/X1Qq5yGTCgodzRmjtISqot3SUm17iFB7Pl69MeGqWAJVoQSqQknRDHfNU8eRYzvuVTvptv1uaaGqaIrsOQSq5OPH66wlTbXflMICsjWlv3Y0fqpADMKIBi3F9lyvZAMotGfjI3RcoL+J/ZZNnLC5LkF0xBx0J8zH0tAn90TodEiNTrTtKPwnjgFwU1g6GufOonufaPGh4vR1GdiP6h17TqpcbcVeXUPF7+uo+H0dul5JRD12L1Ez7iX39X93tWhnDAnvzyXrkRco/t83AMTNf7GLJVI43TljlBZPNLfd2x157XyF6bN2+qW4r8E3bE9CYoXpsza1XLf8s8b8HWZJ9mEYrJ3YbB2N0Lql/Wb6EoFgkHYC/bWjKbMXsal2uTO//XPQfShbtoLAiycT/dSDZD8/t1P7Vhn9Wi7UCkJvulre7ePFW7A5VXbYDbvjJjLu9+7Qwa6kbqnMJ9G7lxCFjsNeUQWAyqBH1Vp/LQWFVnLGOOIW2XPc0hI1fb2uX2DPotxezEDt+HbJ0VPt7l1fZwkptxcjPCg1jQlQeT7XJ0wdg4TkVFgAF0uSDStWLASrIpxpvTSDPLYlIbHL8geF9hNOC1CdjO2dg+6EZLFSm56JNjKc2JefluOBqFQgBIYBfYiZ2f7TeO0mEwC6HgnONF1SPPGvP9/utl36qazCf+IYEt953flJWPAqEffc7nEZrPiLRQiNmvh5L6CNiUKo1SAE+uSeRD54N7oeiR0qnzfoevcg4h93oI0Md0mv28lUtuSXTpfpTCZn5jxi35hJzCtPEnDpZMqWKOdGKZxczjhLS4y6F9m2YySozyJa3aNVdQ9ZtzLS50JSrXuolEoJVIUSporhmNV783mEOh6VRY0dG7HqXm7tj/C5gIHaceyxrEcrdCSq+7g4DFdIJQzXns+62h+wShZ0wkCEKp4M2yEq7aUuSk+IKsqt/2JbLj01A8m0HUYrfNyWzeLUyZTZC6mQShCoCFZFNjsHnmQ83ch/73/EvfIsmpBgYl94osPbL1v+G8FXXUbUjPuo2bMfbVwMmpBgJIsFyWp18R9oD/nvfEjUjPtc0oRGg2FQP6Jm3EfunPkueRV/bCTkhqtQ+fkS89yj7g0ubr+C4DtsEJqQIDTBQQjHOI2jh6MJDsJaXIK1qISava4OtoaBfTEM7Iu1oAi72YwmJBiVr1y3/LeODQjZVYx4dAwqjRqAzXPWdUpfB77YQ0VGmVt+48By5ct/d3635ORz4lFlSUih8zijlJYVps8Y7XMJfbQj2Fm7hhWmz1z8Rxr7ktRd1zm3ltjz+cO8iKE+k/ATAZTaC1sdz+VX06eM8LmAAFUI1fYKl6WgEns+K0yfkaIZxnn6G6iVTGTaXEPEbzQvJU7dm3E+V6BChRkTByzyzo8qqZwDls1M1l+PQJBq3cuftcuIUiU56++0rGGgdhwX6G+iyJ7Nr6ZPXcZdbM9loHY8AaoQaiUT+yx/kmtLc5Gxbg58hb9HGU83bCVlpN8zg4ALz8V/4lhUfr4AmI8dp2TR0na3X/7rasyp6YTdNh193xRMR1IpX7mGit/XE3T5hQRedkG7+4h++iF84mPdgssJHy0hN1yFccxI9Cm93KLJpv/jcXyHDSLo8gtRB/gjNBrMqWmULf/NLeZLWwi/6xa3NJ/EeOcyj2SudTlE0Xz0OEWffI1xwhh8YqLQaDXYyisoW7ae0tPIypJybX/n95OttNT1lb7imEelRUHhVKJbhfEPD+3L4D43sXL9s21u4/xxcujxpto4Z9TT/LlzAebaijb3oaBwqpH4zuvkvbUQ08EjTeZXbthC0Sdfd7Jkpx5dvXtIpVVzw9rbO6X/hn399o+l5G13X0ZXUOgKmgrjf8b4tNSxcv2zlFdmN5m/ZvMrHaawDEi5tkPaaQ0TpszFz999WaizUGt8vJYhODyFviPc37RbIjJ+BBOmeOcUO/YSxXRdt7xkLS5pooD8M1Cb1fT/C4XOY9Bdw07LvhQUOoJOXR4KMMbRP3kaBn0wxzJ+I/2EbPZMiBlLbsEuRgy8CyHUbN79DhZLXTAvwdhhDyKEmsPHvTfF94yfRGLsBIQQFBQfYM+h5t8gI8MGMfCs6wBYvWk2VqvsHHn+uNnkFe5GpdKy59BXTBz1FNv3/ofyymznePS6IGpMxWza+W8kJOKiRpHS4xJUKi1R4XI49d82zESS5F0bQ/v/hUD/eEzmMrmO1P1iGvjoA4lPnsSxPT+0qx2btbaDJFJoCnuN7JgdM/MxMh9+ziW+i6FvChEP3AVAxe8ndxlCwTv63uzZOb6j8QnQdVpfCgodRacqLSZzCRt3yM5+E0c95VRaAMaPmMGqjc8DsqKwZfdCyioyOG/sC6z+8yVsdgsTR3q39XJAyrVUVufx+5/yW7ZKqFusk1e4m7zC3c7lo4bsOfQ1k0bPZPKY51m5/lnOH/cSK9c/5zIejVrH+JEzWLtlLlm5m8nO3+4s35BJo2eyetNsp6Jy/rjZ7Vru6ip6DbiCsOiB7VJaSgoOU1JwuAOlcmfD8pkntf3uQtYTLxI3ZyYJ819xy7PX1JA1o4lTrBU6HaHqnKMJhtw7stP6UlDoKDpVaam1VDm/V1blIhDOeB95ha47cHwNoZRVZCCECptdfjPMKdhBYuyEFvuJDBvI3g3fOK/tUvsjetaYS9Co62IQyP/RG47HajOj8/FvsR212qdbWlYaExjaq+VCCqcMtvIKcl//F8FXX45PfBxCrcJaVk7N7v2UfPcTku3Uinp7qqL2UTPo7uHET0rCJ0CPSquiMqucrLXpHPhkN5bq9kWF9o8P7BhBW0JA9NlxndNXA3RBeobeN4qYcfFofbXYau3k78xh7wc7KD5U2CF9qDQqUq7pR+IFPfEJ0GEI90Oy2qkpqqFgdx7Z6zMo3JtPTWHrjuY4Veh5eQqJ5/fEN8IPv2h/hApMJSaKDxSQuyWboz8eQrK1/Rmj0qrod8tg4if1wDfcF58AHTUF1WRvyGT3+9swFXt/cOzJoFOVljFDH6DaVEx2/jY0Gr182JnDEbio1NVBUKtx3+ZZVuHd4W1CdLyrjs1mwW53/WGvG09x6VGqqvPxFDjOE0lx9QHfjqb/2kxJz0yYMhebY/lKrdEj2W2sW/qUMz84sg/Dzn0Yc00ZOkMQNquZDcufc+ZHJZ5N8qCrMdeUojMEUVJwmL1/eufsFxCcSFLfS9D6yDtoBo39OwD5J3aQm77JVYZzHsZqrUGj9WXb6jeorshz5vceNI3AEHnL+bbVb7iN7/DOr0gZfB1mk+cxNCQmaSw9+l3G+mX1u0wiYocSGj2AsOiBrF3iumVTrfFhzEUvyKHqJTzKmDL4WiITRlKcfxCDXzgGv1BOpK4jdd9ir+bpVMScmq5Ei20rAq5bdRsag/tPZlDvEIJ6hzDg9qFIdokjiw6wdV7Luwr73zaEnpcmY4wLaNbi0dgx2BPNOesG9gwmbmIiPS9Nxj+haaXovLcva7GflvoCV3nrygq1ihv+uA2hdv1tVusgbkIicRPkmD/Lb1lEyZFir+RoTHBKKJd8fFWT+VqjDwGJgfSakuJMqy038/tDP1O0v+ko46cCLY3NL8qIX5SR+Ek9GPn4OGd6a5y4DWG+TF083ePfom+kH72v6kPvq+TjbYoPFfLzX9rnGtBWOlVp8fONcC6n9Ovteqy9N8FpjX7uofg9ISEhhOqkWzQajqexotTcrqy0rLbHkgiOOAtzTQmbV77aZJnw6EGs/elJ56Q2dlpNHnS1y4N8wpS5aLR6rBZTi/2Xl6Sze8O7zjZ3b3i3GRnkmCYxPcYyeNy9bPy5fqnm6O5FRCWMIranZ8tZTNI4Z31PY6gjIfk8opPGuCgsICtR+Sd2NFlPqNRy+445aixjZMJI8k/s4ND2L5z9H9/vfoCmwumPSqvihrV3eFVWqAQp1/QjYkgUy25e1GzZwX8f0RHitUjC5B4MvLPrHG61vlquXfUXr8pe8sk0kODzMa3bMXX20xPodcVZrZbNJ0CH2qdl94Guwj8+kHPmXUBAYlCr60p27zf/Dr1vVKv8m0LOCuPGP+/km/M/xlLZuX6Jnaq0SJKdHvGTCPSPp6o6r+UKQEb2esYOf5iikiMYfSNbrgCs2zKX88a+SEb2emx2K3FRo1iz6WVUKg0hgb3w0foSHT4Eq81EWUUmtZYqggIS0fnIbyGRYQOprimipCzVq/HY7RZ6xE9qlGcjI3sDIwf9jeLSYxzLWAnArgOfcu7o58gr3IPdbiMuaiS/bfDe76Ik/xAarR8TLp/Dkd3fUZC9C5vV9UycY/sWu2mBao0PNmstIZFyFODGD/OQyH7kZ233Wo6WONbAIlFWmIpmgN4pQ2vr19G4flzvc4lPOY/1S9t4EnGDOaqTsSF2m6upX6XWus21wulPQ4XFVFTD5rnryN+RS22FGUOoL32mD6TvTQNd6gT1DiFyeDR525reQpy+0vPvS+L5Pb0q5y1lqSUe24g/NwmVpv5lK29bDqaSjjX9j3pyPL2n1h8+m7r0CPs/3klFZjmSJBE5PIbxsyejC2rwf0/AtStv5ZvzP/aqjxvW3o5K66p4HF9+lMPf7KMyuwJzqQldoI7Q/hEkXdSbpItcl7bzd3p/Nltn4h8fyJRvPO9AzduaTfGhIor25yPZJPzjA4if1IPQfvWRotc/u8qrfjxZ8vJ35rJj/iYqMsuprTDjHx9I35sGutxLkO/TF+P+267lqNbSqUpLUw/njGxXU2pDx9TDx5dz+PjyxlWaxVxb4dLGsXQ5tLTdbqWw5BDrtroHQystlwNl5RXu9ijLlt3vuqU1HE9Dp+J62Ze5pRUUH2T1ny85rw+lLml5QI3YsPxZhFDRZ/jNJA+6moqyLHauXeDMtzVjMRFCIEl21v10cs+TaU6GjqqvNwQDEJ88mcwj3v0H9Zai3H1EJYxCpdLga4zAaqlRFJYznB+mfEF1QZVLWk1hNTsWbGLHgk1uP/7n/euyZi0GTT1UGist3j58miJj1XEyVrkfZnrtyltRGX2c13v/s73D47TUPeSsNRa+nvQ/t/y8rdl8d/GnJEzuwfhXznOma40+RI2KJXfziWbbFyrhprB4WhIxl5nJ3pBJ9oZMNsySI/r6RRnpNaX11pnOwpPCsuqB5U3Oyf5PHM8uAWEDIinc07JhYOqP093Svhj7HzcrTUVmGZtfW8fm19Yx9cfp+EbWn4s2ff0dnRrL6IyL03K6IEl2Dmz9mLU/PYF/kPeHxBXl7j8pPj9dwdE937N+6dMk9bmYgJCOPQfHXCPHNDm040t2rJ3Pxp9ndWj7Ct2Ln2/7wU1hacy3FzSyDCgbc5x4UlgakrHqOLlbXOMETZ5/SYvtRo92dSY+vvxoEyXdqcqtZPf727wu35l48i/66pyPWlTiAJDwSmHRBxtclA+Ql+VaWlb64covWHW/qyEh5dp+LcvVQZxRYfxPB5L6XER88nmYqovx0fmjUmspyG7duT8Ht33GhClzkew2hEp+S2nsrNoSh3Z8yVlDb2DcZa9gqa0iO3UdWcfWeFU3NKofoVED8A+KR+cbTJ9hN2K1mkg7sByrpfXm6XU/Pcn4y19j48+znPV79r8Cva+8Dtz/7DuwWUyYa0o5fsDd+uUJtUY2V9cto1VX5rN7w7tYzJWtlg9g2vp7WDTunTbVPV3oefUA7GYbaT8daLbcVWv/zvcTPPtKdQWSXaL4YMs7W2or3Jc+ffx9PKafSWSuTvOq3Kr7l7kvVQho7kB5u8V1WcIQ1jHndHU1kcNc/Te3zF2PzWzt0D4u+u8VLtcZq443O9cNyd3iqjyNeHQsh7/Z31GiNcvp8cp9BpGbuZWK0kx0hiCslhqK8w9ycNvnrWqjIHsXWcfWYLfbMFWXtMnBND9rO/u3/A/JbkWt1lJdme913eCIPkTGj8DXPxK12ofw2CFEJ45Go23bsfaSZKeyLIt+I291KmGxPccTGiWfqB0S0Yfw2CHE9T7X6zbrHLmtFhM2qwlfYwRDJzzQJvkU6rFbOm9rdWDv0A5xsmzOL6UlfPx17e6/u3NibdvPqApMat4BtTrf9SUicnhMm/s6VfC0e+fY4o4/380v2jVEx7EfD7aqfsGurvEFUiwt3QxTVZGL/0pjPFlMPKUd37+U4/vbd9hfUe4+t+BtNmutW39VFbkuaUd3L+Lo7qZ3VrQ0hrzMreRlbnXJ3/HH/CbLN6YlGZMHX0NNZYGb34+3RwcoeCb1u72d2t/A+8ay8XHvLGvN4c325TpstTYXRckvxp/K7DP3HDNzmZnUpZ7Pu/KEqagGfWi9teSsGwaw+dWmIzWXp7se8ChUgqk/TueHK79ovbCnCH1vct/FY7eefEfXnE1eLD01YMvc9Vz62dXO67CB3vnRtBdFaVFQaITVUkN43FAKsndRUyUvC/QaMBW7vX3m2Wnr7uHYor30mjaAdQ8tIX9rFgBDHplA6KAoivfn0+PKfvw4aSG2Wtki0XhZadw/L2ffu5soPVSAf1Iw539yPWmL9xPQKxRdkIFfb2jZ6jZt/T1kr0lFrdOgNerQBRv45brPXPKL9+dRfrSI0MExrLix/gFw2dLbKD1UiMZX69bfVX/8jRO/p6LSqogam8SyK/9HbZnsUB09oQdJU/qQuyGD4z/sc5HnqrV/J2vlUSyVZqLGuvom1fVXnVNOj6n9+enSD6ktM5FwUQrRE5KIOacnqd/vc5nTiJFxBPcJJzA5lOQbhyDZ7BTtzqVwV9ssJuXppV6XtdZYXZSWhrtzzkRyN2W1qnzm6uMkX13vHxE7LqHFOns/3MGA24c6r30j/bjxzzupzqvi6I8H2fvfHa2SoavpeVmyy7W3y2utwTfCr+VCLVB6zPUss15XnHX6Ki2+PZOJuOp60t5wDZmf/NKbIEmYTmRQdXAfxWtWnpT+1X5GDD16E3bR5W4yNMTYdyDa0DBK1v0uy9aII889clLkOx0IMyQR7z+IHfldF4zt/MT7WZnetFWqKY7vX4rVUsNZQ2/AGBSHxVxJTtrGtm+tdrBowjsgwZ4F67nk+1tZevlHAOx8c62zTMnBApJvHMLBj2QHQVNRNSqtGrvFRs+r+hM5Kp71D8vLeRd8doOLQnPlqrtQaVVu6/ye0AUbWHOPHBzqqrV/d8tf9+ASrI2iu4YNiaFoVw5/Pv2Lx/6EWsXmWSs89pez9jhGD9FeI0cnkLMujS0vyP/Xg5ce5Nz3r/bY3+4FG7h82e38OPl9AAJ7h/H9xHfd5jR/Sxb5W7JIuLQPRz7f6VQAFTqf8oyylgs1oPhQkcu1Icy3xTq739vGvg93cv0ft7uk+0b6Meju4Qy6eziWylpWPfgzRfu8X8buKgIaLYnlbGyd4ucNYQMiOrzNiMHehSRpL12itFSnHsFe7TmE8pGZj4IQBJ09nh6PP8/xuc93eP+2qkoq9+4kZMJkr+vUKSg9n3qJ1Fc9R2ZVcMUqdV8HxMwjqzp8G3Wdk5vdYkfbYKupUAlGvnAB4UNi8AnSc+iT+ng5Gx9fxojnJrN55goGPzKB4r2ubzLT1t/jch3cJ4KiPS2vNedvrv8hLNqdQ0DPEMpT6yORNlZYABIuTiHmnJ4ufTbsb/ucNUxbfw8nVqey6ZlfWpQBIGp0Atlr6mOIlBysj0zqqb+GZK062uScKpwaWGtad6xBW0PE22ptfD76A/rfNsRj0D6t0YeL/iM7nu58ewuHv9nfatm6isrs8g5vUx/asjLYWgzhHd+mJ7xSWoLOHo/NbMLYbyC2ykr8UvpwfJ4cayT5xTco3fgHurgEDAk9ZKVDkoi+4S+AwFJSRPD4SRT//gtFq7z7IUOSKP1zLeGXTnUmJb/0JqUb/wAEQWMmOJWI5JfexF5bS+W+XWiDQxBqNZkLZf+GXs++SvXRQ04ZvLGMJL/0JrUFedSkHUMfn0TFrpa3xDWen8JfFmM3mwkaOxFbRQUVe3Y42z7y3CMkv/QmphOZ2CorsNfWYi0rwbdXChlvv0Hw+En4ndUPc14Ofsl9qdy/m8JfWh/LpasprEmjsCatS2Voi5WlK6jbLSPZJRIuOcvFIlFysIC483qzeeYKkCQ2JFbKFQAAIABJREFUPuG61bCtO5J0IfV+A/pQX8xeBBWrKaxi91vrOfr1bo/5aYv3k7Z4P+HDY5m2/h7W3vcjBTuyPZatw1xagy6oXpaGTogt9SfZvI/4qdA1tHZ5rL0HOO77aCf7PtpJ4vk9GTfb80vpkH+MZMg/RlK4J59f7zr1j+VofPRBh+BNCPqub9IjXs9G5BXXkvP5h+Qv/objjiUVta8fNWnHKFj+I1nvL6Bi1zb8+vQHIH/Jd+R8+RGFvyzBVlVJwPCzWy1cbWEBaqM/+oQkuZ9lP1Cw7HtqMo6ji6zfEpb1/nzyFn1B1n/+jT4+yZmeOmeWiwwtoQkKprYgn4x3/kn+4m/RGFs+ALGOhvNjN3sRhMxmI+fLj/AfOITCX5agi6r3etcEBVPw0yIy3nmT4HHnei2DQvelLjZCYO9Qj/m6YAN5m7Mwl3ZMxNLgvvXmYWNckFdKS+H2bMKHx7ZYrmCb7NAXMiCqxbKlhwoIHVRfzr9HSKv7awq72eoWeEyhc2nt/HfU/UpfmcqSa79h/8dNh4MIGxjhtrX4VMTnJFgQO3r79Mlq0xNeLw8Vrmyw08ShUoVdfAWGHr1d/D1UOj1VB/ZirzUTc8td6OMTURvaZjayVVeiNhiIuGwaWf9925me89l/ibn5TjIXvgWAOdfz21zgsFH4pvR1yiBUKiR70+v9IRPPI3/xN0gWeVmj8JclqL1UXFzmxwuqjx1Cslox5zg8tkX9G0bRSvlt2m6qcUlvjpFR13Ko5A/KzXlcmPQQKqFmZfoCrPZaLu7xKD8ff4MgXTSjY24EoMZajkETQEF1Ktvyvne2MzrmRvYX/cbYmJuxSVbUQkN25QF2FyzjnPi7KDFlEemXjMVmIrVsC72DRuOj9uXn4/Khh9HGvoToYwnWx4EE60585CLnxT0eZU/BzwwIvwir3YxWpWdd1kdUWopcyhRUH8dPG4yvNojy2nxSSzeRW3XYq7mINvYl0rc3UX4pTrkaMjD8YmKN/amxlqFVGdCofFiV8Q61tq459dVqsjD82cmodRpsJgs1Ba7/+Xf9cx3nvHsVq/7yjUv6L9d+xrT195C2eD9CrSLu/N5Of4+WsFtsjJlzCbogA5VZ3vkdFGw/wfBnJnHu+9OoOF7i1t/ly27nxO/HCO4bQUVaCUe/qbeQxF+QTPiQGGyOLc81+ZXkbkgnd2MGY1+/jJGzzsdWayV8WKzH/sqPFuEbE0BNQRXbZnu3bLfn3xu5ZPGtpC85SMGObJdlKIXOwS/a2Kry/vEBLtftCQ9fkVnGzre3sPPtLRjCfLn002muxwUgB3H7+tyPsJo654HrDZLN7mJdORknf7f1UMrmKD1a0nKhDsBrpcVW5SEapBBkvb+Amgz3ENG9Z85xLsfE3/2AiwXEWwyJPaktcDhOtdJqGDLpQlQ6A9mfvO+UoUWEQGi0zsvmFJzGeJyfZnC27cGmJtStf9vIKN9JnLE/+815qISaHfmLSQoYztHSjc4ypeYct4f4xT0edWtrTPSNHh/2AHlVR9ldsJyLezxKlF8KqzLecWkjp/IAOZUHiPMfSFLAcI9tJAQM5Zfjbzq/j46Zzsr0fwHQL3QyOZUH2FUgb1UN8IlgTOzNXissDWXwNDaAWGP/Jsd3smi8jPPDuQud3xef13wI7GPf7uHYt3vc0quyy13a3fbK717Lk/dnJgf/53nps7klp5+v/rTJ/n669MMm62WuOELmCs9bXxeN966/hmT84v730HBOAfK3ZLU4twonl/DBLVvbGhI1ytWylr+jY2KB1BRW893Fn6IPMTBt2U0ueVd8dz2LLvusiZqdT+7WHKLPrp+H3lP7sPfDjt0B5U2wxJZovGx1Yl1Gu9v0hnYtlhUu/5Hom1xPPxUadz2otQqL0PoQdtEULMXy23feD18Rc9NfnfnRN93B/7N33uFNVW8c/97spGnTpiPpLoWW0ZZSZil7IwoiAooDRfEHigsRkCUqyhDEgQMniCgIiCxZsvfelBbo3jtt0mbn/v64Jmma0aS7cD/Pcx+ae9Z7Dm3ue895R+Gevxz2weDyoco2BzVyRoayE0fgN3ocGDzqjN17aO1hpB2hys6EexfKKIzl6eV0O++howBQ6+DsQWFB1T0ECKNAgECJMhMFlfcQJqKUBpXOHCeCSbAR6/coBoZMw/Cwt232dV9mPy5Fucb8JVKmqptVe1Kp+WFXqsoCi8EFk0EpiwTBhJ40v/UYSB2IBo6Hfq1wD0a2mYUe0gkIco+pvcGDCB1inqYJcA/ygF8X5xWXmsc1afucj/HiDKpSJf4auRHaSrMRbvW4MC2Bu1stQwLUDLXfWLh6NNdhUrTF53vbHUe6bijq5T2kr6pEzi/fos2cD0AQBLSlJcheT7015f72I9q9vxxVqfdRsH0TJOOoxEwcXz+EvkkF7TIeKxXt2Q7ZeSqAULsPV0GZeg+KxBtI//wTAIA6LweyMyfQ7v3lIEmgYPsmqHMdPzCL9+9E8PSZkI572iSDkerHWcaf7y16B9qyEpRfPIuQV2cCBAOZ334GUff4Oq+PKjMdOnk52i3+FCUuHB8V7tqKsFkLAYMB9xa/63Q7FoODIPcYpJVf/O8zFxK3CGTKrwEABoe8Cg5TgKOZa6HWUztDtnYj9A7ikZCkefeJdDbmcw20Bvs2P7eL/8XINrPAIFhwY4sh4kpwKsdx3hJXya9Mxv60ZPjy2yDIPQbRPsNxIP1zi7nR0DzoaORqC48rjkfjRO/tMacP/nnG8UumPVwJTOcsapkKdzbeQOdptneCmxtbOxZB/UKRXY/IwrYovJoPvzizQtl/+VAcm+WkswyAuNd7WnxuqmjXTiktRoXCFuqCPJtuyZV37+D+R+aIohVXqQeppqjQrhePI+8exZ2bFv3Za1P9c9baz10ep+zUUZSdOmrxuTq23J0drU/hji0o3LGF6uv0cavxM79bbXWPYLIcxo9xRJB7DM7mUludSl0FJIIIJJZQMTA4TAFIkCaFRcB2fvenqblRVP9IprVRpExDkTIN3STj0FbUy+Io7UHmYc+BRENRkVFuEco9dHjbRglkJgp37ntm2PePNfjY9qh5DNXSkGdXwD3IbN/Tf+Uwm9mX68Ph1/di0mnzSUlAn2AQDMKpMaofXwFo0gB+D3e4xgeMKm0Z3Dk+ps8yVQ7c2F7QGczxUqoftXSXjGtS+ZyFBNmomajbesab1oEgGBDzg1ChaflBp2geTnhejXN8UdOuIbBv7dFn60rUi11qrVPT/qXgkmN3eaBuRyfiDj4WOwwtkRs/WNub9V06pEHHsGXk3G1m71rbufm7I+HDQRb3kjY1XYoOOoz/A0RGxTV09Db/MqWVX0JC4POmzwfSP0ewewyGhr4Bpa4cp3LW27VrqSs1j5uMn501fBWyKZfXISGvASDAJFggCAYOZ3wDrUHlsgzVfzbKwGbwMDj0NbAIDjQGJW4VHURhVYpTfdPQNDbaSi3YbmaHgHH7nsXmfr84FenYFW7/eg2RE6JMYzE5TPSc2xcXVtjfOa4rsdO7Q9zBByffs45yzuSy8NSxF63uH3699t3WMdsmgsFmQiNX4/Lqs0jbd99h/XZPdEDPuX0t7l396nyt4zQ1GQdT0HNOH4vju+CBYXjm7FT8O203im7YDpfP8eAi6sUuCEwIhkeYJ/6Id2yIvuPxTRi7c5Lpc+SETvDu5IMDL9uOX9Pp+c7oMsPyWCjvXDY0cifCfDQQBOnA0JMgCDp6E02TYnTPrk4n7yEwkHoklR5rHqFoHiqeOTfV4nNtX/zVefLA8+CKzLYhR9/ej7xzrhmscz15eHL/czbLSANpMwCbKzI29ljV12/HmE0Y+t2jEAZaujKDBEjSdv8AcOTNfci/UHsCv6dPTnFoQFrTfbgmBq0em/vZ93prbp4++RIY7LrvOjvzexE8qA36fjzI7joZdAa7QQKrCiobLTklSZI2fzno4yGaFkd1WxseU4gQjy7IqLjioAUNzYODWqbClS/Pw5ade30jxtodywYNMZZA4oZdT26BvGYOIsJ2/3q1DqcWHHFKYXEGRwqLPLuiRSssALC53y+NnrE662gaNvX5BRXpthOD2lNYMo+kNUs2bfp4iKZFcShjDbpLx0PElUKjr0KlttTC24mG5mEgadNNJG26iagXYhH7ag+HddUy545NHY2V+s9djPptXK02Iq6O5RHqieKbhdg9cSu8O/li+E9j7CpDZz86jrS9rnkLbe63DiFDwhEyOAwhQ8Jrb0ACF1edQeahFKjLm+5Ioz5UFVTij/if4B8fhL5Lh4AtYDusr8iVI/9CDi4sd+2Yb8/T28Dz4mPkhrEQ+Nr5PSCBMx8eQ8bBlAY1CnaFeh8PcYID4L/Qtl0EqdZAW1QC5c0kaNIyUXX9ts161Qn9/tNa69RGzvxl0JU0TXQ+GhoaGhoz1Y+Hrq45jzu/WwdGpGlaYnYtwq3xy0BqWk7k39qwdzzUqDstBJcDTpA/OEFUwCDl7WQUrvml6TIr0dDQ0NA80HTc8A5YntTOgK5Mgfxfj6DsiDnnUMwu6zAVAHBzzBKn+vefMhTCrm3B9RdDmV6AvB8PoCq5YY6v/KcMhfiR7tArlNCWyhu07weVJj0e4ke1R+jaFSjdtAPyY/ajrtLQ0NDQ0LjCzTFLAAKI3joPLE83FG0/Y74PSnlxVlExEvH1dKhS8pC2aCN0skrw2/k7nQ/O2b5vT1wOgkGAFy5tsL4fZBpcacmYNsf0M4PPAy+yLTwfHwF2oNkvXjxpLNRpmdBkWFvV58xfZrfvwKXzTD/nLVsDg9x25mZdmXMJ4GhoaBqW95d7Ir4vFzlZerwyyX5+kxuZgegcQr9R0jQwJJCxfBuC3hxtUlrqAy/EF/deX2v6rLyfZ1XHa3AsAv43ApqicqTM+hmG/45g+O38IUroCDAY8BnTE/IrKcj4+E+bfZMG0qpvr6FdIHluIFgiN6gzi5AyZx0Mair9QMyuRSjadtpu3wAQOONReA2ORcGm49YxWQig7fIXwWvrj6I/T6J45zmT3ASHheCZY1G07TT8JvWHe5dwFO04h4KNVKBVhoAL75Hd4PtkAvRKNYp3nEPJnot1Wd460ajeQwalClXXbyP3o9XImDYHykRzkjP/+bYTGOpKyuxe1dGXyuzXcyHRIQ3Ng8T4Z9zQrr1jQ73G5KP3ZNj9l7LWeo2psIx/xg03Mlt2xFOaxsOzfxQqziU3SF+yYzfR4Ze34N4jwma57/g+8BwQjdtPf4rU+RsQtW2eVXn5iVu4NW4pGFw2QmabA3oa+7YHy9MNSS9+gVtPfIKs1TsQtdUyIryjvoPfGQtugDduPbkUimupVl5UMTsXIeOTLbg9fhmEXcKt5HaLDgG/nT8yPvkTt8YvQ9lBc8TbqM1z4BYdgsRnVyF56hpoS+RoSprU5bnwSzrjKg1NY/LmXI/aKz3g0GvwcBKzaxFidi0CJ0CMnG+dz/XmiKzVO1C0/QwCpz+CmF2LEPjao6YyYWwbSCcPRtpiKm2KXq4EqdFB0DHY3AFJQplKJZnNXL4NHn06WfUds2sRorfPt+gbALWT8h+qDBsRu+307d6tHTwHxiB1wQYA1rtDwtg2qLqTBV1FFQAgdeEGK7lZIjeUHrhicrvXFFq6QwvaB5mOsirOJtlaukajyV2eSbUGBJeK8sfy84ausKSpRaCheeCI7cbBW3M94OnFwJLPPKGsor5t9u5QYtsflLv4J194YfQ4AbIzdfD2YYIvIFze8fjtb1/EduNArSbB5RLYu6MK773pvKfewqWe8BIzMGwU32rs/WeluHxejaEj+agoN0DiTwUNWzy7DH//SX3BGndQcnP0CAikyo39VF8DAPhli4/VGgDAtbRAkCSg1ZLg8Ql0b5cLjYZ2Dmjt3ByzBJHfTIfsWMN6K5XsuWg6/mi3eirCl7+I1PfWQ9Ce+l0Me/9pU13FjTSLnX51bqnpZ4NWZ+XubeybG+yD4JljTX0DQPT2+dDklaIqKRuqLOujVnt9c0N8Hc5H0D4QbF+RQ7kdcXPMErhFhyJmx0KQBgPuTF4Nvbz23dWGosmVFr2iEqz/lBYGl9fUw9PQPJBcv6zBSxOLcSMzEItmyXA/WWtVZ/Q4Ad6ZXopDe5VgsoDTNwPw9Atu2PyrczFwGAxKMVixuBy/r1MgpA0LQqFrhoMfz6fe2Owd3/gHMDGidz5OXPfHq5NL0KETG0Me4ZuUlt1/VWHNygrk5+ox5VUhZs4ToXs8F5fOqS3WAABemmj9Rd8zgQudnkR8hzzodCQOX5Ji5gIPrFhM28E9COT/egRBb41pNBuL9CWb0fHXmQAAg4r6G0v/aHO9+1VnFVv0zZF6gWAxcXeG2Z7G/6VhTvVFqq3/9qtjUGlRlZyDzBXb6ixv5a0MJE/7Gu2+eAVtl79gIWdj0+QRcQm2WU8yVNIBw2homoJHnxCgotyAQ3upNyK9Dugbk4f5Szyd7mP5GjFOHFHh93WUAXxmmg6JNx1/QbrK0kXlkJVRb3ynj6nw95+V6BhlttFZMLMM+bl6AMC67xTYu6MKfQZybfZVE2kAEz9t9sGovgXQ6aidlUmPFeHZKUIk9HeuD5qWTcWFu2C688ENdrzbUB+MQdVKD1yBXqGCoENQg/ctSuiAivNmuxwGz3k7NdnJ2yD1BnCktrNrlx64AlGfjvUTFIAmvwyJT3/aqGttiybfaWF6mFOh60pthw2moaFpWDrHcXDzqsbinvHB7Sxx3Tn44avGNbqTlVpuURtIgME07+YcveIPLzEDR/YrUVCgR1RnDvLznNua7taLUkx+2uRjcT89RQe+gM5o8qBw99VvEfnday67N9siZtciGNRaaEvkYAq4YHm64c7zVG40g1qLxGdXImbnIqjSqASGvDYSp8c19q3JKaHcnQFT38U7zyP6xaEImfMkGDwO3KKcz8CtlyuR9NKX6PjrTCiup8EtOhSaAvOz1qDWonTfZcTsXATFtVTwIwPAdOO5JLe+UgXlvVy4xYRBftlxksqGpkmVFrakaTWyutJ76GLkpJ1CZsrh5halwYjq9gIEbn7gu/ngfuJO5GbYdgdkMFjoO+ITnNg3t4klpGlMrlxQ47FxlrsqLJZrRzu3rmvQZyAPW39vnh3SPgN58PZhWNjCRP3NcdDCkmuXqLDtc98oxZ1bDbtDRGOmrskb68qdyastPqtzSmw+gOuixNTahrRfR3k/D3df/dZcVaOzqOuob1JvcFhes6xm37oyhcP2Od/tRc53trNo1+yrtrGbmqZ5vSAIuPWMQ8BHs023sud83CRDtwY6dJlUe6V6cvvyr7h4YiVI0rGxlcGgaxKFpSnm3BIIDWMiJUsKL7Hln9q8Re5IyZLaaVV30lJ0mLXA7D3DZlOKyYE9Srh7UAawAMBgAqdu+uOLZRVO9z37tTIMHsHDuElU9FGJPxPPTBE2oPSOycmyDEH+z0kJOsdZKy1pKVQ9o72NcQ1ysvSYMqEYf+71Q9tIars9OpaD6W+7W/VBQ0PTMmnwnRZncgcVrP4e+nLnvyybh6bzJvDz74Kka02fLbM5ac45P/2sAFcuaXA3ufnycCxbIseyJQ1/1PL4oAL8ssUHV1MDcee2Bms/l+PEESrJXeeQHHz5kzdWfO2FchmJWa+W4vQx5xPg6XQkurfLxZp13lj4iQjZGXp8vMC87fz1em/0H2w2rjcaxPaIyIVaTWLRMk9MeNbNqnxkQj5ys/W1jp+eosPHC2Q4kxiA3CwdnhhSiPAIFkaO4VutwaDhPBy84A+9jsSCt8tMa3D5vBrD4/Px9TpvhIazcP2yBotm0XnKaGhaC42aMLEmmoxs5C39ynnpalBdIcqevQT6irp96QeExCO47SBwOO7QaOS4f3snSgoTTeW9hy5G5v0j4HDdERjWB7KSFNy69ItVP23aj0JASDwIBhP52Rdx//YOU1mvQfPB5Yksdi28JVGI6jrZdK9tx9GQBHYDi235pZuVegxpyftcmhOX74lOcc9B6BEIZWUR5OVZSL6x1apev5HLkHJnt9XxkH9IPCKinjB9rrnbEtd7Bq6e+xbxgxagOP8mUpP3IiLqCYh92+Ps4Y9hVPICQuIh9u0AL59Im2vr7JwDw/oitN1QMJkcFOXfQNL1+lvoG7l8ww+TJpQ2idISEsrE0VO+6B5biLJSOughDQ0NjTPYS5jYpNZn9VFYGgomk4N2UU+Ay/MEwWCCy/NEVLcXrOuxOAgOHwAGgwWxb3uERY6wKPf264jg8AFgsrhgMFgICOkNSWA3l2TxkcZAr6eMI9WqctOl07mear5n/zlwFwWDIBgQCCWQBHZ3qb2ysgglBbehrCyyWycwtA84XHcEhCYgMvpJSAK7gc0RIiCkFwDz2or9OtpdW2fmzBOI0bbjaLDYfBAMJvwC4hDUpr9L87FFWBsmdu/zhqcXA/sO+SAlS4qULCnmzLM8HvhxnReS06Q4f9UPveKdt5kw8uzzAty6K8Fvm8RQq63LjePaOx5q34GFlatFSEqVYNM2MRi0jSgNDQ0NBUmSdi9Qr88OL05wABn6/aemq3oZwWJalIkeGVRrf46u6n0xPdzr1Vf1q/8jK8jA0D6mz72HLib7jVxmngeDSfZ/ZAUZl/CGRRsGg2XVD0EwSABkr0Hzyf6PrLAo95ZEWd0ztquP/AnDPiS79nnLqbr9Ri4jA0ITal2Pmvfies8gO8ROMpWHRY4gAZCe3m3JhKGLnV5bZ+bc/5EVpEAosa5P7fzV+0rJkpKR7Vl2y0aO4pEASCYL5M0kCfn8CwKn+37+BQF5N11KMpkgeTyCTMmSkilZUtJLzLCo99QkPpmSJbVq37sPh7yTIiGffpYas28/js169EVf9EVfD/JlTy9p1Hc4UqeH6s4902fPsY805nB1plKeBw7PMvR3buZZ08+kgTpvdxdR/viSwK4AKKPV6ui0SoRGOBcAqCFhsXi4cvrLRh9HVkL9X+r1GhQX3AIAqKpKwWIL7LaxtbaO4PJEAIAqRYFVmSTAtZ0sV3n8CT7Kyw3Yv5fa9dHrgLjoAnzwsfPyf/CxB8Y/XgK9HlCpSLw1wzW3/o2bxRjYpxibf6eCqZ06Se1K9aPjiLR6xM89hrDflsItvnNzi/LAEPbbUnpNHzIa3eW54IsfLWxRAj6ajdz3Vzb2sHbh8kToNWg+DAYdVFWlUFWVgMe3DsKj09qP/cDmuNm8r9UowOHa90RgEEzXBW5B6PVmN1GjIlcd49oCQJWi0O7aOoLzn9LSb6Rltm+SNIDN4dtq0mB06crG9auWrrC6Opi93Lhu7uNWHYKvbdxsuWapKTrwBXTKehqaxkIQ1wFVV13PocMJCwBIEpoM6+zPNI1Dk8RpKd2yC+KJYwBQsVpYYs9mCyzXa9B83Lu1HXlZ5033EoZ9aFXPyycSGff+tdlHUf5NhHd4zOo+380XKUlUoq6auzAAIPZrX1exa0XoEQBFRW6j9e8Mzq6tI+SyTADAyf3zaqnZ8Fy6oMHYcZa7Kqw6/IV0imYj8b84IO3aud7B22+U43YDR5qloaGxDdPLA37vTEb68/Ndbhew5HVUnrmGou+2NJJ0NDVpEhM/+eFTKFxj9r4JXObaL0dDotdrIA3uafrcpv0jIGD9FusuCoKvfywIgoGYHi8DAG5dXg8AUCtl0Os16NJ7BhgMFgiCiU5xzwEASgvvAABy0k8CAKK6TgZBMOEjiYavNNauXG07jQFAgMnkONytsUVq0h507fMW/IN7gsvzhLdfJ7TtONqlPhoC49ry+GIA9tfWiHHOfIG3xZwr5flIGLoY7qIgcHkieHq3Q0yPqQ0mZ8p9HeYtNI9njOPxz24VPDwYeORRym2XyQSu3pLg02XOe6l9/KEcO3Z7g8Gg+v32R9d2miaNL8Wuvd5Y/RW14+TpxcDMd5suFgoNzcOG+Om6mS3UtR1N/WiyiLjKW5ZbbwSLBbIue+/1JP3uQbTt+BgShn4ABoMFBpONrNRjVvVuX9mA6G4vmj5nphwxKSQAcOvSOsT2moa+Iz4x3bt/+2/Tz3lZF+DrHwtvSRT6jVwKALhx/nt07jXNaix5eTYCQ/sgMLQPACA16R9kp51wek7ZaScR3v5RREQ/aXE/5c5uAJTHTkBIb3D5niAIBsIihsHPvwvUKhnuXPsDANCp6/NgsXjg8qioqd37vQO1qhx3b26DWuVcMjnj2vYcOBcGvdbu2tY255sXf0b84AWIS3jD6TVwhW/XVOKzL0U4dtoXbDaw/ucq/Pg9FeV1/c9V+HqtJ7Iy9RCLGRC4EfjhO+cjwG5YV4mFi91x5ZYEbDawaF45Fn5g3r0ZOoyL4Y/wENuFCm72869eyM3RY+VyBSoqDLhwXoOqKhKPP8HHo6P5pp2ez1cpGm4BaGhoTPCi2jZpO5r60eBxWjKmzbFbVzxxDNyH9AUAkFotMl9f4IqsDRanhYaGhqah8BjVF+4De4LlJ4ZBUQldsQyKk1cgP3zeop74ucfgMSIBRV9vQuX5m/AcNxTCAd3A9BBCV1wG2V+HUHnuht1xmF4e8JowHPwu7cEQ8GCoVEJ5/S5K1u8EqbE+TjSOZzz2YPv7wGfaBHBCA8zjXbgFGOzHD+JGhED87GPghPqDYNm2ybN5rEIQED/3GNx6RYMhFECbV4yyzfuhvJ5sXbcehP1GvRDWXFMGjwvltSRUXU2yuabsQAmE/eIg7BMHpqf9ne3MVz6AQaWpdzufqeMgHNDdtFac0AD4/O9JsP19obqTiqI1m2BQ2YiP8BBjL05Lk+YeKt2yy6S0EGw2+NEdrHZgaGhoaFoDHsMTIH7e0raNKXIHU+QObttg6GVyVF1OtGqnl8lND1sjbKkPfGc8DZ+p45Ax9QOrNjXrAwDTQwhhv64Q9uuKkl93QX7onE05CSYTvm8+A0FXc2Z756feAAAgAElEQVRf43i+M4DceV9Ck23trRfy3UIwhJRnoDanEOwAX4AwP0c0GXlQ3rxr1U44oDt8po6zuMcJkkDy7gsgdXpkTFlkU876YGtN3RK6wC2hi9WaEkwGApe/Vadx6trOPDYTkjlTwOsUbrrH7xyJkB8XAySJ9Mmuvcg/jDR5lueCz3+AZOb/AAB+b7wE2a6DKP/nUFOLQUNDQ1NnwjZ8YnqAF375O6ou3bYoF/SItqmwAIB04f+gychF7sKvLfv8bSkILgf82Egor1sqAwWf/QqmUADFqasW93mdwiGdNxXeL4yxq7SErqcS3OW8+xm0BSUW4wFAwLK3rHZL3OI7gyEUQJWYivxllgkQje1yF66xGost9aYUFoMB6S8uAqrt5Pu88iSE/bsheM08ZL2xzKptfbC1ph7DekM8ebTVmpJ6g8V8jfNxxhDXVjtXDHFD1y8xKyf/rQ3LxxNBn88BCAIBS99E7vzmD8LakmnyWJuqpPsgdWZ3Wc8xw5taBBoaGpo649Yz2qSwZM9caaWwAEDVxVsO+6ipsABA/lJKOfAab/2dqLyWbKWwAIAqMdXh8Y6Rom82Wygs1cezhee4oQCAgk/XWZVV7D8NgNohqEngp+8AANKnvG+hsABA8Y9/AYDDY5X6UHNNK/4963BNmwWDAVmvL7NYG12xDLKdRwEAnOCGT6L6oFHvnRZNVq5DOxZbZM5w3p11+N5pODjqewD27WVGHX8D99ZfwL11522WNyejjlPGpAWnUnF5wT/NLA0NDU19EU82e+bpil1PtmhPoVHdSQVA2Z64gjo9F9zwIDB4HAs7iurj2bLrUN1JBanRguCwrcoYbpQHHam3jsdktJ8hmDbeeY3HR3YUKXVqNrjhQRD26QLF6Wt25+QqDb2mjUXF/jPQV1gb1cu2/Qv3gT3AFAnBDvCFNtd+OpWHnRaf1cSRoXBjwORZ/wHXh+uf/IvcQ9bnvvWF50e7wdLQNAdMEbVTYMv41Rls2Y9YDuDi13It35GOxqu+610d40OTLfW2KuO0obJz19y5cQZDJRW0kyFq2O+vBl/TRkJbaH/NtLmFAAB2gF9TidMqaXKbFlf599Efmmws77ggsIQcFJxMbbA+cw4mQSNTIuTx6AbrEwAGb52CvQOsz5RpaGiaBk163YI5avNdf9iDIOD/4Wvg/qcwNPZ4hZ9tQMiPixG4chYypy8xKRv8mAjwYyKofmvsBlQ/9rFlOFwdlsj51BjOUKc1bQb0Mvser7rCMqAjZeNCYx+nlBa/hDCwhVxI+7eDT48QVKQU4+xrW03lo46/gb0D1iBkdDQ6vtEP5cmFOPcGdX7JcuMgYe1ECPw9UHI1Bxdn7zS1EwSI0OapOASN7ABloQKJXxxH8eUsAABHxMfQXVRAMVsP5+7LR8M7LhCXF+61KoucGo/wp7ui5GoOUjddRsmVbJOcxyZtQMJ3E6BXaZF/IgV3vjkFAOixcgx8e4Za9LNv8Dcg9bWfFxvnyBULcGXRXtN49W0Xt3gkJP3CUZVbjrKbebi58gh8e4Wi89whpvkYoRUYGpqmheDXMR+UEzYoFuOwWAhd9xEAyral9I9/oCssMx3dBC5/C+xASYONBwAGlRr5S36AdNH/ELLW0tuH1GhtejgZlJTLLqnVoWDleof960oaOCJ6HebYHDAEPLtlBJ/KKG9UEGls4/ROS+yC4dg36GuQBhLeXYMw4sB0HBix1lQ+4LfncGH2LmQO/w48H3NunuF7p5naidr74ZHDM7BvyDcAgIGbJuP258dM/VRvpylXYu+ANRYPZiP91j2DnANJuPTebgQ90tGirMeK0ai4X4z9Q7+FqL0f4tc8iZMv/oGqXCpAWscZfXHo8Z/Al3qg3y+TkHf0PmSJ+bg4exe6LByOvOP3Xdpp6bFiNHzjw0xzHHHwVYvxHFF9bWq2G3X8DZx7czuufrgfBIOAMIyKMlt0PgOHx/1iUhRpaGjqCINRtwd6lQoMAa/JjCYDlr4JAChZtxPyI9Z2eww3+wlL6wPrPzsQey7RNSHVlD0NwWaZbEloLOFGhEJx8orNMl5Hyg1afS+jKUVqdTh90FdyNRukgTo7LbmSbWX7cfz5jVDmVwAAVMVUBNGwcbHI2nPb1K48uRAEyzwkaSDR8fV+cG/rY9GuNtzDvZG6mfqPz953x6LMNz4MyT+eNY1355uTiHqrv6ncaAyrzK9A6qYr8OkW7NSY9vCND7OYY83x7FFzbaq3Y3CYIA0kSq/nAKDWSZ7aOrY/aWhaKmEblyLoy7kI27gUwWveg8fIhDr1U7Zpn+lnpkfj25YZjUhtKSxA43nj+EwdB01ajlMKi4n/7GsILqdRZGqJuKI0ug/qYdMo2GviCDDdqZf21nLU1Vw4vdOilbserY8vdYeovR86zxtqupe936xk7Bv0NQgGga4fPwpJnzY4NmmDUzsUtVF9PAAoS8y3WY80GGxbwLtIzTnaG686ttbG2I4rdoOmrKrectHQNDUEh42gz2Yh643lzS2KFenPL6jVaNUZ5McuwvvlJwAAwd/MR/7Sn6x2FtgSb7B8vKC8fb/e46nvZ4LbLgTeL41FyS87LMoCV75T7/4dwWkTCE6ov9NZjLPf/QxBn72L0J8+QM57X0KbY6nwsLw94fv608j7cK2dHpoeXUk5WN4ieE0cjrItB11ux4+1dv12ROCn7yBjyvumNDYsb0+IRg8AAGgymjfpbWvAaaWF68V3uXNVkQKyxALcWn3Ubh3SQOLy/D3o+uEjiHl3EM6/s8NuXWe5saxpg9XVNkdbOFobjawKHK/G2fKloakLwj5UdFFedFvoisqgOHYJ5Xus82Ox/X3A9HLdyDJso23DzfTnnEuuGrZxKWTb/oVsh/nvKWDJDJTvPk6FqgdMCkvYxqVO92sP+ZHzcB/cCwAgnT8V8mMXoc0uAEvsCZbUG4KuHVHy89+19OLkWMcugdsuBO6DeqLq8h1o0nPBEPLh+cQQsKU+UN6+D35UuwYZywKSpAKefWx5RK+XV0Jx8orFjpMRXWEpSL3BFHW24uBZyviUALhtgy2i8rYUFMcvwXPcEIhGDwQnLBAV/5wEweOAEyQxxU9x1A4AJHOmONVOk5kHTog/AlfORNmm/QCDMCnAAFCyrv7Pvwcdp5UWr5gAEEwGSL0B3t2CoVfV7u6XtvUaRh1/A3e+OQm9mtIqJX3DUXCKeivhertBXUIdCaX+eRVd3h/hlCyK9FK0mdgFaVuuIXB4e4uyglOpiH5nIG6tPgYAYLCZYHJZ0Cpq3ymSp5ZA2r+tSzYtBadSEfJ4tGmOzo5Xc22qt9OrdCAYBEQdJChPot5U3EK8UJnpekwIGpr6In5hNNz7d0PZloMo/GIj2IF+ED87yqbSosnIq5dCUJ+2nuOHWSgttvCaOBy60nJ4PjEYsr+P1HmsknU7UbJuJ/w/mgFum0C4D+xhVUdf3jC50RTHL4HfORJuPaMhefcFi7Lc97+BvqwCwWucj33lLMrEFJvKENPdDaJR/SAa1c9mFNmMFxfCZ+qTEA7oBo/hva3Kq67YjhTcXMj+Pgx+dDtwI0MtvKMAOFRaZH8fhvzYRQR/9Z7T7Up+2g5tQQlCvn8fvm9MMt3XlZajZN0OqFOcc+J4mHEqYaJfQhikA9qB7c6DT/dgyFOKceZVa+8hWzDYTMR/NQ7CMDG0cjXub7iIrD1UBMkeK8fAPdwHXC8+Cs+k4/JCc/C1wX9NAc/H8ry4+hg9Ph0DcWwgLs3fg16rx1oElwt7MhaRU+OhlauhSCvB5YV7YdDqreRs+2w3EEwG7m+4aLrXffloiNr7AQRweOzPta9gtTl6RPii5HKWaTzj2lQn+YczSPn9cq3tAKDbJ4/CLz4MiqwyFF/Mwp1vTprKPNr5oMfKx8Hx4KH4chYuztnllKw0NK4StnEp8hZ9A3VaTqOOAdRdaQnbuBTKa8movHgLiuPU31fNnRZOsBQBy95E+vMLEPbbJ/XebXlQkbz3EvhR7SgvoZcX26zjNWE4RGMGQn7kPErW7bRZh8aMMWFi4ecbW5zS1lKxlzDRaaUlcFgHXP1wfyOJR0NDU1eYIiH83n4O3IgQkFodCDYLlWeuo+jbP6kKDAbCNnwMg0oNgiBAcDko33MCZZud+3v2mT4B/M4RKPh0vd3YJKLHB4Et8QbTUwh+50grhcBn+gQI+8ZBV1gKpkgIgsuxqFOr0mJjDjXbpz833+Lop6bSErjibbAD/azq0VhijLGS+eoSGBT23W/DflsKXWEpsmetairRWi0mpeWLjXZzUtFY0iKyPNO0HNKyKHfNNsG1Gw23FIwyGykrM6Br58Ja270wRYAPPqLsLFrTfJ0l+Jv5VBI2Ow/h0J8Wo+ibzag8S4VyF/brCp9p41G+4ygMqtqPTYvXboXfrMkI+Ph1AEDZloMo33XMok55te3wmvYpDKEAwr5xFvIJ+3VFyPeLkDltiUXd6m3VKVnIW/wdGEIBgr+aazWHkO8XIfutTy3moEnPBb9zJJQ3rKNQswP9TPl7Ks9ch2j0AJTvPl7r/B9WHCksxgBomqwH7++JpmXjlNJSeCYdhWfSG1mU2nHv1Qs+Y8aC4Jjd6Yq2bYH8fMvLOdTSuXpFi/Q0XXOL4RJGheOpSXws/1TkdLtdO1V4fCy/xcw3LUva4MpT2dZ/7ZYRHLbpYQ8AipNX4D40Hh6j+kK2/bBT/Rd+tsHUV8Anb8Br4nCndypEo/pCfdcy9oTi5BX4TBtvVddWn6JRfW3OwWfaeKs55C76BmG/fYK8j763SAHCklBxjoR94yDsGwcAcEMsrbQ4IODj120mdmR6eVBZiQEU/7CtqcWiechpVTstvuMnAgYDirf/Bb1CDmFcN/iOn0grLXVg3OMPTyyAslLDAz9fg8I1F3lSpXYYndNuO40Wue99idBfl4DgsJ3Kv0PwuU7t6Dhqbw+rOfynqHiOGQhSa1ZS3XrG1Hn8hw1tfjHYUh9wQgPg9dQIyI9eBKnVgR3gC06AH7yeGUVVJEkYqlTNKyzNQ0erUlqU9+4h7wezf3/lzZvwf2VaM0pEQ+Mag4fWMfR7LfBjIyE/csFuudHzj/qZCU7bIFQcqpuyT+r1IPUGcEL9ob6XWWt9dVI6hH3iasjDdHo8dVI6MKy31RwAQJVsHT209Lc9ED//mIXtgNdTI5A5bYlFiPSw3z4By1sEXUn9Y0M9SOTMXg2WrxeCVs+G6LEBED02wKqO4tRVFH+/1UZrGprGpVUpLSyxmEp9Xm3bl+3r24wStS5q2oQA9m080rKk2LZVidnvlCM0lIlvv/dEZHs2Ll/SYNpUGcrLGy7Xx9vvCNErnoPOsWzodCROn9Rg5acKpKXW7zjH2fmOHsPDl197om1oPk6c8UVRoXlnZu48d7z4kgDvzS7Hzh2Wb5VcLoGFi90xahQPfAEBhYLE1j+VWLnC2tV10rMCPDmej27d2TZlW/ttJVYss24XFc3Gp6s8ENmejWtXNTh5QoOvvrBMba/JzIegWye4D+wB+bGLYIlFEHTvhIqDVGTo0t/3Init2X4k+PtFYPA4qLp4y+7aVcdv1mSUbd4PXX4JSL0e7kPjQTAZTiksAFB5/iZ835gEt57RlFEsg4Hg7xeh7M8DTrdnikVWcyj784DNOVQcOAMGnwvP8cNQefqa6X7NnC5l2w7B9/VJLSrQWUtBV1Rm0525rqxMHA4AmN3J+eBtDxLFP21H8U/bm1uMB4JWpbRocnMQ/ukqKFPuw1ClhKB9e6izs+D33POmOoUbf2tGCVs2kyaWwkvMQNtwFmbNqT38+MhHeBg/gQoqmJGux507WvSK5+DaLT8M7FuEjAzbae2dpXMsGzv3eJs+y2QGCAQEHnmUh/JyA+bNrahX/5MmliK8LQs9e3Hw+FjHRyEEAdxLleLaNS26dWdj915vbFhfhWee40OtJvHFGk/s2Z0PfbUpJ92nktSlpeqQlkaiTRsmXnvdDa+97malHHXoyMLt21r4+DIQGsrEhl8tj3MuX9JYybR7rzeiY9hQKklcuaxBj54cdO/BwcxZQov+c+d/BYLNgt+syRBPGQNdYZmFG2rFvlPQZuUj+Ov3ABIo+uoPm4aq9lDdSYXk3RfA9HADCAJVV+647HmT/tx8+M18Dj4znoJBoXRZBlfnINtxFJ7jhwEAPEYkQFdYalWnfOdReE0Y5tI8aOrG7E4H8dbW+OYWg+ZBgCRJuxcAsiVdgo6dar2aW8bWcqVlScm0LGmt5StWiWyWJd6VkExW48pg73pqEp9My5KSV274OVU/rivb4Vijx/DItCwpGRzMJAGQa3/0tKqfliUln35GYNFOKCSs+ureg0OmZUnJwUO5Nsf69ntPp+b86GhKpshIls11O3Pet9l/h+xdYRuXNrsM9FX7tTJxOCnwZJPvHehHzt3XlyQIy/KpP3Qjl10bSg6YEmZxv+tj/uQnl4eQr/3Ww3RvwJQwcmXicHLQ1Dbk8uvWbQCQb22NtymHvXHsXcExIvLd3Qnk0ivWbVYmDieDojzIJRcGk29tiSf9wt1sjsNgWv/t0lfLuuzpJfVPvNOEVN1JhDo7CwalEgaV+aq6k2i6aBqWue/aPu/n8wnE9657UrTJL1BpCnr3KKpzHw1NVha1jXJgP2U0euqk5e5H23aWdhgKBWnVx6WLVJu4rmyrMmeR+jPx9beUS+ndu9ZHZEVFBvgHOG8T0tgwReZdO7+3noFBWXejW5qm5e2t8Vg+4iS+mngOK25Su05uXmx8fGkIfnn1CuZ1OYSAju6IGuwHAAiL80SvCUFY0O0wfvrfFVMbI+e3ZuO92EOIfyoI3sG1p36xN44jynKUWDX6DOZ3PYRBL4dZlXOFLCzqeQRfPXUOhamVNsepKTdN66FVHQ8FzZoNjtTaTiF19qxmkObhRaslwWYTEPBtxv5xih69KIUnP79+R0yNgUpFKSNFhZaycdjOz5fFrMfa9KAUHqXSWikCqDXz9W057xv86HYQTxkLQ5USLLHIHNSOpsVzeTeVCFEpp1KHAEDsI1JwBUwY9NTv37V/8hE12Be3jxSix7hAHPw2BQCgUerBqPF7XlVOeZOd+zMbUUP8cGK9taF0deyN4whFqfllIveuAgSDAGkw/62knKeOAqvHTa05TtfH/B2O4YiE8atw7eAqVFW0/Bg1npL2kIT3QvLZDc0tSoPRqpQWXbkM2Z+tbG4xHnqMXwYEUfcHc3R03Xcimgp5zZ2UGtNdutwDk55t+MSWnbtQa8PnEzaNiVsaitPXoKhm8ErTeshLtjb+juhN2ZkNeqWN6d7d05RhengPL2xddNt0v7qyUJ2Ui6UYOCXMKRlsjeOId3cloCRLiYvbc8AXsijfDBfH2fv5PadkexDQ66zt5VozrUpp0RYUIvT9DyC/cN6U1hsAyg7ZD6xF0zKRyw0AWs4Rh6scPOKDiAgWFsyrwB8bLY1q66toyCuor+DsbD369W45x2c0Dx4hnUW4caDA4t79c6WIHuKHoz+mWdW/d6YEEfFi3DtH7WYYd2dq0ibOE5k3nXMltzWOIyTthFg15gwAYMLHUU63c3WcBwFZQTJkBcnNLUaD0qqUFlHfvig/fRrKe/fgnG5N01LZvUuFmM5seIkZKCttOPfppiIigoVKBWmlsNSKE7+227cpMXOWEEFBrVepo2kdRPT2xrj3O6JtTzGO/ZwOADj9eyZkuUosuTAYJ9ZnILyHF7YsvI2yHCW2f3QHKxOH4+SGDHTo74uDX6dY9Pf+iQE4vy0HQ6eHm9ybWVwGIuK94ebFRtfR/igvUCPlAqX0rJ9x1eY4jjDoSQx9NRyhsZ4ouK9wWNdIzXHCu3thboz9l12f4Di0iR0DgsGCrCAZpbm3UJxl3k0kSQM69n0ZQq8QkAYdbp9YC6Xc/IIhEPkjIHIAfIPjIC/NwK3j31meVzlB9MAZ8PBpY3HvzLZ3TT+L/TuhbfeJAEki+fxGVBRZ/l8kjKdyQlVV5OPawVVWZWe2vYuOfV+Gp18ktGqF1Rz8wnrAL6ynhQwVRSnUXJqT1uQ9FLJgEcmRSJpdjgfhctZ7yFZZcoqETMuSksNH8OotQ0pGy/EeMn5+5FHq84cfe1jIWvOzrf72HvAh07Kk5Nx57jbHmjVHSKZlSUmBm2PvhREjKRmmv+Zms1zszWj23yH6at3XysThZMzwhvk+NXoPNfecGuJy8wwg48ctJwHqb9QvrAcZ2H6QqTxh/CoyYfxKks2j/sbdvcPIhPGrTOUiv3Zk/LjlpCSc8pbylERalDtzJYxfRQpE/iQAkmAwrdonjF9F9nr8Y5IgGCRBMMheYz8hpW37WPUjadOL7DL8XZv9O55DBBn/xHKTDO3jJ5Md+77cpP8P9vSSVrXTwvL0RNC7c6zu04a4tePnx0C3Hhx4uBMWnidvvi1Efp4eubl6JCfpUFTUdLsezz9Tit/+EJuOU0qKDeALCAgEBO7e1WHEkGJT3dAwJqJj2AgIYGLAACqqrEBA4PU3hcjL0yM/T4/Tp8xnt8b5BgQw0TnWbD9Tfb41vYNc4eABFYaP4OHKdT/s36dCfG8O2oSzkHTHcUC8zz5V4PU3hLidJIFKReL6NS38A5j4+cdKbFhv3rU5sF+FY0fVmDvPHXPnuVNrwycgcKO2408cV+OF58rqLD8NDWBlpkUDQKOsAIPBAlfgCXVVGQrTL1rVSb2yHVoVZQ8kL0kHADCYLBj0OkT1n45L/yyBRkkdj8kKqHhCnpJI08/OUFVOGUmTBsohgMMXQaMsh29IV+g0SlzcvRgkSX1fX9j1PnqPW4H8lNNO9+9oDv5t+yD37jGTDCmXt6Ln40vsddWktCqlhVZO6s5jY/hYtNjd6v7MWWZ31cWLKiwenI3NqZMatAnOx4L33dGzJwcdOrJQVUXi4H4VFi+yNBB8dYYQTz1t6ULJ5RKYNdssf/WAa87Mtz5JC6dNlWHsOD4WLHLH6Mf5OHRQheVLFTh4QIVrtxy7bXZoV4Cf1nmhQ0cWYruwkXRHh8uXrHP4TJlcBk9PBlatFqF3Hw50OhJ3k/X4/bcqq+B0rRk3lhf6+UyyuFegSsNV2b5GH3uk9DWLz/vzv3WqTaWuDCeLNzWWWDTNiFatwMU9H6LL0HfA5rkjJ+kIspMOWRi0Vvz3kK8OQTABUC8tUf2nW5Qp5UVgsFwLEUEpTTLTZ6MSJBSHQlGaYVJYALNi4wqO5lCYcRERPSahIO0c1FUyhMY8ivIax0/NRatSWryG2vatpw1xa+eXnyrxy0+VTtd39EBv37bAblld+OQjaw+Gmrw3uxzvzXY+R4wr8929S4Xdu8zz3fePymr+ttZjx3Yldmy3Pn/vEu3YZVOtJvH8M9YRWm0hkxkw9aUHe0clRjQIAKAxKJFWeQ1cBh8VuuJaWjUMhwp+ghvLE4H8DggRRDvdjgTZiFI5prvXY8hWJiFfdb9e/TRkSP3j69JxfF16g/XX3GhVclz6Zwki459HYIfBEEkicOPwl+YKtdinXD34aa11HFGaextdhr2LoszLEIpDoNOYv2f0WiWYbNeTnVrhQL7S3EQw2TyTDJLweCu7mOaiVSktZLUY6gSTCbfOsVBnZzWjRDQ0jhk4hIu168QAgLeml+HA3paZFXfMOD5CQln4+vPaFciGxpMtRYEqBVdlzuUiakh0pAbl2kKI2BKn2zizG9OY+HBDUKrJbVYZHgZI0oDks7+iY9+X4SXt6HQ7RVk2Ins9h7vn6p5SRl1VhtSrf6Mo87JVWc7dYwjqOBQ+IXEozrwKAPAL7Q69riGDOlIKjVGG1Kt/N2Df9aNVKS2yo0csPpcd+hfBc+c1kzQ0NLVz7LAaHULyMHehR4P3nZTpjw4heQ3eb3Og1De9stQaCeR3aG4RHnhCokYiqONQqCpLweG5g8FkW3gO1caNw1+g19ilSBi/CqRBD4JB2RBW9/ypDSaLi4iekxDRkzo2VVYU4Nbx76BVK6DXqpB37yQiez6Ltl3Hm+qf2Tbb1F4cEAVxQDSE4hBwBV6I7PUs1FUy5CQdgU7r2DurOkYZDHot8lPPIv36LqfbNhYE6WCLiCCI5tsDdRL//01H3g+tL0srk2BjmO/L2F9Yu+xDfV9CiSYbV8td284N5LVHG0EsTpVucVjPhxOMYH5Hl/tvbDgMHgb7vIiTJZtRqZfV3qAZWbJChP6DuDDogSdGFUNWZmnQPHehB65d0VjttEj9mfhzp7fddr/8IUbPeC6uX9Xg2SepwFuPjuFj8VIPeHiYo+KuXaPAFyvtP/gJAli7ToxpL5biz50+iI1jo0NIHjy9GHjlVSGSk7QICGTi9k0tvvzOC3eTtHj6CXOgr6gYNl59U4j+g7j45gsFvv/atqspjynEQN/JFvdIkDiYv9biSKWtsDsihD3tyluf3QwuQ4AY0WD4cEMs7iv1chwvsv32GyKIQSePfg7HrW7/kqe6j+sy67+XkdLXINPmQ8T2AwEG9KQOV2X70d3rMVOd6mMM9H0BPKabVT9HC9dDbTDbLfUSPwEvjv0orjXlJkBguHQ6iBqmtkcLf4Xa4PwxMU3TI/CQInrQDFzc/YHJVkUg8keXYbNcUnzqQ6+xS3H33G+QFd79TwYC3UYtQO7dY8i7f6pJZCBJ0qadeKvaaZFMfsHiM8vLC9yg4GaSxjl4DDeQIC2+gOqCjrQ21GxIGrv/lk59/p+27/XB6hVyLJpL2dy4sgNy9JwfOobm2WyXlOmPXp0LUC4zgMs1//3+s0uJf3YpXRqHJIH+gyivq9g4No4dpraSHxvLx19/ViE6lo23Z7tj2YcV6NoxH89MFuDHDWK8MrkUYm8GfvldjImPl+D1V8rwxjvumLvQAys+ts7CPdB3MvJVKbhW7ainn88zGCF91eLBmqK4hBTFJQDUgz698hqS5Gecmh9qKcIAACAASURBVIsjCBAY5PciAOBy2V4UqdMBUC8JLKJ+UZiN8tc03q2JJ1uKA/nfgSAIDJdMRxfP4RZteUwhVHpK6ctS3kKlToZ8ldnIcYT0VQzyexGni/+EXEcpjudLqe35Nm5d0N49AXfl55BaecWuDCOkr6JUk4MLpeZs3928HsMgvxea/XiLxjFhsaOReWufhXGt0YunqWCyOCjLv1PtDgmlvBAEo/lVhuaXwAXk589bfDaoVVClpzePME7Swb0P7ldeqpfScqjolwaUyJpiTRaKNQ+3bVB9/p86RbNx6rj5PDk1RYd2kSzct5HssDoz3hZi+UfmB3/1dj6+DKTc16FcRu28qNX13/Q0Zl24eE6Drz6To1sPDkY/zsfGdZWIjmVjyx9V+PVn6i38jw1VmLuIOtL6ZKUI06eUISONms+a1XIkZfpbKS2xnpSh/LUatikni//ASOlrCBZ0QlZV4yY17fbfjsZd+TmTwgIAelILfRMq5iRMsa6QXEMZE7H9TEpLisLaZiGx4gSiPAZAwguHXFF7WPuaSHntAMBCYQGAy2V7MFL6GoL4nZCtpJPLtlTuXfgDPUZ/iICI/tBqKsHhicAVeCK5HjYyrqJSFCNh/CqoFMXQairhLg6FQa9F4skfmkwGe7QqpaUqOam5RXAZb3YA6mfjT9MUnhr1/X9KyrTcund3rz2hodSfiQnvCDBvsdnexdhOImUiN7thk0lqtdQ63knU4l6yDs9MFiCivfkroLTE8mjKqOT4SZhWySNt4cUOcFgu5gQ2utLixaFi/uSqnI+H0dgYFRQjjFrSV2gN1BEig6jb17OY4/j/wZ0tBpw3a6BpYrTqSmTe2oeA9gPBEXhCp6lC5u39KMm+3mQyXD/8BTr1ewV8dz9wBJ4oL0rBvfO/N9n4jmhVSgvTzQ36ytZxHtvTawwAgM3gIcZjkOkt70KZpSHTSL/pUOkV4DGF0JFanCvbDoWOcnH150VAwm0DKTccCl2phW0Kk2BjiM8U3JYfR7THQOgMGrAZXJwq/dPUviYj/aZDT+rwb9FPpntR7v3hxfYHQFrZvoz0m46bFUcR4zHIQsZDRT+b6kR7DEQANwIF6lT48yJQoStGmSYPdxTOBTka6UfFM9CTOhAgwCCYVnY+AbxItBHEgoQBLIKDA4XfmxQZAgRG+E2DjtSCAAEmwUJa1TUkK86Z+j9VugUKXanFmP8W/Qw9qYUnW4JIYa9a/59qoy4GsYUFBiz9oAIbfrH+nS4pNkDq37Bh/HdtV6JHPAcb11dBqyUx4RmBKVgdAOjsbAzl5eohkTKRneVYceEx3RzaS1C/Z40Lk2BDoSu1UhSaE63B0qujeqLRdsLuaOMWB2Y9j66qY7R9sXeMxWE0fJJPmoYlO+kwspMON9v4eq0KN4+sabbxHdGqlBbp1FeQ8+UXzS2GUxgfesYHf/WHZnWqP4BH+k1HvNcTpuOgPNU95KnumR7sNWEQDIQIonGg8HsAQAg/2qI9QCkDxr5rPrwB4Lb8BIL4HRHGj7E5hrH/6jJWJ4jXwaRkpFVdR2/xkzhbut3OqlhTU0Hp7TUO4YI4pFZdNd1zY3qYFK0OwgT0856EEyV/AACG+r6M6xWHkFctZsVIv+lIqbzslJ2OTFuAC2W7av1/csTN61qMGcfHrv9itrgJCVTWzBBtA+Mxi1Fpqd4uP0+PiPYsp/tyhr/+VGLa60JMe5GaY7sIFpLv1L5G82eV49BpX0x8vATpqTq8PtMdf2ywfYzGIrh2+9GSTePuzWbYl6El4c9rh3bCntAa1Pi3wGxnEsjvgBjR4Dr3qzNQQdBo2xWaB5Ha97BbEAZly4xxUR9qHn2wCNeiJibJzTsapdpcq/YqQyVG+k3HsZKNdXogJ8lPW8lo763QAP1/ux3O7xAwCRZiPYaij3gChvq+BBHbDyyG5RzSqm6Yfr5XeQECpge8OUGm9nk1gmyVawsRJoh1Wob6MmF0MdpFsLD3qC8uJUot3JuTMv2RlOmPKf9zw5drvayOkXp1LrDZDgA6heXh+/Vi3Er1x7pNYqtx35hWhsuJUuw/5othj9QebOrKJQ0GDDY/0C9d0GD7ltrPCSoqDHh2fAlmznHHzRTq+OWjhdaB/rKViWA6ONLIrLpd61j1pUyTBy7DDaEC20p4S6KNWxwA4Kpsv8V93xpeT9Ux7TAS9r+6M6tuNYB0NDQtk1a106LJz0PwnLnI+nRFc4vSYtCSjvPn+HHDcFm2FwO9n3PKvdrV/gvV6Rjq+xJyVXcRwo/GqdItTnsiMQkWhvlOxdHiDSYD2DjRCKt6hM1PLcsbf/UKOVavsHY5ru3YqFxmwKhBRTbLDAbgufH2DTH/3afCv/tcS0VQXZ7qfe+yEdm3cztz3/eSdXhruuPIvLfKjyGI3wlxno9YhOA3hujPagKl5WLZTgyXTEdHj36Q60osgrAF8CORq2w5ti4ybT482L5o49YFpZocAICAKTIZ0trCWC/cLc7kfVWTPNU9xGIYhkn+h0MFP1q8dPjzIpCnuteAs6ChaVpaldIi6tcfABC+8jOL+y09JxGHwa+9UiNRqStDkSYTyYpzGO77Ci7IdkOmrXvOnZooDXIkyk8hV3UXiXLX/Pd9OSFWbsZ+3FCkVVnGZAl364qr5ZRHSqRbT1TpK1Dy35e3jtRYfRGL2H64KNtjKhez/Z3aZWrO/6cHhcOFP2OI38tW9hQHC5omlpKBNOBE0UbEeg5HT/FYi7IKbZGF0jJM8j+rnaHqclc/Xunj8xTcWd6mz/68dvCXtrNZ11kSK04iWBANX26oaVwSJPbnf2vXHqVCWwy1oQpchsCurMbPwySvYIT0Vas+8vJppYWm9dKqlJasla1vh6VSL0O4wPwm1VykVV1De2E8uopG4kjx+gbrN4jX0SLGhCvIdaUWwa+8OYGwlXdWwm0DJsGCgdQjRBCFO9WOxO5XXkKUez9THhYJNxwApawAQIkmB23duqFCVwyZtgAdhAk2ZWkp/0+tHa1BjUtlexDlMQBchgBV+grcKD8EA9l02cOr9BU4W7INUR4DIeW1BQkDyrWFuF1x3KJezcBrjnClriucK/kLYW6xkPLaQqmX45qNgHU1OV38J0IFMQh16wySJFGiybZZ71jRb+jiOfw/ry4SMm0B7inO26xLQ9NaaPURcVsDPb3GwIstRYW2GGfLKCNVWxFxjUauxnv2DHD3F641ta9uXCtkidFXPNHUvmZEXCbBQi+vx6EzaHFBtgtR7v0RzO9k1f/xkt+h1Mtr9bwBgM4eg+HPi4Ce1IJJsECAAZVegWMlG51amxB+FCKFvUCAgZTKyyjWZEHKa4u7ivOmiLj7C9eip+doiNgSJCvOIlNpeczgzQlCrMcQAJRh7ZVySxuBzh6D4c0JBAMsXCnfjyj3/jhbtt0qboet/ycaGhoaR3iLIxEg7QZPjzDIFbnwFkfi8IkFpvIBCYtQpSyGwaCDh3sQbt7ZhOKSJAzs+wGOnfoAXWOnQuQehGOnPwJJGjAgYRGOn1nSfBNqIdiLiNsqlJaAGa8j95uvm1sMmhpEuw+E0iBHSqU5QFYn974I4UfXyX6mtRD69KtwC40AQEJdUojcvZuhzM0wlXeau9pmO0VaEjK3OBmciSAQMn4q3MIioZWVouzGeZScP1J7uwai09zVSPllJdRFjRiJs8YctRVlyD/0N9QltWcRZ3C46DBzWa0y+o+YQPVfXoqMzd81pPRO4RXXB25hEfCI7IzKjHvNIgNN4+ItjkRs1PM4cnIRAKBDxFgoKvORnXsO/pKu8PFuj5uJmwAA4WFD0SZkEA6fWIAh/T8x/QsAyfd3o6j4NoKD+uB+6n674z0sPBBh/Gnswwn2h3jKBOR/9BUkC2ZAceQMKs9erb1hPdCSKgTwIkxKC4/hhhB+NAxkwwZFa4mUXDiGgqO7wJMGIfyFd5C1/RfI71FeG4kr3gEABI2ZDINei9x/NrnUt3TYOIi79kX+ob+R9fc6cL2lkAweY6W0eHXpjaqc9MZVLBqRTnM+s5ijIDgcbJHYKaXFWfIObIVv3xEQBIU3WJ+uUHb1NMqunraryLZW2sY/DZ+wrlBVFOL63lX16ssrsBPa938JAHBuk/O5deInrXKpvq3x7p7agNKsG7W0qJ3i0mTTzypVGdgsyj5O6tcFGdknTGU5uRfQJmQQAECno7xhK6sKUVlViODABDCZHOTkXai3PA8yrUJpYXv7wOfJ8XbLi//a1oTStEyki99C1oz3Efj5IkCvR+U557OS1pVkxTloSQ2G+E4BEyzItAUWnkAPA6r8bBQe3wP/ERNMSkt9EXftCwAovXySGqMgGxmbrA09/fqPQrqN+60Bgkm5xVefo6rAtm0GTcuCyebB3bcNzm+e0yD9leUk4tymdxE/qX7Kj6vjhcaNbrA+STs2Wyq1DDyuyPSZW+3n3PyLYLP4yMw+jSplMbrFvgKJbwwysk7Y6ormP1qF0mLQaKDJza29YjPA4PPg/9FM5C5YBVLTfEkHs6YvAKnTI2dm056FplZecZi47WGAYLGhU1gnD6wr5bcvQRTVHTxJkM0HOT8wDJIBj4LJd0PAqKdBaimj4/LEKyi7dhYAtQvjP2ICSIMBpF4HBpuDO6vmgNTrwOS7of2bS5B3YCukQ8aC1OvB4PKQ+OksKrPifwjDO6LtlHehVyvB5Alg0KiR9Pk8U3mnOatAkoBOUQ62hxcUacnI3EIFOuw0dzVIvR4EkwFthQxsDy+L9qSe2o37P3vnHR9F8f7xz+71XHrvDVJBCF06UhQVUEFQQQHbVxE7CoiIggWRYvti+YkdLGD7ggICCohIb6HXkHrp/Uqu7Pz+OHO5zd7lbpO73IXs+/Xa1+tuZmfmmU1m7tmZZ57HXh8BQKz0Q+rji833G42gxGLUnDmKwk1N9lLNZbz86TI0lDu/UtNSHwAg+ua7ENCtD2rPZyMgszd0pYUo37cDtedOsJ6zobbKUj7/x09BTC3HnfJmlMGxiOk2GoHR6Sg8tR2Fp82eWYNiMhHXYyx8As1hAq6/ZwWqi87i3O5PW6rOQuaoWfAP72L5rjq3G7nHNjkslzp0JgKj09FQX4GTW94GwzQ92+C469B14DQwxgac2LwCBp3Z7YDMNwQpg++FXBkMk8mA09veh17L9S3kbs5d/B9GDl2MomLzanTvHvfDxJh/JwpVh5CZdidOnF4LgKCuvgh+vi2HYBDoIEqLqa4WtfvaHgG2NYQ8fDd8+vaAqaIKhpJyVHzyHRhN6wN3KAf3RcgDk1lpmoMnUP7xNy2WC5xyK3wH90XBU+ZJXBweguDpE1G64hMAADGaEHL/ZEjiolC85D2n5Yn/1Hwiy1hSDt2FHFR+YV61inn7JYj8fTn3Fzy1BEx9xwil0F4EZPZGzWlu4LvWUrp7M5QJqUie8QyufvsBNPns01nawqu4+s1qZM5bhaLN39ncHoq68U6oft+A6uyDIIwJqbNfQcQN41G842ereybh7Mp5IAxBxnNvIShrEKqONZ3MihhxKy789xUY1XVIfXwxxEo/S54yIQWEYXBu1QsgjAnKxFQk3MU2HKdEItScOYLCTevgE5uExGlPsPKN9bV2+wgAcRMfAKNvwKVPlsJYXwtpUBhoGdvbbXMZw4bejIKfv3D8kJ3ogzIhBYE9BljsZiiRCLRYalFYrJ9z1fF9lvLNn3NHo/uYJ0AYE0ovHUBcj5uhOrcbjMkIvaYa5bnHISm+iKCYTJReOQRdXblTdQbFZELmE4icwz8jqe8dOP/X51BXOl5ZC47tjsDIVJReOgDfkDhkjHwEp3estuSnDL4PpZf2wycoBt3GPI7jm5YCAKLTh4GiRKhWnYcyOA6Zox+z5LUnhJigN2jQr9csmEx60LQYp89tAABotJUIDjbbxgFAbV2BoLQ4QYdQWjxF7OolqFr7Cyo++Q6gKMhSEjkKC6PVofB5foNB/c8RVHy63vGNzaCkElAikeUttTnKIX151wkAeQ/OA2gagRNvQux7L6PgycWWFRvfEdcj+L47zPcIWAjpPwIh/UcAAOpzzqNsr+Ojqs5iqKvGhdWvQBEVj4S7Z4GWyqDa9gOqjjmnuEv8AwGKsqy6AMCVr95G6mMvs35MC375yvK/lPP1O0ie8Szqr5yFocZ8Wky17UcY1eY31/yfP0fSvU+CEotBjEYk3D0LFz5YDMKYy6uvmv2f+CaloT6naX+/cJM5yJqmIAcALOUBcPrYfCVHEZ1gsQ8CAH0V1wmfLRmdxVEfGrfpGpVC1Zb1SHv6dUv55s+5sXxwn6EdVmmJSh+BgtM7UHhqOwAg9+j/0G/y6zi4/gWoq4qgriqCwj8cioBIFJ1x3jA8bdj92P/t8wCAwKg0aGpUTq18pA6dybJb6XP7IojEMpiM5nhO1ltU19+93PI55zD7+btz66mi8gIqKpv8/1zNZx+t37PvDTslCXbuWWT5du7i/3Du4v/s3CvQSIdQWjx1coiWy6De9+/WByFouJBjyVP0zEDYkzMt31WL3oahsMlpW/CMSZB3TwUlFqN0xSesvJYQhwYhfN6jNsuVvfMZIhc/A9VCGwOQosDUa2AoLIYoKACmKp5LoQyD6h+2wP/mEfzKdVIaDXEz561C2d7f3dKGVpWHc2+/AIoWIeP55ag+eQjE6HgL0ie2C0AIuj48n5Wuryxlfbc2eNUVm9965eHRFqWlUdEAAEZv/pGgaBEIzEpH4t1sx2X6ylJQkpbDUFiXb97H6FvvQfozS1mKiyNsyciHlvpQffIg/FKvg8Q/EIbaaoSPGAd1XlPICFvPufkz7miEJmThwt6vLN8JYUCL2h7MUVtbDoncFwZdPZTBMTBoWredWp53HMFx16Esh+sNuLYsBz4BkdDUFIOiaHQdNA0+ARGQKbkhMAQ6Lh1CafEU1et/Q9z/vYHil9+GQcV+y9OeOGtZfYh8cTYrL2bFAlR9twmVX/4IAIj74FUUvbjCoSIRs2IBRIH+yHtovu1yEgnEIYE2ywbdPQ4VX/wAQ14RQh++GyVvfWzzvpYQBQWAGK/9kz+u5NLHr6PrIy+yVgRcDWFMIAwDeUQMtIVXHd6vKcwBKAqXPnmzxfvkETEWxUURZY53oytx3rlewca1LjOeJYwJhb+uQ+bclY5vdiEt9aHu0mmcXf48Mp5fDsKYUH3yEMsg2tnn3JFo0FRDqghAQz3/OGUtceK3Zbj+nhVgGCNyDv3Iskvhg1Thj+rCs3by/GBoMEf3HnD3Wzjw3VyLgWx7GfkKuJ8OFTCxvan9/S8UPvsaQmfPQPynyxC91DlreVFQADSHT1q+l6z4BGFPzLB8l3dPQ8QLsyyXND7aUq7yix/tlqNENIpeXIHwOQ9x2vQbPQTaY6dhrKiCLC0ZvsMHON3P+E+XIf7TZYh6bQ7yH1ngdDkBQF9dAX11BeKnPOKyOuPufAhBPa8HRZtP2AT1GgyKpjkKS0NFKSJGNJ2AaDyRY6ipBGEYxIyfBlmoOcChIioeYYNvZJWPGX8vKLEEoCgk3vskVNt+hKG25fhCjVz9ZjWSZz5rqV+kUCJs6Fin+6hMSOH0Me2p11B9Yr/lHl1ZEdKeeg0iuQ8AQOIXiOA+Q51uwxV9SHv6dVxd9z7OLn8eqq3sLV3r52xdvvlz7khcOfA90oY9ALlfGAAg9robUXKx7faEkamDcfnA9zj4/XyUXTnkdDljg9oiCwCExGehpqQpDEFQTJNzTLlfGAy6esv3RoVFGRTTFtEFvAxeKy0Dpq3EgXXcOD/97lmGQ99emzYPTL3Gsh0T9vgMBIwbhZpf/+BVh6mqBuLgphUS3anzdm1ajFarMc3LAYCpshryjK4gDc0CGTIMIl4wL3UzGi2C770d9budc9md9+A8xH3wKmhp25eBOyOXPn4dmfNWIfWJJbjw/iLHBRygybsEv5TrEDHqdlAUhbqLp22u5Fxe8yYSp85GxvMrwOh1KPz1G9RfPgMAOLv8OUSMGI+YCfdCFhQOTdFVjr+Yix++ivjJD8MnOgHFO35mGeE6lDH/Mi5+uARxdz4EaUAITFo1Ko86H3tKV1yAkH4jWH0s2rQOdf/KDwBXPluBoJ7Xo+vD80HLFTBUV0C17ccWamUTf+dD8O3S9KPW6Cvl7Mq5IEajwz7IQiJQdyEbiVMfB6NvACWRgqJpnH/3RZh0Ztu2xuec/sxSS3lrQ11r/yzKhBTLd3euzLUFo16LMztWI77nzQiK6YbCM38g53DbvUMHRqXDqNfAJyAScr9QKINjkb15BYx6LWsVpPFzox3L4Z9eRuqQ6QiK6YYGdSUObmC/VFG0GP2nvAnG2IAjPy+2pJ/a/j76TnoVtEiMKwd/gFGv5bQBAI0x11vj70XAQxBC7F4wmzVbrgHTVpLmaQBIrzsW2Uy/1i6f/j1JyEN3cdIjX5xNJDGRlu/xny5j5UuT40nkoicJAKIc3JeEPDjFZv3xny4jvkP62SwXOOVWouiZQQCQsCdmEGlSLAl/7mHzfXFRJPz5/1jKBd01jiODvavxPv+xw82fzV6QLZfviOudrku4OsYlUihJ5rxVRBoc7nFZvPlKf/ZNkvb064SiRf+mUSRl1kskuM9Qj8vW0a4Bd7/F+n79PStIUEymx+USLu+97OklLtkeEsuVrqjG6/Dp3d3yWZaWbF69+Muxt0JjSTl8+ve0fA+f8xDKP/jaqXLBMyc5LFf2/peImN8U4TXkP/dY7GcAoGrDZjBaHWiF3GGbjdRu3Y3SFZ8g9r2XnS4j0LGh3BMD8JqBlkhRunuz5XQRYA7bQIkEU0C+EKbJ+ZpE4Q+AQFvbsY2WBTyDU6Mvsd9ERKQOBmDeIuosyK9LQ/ADk0FJJNAePYXy1V+zThDZo2jBcgTfezsCJ99iPgX01scwlju2FShasByiQH9EL3/BYTlDUdPJD0l0BIylFU2ZDIOqbzYi+IHJKF/tWFlqRHf2EiiRCPLMFOjOCOHrBTo3+qpyRN04CSH9hsGk1UARnQDGoGc5nxNwjot7v0bfSUtAiySoLDhlOf4sIMAbPttD/e95i4jEMtZFUbTHl5E8fUUvnUvEoUEel0O4hEu4hEu42vc6uiOebFgT5fT9e3+NIyZVisfl9vbLnl7Ca52zPOeIxalPexF0400O76na5h4/GS0Rtfhp6AtLoByQBQBOraQIuAdaKkPac0tx9g3vNG70FNKgUHSZtQAX3nkJJo3gxVhAoLUc/D0eIycWoF5tO8YQHwaPy3eBRJ0XXkrLlf3fu0sOuzANTUqSoksX+GRkombPHphqa+CT2Q2Gcq6XzPZA9fI7AICK/+MXwVdAQEBAoOMwdaIf+vSQOb5RoF3weouymt27LJ99e2bhyvNNR66rd+1EzNPC27WAgG2IpwUQEOiwhIeKcOlAIiQSs8V6UXaSJS8s4woa9E3jq6raBJMqxfKdYYCH55Tgi++aPP9uXx+D1K5ShIeKUFZhQnyvnHboxbWH1yst1hjKucG5PLXSItD++HfrjYhRE0BLpDBq6lH+93bUnGxyVOUT3wUhA0dCmZSK2jPHULSRHYQyYsztCOw5AMRkRNme31F1uMknR8aCVTj7xrOIu+thS/nyv7dDX9n0/xXQox8ix9wBWtZ0KkuTdxm5a5sCuEWPvwf+mb2hLbyK3HUfwDpqsiMU0fGIvHkyZGFRYBq0LBlpqQyJM57ClU/eYsnYvI9BvQchfNQEaAtzUbSp5SCcAgIC9iktN8G/y2XMmRWEtxaFIrpHjt3todtv8cW2XRo88HQJJk/wxdtLwvD+G+EspWXMFLO36U9WRuCmkT7t0odrEj6GuJ6+kpevJAHDRzSlURRJXm7bd4xwXVtX4oynSNpzS4nY159QNE2kwWFEHhlLABBaKiMZC1aR6AnTiFjpRwCQlKcWk9hJM1l1BPcfRgAQSiQiGQtWEZ/4Lpa8jAWrSMaClazyGQtWWfKViSkkfW6Tr4mYiTNI3F0Ps/IzXlhJAnsNNH9PSmWVd+aKHj+VSPwDbcrY2MfmMlr3MajPEJLxwgoCiiaUWPLv/auIyEfp8b+fcAlXR73mzAoiJlUK8VXaPnRydEc8x7DWUJhi19j2k5URJO9Yksf75e1Xmwxxe46fB11dOXR15cg94rkolIXvv4uwO6cgZFyT6/Ki1e97TB5vI+ErftGmy979GpojZxzf6GICJtyAgHEjYKpTo2TpJ04ZMStiEliGttYrII0UbVxn+Vzww+dInMGO+Ft58C8AADGZUHv6KHy7pEOTd9mSX7y1KWJwY/nGqMRBfYag4sCupns3r0fqs00Rf+Onmr0RVx/7N+JvjjnqqzIpDWqrqMctYb0ywkfGRiJvmoirn78DEAbEyKDwl68Rc/t9TrUt0LmwNVfkTnc+UKUAm993aljf84uMSIjtUBsZHQannqpZw2EssRw8RUNeHgpWCYGvOjLB942H35hBAACxXIqYVXPdMlk2j/iriE1E4vQnoSsphE6VD3lUHAy11ax7WopqXJN9ENETpqFs92YAQPgN46DJvcQqD0LQ5RGriL8VpaClLUc9tiblqcUQ+/ii7vxJmHQap2W0RqvKs3xujNwsICDgXtQaz/42diacUlqyf33L3XK0GklYGAxlgl1LR6FRYWGljboedX/st3G3a/BNTkfc3f/Bpf8usSgBidOf5N5I7NdRd/E0dCWFSJ/7FkBTqMk+ZLZZsYaicPnj1kX89U1Oh1jpx1pN4isjYI7c3BipWRYS3ipZBAQEmjCZzINOJqVQL3gO8DgdPsqzIjXN0yJ4DaUrv0DVN7+hftchaI6chqGo1GzG7uXQfo7DQDSUFiH1mdcgUvgAFG2O+NvXuYi/+ppKAIBfWg8AgDIxBYqYBN5y+sQl4/yKF3Duzeeh2swOeJm7djUIwyB6glXE32HORz1ulLGR1shYqbS7uwAAIABJREFUsuMXJN7/DEBRoEQixN55P6/yAgICXDZsrIfRSLBvcxwiw0Xolub86qmA6+nwm2603Pn4Otc62hPnoT3RzH6CoiCJCEH0sme9NtiMySqytT3y13+Kro+/hNRnXgMIASgK6ivnUHl4j8Oy+opS1Jw6gogxt8O/Wy8oohNQ+ucmiBQ8Y2ZRFNLnLwcAMAY9qo/tQ8kOs42XJu8yiv63FjF3TId/ZhYoWgQAKPtrq1NV6yvMcVi6zl4ISiyBWOnHW8bKQ38jYvTtSHv2dVAiEVRbfkDEmNv59FBAQKAZhcVGLH2vCi89G4zCE8kAAFEUvzAnA3rL8c5rYYiLFiM0WASxmMLF/YnILzJi5ERhG5cPFGnhSCZljvjrUZKXO451ZO27RcA2CV+8DtDshTVPGOIGTRsH/5sGs9I6ggFg2vNvovCnL1F/+ey/KRS6Pr4QlQd2ofKQY8XJW2k0yDSWVqDwOcFerLMgGOIKeDuEEJtv2bxXWlKGzURAZApEEvYKx4F17lMcWlJKAkfc4LZ2BVxP1bpfwdSpETB+BIyllVC9stpxIS+AlkitFBYAINBXlIKiO+5ipe/QPp4WQUBAQIAXvGbcLoOmwi8sEfkntqC25JLjAi4gf/myFvMNlZUt5gt4HzUbd6Jm405Pi8ELfVU5MhasgrbgKkBRUMT8G/H3244b8TdwivM2NwICAgLeAC+lJSQhCwe/nesuWWxiKC1tMV+dfaKdJBHozFz+8A1Pi+ByRAG+nhZBQEBAgBe8Tg/VFF+ARO7nLlmchqJp1iUgIMAPSizytAgCAgICvOG10qI6vRPxfSbg8j/fgE9MFVfh16cvAkbcAGlkJCtdMMQVEOCHLIX/kW8BAQEBT8NLaUnsPxGKgEiEJvbm5LnTELeRsLvvQcWvm1Czexf8+vaD7moOwu6+x+3tCghcawTeJdizCAgIdDx4KS2nt77nLjmcQn3iOGp27wIAiAMDYSgvh7HKcdwaTyMODYTviP6QpyVBHB0GkVIBwjAw1aphqqyB7sxl6E5fgu7sFU+Lek0i6xoP5eBeUA7MAjEYoP77GKq+32L3fklsBEIfuhPisCBQEgm0py+i4rOfwdS5wB0mTcN3cC8o+mRCHOgPcWQoaIUMjE4PY1klGi7nQXPwFPRX8sFouW76XYH/LcMgS45zS92tgRKL4X/zEEiiwiDL7AKRvy+I3gCDqgzaE+dRt/VvMDr3PAtvxta8wWh1MNWqwai17TJv0D5yBIwbAUWvdIhDgkBJxWC0DdDnqaA5dMrsydpNq+7S+CgoB2ZBnpEMcWQoKKkEIARMvQaGwhJosy+gfvcht40TW/j07Qbl4N6QdYmDyF8JYmJgqqiG7vxV1P2xH/qrhW5rW9E9BcqhfSBLiYco0A+USARGo4X+ahHU+46j/q8jbmvbGkoshrRLLPyG9+OMV2N5Fep3HYLutPsO6ni9nxZrEpe8htzFL4OYTEhc8hquLlqI6FmzUfSh9x2bDZw0Br4j+rfO2JEQVH27GbVb/3aZPO3lp0UaH4Wo12y4n2+BtvqH8OnXHWFPTLN8r/jsJ9TvOgQAiF29ECI7HndLlq2B7vRlVlpL9xtUZSiat4q3fJKoMIQ9Mx2SyFDeZbXHz6F01Ze8ywGAPCPZPPEP6Q1pQnSr6miJtv7d/G4chOB7xzu+8V9MNfUonPMWiN7Qpna9mcBJYxBw28hWlW24cBWaw6edmjcc+WlRDuqF0EenON120QvvwFBY4vT9tmjLOAEhUC3+APor/B21xayaB3FooOW7sbQShc8tt3xXDuqFoLvGQhTk71R9bRmzzfEfOwT+44ZD5O9ao/nWjN32Hq8u8dNCi6VgjHrLd4oWIbrbKBSe3A6HQVFcQM3fe0DLFTCp66G9eAHJy1fCVF/v9nb54NMnE2FPtTGyLkUhaOqtLlVaOhO+g3ujftchRL36hF0FBAAi5j3EmqBi35nf4v2SqDCEz30ApW995lAGSixG9IrnIA4O4N8BKxRZ6Uj4aikKn1sOY6nzx/vjPnoZtI93eoumpBLEr1nCu5wowBfxa5ag7s8DqPziFzdI5jlcMW/IUhMhS01s07wh6xqPyEWzeJeLXvo0ACDv/oUgJhOvsv5jhyBo6q2822RBUYh6ZTYMxeUomuvYIWlLiMODLZ9j31sAUSC/wyeNY1a97wTKP/yu1XIkfP46IPL8QRNvG6+8nkjy9VMQ1qW/5Xv/e96Cb2g8BkxrH0+aVdt+h0ltVlJKvv4KV56fg9zFL7dL284QseA/bVdY/qXmlz9cUk9nRJaWCJG/r1OrC+LwYNBKBRRZ6RA5oWAouqc4NakTo7HNCos1MSueByXuuI7sGol5e16rJkBr/EYOQNTrT7lIIs9CK2ReM2+II0JapbBYE//5a20q31YkkaGIWvK4S+qK++Al3gqLNcqBPRFwx6hWlU34aqldhcVYUgHt8XPQHD1jji/HEz4rYuLQQJeN15ZeCPnAaxb0CYxG7mGzxiSSyABCcH7nGgyY1jbN9lqAViogT09yWX31fx12WV3tiaG4HCVvroEkKgyS6DBIosIgjgqDOCTQcWEX4jdmoOWz/moRTFU1kKUng1bIOPcqh/SG34gmZZwYjNCdvAjaz8fmKRtZ13inZGA0uhZXO4jRBH1OAUy1aoiD/CFNimkxPlTA+BGo/nmHU217I6Igf4f/BwZVGYzF5RAF+UMSFwlKZPtotjQuEpREDGIwukPUdiPixUcgjY9yTWWEtGneCJ11l+1q9QY0XMwDMRlB+/pAlhTb4v+pNDEa+qtFTrdbt+tgiystjeOE0TaAoimII0IhDgtqof0Yp9u2i4gG7etjM8tQWApjSQXoQF+IfJWslZnmBE4YiZqf+SmS0qRYu3ll76+D5tApVpqiRxrCn53O2f5vRH+1ENrsC9CdughDSQVMVbVOySEK8kfE/IdavIfPeA17ZjqKl3zoVNstwUtpkfuHwaAzr3SkDnsA53etAQDo1e1jDBv1yCwounblpHvDkee4DxfZzavb9g8q125qsbxyQA8ETRtn0eyN5dUula+9IHqD2UDwzGWb+UFTxsJ/3HC3yxFw20gQoxF5D7zESvcd0Q8hD0xkpQVPvdUyCRfNXQlDcTkr39b+vzMUzVuJ2PdftHzXHD2Dik9/cmjQays+EwDzWxtNofrH7Q7bzn90sd0836F9EPLwnay09og9FPuu7X101cL3oM9T2S3nf/NQBIwfwfkRif/0VZR/tB7qf465VM72IuThO+0qLIyuAeq/jvCaN8pWf9umeaO5cXbpW59Be8p+YMDwZ2dAkZXOSY9a8gQvmwmi04MYjZaVRGIwouLTnxz+XWmlD+I+fMlmXuCkMU6NE3skfP4667s+TwXVQvsHUcQRIYhZ/hw3Q0RDntnF7nxoi6jFszlpurNXULL0E5v3a7PPI3fmiwj5z2T4DmGf7CV6A1SL/ut029a0drxSUgli35nPGa+yrvFQDurV5vHKS2mpUV1AQFQqalQX4B/ZFWf/MGtN4nZyOCeLi0PeG6/DWOU9rvtFfkpEv/mMzTw+PwTqA9lQH8h2pWidnryHuFuH9bsOcZSWRoWl7ve9HIUFMBv2Ni8jjYuEPr+4xfZNNfVQ7z2G2m3/QJ/jvIFg1bpfUbXuV5vKUsBtI9s0GXuKmLfncdKYOjXyZzveTqjdsge1W/YgavFszlto6KNTOqTSIvJT2o395OhHwRp3zBsVn/+M+p0HHd5XuupLhDw0Cb7D+nLyaB85GI3O6TZVL74HSi7jNU4YtQa5019w+zhxRgEzllTYlSX8ufuR98BCp9qyt4prT2GxpuL/NsB3UBZrxYWSSiAODoCxssap9htpy3glegPyH3vVbeOVl03L+Z1rkD7yEQyYthKX/v66qRJR++y1a8+f9yqFBQBi3p0P2sZeXf6ji4WouZ6GYWwm1/2x32Z65bpfbaY3nkSyRt4zzSkRyj9ez2sitqZwzlutKudt0D5ym9tCzkyA1qhetn1KMOium1sllyeJeXe+zfT8Rxc7rbC4A925HKcUlkYq1vxoMz1w0o282jWoyto2TuyM9baSO2MBr/srPvuJk8bH+3TwzNs5aZVfbXS6fMmKLzhpYc9Md7o84P3jladpMsGBdXNwYN0cVOQet6S2h2M5AJB36YKImfe3S1vOQInFNo0jK9du4vWWIeB6tMfO2s3jMynbQ+aGI8TNMZZ5vw8iZ7B1BL7y89adJqj97S9Omv+tw1pVl6fw5nmj5I3/413G1puzcnAvV4jjFMayKlR9u9nl9db/fZS3DxpbLzh8aL5dyGgb7L5k2UJnYzuPr7sDbx+vnj9PxQORUgllt+5IXr6SdXmKkEcm20yv2/ZPO0si0Bzt8fN282y9yRpLK3jVL2pnw2JraKXCY223BnEo12iybueBVtVVtX5rW8XxON46bxgKWudnpW77Pk5aex+3V/9znJPW1nFS8X8b2lTeGklUWKvK6a/kt3vIHG8fr63a1xFJ5AiK7YbynPbxwNdI8RrH+3rtiaI71yjY029KAmaMVfz2cI1l/AwYKUk7HT8mhHNSg5JKALW2fdr3NuxM4JRcCqLT28zzNrx13tAcbZ2jSb72Eu7AZGM8eNM4aa0C5Q3/F23CDeOV38xLURgwtclOo1FpGTBtZbtsEWnOn3N7G3ygldwjcRWfuE47F2g9fN8a9bn83G9TUgmv+1sLo23gvrW2cNzU22h+mgEAmHqNy9vx6d2twxjkeuu8Ufvr7laVc/YIrVuxZdPSlnHShtUNYjJxjv7SitatPNE+7buq2hHGKy+lJXP0Yzj358eoUV3wiG8Wn8xuCJ86DbSsyddGydqvoT7BXRr0FK52iy/QOnivtFR0zCPm3o4t2wbtCftbd61FlhTTYZQWW3jDvNEZ4zvZQ3vS/lFvhxhNQHN/Ja3Un2Qp8aBEIt5ehltLRxivvJQW39AE1KgucNIJ0z4PNHLGTBR+8F805OZa0pKXLccVDygt9pzoCHgJJn6nCRh1+yzDyrrGw++mwfDp261T/A/J0rgOF5WDe7ncUJP2s+0IzNvoDH9zl0DT8B8zEL439IckOrzdm2/tSaa2ojt1EfLuKZbvlFSCgEmjUb3+d6fK+40ZxElz5JrBmo4wXnkpLRVXjyK86/UovcS2Zqbo9hmI9SdOsBQWc5pnVlnE0a0zrBLwUtx0ZBIAaF8fRC971mVurDsSfI57tokOogwI84Z9vGmceGrLq2z1txxHpQHjRjittATfxw1oWPbuWqfb7wjjlZfScnnfdxgwdQWSBpit3/tPXQ6Kolk+W9yJb69eUJ/Khjo72yqtN0q/Wdcu7Vsjaue9RoGOhyQ63K7jQYHOiTBv2CZ66dOQxER4WgwLngoPwai1IA16UDIpKz3hyzeQO/PFFm1tbMUIIgYj75OR3g7vIxBn//wI8VnjoAyJA0XRUFcWsHy2uBNGp0PEvdNRtmE9jDU18L/+es9FeaY7jjGkgGeIeoXrjtseBlUZjOVVMNXUg6mtB9OgB1OrRvCM29wooUC7I8wbHBRZ6U4rLIxaC4OqDKaqWphq62GqrQdTqwYxGBHy0CQ3S9o+VH23hTvuKQpRix9H8eIPuPYtFIWIuQ/YPBxQ/cM2N0rqGXgrLbXFl3Bq6zvukMUhV196EZREgtCJkyAOCEDdwYMo+epLj8jCaDv4UTQBtxL3f6+Akktt5tVs3On0ZHItKi3Ouom/FhHmDTaSqDCEPzvDZp6pqhalK79wykMwJRFfM0pL3R/74TusD8cFvjQxmlcUbW32BdRu2dNmebxtvLbST4sMkenDQVEUVGd3w2Ron4FI+/hAGh4B9fHj0F65AmLwnF8Gvn49BDoPvsP7gpZzo0k3XMxF8asfeUAi78KW86rOgjBvsIle9qzN9IIn3oCppq6dpfEeVC+vths41RGMRoeq7za32TtvI942XnkrLY1Hnesr8gAAMdfdiNKL/yDnoO0YFK6AkkqR9Lo5EJWpthYmrRbSCPNyYs78ue12HMwaRu36s+sC1wYhD3Lf+BhtQ6dUWPR5Ko5rcnlGsoek8TzCvNGErf8DRtuAovmreCsslNT2qmZHpmrdrzAUliD43vFO+YXS5xejdPlnMFW3XtnrCOOVl9KSOmwmLu1di4qr7PPVA6atdKvSkvT6UuS+sggmtZqVLgkLR9Kbb+HK8+0T+8gZZGmJaDh/1dNiCHgZRc8t97QIHqH+r8MIvpd9osFeJNvOTGecNwIn38RJK3puOUx1aht3t4wkpv2PRbub6GXPstz/E5MJeQ8ucutJx44wXnnFHgqMyeQoLADQUO9e62RTbS1HYQEAQ1kpiN6Drrtt/POE2njLFug82Iu50pqJ+Fqgbofzwd46DcK8AdpHbvPHsLXjRDk4q60ieRXhz9/PVVjuX+hWhQXoGOOVl9JSozqP4PgenHSZb4jLBLJFQ6F9F+vaK1fc2nZLVP+4nZMmjgz1gCQC3oIrgxnKkuNcVpc1to5zus1duJ1JNmjaOPe01wEQ5g3XjxO/Gwa4rD5vQHFdKut7wWznDXDbRAcYr7yUltKL+5F8/V0ISWjyjheSyI1V4GokIcEIGD7C5iUJ9pyRUP3fR22mW3s0FOhcEL3r/Dv43cj1bukKGBurk+6MymuyEVDP74b+bmvP2xHmjY4xTjyFLQ/A7Rk40dvHKy+lparwNIrP7UHywLswYNpKDJi2Ekn9J7k9WKLm7FmI/fxsXpqzZ93adkvY85oYMfeBDhXUTsB1uOrEAyUSQTnIPUve+hwbK5c0r6mAF0ULuC4SKKkEfq04GXEtIMwb5nFiqmm7jy13jhNP4dM706Pte/t45T1TFWRvxaHv5uPAujk4sG4ODq9/0R1ysaj4dVOLlydRLXrf5pJawpdvIPy5ma2u11YkWIGOiy332vYInHwTL38MfDFV1UKbzY0hpuiRauPutsNodDAUcqNuB08bB/+xQ1pdrzgyFIF33tgW0TyGatH7NtMTvnyjTWO/I80b9bu5R3L5jBMAbh0nnsJYzVVqY1bNa7f23TVeAbhkvDo8PSSWORcHwtjQOQ0N9VeLkPfQIsR/xh08ih5pSPhqKSq/3oS67f+0WA/tI0fA+BsgS0uErGs8mHoN8h971V1iC7gRY2klxOHBrDS/MYOg3p+Nhou5dkqZiVk1D+LQQHeKBwCo+OwnxL4zn5UW/tz9MFXWoODpN13eXtEL7yDhq6Wc9KCptyLwrrEoWbrG/GxacFMOmN9CAyffyPKg2hG9fuqvFtk8XgoAcR++BENxOeq273N63vC/ZShAUR1q3qj+cTsCJtzASvMbMwjKgVkO++DTrzvCnpjmTvE8hvrvowj9z2RWmjg00Ob4YUEIGLUW+lwVDMVlqNuxD4bC0lbJ4Gi8ag6eRPlH6z0yXh0qLX3u5MYzaA5j1OPQ9y+0SZCODDGaoHrpfUS9+oTN/OD7xvN+g+CDolcGxCGBEIcEQhQSAHFIIGiFHKKQQNAKrpOzRsKeus/y2VRbD6JtgLGyBsaKapgqqmGsrIGpoga6CzkgOsentHz6X2du28fctjgkEOLgAIhCAlsMxGU9OBiNztK2sbIaRNMAY2U1TBU10Bw94+QT8SxF899G/GfcSTfypUcBQlC37R/oLlwF0elBKxWQZ3aB7/C+3K0BE4Oihe8heunTLpfRVFljnnCatSkKDkDCV0tBTCY0XMgF0TaA8pFDHBYEkZ/S4i9Cf7UQqkX/5dVm7owFSPjyDU46JRIhcuEjre9MB0W18D3EffSyTXsiSWSo2+cNj0OITQWf9vVBwldL0XApD/V/HYapoga0UgFRsD+UA7MgTYhm12NiULryC4TPfaAdhXcvddv3wW/MQH6FKAq0rw/k3bpA3q0L/EZdD8CsBJX/3wbeMuTOWIDQRyZDOYgd4ZkSiaAcmAXlQM9syzlUWqztVQKj06EMiUfhSbamNGDaCtdL1sHQ5xah8Nm3ELNqbru3Hf7M9DbXIfL3Bfx9IY7gngRTLXzPKVfaYY9PbbMctI8ctE8kJHGRnLzc6R1DMSZGI6o3/G7TDwUoCn43DXa8P2xikHu/e7de8x5cZFO5AswTk8udShGC3OkvwG/MQATfN8G1dXdQ8h9dDHFokEfmDW+g8LnldlcQZF3jHfsIsRonmkOn4NOvu6tF9AiVX2+E9vg5hD9/f5vrUg7pDeWQ3vznT0JQ/tF6NFzO96rxysumJSpjBFRndnLSGZNnImJ6G8byKtRu/svTYgh4ATWbdrW6LKPRofTtr1wnjB2I0Qh9frHb22lO3fZ9MBS1btn6WqSzzxttGSvW40R31nPuL1yN79A+CHvqXtfWOaxvq8p523jlpbT4hiaAMFyX+bbSOitV321B7vQXoDl8utWOgPT5xSiat8rFkgm0N7nTX4D2JNfgtSUqP/8F+Y8uhjb7vCXNnY7pVC++i/IPv3db/fYomv828mctsXm80hkaLuYi7z8vd5jVN0ew5o3W1vHNbx1y3qje8DuK5q7kVcZUU4fcmS+yxkndH97vGM0Rit4ZSPhqKUIevtMp1/18CHloEiJeeLhVZV0xXis+/dEl45UiLRjSUBTFyoxIGYSEfneg5PzfyD+xBSAEsT3HIipjhNuPPXdkZF3joRzSG/LURIiCA0DLpSB6I0x1ahjLKqE7fQna4+c88tYr0D5QUgkCxo+AT59uEEeGAAQgegMMxeXQnbqI2i172tUXgy1opQLyjGT4DukDaZdYiPyUIAYjTDV10OeqYKysgfboGbe80UqiwiDrGg9Fn0zIkuNA+/mANBhgqq6FsbgChuJyaI6d6TSu7imJGNKEaM68YarXgKlVw1Rbf03OG5RUAnlGMvxGDoAsJQG0UmE+zVJcDmNZJdR7j0F74rzjijogwTNvh99ItpO86p93oH7nQf7xhCgK0W88xTKAbcQlij5FwXdIb854JboGmKrroDuX0+bxSgixef6fl9ICABGpgxGZMRzyf73gNqgrceJ/S0GIe90LCwgICAgIXIvEr1nCWVkpeGqpXZ8+Ttf72WucQxCFc1fCWFzepnrbA3tKC+8ozyUX9qLkwt62SyTgtUSmD4NBW4eKXG6cqUb63LkE2b+tgEHbtkElICAg0Jmh5FKOwqI7l9NmhQUwHy8OuvtmVpoiowvqOoDSYg/3ucEUuKY58sMiQWEREODJuP+OxKwj16Z/EYHW0dxXDQBUfvGLS+o2FHCdxFEy19rKtDeC0iIgICAgYGHovH5Qhnccz7odHUkEN1imsbzKJXXbUlAYXYNL6vYUvLeHBDoHkenDEBidBplvCPzCky2G1mKpAv6RqUgZOh2HNyyESa/1sKQCAh2HXx//09MitIhYLkb3Kak4+8slqEs1nhanUyAO4wb9JXqDS+r2HcwNaOzIK7e3I6y0CNhEV1uKy/u+w5ntq3H10E8ITe4HADDqtajMO+Fh6QQEBNzB9U9cW8EHOwLGimpOmiIr3SV1K3pncNJa69rfWxBWWgRsUq06Z/lsbNBAovDzoDQCAu1H2rhkjFxs24X6gdUncPSzU5bvM7ZNhE+IwvK9oVaPP1/Zh6u7C1jlHj00FRTddBjiwz7rOHX3e6QH+j58HS5szkHqrUmsvPX3bEbFBfaWwX/23QORlPveqatuwOejfmihh1zuWj8OwV0CLN8nf3MLK7+5vM72W8Ax9bsPw6dPN1Za+DPTkTtjQZvqjf+U6+2aNDgOx+LtCEqLgG1ajoMlIHDNMnLxQPz25E7k7S0yJ1DArMPTsGHqZpSfNysOMj8p7vlpPOSBMtYP+kN7puDmVcOxdvwvqCtqcgr4Ub9vAACDnumNnvdy334tUEBoejCrzvv/uBNTvr2FlTZ25XCIpHRT2r8yAuCtsADA91N+BQCMWToEXW9MYPW1OTO3T3K63wKO0R4/x02kKMSvWYK8R14BTM67ExH5KRG19GlzWJZmmGrqUTSPnxM/b0TYHhLghV9YEkISzAG0QhKy4B/R1cMSeSciiDGanuJpMVyOD3zd0q8QKhIj6DtcXi9fxDKzTwuLwgJYFPguYxIsSRM+Hg1FsBzfTtrEKv/5qB9h0Bgw5btbWy1DowLRyO9z93BkTBoRi+ITZRwZ2wN39bszU/XdZk4aJZUg4fPXkfDVUsSseA5Bd90M5cAsKLqnQJGVDp9+3eF/81CEzb4H8WuWIOGrpYhdvdCmwgIABU+87nEHlq5AWGkR4EXmjY9bPif1vxMABG/IAm0mGBEQw/NHMY0N9kOS6OualtZDUgIBADV5bE+lJr0JpacrENOPG/CztajL2AaxxgYTjDojFMHc6NDuRqIw/2S0R787E7Vb/oasS7zdgI/i8BD43zqs1fVX/7DN8U0dBEFpEeBQfI4dvM3ayZygoAi4g4vkBC4SLzHwJsC0jbdhwz2bYdAaMWSuOdDcsS/PWG6xtk9pTtWVGtf+eNtYRdny7F8Y/8FIJI2IxdW/Ci0yFh7m+uVwJf5x9m3bXN7vzgQhKHt/HYLuuQX+Nw91adWFz62AsbTCpXV6EodKy4Bpzu2BCT9mAgLXPp3B1OnDvusw68g0zNwxCZSIRuGhYnzc/xvWPYyJgBbZVlyCuwa6XcaCAyoc+O9x3LR8GAiBRUbG5N6/UE2ufYeS7dHva52qbzejav1WRL/6JCSx3LhBzsLUqVG66ks0XM53oXTegUOl5cTGpZbPjMmAXncsQlX+SRSe2gHCmBCVMRx1ZTluFVJAwBuRQo5h9AQAAAEBBQrFJA+nSFO02dH0FBAQGGGABFLsY7ZCDfPEH4AQ9KNHwQQjKNCgQWMHs55V9jQ5iEyqn6W8CUbsZH5i3VNOVDDCgEgqHnWoxlVyFiXEPFnFUMnIoPpCBw3k8EEFKcYxwl5Ja4ke1CCEU7HQQg0ZFMghZ1j5MVQy0qmLhpr1AAAgAElEQVQ+AAAGDEQQ4U/mBzBgnO5DOtUHQVQYlPBn9b+RUfRkUKDs9qEfPQrnmaPoT48BAxNoiKAiuThNDjjdT2se3nsX9rx1GKe+tx+Yb+/ywxg6vx+Gzu+HPW8esqR3n5yK6D4ROPvL5Va17SxiuRgDHs+yeQqpLRg0RgCAMtzHpiFu4/aZp/rdKTAxKFrwDgCAVvpAlhwLn77dIO0aD3FYEGiZFMRoAjGa/g0oWg7d+avQHjsLg6rMQeUdH4dKi66uKUZBxqhHcei7+WBMTY5vLu/7Dv3ufhOll+xPEMtOjwUAzOu2tS2yOsVzvw5FWJKSlcan3UZZv5ufjWObihzcfW1y97Ie6DUuulM/A2cYRk/AIeZP1MB+HI8/mA0g/65PxFFd0Y8ehV3MzwCAGlSwfqT706ORSKXjKmk6TRBHdcUfzAbL5zSqyVlUGtWbpSTlkvPoT4+2KCz96dHwRzBHERITCYxwznlVOBXLKt+DGszKz6D64iI5gVxi/oGPpOIxgp6IP5mmEywt9QEAzpEjiIFZuWpOf3o0LpFsS/32+tCPHmVT4WkNpWcqMXRuXwyd2yRPxaVq/Pb4n1CXmZ0pntpwASWnynHn2psR0jUQ5zZeQeLwWCSNiAUA7Hp1P6tOqa8EUl8pfELNx4SDkgNQX6yBQdM6J2JGnVm5sA4JUHGpGvn7VNj3ztFW1QkAR9acRMbtXXDLOyPwz9tHYdKbEJjgj7+XH7bc88O9W5zut0DbYNQaaE9egPbkBU+L4jXwsmnxDU0AYbiGarbSPMWKcU2W9o0KCB9KLtcjOEaB7C0qV4rVodj9WQ66j47w2mdww4CFEIlknPQd/7xk+ZyadAvkUn+EhzT5P/hz3ysYOfAVAIC2oRp7j5i3Prsm3IiE6MEorTyDiBBrQziCHf8salGWlhQWcw1Ny/VVpAxiim1sGk0lIY5KgQJKiCFBJdiOny4wx1nlQZlPJplgBA0aJhgt+QxMoNC0ZeGPYADgnPYJo6KhIo69YgZT3OXpHHIG4VQMACCUigYApFA9kUL1tFtPS31whD+C4U8Fc+pv3ocr5LTDupxB5idFdO9w5OwqQNlZsx2ASEIjeWQ8pm+diI/6fQPCmP+mZWcr8X8Dv8Ut79yA4S/2R9mZSnw+6gfoqtlu0u//807IA9j/r3dvGGep44d7t/CWcfQbg8GYCE6sPQuDxmCRMeu+DCQOjeGc7nGWOpUaP838HdfdnYYBs7PQUNeAi1uusu5xtt8CrmHw+3cgJCvaZt7GoavbWRrPw0tp0daWIjS5H8ous1dVRJL2t2J3F6sm/O1pETyO6nwdFvbZ7mkx7NKosBQUH0Stughxkf3hp4xGROh1KCk/abkvwC8OBcWHEOgfD1+fCGSmTERhyRH4KSPg7xvLqpOiaESEdMeV/J0wGLVIS7oFAIW4qAHIV7Vum8ERAQhFJtUPdahGCclHEBXGuaelFZFyFKEbNQBnifktOJ5KRRVhKz0EBFrUs9KcURYAs2LRHJOVPGJIbNbfHGdXdeyhQR0nrXkfTHDNi9Po1wfDoDFg65zdrPSDH2Vj1uFpCMsIRunpJqNGk57Bpsf+aLHOz0c65zfl0MfZOPRxNie9Jr+OtQ00+vXBiB8Uje+n/IbKy03eVA9+lI1x749E3MAop9qzR8nJcpScLAew1+49zvRbwDXsfeJny+cJe2Z3SkXFGl5Ky+mt76L/1OVIvp795lZdeMZOCQEB12O9ogIARSVHMPL6l5HZ5TaW0iKT+uPclY0AgAE9H0NkaA9L2dGDuN4i/9y/GAxj/jHMV+1Dt5RJSEsa5xalJYSKRC9qGP5mfoUO5iOt/aiRvOooI0Woo6oxkp4EChSKyFUcIbtY91Cg8A/D702+kXpSDTSzNVVS/pbPNaQcFEXhJLMfdXBNgDdbuLt+a+IHR2PbvD3cjH8XzJRhCm5eOxM/2PzWba2wAAAIcHHr1TYrLQIC3gwvpYUQxnJKKCAyFaCAGpWw1ybgeWrqCxDknwiaFlsUD2vUmlLIpP42SjbRvNy5K5sQFWY/Fks9qjGcvh3/MJthhAFSyBFOxSKfXHQor5aoAQoIp2KQRy4imIqAP0JQ5WC7qTmBCMWfzI8g4HrNPMLsRG96BLpTA3CKHIAEUsRTqbhMTnErsiUjzJ5No6lEFJGroEGzbFq0UIOAYAA9BvuY36FGDfwRjFAqEleIa15kjjA7MYAeg2KS26o+tIas6Zm4vCOPldZrZiYAIGeX97ipF8vFFtsWwCzj9U/0QtnZSg9KJeAJhn58J06u2o1ha6bA1GCESCZGwbbzOPrqDogVEtyy7T+sFRq/5GDc8OU92Dh0NcZsmA6RQgKRTASRXIKT7/yF1Bn9IAtS4PibfyLvt7OYsGc2slfsQrcnhoAYGYiVUqh2X8Ghha17IWoLrfbTUlPMX1lR+Enwyv5RnPSX+m2HXmN7efeZnwcjMpXtG4AQ4JWBO6Crc26Z2xEz3u+NzJHhrLQ3b9yNqsKWIxjzkW3Z6bEoy1GzbG6seWHHCARGyZF7vBofTGMbs3njM5i/fTiCohX4aPoB9BgbhUFT41n5jInghR6/u0S25vRMn4awYHZAMWLjMG5zJYRh+G1TmExmZ2IikdTy2Zr9zDbEUMkYSN8MGjT00OEcOeJU3RrU4Q9mA/rTo9GFug455CwOMtsRQcU7LvwvSpiVsOH0bWY5IQYFCruZX2CAHlUowx/MBqRQPXEDPRF6NKCAXHK6fgAWGVOpXqgllfiD2cCykfmD2QA5fJBFD4EP/FBDKnCaHHS6/gyqD2KoLpbvjXXvZX6DFmpUoQx/M78ijkppdR/48Omw9XjwryksA9dGfrjP/QcJnOHTYetx0/KheHjvXZy8igtVvG1kBK4Nhnx0Z6u3jqQBcmwcuho9596A6BFd8fuEzzBhz2x0ndobeb+dBQAEXxeF30Z/bCkzYc9sl8jNF95KS8qwmQiITOHYsTjjp+WV/aOwffUl/PnxZfgESvDML0PgGyzFq4fG2DzhszT7JtAiCv97/Qz2fZcPmY8I8T0C8eAnfbF4/2gs6Pk7TMa2+yX48okma3tnjXetZTv3VzkqCzRIHRRqVzZjA8M51WRNYJQceq0Jax4+xEpvbKe6WIePZxzktJN3ohqrp7bdYt/6GQyZnojx85yLMnrv273gGyLF548dwbndZYjvEYhhDyThujEReP3ojXixt2s9MaYm3Yyw4HSUVZ7FiXNNvjP695gFf1/bxmqtRfyv7YwthaWRQnIFheQKJ90EI+c0Sz1qWGkEBAcYtu1QHWla8ndUfiA9lnNPGtUbSVQmLpAm49e2OG6zJWPzNnXQYD9j++/sqA9nyRGcdaDo6aBpsQ+HGNfZVujVBpcfI3Y1erUBmx7709NiuBT/sYNgqqmHeh/XpqfdZLjxeoTMGA8AyJn2os174j96EXmPvt6eYjnNhc8POb7JAZqiGjRUNnlglvhKLZ8vf3+cc39Y3ziUHW5fXzC8Yg91GTQVfmGJyD+xBdm/LWddzvD7exex44NLYEwE9RV6vDr0T6x92uxt9dbn2T+S198VB1pEYdlNu/HPN3kgDIGu3ogL/5RjQZZ5gnzmlyF8xHcZzWWrLDD/kVuS7fPHzBNz1i3c/eZ+E81GoWseOsRacbJuZ+moXTbbie/pWYdOviFSzOu2Fed2m/0D5GVXY+3Tx2AyEohlrg9tFRZkDjZ3Puc3VrorFBZxsxNJ6cnj21ynu/FBU5wRGRSIo7o6tT0lIOApwma7NnZV1MKHXFJP7bb9yJn2IhpyCu3e40qFxVVyN2LUOb+SLPaR2s1rPB3XHErEnc8JaX93k7xWWkISsnDw27mtbuzPj7mOh05uN7udHjojEb8tN/unkPuKcftC8x5yZQF3e8JkMO/ft7Ry4U6clS19WBjO/WX+Mb+033zi4O5lPXB8M/so8aQl5mO2ucfZhnXOtAOA1U57Yy2HNef3lCHzhnCbeW0hp2AnMrtOxKBeT+PkhfUQi6TI6HoHqmpyEBSQ1Ka6RwxYiJyC3dDr65CWbD6Seu5K646Otge7mJ/Rix4GfwSDgKCGlGMPsxEN6PhB0QSuTaKXzIKsSyx8BzUdYbesajAMYlc8A3FoIOr/PobyNb8AAGRdYhH2yCSIQwNhKKlE4YL/AoTAb1R/hNx7CyipBEnrzMrE1ekvgTiIikzLZfC/ZTACxw2FqVYN1RufwVjash2QcmAPhD9+F0teUaAf4lfPh3pfNiipBA2X8qEcnIXCee+y5Q4LQtWGHajZbD6Zaktu65WdyHkzIc9IQtX67ZYybcGo5Soz6Q/2511P6vQ+OLiAvfVYfqT9bbx4KS0mg/smQ8rqlEJ0hr8ltkdrfK24G2dlUwaxtVnCEJsxSygKNre5WttOe1J6xXYYelds29lCVXocmV0ngqbF6Jk+FQCgN6hRWHK4zUpLRfVFJMUOt0ohKCh23j6jvTHC4NKtEQEBd1O38xBkXWJRvuZnTl7ALUPQcCkP6gMnEXj7DRalJWDcUOgLy6A+chbKAd0RNHEkqn78A4aiMlSs3YyAmwej5jezraC9VQJrol+dBUl0GKo37oY0NgJMbctH9gFAm30Rpe99i/An7+HkEQIo+2RAEhkKcVjTynej3Jrj5xE87WaLAmJL7kZ8B/WEOCwINZv/NpfZstfcgAsI6haBqtMlkPjJENYnjnf5yKHJEMnEYAwmxI11znzAHfBSWi7+9SW6DJ6Gy/9847IHaYuQeB/LZ73WexzXNceRbLSYraCsm3MC976dhYSsQMuqSnI/swOwr56078WSbzvtiSNjZVdDQDhHnhspLm/aD7+QsxkXcprCvZ+6yPaVYauOY2e+cpGUAgICtqjbeRihD92Bup2HOXkGVTnKPvoRAGCqroPv0N6o33MUpe9+a7mn6vttSFr7Gqp+/AO6szlouJQP34E9bNZnC1ouAyjKrs2KPRi1FuoDtk+sla3+HtK4CBTOfw+Bt98AUZA/TFW1LLmlidHmt1NCWpQ7bPYUi2wNF/MQ+uBtFuWtLfw5bR0GvXs7ZEEKlB7Mx8Zhq3kb0m6f/BUGvDUOQd0iUJ9bhU3DP2izXK2Bl9KS2H8iFAGRCE3szclzZcBE6+2Ql/p6r5MzvrKd3FYMAHjg4754bfhOGHQm3P+BOW5Lo02IK9oREBAQ6Ghos5tOpJrqtRAFmO21YpY9BWNpJbQnL8JQWMpelueJPCMRmiOu9ytGGszG+sRgBCUWgfaRI+rlR2AsrUTd7iOgFXJQNAXiREDLwAlNq73abPZJOXung/Y80rIDw/q8amy74wubdW2f3PSydnHtUU5+IyKZGP881XYFqq3wdC73XpsaC03wQXmuhpXWGCm1LKdpm+HygQoUnatFdLo/5L5i6Opdc6zXVbRFtrzsasT3CMS0VVn44rEjkPqIcOWQ7f1Ub34GAgICAq7E3uK9NDbcYifCMQZlCGBjy90eugt5CL73VlR+vx1gWrZ9aQuhD97Okjvs4YnsG1qQu3rjbpvpAmZ4He8wGRvsXs7Q/ERNYKQcL+wYAaDpdE0j/73bfIx38YHRNhVrkZhCUIxnvFO2RbY1D5mXAzOGh6HHTZEAgM8etX3k07qdkY904eSLxBS6j259+HIBAQGB9qZ26z+IXvwoAieOROgDtzkuwDAIvOMGBNw6FPEfL2RlEZMJ8rRERC9+FEGTRzuuSq0FJaKR9PWrCJ52C8Jm3wVprHkOlaclwqdXGkR+SvgOyYI8w2wjR4loyNMSoBzYAwDg0ycDoqCWHVVWb/rLInfE89OhLyyxKXfzZ1Cyci0S1ixC4MSRiFzwIMRhQY6fTyeDaunIEkVRnEz/8C7wDUuASMr+Uc4/9lvzWy00GpLmHq9GQhb3iG7OkSp8NJ3rKj1lYAgeWtPPbr0f3ncAV482ufcOjvVB3ztiEBglR2CUAl36m+1Frh6tQnWxDjUqHVQX61iRixV+EgyZnoCASHOZlIEhAIDC07WoyNeguliHapUWe9eyA8zxlc2axuehqTbAJ1DSYhRqR+0AbY+e3fgM5L5iBEQpENvNH0HRCssz0NUbUK3S4Y+Pmk5/NTqXO/NnKcvHSyP3vtML142JaJfI3gICAgIC1xaEEJtLUby2hyhahIwxj9nMa0lpAcweUj9/9IhNj7ifPWLbiOrivgqc2lFidzWhtpS9whOT6Y9Rj3JXJBJ7N2mrZTlqltLiGyrF6Me6csrEdPNHTLcmbbq50sJXNmvKctQIS1LCJ1AC1XluMDhb7XQbFWFzVUd1oeXyzuDsM7BWWgQEBAQEBNobXistmTc+jqqC01Cd2Yn+97yFg9/OhdwvFF0G3YPTv7/vdmEFBAQEBAQErn3srbTwsmnxDU2A6sxOAIBBZz7brqsrh8w3pK3yCQgICAgICAi0CC+lRVOtgtTHbJNSV3YFEoV564Ax8QtEJyAgICAgICDAF17bQ74h8YhIHYzL+74FLZai311LzefUKMqlfloEBAQEBAQEOi/2tod4nx6yhhZLERidjso8z0XmFBAQEBBwD9G+GUgLHg4RJUZNQzHKtbnIqWl7NGFnENESjEl4EltzVrq1Hes+Npg0KKg76XQfnZEx3j8LIfJ4RChT3N4Xe3QLHYMQRQJ8xAEul8FdfyeX2LQ0hzHqBYVFQEBA4BpEREvQI+wWyERKiGkZQhQJSAsexrkvM4R7IrSj0LyPSkmQzT62hbza4zhWutGldfLldPl2FNW73hOwJ+B15NmagMhUEBDUFl90pTwCAgICAl7AiLj/4HT5duTXtfxiGu+fhTMVHTNwp7N9FPAe+PlpoWj0n7qck16Zl42Le750mVACnYtbxyix8atom3ndhubi3CW922XQF6RAJAK++akO980udnt7LWFSpdhMb69nIeAY67+RKOpafXGjQGDfQuC60JsQ5ZsBABib1GTTaL1N4CcNRWJAX0Qp01HdoMIh1XpLnVKRAn0jJuFC1d/oGT4OWmM19hWu47QZLI9FVvgESGgZVOpzyC7bwpYjbCxC5HEQ0TKcr9yFgjpzYEPrbYs+ERMRqkiwUb7lPgLm371IZRrSg4dBRElRoc3lrJw0ysgQIw4Vb4DaYNuxqD3s9aGRGN9uyAgZCTEttaRV6gpwUPU9APNz7hNxh6V8Yd1ph/3iS9/ISQiRx0NtrEKdvgynyrbBRJoO4QTLY5EU0N/Oc+bK2LyPTkMIsXsBINZX95ufIWFdBpDm6QOmreSkCZdwOXvJZRRJ7yolt431JfOeCCIHtsYRkyqFmFQpJL2rtF1k0BeY2/t6daTHn0d6VykZ0l9BHpwWQJa/HNruz0K4HF+NfxOTKsXjsrjrkov9yNikOaRn+K127xHREjI2aY7NvBBFPLkx8WkS59fj3+8JrHulIgUZmzSHJPr3IQBIrN91ZGzSHBLvn8Wqu0fYLZYyI+NnkV7hEyzfb0p6lsT59SAURRMA5Ib4R0lGyA2s8mOT5hCpyMdmeUd9pECRsUlzyOiEJ4hMpCQURZME/96c/jfKGCSPsfs87KW31Iem5/iUWR6K5tTT+Jyty9tqq2vQILsyOLrGJs0hIYqEf/9uPiTGr7vNZ2DvOd+U9CxHRus+2rrs6SW8bFrkfqEou8x1t99QX8GnGgEBFroGgnOX9Pjf1nose78KG7eqHRe6hjl3SY+/D2rx6boaPL+43NPiCNhg1UdVKC03YdVH/N6oOxI6Yx225qyEiTFgbNIcjE54AvH+PZ0u3y9yMv7KX2PZeqnQmr2KhyoSWfddrTXHXiuoOwmAayOTXbbZ8vloyf8QoTSvcsnFfqBAIb8uG4SYgx/uK1yLBP/erPKny3dAb9KwytOU2GYfxybNYfWxR/itKNNcwY7c99FgUoMQBrm13LAljTJW6QoBwFK/I5zpQ7x/FnJqzM+o8R652M+S3/icrcsD3OfcFkzEgChlOgBAb9Kg0MYqSXbZZs5ztu5jcxmb/52chdf20KW96xCVMRyqs+wolIJzOQEBgc7E84vLO41Ceap8G06Vb0PPsFuRGTIahXWnYSLORZ3vFzWZ9V1tqISIkrRaFiNp2h4NlseCgGBo7P2cNqypbijklKcoyvw+/y+NfaQoGjclPmPpY5AsGper9/OWs3n9/9/eeYdHUXV//Ls9m9572SQ0KQmQ0AJKkRKk9/pCFPHFBigiL4IF/AnCC9gVGyVgUFGQoogF5IUohABJCLAYkpDee9kkW+b3x7AtO1uzyyZ4P88zTzIzd+7cOzN377nnnnOuPkypQ1HDDUT5TERWzQXVsRaZ9vIt1n7O7fn17vvo4TEC8eFrIFO0Ib8+DX/XnNebnuk9MZXREowKLUJXX9X/zTXF6DnqCTh5BtOCC4uFoD5jkX/1hEU3JxAIBELX4Fb1WQQ494Iz3xt1rabZfV0o3Adr21YokSnojvF84V6D6cy5u1IToKyjnJKCyxZYWkSjmFKH8uZscNkCRPk8BieeJ6SKFp00tnzOSv6uuYCaliIM9J+BCPfByKpNVj0vQyjraK0yGhVaoqas0znmJRoIL5FateMR0hclt/7ocGEIBHsjldq24RMIXRU3Pr04bLO0VnVMQcn1pq9vLUO07ySklZ806z6a+RuivDkbLDCG8ugwyjLk1Kagr/d4VEnyUd9WZvX7mFMHzWkyTSx9zpZQIcnF6dxdiPGbiUi3IbhT+5fRa5R1tFYZjQotJNItwRQy/xeGh7rzjSeE7bwtBHwWXljhgbfW605XSloo+PXJQVOz4ZFBbb0CHm5sVNyK1FlVO69QhohBuQav93Tn4MyRIPR7iHl0VlQqQ+gAw3nYi5b8buDx6Eq3f0cl1yPg680BAMRNKsClq9qjvZTToYiJEmDoxAJcTlOfe/k5D2zd4K33nk+sLsP+b+r1ntf0LFOW6fTXQRg70lEn7bk/JRgzq1C1f2i3P+ZOcwEnIAu/HQ7C6BHqa+b/uwSHjzfizPfBGBknVB0/8mMj5jxZopO3vy8HRekRjGU05XtWehtxArIg4LNQeycSfJ5uZ7VgRSm+PWZ45fb71daUHkFyhRQcNj3VUNGcozXSV460x4tWo0XeCAeOM365+y4A4M/igxgnWon48DWgKAVYLNqEsn0QsvjwNWiW1cGR64aypiyklZuuuU8rP6kqp4KSg83ioLjxlt4O3tw6FjXegMgtBnFBi+n6ggILLLMCqT3kNRpCLr3kTYzfDMgUrZDIGlTTK6bWQZmmUVqNlJJvVPYjms9ZeT2gfs6Bzr3hJQyDp0OQqgwSWQNuVZ8xSVOivLeCkqFN3gyHe3W5UnbE5GeQVn4S/XwmaJXRnPekSYci4hIIgLb758a3q1BYLIO/LwdbN3jrdPxyOcAPNvxDumG1JzavowUPU918o3oLcO33UK1jWTlSdAvnaZVh0Ph8XL3eqnO90uX5zV3VePVFT9Xx3HwpQgK54HLVmazcUIGP9jCPBpX5KCkskaFZokCPCO1OxpzORPl8be3y/NkOXyxb5AZAt3ya7/ibHxqw8OlSxvOa14lCeMhOEan2JS0UCoql8HDjwMdL/ZA276zGph3MxvzthZbarEi4ODP7D8SMzUfaDfW7VQotQycW4OKpEOTkSREWzFO9nzEzC3HmSDAKimUQOrDg7UmfcBLdQUur9k+ftYSWuctL8O3nAQAAigKyctvg5sKBn4/6ecxdXoLvTzYazAcAzl5oxv5vGzrU1uwJnyPEmNBn7BYltivgzPfGsMCFSCs/gYpmerDjwvfG8KCluFV1ltEo+EFBX0Rcs1yevcIGUIG9x6j2+8avpoYs2kl1G/Evm7vfka1zbttf8zbo+ql0JR470tHkPDes9jTbzVfTBdXJka11jsdjUe9s9jGpnPKS7lSlOFLnvKOQZZKb64C+AmpavDPjuZBArur6dc97mPw87pfLc0yUQG/9NOtu6Hz746cOBVEcDvP9clPDjT7PSeOcVGmSPvGn5CXdKT8fjk46Lpelc+zQbn/G/DXr4e6q/lau/BZKyUu6U2/+x8us783c71Ne0p3xmZRmRhjMU7OtPTJUaPAbtuV3Yq1N6fJs73J05i3WfxbjM4oPX0OFu8XavXy23Kzi8hzUbxwqclIAAByeAE6ewbj01Rp4hfU3JxvCA8Sapz0AAK++zTxSXrWxHABwKikI7q4dWjVCL8f20yNxuRyIHp2nMwUklVJ44bUK1DfQx88dCzaYn3evbJ1jzRIKT6xWz2l/vM1XJw0AXMtsxbGfmUfJBcUy/J1Da0qeX+ZusAz24EpGK1LTabV4VG/19Fb8GCcAgEJBa0v00V47AQATFxRBrsfsITw216zyzZvuAmHoHZRV6GYok+kvV2m5dnrN6ZfaevW3suNj2n157CO6U0/WxLd3DuMzCe5v+HlotrX/XZTonFe2NQA2a2uE+0tGxU9oltYiPnwNhgYswKiQ5YgPX4O08hPIrUu1d/HsgllfNk/oCmkL/YPsGdof1YW0r7ZCLjV0GeEfQF4h8zeQX0S7RrLZQLdw0+bhzeWxsXSn+uOvTcgU658++eKrOgDAiMFCvWkMkXRE3dnNmepsUR7Jl2ihwMuTYySlfbiaQU+v9HtI/a6GD3YAANzObkNapu7UWnAAbRrHdM7atFlgKC3O0v4mcvNljHkphRsPN9u+m6oaZilOU/DSnI5sj7G2BtiurRHuL21yCf4sPoDa1hK4OQSAxeIgqyYZpU1/27todsMsoYVSyIB7ls4RQ+bgzvlEAIBUYthwrDPAd+TilfQZ9i7GA4s+OwPNEZ9S02Ft2Pdu8dz6coPpXt5sPK6GIU2CpmeRp7tlHVtWLt2B8nksODt1vtHwp/tpwW7xbFfVsVXLaa3QnqR67N5P2/JoamKWzqPTfppYZ/F9TXkWXx+17HfmWqa20XBxGd25p6ZpC1m1tfeEFnfbvexBe1QAABFuSURBVBeFiU0gNEi/j4Q925o1aZNLiD2LCcgUbbhYnITTubtwNn+3RXFjHiTMCi6Xd+UYBi14G1JJA+TyNpXlscDZ08iVXQcXXyHilvXA6a3petNMWB9t8LwteSV9BlobpeA7csFi0wGMtvQ/CgBY/OXDCI1l9tTYEn3UJuX59lgD5k5zwY43fLB7v26n9cEWehrlxOkm1dSIrSgqNRzwStPm3N2VrTU1oOTPFF21uyU4CllYOs8Vo+Ic4e3JQVAAF54ebIuFnfuF0pB1/Cj1FImTI90Z7j1Uh7oGBfZ/4I9Vy92x7AV6ukwptBz8Tr8XUNwgByyY4YLePQTwcGfDy5MDLw/znsXvF5rNSq+kokpbs6H8Dir1HG9v0GpNLl7RjbHBBJtBLtFsa8dPN6G43feubGsAbN7WCAR7YZbQUnX3GiR15eALXVBbLFYdL8r8zeoFsxfjXu6HXuOCDAolMfMj7Ca0AMDO4bSvO4vNQsLBkZj3URy+efZPHFymjlA4ffsgyFsVOPHqFZuWZcGKUsyd5gKhAwtVtyPxxKoyFJfK4O3FwZ53/eB2b/Q3PaHYJve3VFsRKeLhSobudIY+1b2pRPcR4OpvocYTdjEOH29ETZ1ayFs6zxXLXijD8EFCRIpoV1EmLcL54yGIG+RglTLUMQiZpiDTI8vK5OZPNXWU9oKSOWi2tYJr4Xj/81okHWnQaWuf7LNc40UgdHbMEloAoLmmCM3tltsoTD/FnLgTEhrrjZk7h0DeKkfe5Qoc30B36p6hzpjx30Hw60WrwpVTSX/t+Rtn37sBz1BnxC3rgT6TQhjPK49tiT6KhZ+NQFC0J6pyG7B34R+gFOofxz4TgzF2bRSE7nxU5zXiwqdi3PxZHVvCHCgFhWvf38WY1X0texhWgh+chcpbkXB3ZePI3gCtcyVlMqMGhh2hscmyjqy6lvk6pVbBErqF81QCS2m5HDHj8nSMQN/8jxdeWdW5NZPNEgqOQlrdMHMSbbujNFJVotRGLJrtAia6hfOQdiYMQgc64epXK/DBF7pu4vpWtCYwo2xrri5srFzujpXL1QbdJWUybHy7Cvu+1q/xshSngf3RdDXN6vkSCOZiltDC4eoPZyyX2d4Izxr0nynCuyN/RHB/L8zaNQSzdg3B9y9eQnV+I76cd1YljLSfTqnOb8TJ16/il20ZeOmvKXqnW9Zfm47tg49DIacQNS0U669NV6X16+mGyZtjsG3wMYACnDwFiJoeZnFduAIOhiZ0R8rBOxbnYQ16RvLh6sKG+E4b+jycZ7dysFjaU0CGuFvAbMzYI9IyA8bgAC7EySIAtLYmKDqHMZ1zB4Si+8WXX9Xh+SfdEeDHxVP/ouO2KL2KAFrrojREnjWZ/nvmvPbUjThZpBJs/PrkoLK6YxosAo2yrQG2j9ujieesaURosRCeIw+L/liEfYP32bsoHWLSnknw6esDACi5XILTz542mN41xBUzv59p9XqbJbTEztui91xXiZx7YuO9FUXTqpD8uRgjn+tt1fxv/FQAuZQexacfzcOkN9TLHTh5O6CxqoX2QgfQVN2Kv/ZYZgXu4MLD3A/j4BnqjNRDui6695PjB2iX4/h5RUZS2paQQK6WB0V7NO0E9Ak3ohCzlY8AgHGjHFWd9IHD+g1Gvb06t00LoBZQenXnY2CU7kDl4hUJ5kx1hp8PRxWQLTVde9CiaRdCBBbroWxrNXWK+yawBKxZCY6LC0Tv71Adu7vyJQCAU+xAeM+fjdaCItT/fhbNmTeN5uc8KAYeM6eCzRdAIr6N8s/3AgAEYaHwXjQPXE8PSCurULxtF0BRCP3vW8hfu0Erj7AdW5D30itWrCXBGNk/ZaO5ohlhoy0faFsDs36hM378r9Y+h+uA4OgJqMzpOv7imlM1eZcrIXC23kqYAHApUVfrET7UF7kXy5GTXAahGx/rr01HXmolvlt9EW1Npq2Wqsma5MngOXBw53yZzQxszSE8lH6GBcXm18UaKKczPt7mi8mL9dvObH9Nfzh5JTyG0OpKBHz1ufaxQvr2UnfuJ35hjtMCAAtmME+ndCaSjjRg/wf+GPuwEF4eHB0B75N9ddi5yQdL5qo9jJReReYQEmiZgPhPRtnWjHnKWZOSne9D9P4OlaCiRBAugkvcEOS99ApYfD78n3kKsuoatBXrLoOgicfMqShY/zoAgKUxkpBVV6NoC93HsB0cELxpIwpfexOl734E74XzUJn0DQDAc+Y0lH26x4o1tA49ZvRARUYFarJrjCfugoi/E0P8nRgJKQl2LYdZumpJbanW1lh5F+LfP0XEsPm2Kl+Xg83VfaSaSyXsGHYC22KP4dL+LKy5MBmPJ40y+x47h5/E2zHH0GN0AJZ//2hHimtV3t7orbKFuJ8MeywfADDxUSdcOBGiN90L/6aDcym9XvTxxEJXxuO37k3/AMD0pdrCUbpG+PjxI50Yrx8xWGhTzxRroTSoHTWc9iDae0jbRqK1jf6e50xVC2B5heYLrFkXRZYVkIDED/wR3cd2qw+bgtfsGSj/jNaSUG1tKP98L7zmzzZ6HYvLhf/zK+A8KAaUhvW2oqUVfiueRPBr6xGy5Q1w3empybaiYjgPHQSX4cMAAK6jHkZLln2nxJmIeSbG3kXoVBhaIqgjWGWoI2+zjptoV0DWaljVPfzJnvjuBW0/+ruXKrT2FXIK2RfKsHXADx2KHXP+k1t4+OmH4B7shNrCJovz6SgvvFaBdzb7YO2zHlj7rAdjmtvZbXhiVZmOy6eAz8KAfgK4urAREsRDaBAXEx9Vd/pvrPXCjdutKCiWoaBYhqJimY5aPFPchmuZrRjQV4BhsQ7ITQ3HkPh8lFfK4eLMxh8/BKP/vR/4hkaFQUNFhQL4fKcfhg50wJdJ9bh0tQV8HgtXfgtFWDDdXNqkFFKuadcj8dt6JMxzxcg4IdY974FvjzVorYPz8TZf/HuJG0rL5fD31T9F1LsHH8GBXLi5shESyNPSRryx1gsFxVIUFMtQeG+7ktGiN+JsRxkaQ3v9tDfCVRLDMHWk5NyfEtVChNd+D8WAR/NV57pH8JB5LsxgALXOxqD+DggO5CI0iIuQdjFUdm32QUGRDIUlUhQWy1DfoMCN27aZulG2NQ4HBr3Uhk8uMNm92nIoWLLIcv7aDWDxeHAaEK2lwQnbuVVLm6M5HVV/7gK85s1CU+pVtObe7WjBrYpPPx/EPBsDgZsAw18bDpmEFuBzTufg76Pq6f+ESwloKmsC15ELgasAP8z7AbW5tIayx4weGLZuGCiKgkKqANeBiwMjDkDeZrxxT/hoAlI/SEWVuApLkpeAxWEhaUwSpM1SJKQkYN/gfWCxWVh6cSkAoKGoAS5BLsg8kInUD9SzJJP2TMLF7RcxJXEK5K1ycAQcZJ/KxvnXz+u7tRajt41G2OgwtDW2gcPnIGNPhsnP0BzMElqE7v46x1x9I8EVMI8suyLHX0nF1C2xWHd5GpprWpHyVTYu7VcvOqa45yap73ypuBbrLk+DtFUOBxcexL+pR+Qjn+uN4ct7oraoGWw24BrgiJunLfMcAoDzu8UozqzBMz+Ot9s00cg4Id7Z7GM0Xc9IPpJPhiBsYC4KS9Sj8gH9BEg+qV87MmeqM+ZAO/os0wJ1sePykXwyBENjHBAaxEXJdd3F7YpLZQgxssIyLygL4mQRli1yUy0eqMnaTZXYtZu5Ex8zqxCy4u5gsYArDB3KlYxWDJ6Qb9Bj5vo5/fPFTFF4g6JzdDyUrMEfyRKMGk4LHbezdTvgE6ebMGUC3e5LynS1LGNmFeLpBDd8uNUXUb0FjHUO6JeDve/5qZYJ6MxcPKX/G121XHdJBlusZG5qWwPA2NY6gry+ASwuF5SG/3jlocPwfeoJlL73MVh8HnyXP46qw0ZW/r1nLU9JpWhMSYV7/DjGZG7jx2rtV3//A/jBgfCaPxtlu7/ocH2sScX1Cvy84mckpCQgeXOy3umh/cP2q8wTHpr7EB778jEkjUkCAMStj8Pl9y7jxle0J2rEhAgsOrsIicMTjd7/1uFb6Da5G6rEVWDzaE1/74W9kf6FOizH4nOLcW7jOeT+ov79S0hJQPqX6ZA2q50SJu2ZZLHhbNjoMNw8dBMp79BL/YzZPsaifIxizoKJQxbt1Nli575FCd387L64UmfYXkmfQXmJmBfLexC3kcOEJi3QprnYYFF6hM3LtXi2C3XzQhjVWtCNuvZ7KLV4tgvl6a67yJ6hLSyYS738nAeVnSKiKsWR1Fcf+1N8nu6ifExbwnxXKuuiiJIWdaf+/ktEnTgQSAX5c+3+vuyxCfgs6pvPAqjarEiqPjuSOnEgkFrztOmLRZKN3kxtawCo1F9Drd7WWDweFfz6eirsnW2U/6pnVMcdo/pSYTu2UgGrn6Oc+kcZz4vFogLXvUiJ3t1Ohbz1OuU0IFp1Tti7FxW2YysVuu1Nih8YQIne36FdBg5H51hn2hJSEiiPSN1vm+fIoxJSErSOeUR6qI6FjAihElISGDdT773o7CKKxWZREz6aQE38bCK18MxCCixQc07OUZWt/TWT906m+i/vr9qftGcSFfW48XeYkJJATfhogtaxwMGBVEJKAsUVqn/nvHp5mVWH9ps+ucQsTUtX8RCyK13BaMEKiEJ4OHOEXnhwxJQCg2mbJZTqf0NTI9bi4HcNOPhdx5aWyCuUYfuHNdj+oflGdfu+rrdJrIyuSGsbhXlPGTbMJBjH1LYGAI+vLEPamVCrtjVKKkXhpq06x5szMpH30nozMqJoryAGJDfFWnm1N/x16B6Jul/PmH6vrgIboBQUEuMStRxFzIHnxEP3qd2ReTATXAeuaqpGfFhs/GINZC0WaubudXua5VfIbLRsi01yJTzw9O+rtme4yhBZlkAgWB9T2prcDpF+bQ6bDbf4caj/3wV7l8Tq1NypAYvNgmePjgWd9OrlhfKMcpRn0J5l7uHuqLyhXm+NzdHu7t3C3azm6dRQSA8S3UTqKXXnQMsWlTWG2UJL90cSEDv3LQxZtFNrI/yz4GgM4gQC07VLHQ2TTyD8kzGlrb24gjaGf1DaWvCmjQjeuA6S6zcgr+u8Gsy6u3WIXRmr2lfalxijsbgRCrkCUxKnwD2Cto/y7u2N6CejTb53fUE9uk3uBmmTFJIqCXJO5yDk4RCUpNJazsvvXsaC3xZA9KgIACAaKwLPkYe8M9YJBtpQRAstk/dNBovNApvHtplNi1nTQ5FxC+HiI0JB+inUl3U+lzN70xliptwvjv7UqPKEST8bhvDYXL1pq25Hqv6f+i/brEFEIDzImNrWJo93wuMLaJf9B6WtFb7+f/YugkkcnXsU8bvjseSvJai+XY20z9NQmGyao0XisEQ4+Tlh7Dtj4RrqiorrFTi/yTSvHQAQHxZj8IuDVfuZBzMx9cBU1f6NpBuouVODXnN64ZE3H0FhcqHZBrea8VkCBgWo9pX5JA5LRM9ZPbH43GKUZ5Rj/9D9NonpwjLkS81isbRODl6wHSmHXrZ6IQhdEz6PBUl+N9V++o1WZIrbwGEDwUFcjBgs1Er/469NmLrkwfghJRDuJ+3bWpuUws+/N6NZoiBtjfBAQlEUo1rRLKGl5+gnkfPXN5C2dMzIkfDgwOEA+VcjDBr97Umqx/I1hgO6EQgEw5jS1qpr5RgSX4CcPOa1tQiEroLFQotWbBaFAlFTXkZTVSHyrhyDTKoOKiepLbVeaQkEAoFAIPxjsVhoMdXIlrhDEwgEAoFAsAYWCy0crmnrW8hlxO2VQCAQCARCx7GKTQuBQCAQCASCrdEntJDgcgQCgUAgELoERGghEAgEAoHQJSBCC4FAIBAIhC6BQZsWAoFAIBAIhM4C0bQQCAQCgUDoEhChhUAgEAgEQpeACC0EAoFAIBC6BERoIRAIBAKB0CUgQguBQCAQCIQuARFaCAQCgUAgdAn+HwW7zHDBVu5nAAAAAElFTkSuQmCC\n",
      "text/plain": [
       "<Figure size 1080x360 with 1 Axes>"
      ]
     },
     "metadata": {
      "needs_background": "light"
     },
     "output_type": "display_data"
    }
   ],
   "source": [
    "k= (' '.join(df_Pro['message']))\n",
    "\n",
    "wordcloud = WordCloud(width = 1000, height = 500,max_words=50).generate(k)\n",
    "plt.figure(figsize=(15,5))\n",
    "plt.imshow(wordcloud)\n",
    "plt.axis('off')\n",
    "plt.title('Common words in Pro class');"
   ]
  },
  {
   "cell_type": "code",
   "execution_count": 14,
   "metadata": {},
   "outputs": [
    {
     "data": {
      "image/png": "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\n",
      "text/plain": [
       "<Figure size 1080x360 with 1 Axes>"
      ]
     },
     "metadata": {
      "needs_background": "light"
     },
     "output_type": "display_data"
    }
   ],
   "source": [
    "l= (' '.join(df_News['message']))\n",
    "\n",
    "wordcloud = WordCloud(width = 1000, height = 500,max_words=50).generate(l)\n",
    "plt.figure(figsize=(15,5))\n",
    "plt.imshow(wordcloud)\n",
    "plt.axis('off')\n",
    "plt.title('Common words in News class');"
   ]
  },
  {
   "cell_type": "code",
   "execution_count": 15,
   "metadata": {},
   "outputs": [
    {
     "data": {
      "image/png": "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\n",
      "text/plain": [
       "<Figure size 1080x360 with 1 Axes>"
      ]
     },
     "metadata": {
      "needs_background": "light"
     },
     "output_type": "display_data"
    }
   ],
   "source": [
    "m= (' '.join(df_Neutral['message']))\n",
    "\n",
    "wordcloud = WordCloud(width = 1000, height = 500,max_words=50).generate(m)\n",
    "plt.figure(figsize=(15,5))\n",
    "plt.imshow(wordcloud)\n",
    "plt.axis('off')\n",
    "plt.title('Common words in Neutral class');"
   ]
  },
  {
   "cell_type": "code",
   "execution_count": 16,
   "metadata": {},
   "outputs": [
    {
     "data": {
      "image/png": "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\n",
      "text/plain": [
       "<Figure size 1080x360 with 1 Axes>"
      ]
     },
     "metadata": {
      "needs_background": "light"
     },
     "output_type": "display_data"
    }
   ],
   "source": [
    "n= (' '.join(df_Anti['message']))\n",
    "\n",
    "wordcloud = WordCloud(width = 1000, height = 500,max_words=50).generate(n)\n",
    "plt.figure(figsize=(15,5))\n",
    "plt.imshow(wordcloud)\n",
    "plt.axis('off')\n",
    "plt.title('Common words in Anti class');"
   ]
  },
  {
<<<<<<< HEAD
   "cell_type": "code",
   "execution_count": null,
   "metadata": {},
   "outputs": [],
   "source": []
  },
  {
   "cell_type": "code",
   "execution_count": null,
   "metadata": {},
   "outputs": [],
   "source": []
  },
  {
   "cell_type": "code",
   "execution_count": 25,
   "metadata": {},
   "outputs": [
    {
     "data": {
      "text/html": [
       "<div>\n",
       "<style scoped>\n",
       "    .dataframe tbody tr th:only-of-type {\n",
       "        vertical-align: middle;\n",
       "    }\n",
       "\n",
       "    .dataframe tbody tr th {\n",
       "        vertical-align: top;\n",
       "    }\n",
       "\n",
       "    .dataframe thead th {\n",
       "        text-align: right;\n",
       "    }\n",
       "</style>\n",
       "<table border=\"1\" class=\"dataframe\">\n",
       "  <thead>\n",
       "    <tr style=\"text-align: right;\">\n",
       "      <th></th>\n",
       "      <th>sentiment</th>\n",
       "      <th>message</th>\n",
       "    </tr>\n",
       "    <tr>\n",
       "      <th>tweetid</th>\n",
       "      <th></th>\n",
       "      <th></th>\n",
       "    </tr>\n",
       "  </thead>\n",
       "  <tbody>\n",
       "    <tr>\n",
       "      <th>98572</th>\n",
       "      <td>1</td>\n",
       "      <td>RT @jimsciutto: We are in a parallel universe ...</td>\n",
       "    </tr>\n",
       "    <tr>\n",
       "      <th>77569</th>\n",
       "      <td>1</td>\n",
       "      <td>Our inaction on climate change will be the bla...</td>\n",
       "    </tr>\n",
       "    <tr>\n",
       "      <th>399472</th>\n",
       "      <td>1</td>\n",
       "      <td>RT @LibyaLiberty: This was an eye opener - how...</td>\n",
       "    </tr>\n",
       "    <tr>\n",
       "      <th>177571</th>\n",
       "      <td>1</td>\n",
       "      <td>@IvankaTrump - so much for making climate chan...</td>\n",
       "    </tr>\n",
       "    <tr>\n",
       "      <th>698562</th>\n",
       "      <td>2</td>\n",
       "      <td>RT @RawStory: Researchers say we have three ye...</td>\n",
       "    </tr>\n",
       "    <tr>\n",
       "      <th>...</th>\n",
       "      <td>...</td>\n",
       "      <td>...</td>\n",
       "    </tr>\n",
       "    <tr>\n",
       "      <th>890582</th>\n",
       "      <td>-1</td>\n",
       "      <td>RT @dbongino: We're at the point w/the delusio...</td>\n",
       "    </tr>\n",
       "    <tr>\n",
       "      <th>380307</th>\n",
       "      <td>-1</td>\n",
       "      <td>RT @joshdcaplan: Al Gore admits Paris Accord w...</td>\n",
       "    </tr>\n",
       "    <tr>\n",
       "      <th>390339</th>\n",
       "      <td>-1</td>\n",
       "      <td>RT @JoshNoneYaBiz: Funny the same people who b...</td>\n",
       "    </tr>\n",
       "    <tr>\n",
       "      <th>213863</th>\n",
       "      <td>-1</td>\n",
       "      <td>RT @HerberMp: @sness5561_ness Al Gore is a idi...</td>\n",
       "    </tr>\n",
       "    <tr>\n",
       "      <th>819732</th>\n",
       "      <td>-1</td>\n",
       "      <td>RT @sara8smiles: Hey liberals the climate chan...</td>\n",
       "    </tr>\n",
       "  </tbody>\n",
       "</table>\n",
       "<p>7293 rows × 2 columns</p>\n",
       "</div>"
      ],
      "text/plain": [
       "         sentiment                                            message\n",
       "tweetid                                                              \n",
       "98572            1  RT @jimsciutto: We are in a parallel universe ...\n",
       "77569            1  Our inaction on climate change will be the bla...\n",
       "399472           1  RT @LibyaLiberty: This was an eye opener - how...\n",
       "177571           1  @IvankaTrump - so much for making climate chan...\n",
       "698562           2  RT @RawStory: Researchers say we have three ye...\n",
       "...            ...                                                ...\n",
       "890582          -1  RT @dbongino: We're at the point w/the delusio...\n",
       "380307          -1  RT @joshdcaplan: Al Gore admits Paris Accord w...\n",
       "390339          -1  RT @JoshNoneYaBiz: Funny the same people who b...\n",
       "213863          -1  RT @HerberMp: @sness5561_ness Al Gore is a idi...\n",
       "819732          -1  RT @sara8smiles: Hey liberals the climate chan...\n",
       "\n",
       "[7293 rows x 2 columns]"
      ]
     },
     "execution_count": 25,
     "metadata": {},
     "output_type": "execute_result"
    }
   ],
   "source": []
  },
  {
   "cell_type": "code",
   "execution_count": null,
   "metadata": {},
   "outputs": [],
   "source": []
  },
  {
=======
>>>>>>> fe9e58dc80b8810b300df52ad87ceb3f38cb1c39
   "cell_type": "markdown",
   "metadata": {},
   "source": [
    "### Preprocessing"
   ]
  },
  {
   "cell_type": "code",
   "execution_count": null,
   "metadata": {},
   "outputs": [],
   "source": [
    "#### CLEANING ####\n",
    "# handle some of the unnecessary punctuation \n",
    "# upper/lower case\n",
    "# change the slang words into something more meaningful to machine learning\n",
    "# handle missing data and empty strings\n",
    "# ect.\n"
   ]
  },
  {
   "cell_type": "markdown",
   "metadata": {},
   "source": [
    "The `message` column is in its raw form and needs cleaning for the model to be able to process, make analysis and provide predictions for sentiments. Next we will be cleaning the data."
   ]
  },
  {
   "cell_type": "markdown",
   "metadata": {},
   "source": [
    "**Missing values**"
   ]
  },
  {
   "cell_type": "code",
   "execution_count": 5,
   "metadata": {},
   "outputs": [
    {
     "name": "stdout",
     "output_type": "stream",
     "text": [
      "sentiment    0\n",
      "message      0\n",
      "dtype: int64\n"
     ]
    }
   ],
   "source": [
    "print(df_train.isnull().sum())"
   ]
  },
  {
   "cell_type": "markdown",
   "metadata": {},
   "source": [
    "There are no missing entries present in the training set. But since an empty string for tweets can also be considered as a missing entry, we need to check for empty strings in the `message` column as well."
   ]
  },
  {
   "cell_type": "code",
   "execution_count": 6,
   "metadata": {},
   "outputs": [
    {
     "data": {
      "text/plain": [
       "[]"
      ]
     },
     "execution_count": 6,
     "metadata": {},
     "output_type": "execute_result"
    }
   ],
   "source": [
    "#checking for empty strings\n",
    "blanks = [i for i,lb,tweet in df_train.itertuples() if type(tweet) == str if tweet.isspace()]\n",
    "blanks"
   ]
  },
  {
   "cell_type": "markdown",
   "metadata": {},
   "source": [
    "The list is empty, indicating that there are no empty strings."
   ]
  },
  {
   "cell_type": "markdown",
   "metadata": {},
   "source": [
    "##### Cleaning words in text column"
   ]
  },
  {
   "cell_type": "code",
   "execution_count": 8,
   "metadata": {},
   "outputs": [
    {
     "data": {
      "text/html": [
       "<div>\n",
       "<style scoped>\n",
       "    .dataframe tbody tr th:only-of-type {\n",
       "        vertical-align: middle;\n",
       "    }\n",
       "\n",
       "    .dataframe tbody tr th {\n",
       "        vertical-align: top;\n",
       "    }\n",
       "\n",
       "    .dataframe thead th {\n",
       "        text-align: right;\n",
       "    }\n",
       "</style>\n",
       "<table border=\"1\" class=\"dataframe\">\n",
       "  <thead>\n",
       "    <tr style=\"text-align: right;\">\n",
       "      <th></th>\n",
       "      <th>sentiment</th>\n",
       "      <th>message</th>\n",
       "    </tr>\n",
       "    <tr>\n",
       "      <th>tweetid</th>\n",
       "      <th></th>\n",
       "      <th></th>\n",
       "    </tr>\n",
       "  </thead>\n",
       "  <tbody>\n",
       "    <tr>\n",
       "      <th>625221</th>\n",
       "      <td>1</td>\n",
       "      <td>polyscimajor epa chief doesn't think carbon di...</td>\n",
       "    </tr>\n",
       "    <tr>\n",
       "      <th>126103</th>\n",
       "      <td>1</td>\n",
       "      <td>it's not like we lack evidence of anthropogeni...</td>\n",
       "    </tr>\n",
       "    <tr>\n",
       "      <th>698562</th>\n",
       "      <td>2</td>\n",
       "      <td>rt @rawstory: researchers say we have three ye...</td>\n",
       "    </tr>\n",
       "    <tr>\n",
       "      <th>573736</th>\n",
       "      <td>1</td>\n",
       "      <td>#todayinmaker# wired : 2016 was a pivotal year...</td>\n",
       "    </tr>\n",
       "    <tr>\n",
       "      <th>466954</th>\n",
       "      <td>1</td>\n",
       "      <td>rt @soynoviodetodas: it's 2016, and a racist, ...</td>\n",
       "    </tr>\n",
       "  </tbody>\n",
       "</table>\n",
       "</div>"
      ],
      "text/plain": [
       "         sentiment                                            message\n",
       "tweetid                                                              \n",
       "625221           1  polyscimajor epa chief doesn't think carbon di...\n",
       "126103           1  it's not like we lack evidence of anthropogeni...\n",
       "698562           2  rt @rawstory: researchers say we have three ye...\n",
       "573736           1  #todayinmaker# wired : 2016 was a pivotal year...\n",
       "466954           1  rt @soynoviodetodas: it's 2016, and a racist, ..."
      ]
     },
     "execution_count": 8,
     "metadata": {},
     "output_type": "execute_result"
    }
   ],
   "source": [
    "#lower case all words to remove noise from Capital words. Capital words may be seen as different from lower case words\n",
    "df_train['message'] = df_train['message'].str.lower()\n",
    "df_train.head()"
   ]
  },
  {
   "cell_type": "markdown",
   "metadata": {},
   "source": [
    "Tweets data can also include bad unicode where a person wants so say `José Florés` or use a `(—)` but it ends up being `JosÃ© Florés` or `â€”` instead. These issues can make it hard for the model to process the data. There is a package in python that takes care of these issues for us. The ftfy(fixed this for you package) takes all the bad unicode and outputs the good unicode"
   ]
  },
  {
   "cell_type": "code",
   "execution_count": 9,
   "metadata": {
    "scrolled": false
   },
   "outputs": [
    {
     "data": {
      "text/html": [
       "<div>\n",
       "<style scoped>\n",
       "    .dataframe tbody tr th:only-of-type {\n",
       "        vertical-align: middle;\n",
       "    }\n",
       "\n",
       "    .dataframe tbody tr th {\n",
       "        vertical-align: top;\n",
       "    }\n",
       "\n",
       "    .dataframe thead th {\n",
       "        text-align: right;\n",
       "    }\n",
       "</style>\n",
       "<table border=\"1\" class=\"dataframe\">\n",
       "  <thead>\n",
       "    <tr style=\"text-align: right;\">\n",
       "      <th></th>\n",
       "      <th>sentiment</th>\n",
       "      <th>message</th>\n",
       "    </tr>\n",
       "    <tr>\n",
       "      <th>tweetid</th>\n",
       "      <th></th>\n",
       "      <th></th>\n",
       "    </tr>\n",
       "  </thead>\n",
       "  <tbody>\n",
       "    <tr>\n",
       "      <th>625221</th>\n",
       "      <td>1</td>\n",
       "      <td>polyscimajor epa chief doesn't think carbon di...</td>\n",
       "    </tr>\n",
       "    <tr>\n",
       "      <th>126103</th>\n",
       "      <td>1</td>\n",
       "      <td>it's not like we lack evidence of anthropogeni...</td>\n",
       "    </tr>\n",
       "    <tr>\n",
       "      <th>698562</th>\n",
       "      <td>2</td>\n",
       "      <td>rt @rawstory: researchers say we have three ye...</td>\n",
       "    </tr>\n",
       "    <tr>\n",
       "      <th>573736</th>\n",
       "      <td>1</td>\n",
       "      <td>#todayinmaker# wired : 2016 was a pivotal year...</td>\n",
       "    </tr>\n",
       "    <tr>\n",
       "      <th>466954</th>\n",
       "      <td>1</td>\n",
       "      <td>rt @soynoviodetodas: it's 2016, and a racist, ...</td>\n",
       "    </tr>\n",
       "  </tbody>\n",
       "</table>\n",
       "</div>"
      ],
      "text/plain": [
       "         sentiment                                            message\n",
       "tweetid                                                              \n",
       "625221           1  polyscimajor epa chief doesn't think carbon di...\n",
       "126103           1  it's not like we lack evidence of anthropogeni...\n",
       "698562           2  rt @rawstory: researchers say we have three ye...\n",
       "573736           1  #todayinmaker# wired : 2016 was a pivotal year...\n",
       "466954           1  rt @soynoviodetodas: it's 2016, and a racist, ..."
      ]
     },
     "execution_count": 9,
     "metadata": {},
     "output_type": "execute_result"
    }
   ],
   "source": [
    "df_train['message'] = df_train['message'].apply(lambda x: fix_text(x))\n",
    "df_train.head()"
   ]
  },
  {
   "cell_type": "code",
   "execution_count": 10,
   "metadata": {},
   "outputs": [
    {
     "data": {
      "text/html": [
       "<div>\n",
       "<style scoped>\n",
       "    .dataframe tbody tr th:only-of-type {\n",
       "        vertical-align: middle;\n",
       "    }\n",
       "\n",
       "    .dataframe tbody tr th {\n",
       "        vertical-align: top;\n",
       "    }\n",
       "\n",
       "    .dataframe thead th {\n",
       "        text-align: right;\n",
       "    }\n",
       "</style>\n",
       "<table border=\"1\" class=\"dataframe\">\n",
       "  <thead>\n",
       "    <tr style=\"text-align: right;\">\n",
       "      <th></th>\n",
       "      <th>sentiment</th>\n",
       "      <th>message</th>\n",
       "    </tr>\n",
       "    <tr>\n",
       "      <th>tweetid</th>\n",
       "      <th></th>\n",
       "      <th></th>\n",
       "    </tr>\n",
       "  </thead>\n",
       "  <tbody>\n",
       "    <tr>\n",
       "      <th>625221</th>\n",
       "      <td>1</td>\n",
       "      <td>polyscimajor epa chief doesn't think carbon di...</td>\n",
       "    </tr>\n",
       "    <tr>\n",
       "      <th>126103</th>\n",
       "      <td>1</td>\n",
       "      <td>it's not like we lack evidence of anthropogeni...</td>\n",
       "    </tr>\n",
       "    <tr>\n",
       "      <th>698562</th>\n",
       "      <td>2</td>\n",
       "      <td>rt @rawstory: researchers say we have three ye...</td>\n",
       "    </tr>\n",
       "    <tr>\n",
       "      <th>573736</th>\n",
       "      <td>1</td>\n",
       "      <td>#todayinmaker# wired : 2016 was a pivotal year...</td>\n",
       "    </tr>\n",
       "    <tr>\n",
       "      <th>466954</th>\n",
       "      <td>1</td>\n",
       "      <td>rt @soynoviodetodas: it's 2016, and a racist, ...</td>\n",
       "    </tr>\n",
       "  </tbody>\n",
       "</table>\n",
       "</div>"
      ],
      "text/plain": [
       "         sentiment                                            message\n",
       "tweetid                                                              \n",
       "625221           1  polyscimajor epa chief doesn't think carbon di...\n",
       "126103           1  it's not like we lack evidence of anthropogeni...\n",
       "698562           2  rt @rawstory: researchers say we have three ye...\n",
       "573736           1  #todayinmaker# wired : 2016 was a pivotal year...\n",
       "466954           1  rt @soynoviodetodas: it's 2016, and a racist, ..."
      ]
     },
     "execution_count": 10,
     "metadata": {},
     "output_type": "execute_result"
    }
   ],
   "source": [
    "#removing urls\n",
    "df_train['message'] = df_train['message'].apply(lambda x: re.sub(r'https\\S+','url',x))\n",
    "df_train['message'] = df_train['message'].apply(lambda x: re.sub(r'www\\S+', 'url',x))\n",
    "df_train.head()"
   ]
  },
  {
   "cell_type": "markdown",
   "metadata": {},
   "source": [
    "The `message` column contains some contracted words such as *can't* and *don't*. As part of the cleaning process these words will be replaced with their expanded words that don't contain any ommission."
   ]
  },
  {
   "cell_type": "code",
   "execution_count": 11,
   "metadata": {},
   "outputs": [],
   "source": [
    "# Dictionary of contracted words\n",
    "contractions = {\n",
    "\"aren't\" : \"are not\",\n",
    "\"can't\" : \"cannot\",\n",
    "\"couldn't\" : \"could not\",\n",
    "\"didn't\" : \"did not\",\n",
    "\"doesn't\" : \"does not\",\n",
    "\"don't\" : \"do not\",\n",
    "\"hadn't\" : \"had not\",\n",
    "\"hasn't\" : \"has not\",\n",
    "\"haven't\" : \"have not\",\n",
    "\"he'd\" : \"he would\",\n",
    "\"he'll\" : \"he will\",\n",
    "\"he's\" : \"he is\",\n",
    "\"i'd\" : \"I would\",\n",
    "\"i'd\" : \"I had\",\n",
    "\"i'll\" : \"I will\",\n",
    "\"i'm\" : \"I am\",\n",
    "\"isn't\" : \"is not\",\n",
    "\"it's\" : \"it is\",\n",
    "\"it'll\":\"it will\",\n",
    "\"i've\" : \"I have\",\n",
    "\"let's\" : \"let us\",\n",
    "\"mightn't\" : \"might not\",\n",
    "\"mustn't\" : \"must not\",\n",
    "\"shan't\" : \"shall not\",\n",
    "\"she'd\" : \"she would\",\n",
    "\"she'll\" : \"she will\",\n",
    "\"she's\" : \"she is\",\n",
    "\"shouldn't\" : \"should not\",\n",
    "\"that's\" : \"that is\",\n",
    "\"there's\" : \"there is\",\n",
    "\"they'd\" : \"they would\",\n",
    "\"they'll\" : \"they will\",\n",
    "\"they're\" : \"they are\",\n",
    "\"they've\" : \"they have\",\n",
    "\"wasn't\": \"was not\",\n",
    "\"we'd\" : \"we would\",\n",
    "\"we're\" : \"we are\",\n",
    "\"weren't\" : \"were not\",\n",
    "\"we'll\":\"we will\",\n",
    "\"we've\" : \"we have\",\n",
    "\"what'll\" : \"what will\",\n",
    "\"what're\" : \"what are\",\n",
    "\"what's\" : \"what is\",\n",
    "\"what've\" : \"what have\",\n",
    "\"where's\" : \"where is\",\n",
    "\"who'd\" : \"who would\",\n",
    "\"who'll\" : \"who will\",\n",
    "\"who's\" : \"who is\",\n",
    "\"who've\" : \"who have\",\n",
    "\"won't\" : \"will not\",\n",
    "\"wouldn't\" : \"would not\",\n",
    "\"you'd\" : \"you would\",\n",
    "\"you'll\" : \"you will\",\n",
    "\"you're\" : \"you are\",\n",
    "\"you've\" : \"you have\",\n",
    "\"'re\": \" are\",\n",
    "}"
   ]
  },
  {
   "cell_type": "code",
   "execution_count": 12,
   "metadata": {},
   "outputs": [
    {
     "data": {
      "text/html": [
       "<div>\n",
       "<style scoped>\n",
       "    .dataframe tbody tr th:only-of-type {\n",
       "        vertical-align: middle;\n",
       "    }\n",
       "\n",
       "    .dataframe tbody tr th {\n",
       "        vertical-align: top;\n",
       "    }\n",
       "\n",
       "    .dataframe thead th {\n",
       "        text-align: right;\n",
       "    }\n",
       "</style>\n",
       "<table border=\"1\" class=\"dataframe\">\n",
       "  <thead>\n",
       "    <tr style=\"text-align: right;\">\n",
       "      <th></th>\n",
       "      <th>sentiment</th>\n",
       "      <th>message</th>\n",
       "    </tr>\n",
       "    <tr>\n",
       "      <th>tweetid</th>\n",
       "      <th></th>\n",
       "      <th></th>\n",
       "    </tr>\n",
       "  </thead>\n",
       "  <tbody>\n",
       "    <tr>\n",
       "      <th>625221</th>\n",
       "      <td>1</td>\n",
       "      <td>polyscimajor epa chief does not think carbon d...</td>\n",
       "    </tr>\n",
       "    <tr>\n",
       "      <th>126103</th>\n",
       "      <td>1</td>\n",
       "      <td>it is not like we lack evidence of anthropogen...</td>\n",
       "    </tr>\n",
       "    <tr>\n",
       "      <th>698562</th>\n",
       "      <td>2</td>\n",
       "      <td>rt @rawstory: researchers say we have three ye...</td>\n",
       "    </tr>\n",
       "    <tr>\n",
       "      <th>573736</th>\n",
       "      <td>1</td>\n",
       "      <td>#todayinmaker# wired : 2016 was a pivotal year...</td>\n",
       "    </tr>\n",
       "    <tr>\n",
       "      <th>466954</th>\n",
       "      <td>1</td>\n",
       "      <td>rt @soynoviodetodas: it is 2016, and a racist,...</td>\n",
       "    </tr>\n",
       "  </tbody>\n",
       "</table>\n",
       "</div>"
      ],
      "text/plain": [
       "         sentiment                                            message\n",
       "tweetid                                                              \n",
       "625221           1  polyscimajor epa chief does not think carbon d...\n",
       "126103           1  it is not like we lack evidence of anthropogen...\n",
       "698562           2  rt @rawstory: researchers say we have three ye...\n",
       "573736           1  #todayinmaker# wired : 2016 was a pivotal year...\n",
       "466954           1  rt @soynoviodetodas: it is 2016, and a racist,..."
      ]
     },
     "execution_count": 12,
     "metadata": {},
     "output_type": "execute_result"
    }
   ],
   "source": [
    "#replace contracted words with full word\n",
    "for word in contractions.keys():\n",
    "    df_train['message'] = df_train['message'].apply(lambda x: re.sub(word,contractions[word],x))\n",
    "df_train.head()"
   ]
  },
  {
   "cell_type": "markdown",
   "metadata": {},
   "source": [
    "The `message` column may also contain emojis 👨🏽‍💻 which alone are just symbols and don't have a word association for them. So the emojis will be replaced with the word that describes them."
   ]
  },
  {
   "cell_type": "code",
   "execution_count": 13,
   "metadata": {},
   "outputs": [
    {
     "data": {
      "text/html": [
       "<div>\n",
       "<style scoped>\n",
       "    .dataframe tbody tr th:only-of-type {\n",
       "        vertical-align: middle;\n",
       "    }\n",
       "\n",
       "    .dataframe tbody tr th {\n",
       "        vertical-align: top;\n",
       "    }\n",
       "\n",
       "    .dataframe thead th {\n",
       "        text-align: right;\n",
       "    }\n",
       "</style>\n",
       "<table border=\"1\" class=\"dataframe\">\n",
       "  <thead>\n",
       "    <tr style=\"text-align: right;\">\n",
       "      <th></th>\n",
       "      <th>sentiment</th>\n",
       "      <th>message</th>\n",
       "    </tr>\n",
       "    <tr>\n",
       "      <th>tweetid</th>\n",
       "      <th></th>\n",
       "      <th></th>\n",
       "    </tr>\n",
       "  </thead>\n",
       "  <tbody>\n",
       "    <tr>\n",
       "      <th>625221</th>\n",
       "      <td>1</td>\n",
       "      <td>polyscimajor epa chief does not think carbon d...</td>\n",
       "    </tr>\n",
       "    <tr>\n",
       "      <th>126103</th>\n",
       "      <td>1</td>\n",
       "      <td>it is not like we lack evidence of anthropogen...</td>\n",
       "    </tr>\n",
       "    <tr>\n",
       "      <th>698562</th>\n",
       "      <td>2</td>\n",
       "      <td>rt @rawstory: researchers say we have three ye...</td>\n",
       "    </tr>\n",
       "    <tr>\n",
       "      <th>573736</th>\n",
       "      <td>1</td>\n",
       "      <td>#todayinmaker# wired : 2016 was a pivotal year...</td>\n",
       "    </tr>\n",
       "    <tr>\n",
       "      <th>466954</th>\n",
       "      <td>1</td>\n",
       "      <td>rt @soynoviodetodas: it is 2016, and a racist,...</td>\n",
       "    </tr>\n",
       "  </tbody>\n",
       "</table>\n",
       "</div>"
      ],
      "text/plain": [
       "         sentiment                                            message\n",
       "tweetid                                                              \n",
       "625221           1  polyscimajor epa chief does not think carbon d...\n",
       "126103           1  it is not like we lack evidence of anthropogen...\n",
       "698562           2  rt @rawstory: researchers say we have three ye...\n",
       "573736           1  #todayinmaker# wired : 2016 was a pivotal year...\n",
       "466954           1  rt @soynoviodetodas: it is 2016, and a racist,..."
      ]
     },
     "execution_count": 13,
     "metadata": {},
     "output_type": "execute_result"
    }
   ],
   "source": [
    "#replace emojis with their word meaning\n",
    "df_train['message'] = df_train['message'].apply(lambda x: emoji.demojize(x))\n",
    "df_train.head()"
   ]
  },
  {
   "cell_type": "markdown",
   "metadata": {},
   "source": [
    "With tweets data a lot of shortened words like *abt* are used instead of the full words *about*. This can make it difficult for the model to process these words. We will replace the shortened words with their corresponding full word."
   ]
  },
  {
   "cell_type": "code",
   "execution_count": 21,
   "metadata": {
    "scrolled": false
   },
   "outputs": [],
   "source": [
    "#replace shortened words with full words\n",
    "short = {' BD ': 'Big Deal',\n",
    " ' abt ':'about',\n",
    " ' ab ': 'about',\n",
    " ' fav ': 'favourite',\n",
    " ' fab ': 'fabulous',\n",
    " ' smh ': 'shaking my head',\n",
    " ' u ': 'you',\n",
    " ' c ': 'see',\n",
    " ' anon ': 'anonymous',\n",
    " ' ac ': 'aircon',\n",
    " ' a/c ': 'aircon',\n",
    " ' yo ':'year old',\n",
    " ' n ':'and',\n",
    " ' nd ':'and',\n",
    " ' 2 ': 'to',\n",
    " ' w ': 'with',\n",
    " ' w/o ': 'without',\n",
    " ' r ': 'are',\n",
    " ' rip ':'rest in peace',\n",
    " ' 4 ' : 'for',\n",
    "' BF ': 'Boyfriend',\n",
    "' BRB ': 'Be Right Back',\n",
    "' BTW ': 'By The Way',\n",
    "' GF ': 'Girlfriend',\n",
    "' HBD ': 'Happy Birthday',\n",
    "' JK ': 'Just Kidding',\n",
    "' K ':'Okay',\n",
    "' LMK ': 'Let Me Know',\n",
    "' LOL ': 'Laugh Out Loud',\n",
    "' HA ':'laugh',\n",
    "' MYOB ': 'Mind Your Own Business',\n",
    "' NBD ': 'No Big Deal',\n",
    "' NVM ': 'Nevermind',\n",
    "' Obv ':' Obviously',\n",
    "' Obvi ':' Obviously',\n",
    "' OMG ': 'Oh My God',\n",
    "' Pls ': 'Please',' Plz ': 'Please',\n",
    "' Q ': 'Question', ' QQ ': 'Quick Question',\n",
    "' RLY ': 'Really',\n",
    "' SRLSY ': 'Seriously',\n",
    "' TMI ': 'Too Much Information',\n",
    "' TY ': 'Thank You,',\n",
    "' TYVM ': 'Thank You Very Much',\n",
    "' YW ': 'You are Welcome',\n",
    "' FOMO ': 'Fear Of Missing Out',\n",
    "' FTFY ': 'Fixed This For You',\n",
    "' FTW ': 'For The Win',\n",
    "' FYA ': 'For Your Amusement',\n",
    "' FYE ': 'For Your Entertainment',\n",
    "' GTI ': 'Going Through It',\n",
    "' HTH ': 'Here to Help',\n",
    "' IRL ': 'In Real Life',\n",
    "' ICYMI ': 'In Case You Missed It',\n",
    "' ICYWW ': 'In Case You Were Wondering',\n",
    "' NBC ': 'Nobody Cares Though',\n",
    "' NTW ': 'Not To Worry',\n",
    "' OTD ': 'Of The Day',\n",
    "' OOTD ': 'Outfit Of The Day',\n",
    "' QOTD ': 'Quote of the Day',\n",
    "' FOTD ': 'Find Of the Day',\n",
    "' POIDH ': 'Pictures Or It Did ntt Happen',\n",
    "' YOLO ': 'You Only Live Once',\n",
    "' AFAIK ': 'As Far As I Know',\n",
    "' DGYF ': 'Dang Girl You Fine',\n",
    "' FWIW ': 'For What It is Worth',\n",
    "' IDC ': 'I Do not Care',\n",
    "' IDK ': 'I Do not Know',\n",
    "' IIRC ': 'If I Remember Correctly',\n",
    "' IMHO ': 'In My Honest Opinion',\n",
    "' IMO ': 'In My Opinion',\n",
    "' Jelly ': 'Jealous',\n",
    "' Jellz ': 'Jealous',\n",
    "' JSYK ': 'Just So You Know',\n",
    "' LMAO ': 'Laughing My Ass Off',\n",
    "' LMFAO ': 'Laughing My Fucking Ass Off',\n",
    "' NTS ': 'Note to Self',\n",
    "' ROFL ': 'Rolling On the Floor Laughing',\n",
    "' ROFLMAO ': 'Rolling On the Floor Laughing My Ass Off',\n",
    "' SMH ': 'Shaking My Head',\n",
    "' TBH ': 'To Be Honest',\n",
    "' TL;DR ':  'Too Long; Did not Read',\n",
    "' TLDR ':  'Too Long; Did not Read',\n",
    "' YGTR ': 'You Got That Right',\n",
    "' AYKMWTS ': 'Are You Kidding Me With This Shit',\n",
    "' BAMF ': 'Bad Ass Mother Fucker',\n",
    "' FFS ': 'For Fuck Sake',\n",
    "' FML ': 'Fuck My Life',\n",
    "' HYFR ': 'Hell Yeah Fucking Right',\n",
    "' IDGAF ': 'I Do not Give A Fuck',\n",
    "' NFW ': 'No Fucking Way',\n",
    "' PITA ': 'Pain In The Ass',\n",
    "' POS ': 'Piece of Shit',\n",
    "' SOL ': 'Shit Outta Luck',\n",
    "' STFU ': 'Shut the Fuck Up',\n",
    "' TF ': 'The Fuck',\n",
    "' WTF ': 'What The Fuck',\n",
    "' BFN ': 'Bye For Now',\n",
    "' CU ': 'See You',\n",
    "' IC ': 'I see',\n",
    "' CYL ': 'See You Later',\n",
    "' GTG ': 'Got to Go',\n",
    "' OMW ': 'On My Way',\n",
    "' RN ': 'Right Now',\n",
    "' TTYL ': 'Talk To You Later',\n",
    "' TYT ': 'Take Your time',\n",
    "' CC ': 'Carbon Copy',\n",
    "' CX ': 'Correction',\n",
    "' DM ': 'Direct Message',\n",
    "' FB ': 'Facebook',\n",
    "' FBF ': 'Flash-Back Friday',\n",
    "' FF ': 'Follow Friday',\n",
    "' HT ': 'Tipping my hat',\n",
    "' H/T ': 'Tipping my hat',\n",
    "' IG ': 'Instagram',\n",
    "' Insta ': 'Instagram',\n",
    "' MT ':' Modified Tweet',\n",
    "' OH ': 'Overheard',\n",
    "' PRT ': 'Partial Retweet',\n",
    "' RT ': 'Retweet',\n",
    "'rt ' : 'retweet',\n",
    "' SO ':'Shout Out',\n",
    "' S/O ': 'Shout Out',\n",
    "' TBT ': 'Throw-Back Thursday',\n",
    "' AWOL ': 'Away While Online',\n",
    "' BFF ': 'Best Friend Forever',\n",
    "' NSFW ': 'Not Safe For Work',\n",
    "' OG ': 'Original Gangster',\n",
    "' PSA ': 'Public Service Announcement',\n",
    "' PDA ': 'Public Display of Affection'}\n",
    "\n",
    "short = dict((key.lower(), value.lower()) for key,value in short.items())"
   ]
  },
  {
   "cell_type": "code",
   "execution_count": 22,
   "metadata": {
    "scrolled": true
   },
   "outputs": [
    {
     "data": {
      "text/html": [
       "<div>\n",
       "<style scoped>\n",
       "    .dataframe tbody tr th:only-of-type {\n",
       "        vertical-align: middle;\n",
       "    }\n",
       "\n",
       "    .dataframe tbody tr th {\n",
       "        vertical-align: top;\n",
       "    }\n",
       "\n",
       "    .dataframe thead th {\n",
       "        text-align: right;\n",
       "    }\n",
       "</style>\n",
       "<table border=\"1\" class=\"dataframe\">\n",
       "  <thead>\n",
       "    <tr style=\"text-align: right;\">\n",
       "      <th></th>\n",
       "      <th>sentiment</th>\n",
       "      <th>message</th>\n",
       "    </tr>\n",
       "    <tr>\n",
       "      <th>tweetid</th>\n",
       "      <th></th>\n",
       "      <th></th>\n",
       "    </tr>\n",
       "  </thead>\n",
       "  <tbody>\n",
       "    <tr>\n",
       "      <th>625221</th>\n",
       "      <td>1</td>\n",
       "      <td>polyscimajor epa chief does not think carbon d...</td>\n",
       "    </tr>\n",
       "    <tr>\n",
       "      <th>126103</th>\n",
       "      <td>1</td>\n",
       "      <td>it is not like we lack evidence of anthropogen...</td>\n",
       "    </tr>\n",
       "    <tr>\n",
       "      <th>698562</th>\n",
       "      <td>2</td>\n",
       "      <td>retweet@rawstory: researchers say we have thre...</td>\n",
       "    </tr>\n",
       "    <tr>\n",
       "      <th>573736</th>\n",
       "      <td>1</td>\n",
       "      <td>#todayinmaker# wired : 2016 was a pivotal year...</td>\n",
       "    </tr>\n",
       "    <tr>\n",
       "      <th>466954</th>\n",
       "      <td>1</td>\n",
       "      <td>retweet@soynoviodetodas: it is 2016, and a rac...</td>\n",
       "    </tr>\n",
       "  </tbody>\n",
       "</table>\n",
       "</div>"
      ],
      "text/plain": [
       "         sentiment                                            message\n",
       "tweetid                                                              \n",
       "625221           1  polyscimajor epa chief does not think carbon d...\n",
       "126103           1  it is not like we lack evidence of anthropogen...\n",
       "698562           2  retweet@rawstory: researchers say we have thre...\n",
       "573736           1  #todayinmaker# wired : 2016 was a pivotal year...\n",
       "466954           1  retweet@soynoviodetodas: it is 2016, and a rac..."
      ]
     },
     "execution_count": 22,
     "metadata": {},
     "output_type": "execute_result"
    }
   ],
   "source": [
    "#replacing shortened words with full words\n",
    "for word in short.keys():\n",
    "    df_train['message'] = df_train['message'].apply(lambda x: re.sub(word,short[word],x))\n",
    "df_train.head()"
   ]
  },
  {
   "cell_type": "markdown",
   "metadata": {},
   "source": [
    "We can also find spelling mistakes in tweets. The pyspellchecker package checks for spelling mistakes and replaces with some recommended words"
   ]
  },
  {
   "cell_type": "code",
   "execution_count": 25,
   "metadata": {
    "scrolled": true
   },
   "outputs": [
    {
     "data": {
      "text/plain": [
       "tweetid\n",
       "625221                       { }\n",
       "126103                       { }\n",
       "698562                       { }\n",
       "573736                       { }\n",
       "466954                       { }\n",
       "                   ...          \n",
       "22001                        { }\n",
       "17856                        { }\n",
       "384248                    {…,  }\n",
       "819732    {â, ¢, ã, \\n, ¬,  , ¦}\n",
       "806319                       { }\n",
       "Name: message, Length: 15819, dtype: object"
      ]
     },
     "execution_count": 25,
     "metadata": {},
     "output_type": "execute_result"
    }
   ],
   "source": [
    "spell = SpellChecker() \n",
    "# check for misspelled words\n",
    "misspelled = df_train['message'].apply(lambda x: spell.unknown(x))\n",
    "misspelled"
   ]
  },
  {
   "cell_type": "code",
   "execution_count": 36,
   "metadata": {},
   "outputs": [
    {
     "data": {
      "text/plain": [
       "[[],\n",
       " [],\n",
       " [],\n",
       " ['#todayinmaker'],\n",
       " ['#electionnight'],\n",
       " [],\n",
       " [],\n",
       " [],\n",
       " [],\n",
       " [],\n",
       " [],\n",
       " [],\n",
       " [],\n",
       " ['#climatemarch'],\n",
       " [],\n",
       " [],\n",
       " [],\n",
       " [],\n",
       " [],\n",
       " [],\n",
       " ['#saveourplanet'],\n",
       " ['#cop22', '#earthtomarrakech'],\n",
       " [],\n",
       " ['#climateã'],\n",
       " ['#obamaunc'],\n",
       " [],\n",
       " [],\n",
       " ['#cdnpoli'],\n",
       " [],\n",
       " ['#johnholdren'],\n",
       " [],\n",
       " ['#demforce', '#theresistance', '#uniteblue'],\n",
       " [],\n",
       " [],\n",
       " [],\n",
       " ['#imvotingbecause'],\n",
       " [],\n",
       " [],\n",
       " [],\n",
       " ['#qanda'],\n",
       " ['#womansmarch'],\n",
       " [],\n",
       " [],\n",
       " [],\n",
       " [],\n",
       " [],\n",
       " [],\n",
       " ['#resist', '#impeach'],\n",
       " [],\n",
       " ['#climate'],\n",
       " [],\n",
       " [],\n",
       " [],\n",
       " [],\n",
       " [],\n",
       " [],\n",
       " [],\n",
       " [],\n",
       " [],\n",
       " [],\n",
       " [],\n",
       " [],\n",
       " [],\n",
       " [],\n",
       " [],\n",
       " [],\n",
       " [],\n",
       " [],\n",
       " [],\n",
       " [],\n",
       " [],\n",
       " [],\n",
       " [],\n",
       " [],\n",
       " [],\n",
       " [],\n",
       " [],\n",
       " [],\n",
       " [],\n",
       " [],\n",
       " [],\n",
       " ['#h'],\n",
       " ['#coag'],\n",
       " [],\n",
       " [],\n",
       " [],\n",
       " ['#beforetheflood'],\n",
       " [],\n",
       " [],\n",
       " [],\n",
       " [],\n",
       " ['#airquality', '#climatechange', '#greenhousegas'],\n",
       " ['#srhpl'],\n",
       " [],\n",
       " [],\n",
       " [],\n",
       " ['#climate', '#fishermen'],\n",
       " [],\n",
       " [],\n",
       " [],\n",
       " [],\n",
       " [],\n",
       " [],\n",
       " [],\n",
       " ['#earthday', '#marchforscience', '#healthandclimate'],\n",
       " [],\n",
       " [],\n",
       " [],\n",
       " [],\n",
       " [],\n",
       " [],\n",
       " [],\n",
       " [],\n",
       " [],\n",
       " ['#beforetheflood'],\n",
       " ['#worldvegandayã'],\n",
       " [],\n",
       " [],\n",
       " [],\n",
       " ['#25', '#02'],\n",
       " [],\n",
       " [],\n",
       " [],\n",
       " [],\n",
       " [],\n",
       " [],\n",
       " [],\n",
       " [],\n",
       " ['#stfu'],\n",
       " [],\n",
       " ['#avhack16'],\n",
       " [],\n",
       " [],\n",
       " ['#climatechange'],\n",
       " [],\n",
       " ['#climatechange'],\n",
       " [],\n",
       " [],\n",
       " [],\n",
       " [],\n",
       " [],\n",
       " [],\n",
       " [],\n",
       " [],\n",
       " [],\n",
       " ['#art4climate', '#larsenc', '#climatechangeart'],\n",
       " [],\n",
       " [],\n",
       " [],\n",
       " [],\n",
       " [],\n",
       " [],\n",
       " [],\n",
       " [],\n",
       " [],\n",
       " [],\n",
       " ['#exxonmobil', '#tillerson', '#secretaryofst'],\n",
       " [],\n",
       " [],\n",
       " [],\n",
       " [],\n",
       " [],\n",
       " [],\n",
       " [],\n",
       " [],\n",
       " [],\n",
       " [],\n",
       " [],\n",
       " [],\n",
       " [],\n",
       " [],\n",
       " [],\n",
       " [],\n",
       " [],\n",
       " [],\n",
       " [],\n",
       " [],\n",
       " [],\n",
       " [],\n",
       " [],\n",
       " [],\n",
       " [],\n",
       " ['#sdg13', '#climate'],\n",
       " [],\n",
       " [],\n",
       " [],\n",
       " [],\n",
       " [],\n",
       " [],\n",
       " ['#exxonknew'],\n",
       " ['#climatechange', '#p2retweetwest'],\n",
       " ['#climate'],\n",
       " [],\n",
       " [],\n",
       " [],\n",
       " ['#nomorescams', '#nomoredemocrats', '#draintheswamp'],\n",
       " [],\n",
       " [],\n",
       " [],\n",
       " [],\n",
       " [],\n",
       " [],\n",
       " [],\n",
       " [],\n",
       " ['#finkel'],\n",
       " [],\n",
       " [],\n",
       " [],\n",
       " ['#skpol'],\n",
       " [],\n",
       " [],\n",
       " [],\n",
       " ['#dadlife'],\n",
       " ['#parisagreement'],\n",
       " [],\n",
       " ['#climate', '#environment'],\n",
       " [],\n",
       " ['#exxonknew'],\n",
       " [],\n",
       " ['#hrc35', '#childrenrights'],\n",
       " ['#cop22'],\n",
       " [],\n",
       " [],\n",
       " [],\n",
       " [],\n",
       " [],\n",
       " ['#climatechange'],\n",
       " ['#fakenews'],\n",
       " [],\n",
       " ['#myth', '#maga', '#stepfoã'],\n",
       " [],\n",
       " ['#health', '#fitness'],\n",
       " [],\n",
       " [],\n",
       " [],\n",
       " ['#climate', '#india'],\n",
       " ['#greatbarrierreef', '#greatbarrierreef'],\n",
       " [],\n",
       " [],\n",
       " [],\n",
       " [],\n",
       " [],\n",
       " [],\n",
       " [],\n",
       " [],\n",
       " ['#un'],\n",
       " [],\n",
       " [],\n",
       " [],\n",
       " ['#exxonmobil'],\n",
       " [],\n",
       " [],\n",
       " [],\n",
       " ['#itisreal'],\n",
       " [],\n",
       " [],\n",
       " [],\n",
       " ['#imvotingbecause'],\n",
       " ['#opchemtrails'],\n",
       " [],\n",
       " [],\n",
       " [],\n",
       " [],\n",
       " ['#greatbarrierreef'],\n",
       " [],\n",
       " [],\n",
       " [],\n",
       " [],\n",
       " ['#pollutingpruitt', '#climatefacts'],\n",
       " [],\n",
       " [],\n",
       " [],\n",
       " ['#climate',\n",
       "  '#cities',\n",
       "  '#governments',\n",
       "  '#parisagreement',\n",
       "  '#c40',\n",
       "  '#globalcovenant',\n",
       "  '#cities4climate'],\n",
       " [],\n",
       " ['#cop22'],\n",
       " [],\n",
       " [],\n",
       " [],\n",
       " [],\n",
       " [],\n",
       " [],\n",
       " [],\n",
       " ['#oceans', '#climatechange'],\n",
       " [],\n",
       " [],\n",
       " [],\n",
       " [],\n",
       " [],\n",
       " [],\n",
       " ['#nodapl'],\n",
       " [],\n",
       " [],\n",
       " [],\n",
       " [],\n",
       " [],\n",
       " [],\n",
       " ['#fool', '#parisagreement'],\n",
       " ['#hypocrite'],\n",
       " [],\n",
       " [],\n",
       " [],\n",
       " [],\n",
       " [],\n",
       " [],\n",
       " [],\n",
       " ['#ff', '#trump', '#corrupt', '#epa', '#climate', '#fossil'],\n",
       " [],\n",
       " ['#climatechange', '#p2retweet', '#cop22'],\n",
       " [],\n",
       " [],\n",
       " [],\n",
       " [],\n",
       " [],\n",
       " [],\n",
       " [],\n",
       " ['#donaldtrump'],\n",
       " [],\n",
       " [],\n",
       " ['#nhlamember', '#latinopriorities'],\n",
       " ['#ivotedbecause', '#ã'],\n",
       " ['#earthday'],\n",
       " ['#renewables'],\n",
       " [],\n",
       " [],\n",
       " ['#standup'],\n",
       " ['#globalgoals', '#parisagreement'],\n",
       " [],\n",
       " [],\n",
       " [],\n",
       " [],\n",
       " [],\n",
       " [],\n",
       " [],\n",
       " ['#climatechange'],\n",
       " [],\n",
       " [],\n",
       " ['#geographyteacher', '#climatechange'],\n",
       " [],\n",
       " [],\n",
       " [],\n",
       " ['#mgwvjaiye'],\n",
       " [],\n",
       " [],\n",
       " [],\n",
       " [],\n",
       " [],\n",
       " ['#beforetheflood'],\n",
       " [],\n",
       " [],\n",
       " [],\n",
       " [],\n",
       " [],\n",
       " [],\n",
       " [],\n",
       " [],\n",
       " [],\n",
       " [],\n",
       " [],\n",
       " [],\n",
       " [],\n",
       " [],\n",
       " [],\n",
       " [],\n",
       " [],\n",
       " [],\n",
       " ['#davos2016', '#wef'],\n",
       " [],\n",
       " [],\n",
       " [],\n",
       " ['#environment', '#climate', '#mediterranean'],\n",
       " [],\n",
       " ['#makeinindia'],\n",
       " [],\n",
       " [],\n",
       " ['#thefilm'],\n",
       " ['#cop22', '#climateactã'],\n",
       " ['#farrakhan', '#quote'],\n",
       " [],\n",
       " [],\n",
       " ['#climatechange'],\n",
       " [],\n",
       " [],\n",
       " [],\n",
       " [],\n",
       " [],\n",
       " [],\n",
       " ['#climatevotã'],\n",
       " [],\n",
       " [],\n",
       " [],\n",
       " [],\n",
       " [],\n",
       " ['#beforetheflood'],\n",
       " [],\n",
       " [],\n",
       " [],\n",
       " ['#cleanenergy'],\n",
       " [],\n",
       " ['#today'],\n",
       " ['#climatechange'],\n",
       " [],\n",
       " [],\n",
       " [],\n",
       " [],\n",
       " [],\n",
       " [],\n",
       " [],\n",
       " [],\n",
       " [],\n",
       " [],\n",
       " [],\n",
       " [],\n",
       " [],\n",
       " [],\n",
       " ['#ceta', '#cetat'],\n",
       " [],\n",
       " [],\n",
       " [],\n",
       " [],\n",
       " [],\n",
       " [],\n",
       " [],\n",
       " [],\n",
       " [],\n",
       " [],\n",
       " [],\n",
       " [],\n",
       " ['#climate', '#epa'],\n",
       " [],\n",
       " [],\n",
       " [],\n",
       " [],\n",
       " [],\n",
       " [],\n",
       " [],\n",
       " [],\n",
       " [],\n",
       " [],\n",
       " [],\n",
       " [],\n",
       " [],\n",
       " [],\n",
       " [],\n",
       " [],\n",
       " [],\n",
       " ['#climate'],\n",
       " [],\n",
       " [],\n",
       " [],\n",
       " [],\n",
       " ['#wine', '#europe'],\n",
       " [],\n",
       " [],\n",
       " [],\n",
       " [],\n",
       " [],\n",
       " ['#mcggovt'],\n",
       " [],\n",
       " [],\n",
       " [],\n",
       " [],\n",
       " [],\n",
       " [],\n",
       " [],\n",
       " ['#denverclimatemarch'],\n",
       " [],\n",
       " [],\n",
       " ['#saveoursnowmen'],\n",
       " [],\n",
       " [],\n",
       " [],\n",
       " [],\n",
       " [],\n",
       " [],\n",
       " [],\n",
       " [],\n",
       " [],\n",
       " [],\n",
       " [],\n",
       " [],\n",
       " [],\n",
       " [],\n",
       " [],\n",
       " [],\n",
       " [],\n",
       " [],\n",
       " [],\n",
       " [],\n",
       " [],\n",
       " [],\n",
       " [],\n",
       " ['#exxon', '#rextillerson'],\n",
       " [],\n",
       " [],\n",
       " ['#progressive'],\n",
       " [],\n",
       " [],\n",
       " [],\n",
       " [],\n",
       " [],\n",
       " [],\n",
       " [],\n",
       " [],\n",
       " [],\n",
       " [],\n",
       " ['#environment', '#climatechange', '#flood'],\n",
       " [],\n",
       " [],\n",
       " [],\n",
       " ['#beforetheflood'],\n",
       " [],\n",
       " [],\n",
       " [],\n",
       " [],\n",
       " [],\n",
       " [],\n",
       " [],\n",
       " [],\n",
       " [],\n",
       " [],\n",
       " [],\n",
       " [],\n",
       " [],\n",
       " ['#faithandclimate', '#climatestewardship'],\n",
       " ['#parisagreement'],\n",
       " [],\n",
       " [],\n",
       " [],\n",
       " [],\n",
       " [],\n",
       " ['#worldpenguinday'],\n",
       " [],\n",
       " ['#climate', '#climate'],\n",
       " [],\n",
       " [],\n",
       " [],\n",
       " [],\n",
       " ['#mothersmarch4climate'],\n",
       " [],\n",
       " [],\n",
       " ['#auspol'],\n",
       " [],\n",
       " [],\n",
       " [],\n",
       " [],\n",
       " [],\n",
       " ['#miamibeachbowl'],\n",
       " [],\n",
       " [],\n",
       " [],\n",
       " ['#lastnightinsweden'],\n",
       " [],\n",
       " [],\n",
       " [],\n",
       " [],\n",
       " ['#earthhour'],\n",
       " [],\n",
       " ['#environment'],\n",
       " [],\n",
       " [],\n",
       " ['#climateofthenat'],\n",
       " [],\n",
       " [],\n",
       " ['#nbc'],\n",
       " [],\n",
       " ['#itwee'],\n",
       " [],\n",
       " [],\n",
       " [],\n",
       " ['#science2016electiã'],\n",
       " [],\n",
       " [],\n",
       " [],\n",
       " [],\n",
       " [],\n",
       " [],\n",
       " ['#news', '#bibleprophecy', '#truth', '#knowledge'],\n",
       " [],\n",
       " [],\n",
       " ['#cop22'],\n",
       " [],\n",
       " [],\n",
       " [],\n",
       " [],\n",
       " [],\n",
       " [],\n",
       " ['#smartnews'],\n",
       " [],\n",
       " [],\n",
       " ['#climate', '#p2retweetwith'],\n",
       " [],\n",
       " [],\n",
       " [],\n",
       " ['#trumpn'],\n",
       " [],\n",
       " [],\n",
       " ['#ets'],\n",
       " [],\n",
       " [],\n",
       " [],\n",
       " ['#climatechange'],\n",
       " ['#shellknew'],\n",
       " [],\n",
       " [],\n",
       " [],\n",
       " [],\n",
       " [],\n",
       " [],\n",
       " [],\n",
       " [],\n",
       " [],\n",
       " [],\n",
       " [],\n",
       " [],\n",
       " ['#climatechange'],\n",
       " [],\n",
       " [],\n",
       " [],\n",
       " [],\n",
       " [],\n",
       " [],\n",
       " [],\n",
       " ['#imvotingbecause'],\n",
       " [],\n",
       " [],\n",
       " [],\n",
       " [],\n",
       " ['#whyilovecanada'],\n",
       " [],\n",
       " [],\n",
       " [],\n",
       " [],\n",
       " [],\n",
       " [],\n",
       " [],\n",
       " [],\n",
       " [],\n",
       " [],\n",
       " ['#world'],\n",
       " [],\n",
       " ['#cdnpoli'],\n",
       " [],\n",
       " ['#agriculture', '#drought', '#climate'],\n",
       " [],\n",
       " [],\n",
       " [],\n",
       " [],\n",
       " [],\n",
       " ['#spicerfacts', '#trump', '#maga'],\n",
       " [],\n",
       " [],\n",
       " ['#cyclonedebbie', '#climate', '#a'],\n",
       " [],\n",
       " [],\n",
       " [],\n",
       " [],\n",
       " ['#stateoftheclimate'],\n",
       " [],\n",
       " ['#a', '#feedly'],\n",
       " ['#beforetheflood'],\n",
       " [],\n",
       " [],\n",
       " [],\n",
       " ['#climate', '#globalwarming', '#phenology'],\n",
       " [],\n",
       " [],\n",
       " [],\n",
       " [],\n",
       " [],\n",
       " [],\n",
       " [],\n",
       " [],\n",
       " [],\n",
       " [],\n",
       " [],\n",
       " [],\n",
       " [],\n",
       " [],\n",
       " ['#inbound16'],\n",
       " ['#parisagreement'],\n",
       " [],\n",
       " [],\n",
       " [],\n",
       " [],\n",
       " [],\n",
       " [],\n",
       " [],\n",
       " [],\n",
       " ['#sxsw17'],\n",
       " ['#beforethefloodã'],\n",
       " ['#climatechange'],\n",
       " [],\n",
       " [],\n",
       " [],\n",
       " [],\n",
       " [],\n",
       " [],\n",
       " [],\n",
       " [],\n",
       " [],\n",
       " ['#greens2017'],\n",
       " [],\n",
       " [],\n",
       " ['#abpoli', '#oilsands', '#tarsands'],\n",
       " ['#cop22'],\n",
       " [],\n",
       " [],\n",
       " [],\n",
       " [],\n",
       " [],\n",
       " [],\n",
       " ['#imvotingbecause'],\n",
       " [],\n",
       " [],\n",
       " [],\n",
       " [],\n",
       " [],\n",
       " [],\n",
       " [],\n",
       " [],\n",
       " ['#auspol'],\n",
       " [],\n",
       " ['#parisagreement'],\n",
       " [],\n",
       " [],\n",
       " ['#actonclimate'],\n",
       " [],\n",
       " [],\n",
       " [],\n",
       " [],\n",
       " [],\n",
       " [],\n",
       " ['#liberals'],\n",
       " [],\n",
       " [],\n",
       " [],\n",
       " [],\n",
       " [],\n",
       " [],\n",
       " [],\n",
       " [],\n",
       " ['#globalgoals', '#sustainablesunday'],\n",
       " [],\n",
       " [],\n",
       " ['#earthday', '#openmigration'],\n",
       " [],\n",
       " [],\n",
       " ['#climate', '#glo'],\n",
       " [],\n",
       " [],\n",
       " [],\n",
       " [],\n",
       " [],\n",
       " [],\n",
       " [],\n",
       " [],\n",
       " ['#beforetheflood'],\n",
       " [],\n",
       " [],\n",
       " [],\n",
       " [],\n",
       " [],\n",
       " [],\n",
       " [],\n",
       " [],\n",
       " ['#cop22', '#climateaction'],\n",
       " [],\n",
       " ['#analytics', '#iot', '#retweeturl'],\n",
       " ['#presidentelecttrump'],\n",
       " [],\n",
       " [],\n",
       " [],\n",
       " [],\n",
       " [],\n",
       " [],\n",
       " [],\n",
       " ['#parisagreement'],\n",
       " [],\n",
       " [],\n",
       " [],\n",
       " [],\n",
       " [],\n",
       " [],\n",
       " ['#liberallogic'],\n",
       " [],\n",
       " [],\n",
       " [],\n",
       " [],\n",
       " [],\n",
       " ['#bbcqt', '#trump'],\n",
       " [],\n",
       " ['#nepal'],\n",
       " [],\n",
       " ['#badlandsnationalpark'],\n",
       " ['#climatechange'],\n",
       " [],\n",
       " [],\n",
       " ['#justsaying'],\n",
       " ['#climatechange'],\n",
       " [],\n",
       " [],\n",
       " [],\n",
       " [],\n",
       " [],\n",
       " [],\n",
       " [],\n",
       " [],\n",
       " [],\n",
       " ['#trump'],\n",
       " [],\n",
       " [],\n",
       " [],\n",
       " ['#1'],\n",
       " [],\n",
       " ['#climate'],\n",
       " [],\n",
       " [],\n",
       " [],\n",
       " [],\n",
       " [],\n",
       " ['#inauguration'],\n",
       " ['#qanda'],\n",
       " [],\n",
       " [],\n",
       " ['#environment', '#climatechange'],\n",
       " [],\n",
       " ['#standindivisible', '#resistance', '#indivisible'],\n",
       " ['#ivotedbecause', '#ã'],\n",
       " ['#paginanuova', '#tv'],\n",
       " [],\n",
       " [],\n",
       " ['#probablywonthappenbutwhoreallyknows'],\n",
       " [],\n",
       " ['#climatechange'],\n",
       " [],\n",
       " ['#7'],\n",
       " [],\n",
       " [],\n",
       " [],\n",
       " [],\n",
       " [],\n",
       " [],\n",
       " ['#potus', '#donaldtrump', '#trump', '#trumpprotest'],\n",
       " [],\n",
       " [],\n",
       " [],\n",
       " [],\n",
       " [],\n",
       " [],\n",
       " [],\n",
       " ['#snow', '#egypt'],\n",
       " ['#stopfundingfossils'],\n",
       " [],\n",
       " [],\n",
       " [],\n",
       " [],\n",
       " [],\n",
       " [],\n",
       " ['#scien'],\n",
       " [],\n",
       " ['#insconf'],\n",
       " ['#petterstordalen'],\n",
       " ['#climate'],\n",
       " [],\n",
       " [],\n",
       " [],\n",
       " [],\n",
       " [],\n",
       " [],\n",
       " [],\n",
       " [],\n",
       " ['#demforce'],\n",
       " ['#vermont'],\n",
       " [],\n",
       " ['#scienceisntreal'],\n",
       " [],\n",
       " [],\n",
       " [],\n",
       " [],\n",
       " [],\n",
       " ['#climate'],\n",
       " ['#climatechange'],\n",
       " [],\n",
       " [],\n",
       " [],\n",
       " [],\n",
       " [],\n",
       " [],\n",
       " [],\n",
       " ['#dsnworld'],\n",
       " [],\n",
       " [],\n",
       " ['#makessense'],\n",
       " [],\n",
       " [],\n",
       " [],\n",
       " ['#climate', '#deforestation', '#meat', '#dairy'],\n",
       " ['#women4climate'],\n",
       " [],\n",
       " [],\n",
       " [],\n",
       " [],\n",
       " [],\n",
       " [],\n",
       " [],\n",
       " [],\n",
       " [],\n",
       " [],\n",
       " [],\n",
       " [],\n",
       " [],\n",
       " [],\n",
       " [],\n",
       " [],\n",
       " [],\n",
       " [],\n",
       " [],\n",
       " [],\n",
       " [],\n",
       " [],\n",
       " [],\n",
       " [],\n",
       " [],\n",
       " [],\n",
       " [],\n",
       " [],\n",
       " [],\n",
       " [],\n",
       " [],\n",
       " [],\n",
       " [],\n",
       " [],\n",
       " [],\n",
       " [],\n",
       " [],\n",
       " [],\n",
       " ['#exxonknew'],\n",
       " [],\n",
       " [],\n",
       " [],\n",
       " [],\n",
       " ['#tuesdaythoughts'],\n",
       " [],\n",
       " [],\n",
       " [],\n",
       " [],\n",
       " [],\n",
       " [],\n",
       " [],\n",
       " [],\n",
       " [],\n",
       " ['#climatechange', '#environment'],\n",
       " [],\n",
       " [],\n",
       " [],\n",
       " ['#actonclimate'],\n",
       " ['#trump'],\n",
       " [],\n",
       " [],\n",
       " [],\n",
       " [],\n",
       " [],\n",
       " ['#stopadani'],\n",
       " [],\n",
       " [],\n",
       " ['#beforetheflood'],\n",
       " [],\n",
       " [],\n",
       " [],\n",
       " [],\n",
       " [],\n",
       " ['#climatechangeisreal'],\n",
       " [],\n",
       " [],\n",
       " [],\n",
       " [],\n",
       " [],\n",
       " [],\n",
       " [],\n",
       " [],\n",
       " [],\n",
       " [],\n",
       " [],\n",
       " [],\n",
       " [],\n",
       " [],\n",
       " ['#climatechange'],\n",
       " [],\n",
       " [],\n",
       " [],\n",
       " [],\n",
       " ['#climateofhope'],\n",
       " [],\n",
       " [],\n",
       " ['#actonclimate'],\n",
       " ['#beforetheflood'],\n",
       " [],\n",
       " [],\n",
       " [],\n",
       " [],\n",
       " ...]"
      ]
     },
     "execution_count": 36,
     "metadata": {},
     "output_type": "execute_result"
    }
   ],
   "source": [
    "#extract all hashtags with indices\n",
    "hashtags = []\n",
    "indx = []\n",
    "for index,text in enumerate(df_train['message']):\n",
    "    hashtags.append(re.findall(r'[\\#]\\w+',text))\n",
    "    indx.append(index)\n",
    "hashtags\n",
    "\n",
    "#STILL WORKING ON THIS"
   ]
  },
  {
   "cell_type": "code",
   "execution_count": null,
   "metadata": {},
   "outputs": [],
   "source": []
  },
  {
   "cell_type": "code",
   "execution_count": 38,
   "metadata": {
    "scrolled": true
   },
   "outputs": [
    {
     "ename": "NameError",
     "evalue": "name 'itertools' is not defined",
     "output_type": "error",
     "traceback": [
      "\u001b[1;31m---------------------------------------------------------------------------\u001b[0m",
      "\u001b[1;31mNameError\u001b[0m                                 Traceback (most recent call last)",
      "\u001b[1;32m<ipython-input-38-f9a4d04c5894>\u001b[0m in \u001b[0;36m<module>\u001b[1;34m\u001b[0m\n\u001b[0;32m      2\u001b[0m \u001b[0mn_temp\u001b[0m \u001b[1;33m=\u001b[0m \u001b[1;33m[\u001b[0m\u001b[0mre\u001b[0m\u001b[1;33m.\u001b[0m\u001b[0mfindall\u001b[0m\u001b[1;33m(\u001b[0m\u001b[1;34mr'@[\\w]+'\u001b[0m\u001b[1;33m,\u001b[0m\u001b[0mdf_train\u001b[0m\u001b[1;33m[\u001b[0m\u001b[1;34m'message'\u001b[0m\u001b[1;33m]\u001b[0m\u001b[1;33m.\u001b[0m\u001b[0miloc\u001b[0m\u001b[1;33m[\u001b[0m\u001b[0mi\u001b[0m\u001b[1;33m]\u001b[0m\u001b[1;33m)\u001b[0m \u001b[1;32mfor\u001b[0m \u001b[0mi\u001b[0m\u001b[1;33m,\u001b[0m\u001b[0mx\u001b[0m \u001b[1;32min\u001b[0m \u001b[0menumerate\u001b[0m\u001b[1;33m(\u001b[0m\u001b[0mdf_train\u001b[0m\u001b[1;33m[\u001b[0m\u001b[1;34m'sentiment'\u001b[0m\u001b[1;33m]\u001b[0m\u001b[1;33m)\u001b[0m \u001b[1;32mif\u001b[0m \u001b[0mx\u001b[0m\u001b[1;33m==\u001b[0m\u001b[1;36m2\u001b[0m\u001b[1;33m]\u001b[0m\u001b[1;33m\u001b[0m\u001b[1;33m\u001b[0m\u001b[0m\n\u001b[0;32m      3\u001b[0m \u001b[0mnews\u001b[0m \u001b[1;33m=\u001b[0m \u001b[1;33m[\u001b[0m\u001b[0mx\u001b[0m \u001b[1;32mfor\u001b[0m \u001b[0mx\u001b[0m \u001b[1;32min\u001b[0m \u001b[0mn_temp\u001b[0m \u001b[1;32mif\u001b[0m \u001b[0mx\u001b[0m\u001b[1;33m!=\u001b[0m\u001b[1;33m[\u001b[0m\u001b[1;33m]\u001b[0m\u001b[1;33m]\u001b[0m\u001b[1;33m\u001b[0m\u001b[1;33m\u001b[0m\u001b[0m\n\u001b[1;32m----> 4\u001b[1;33m \u001b[0mnews\u001b[0m \u001b[1;33m=\u001b[0m \u001b[0mlist\u001b[0m\u001b[1;33m(\u001b[0m\u001b[0mset\u001b[0m\u001b[1;33m(\u001b[0m\u001b[0mitertools\u001b[0m\u001b[1;33m(\u001b[0m\u001b[1;33m)\u001b[0m\u001b[1;33m.\u001b[0m\u001b[0mchain\u001b[0m\u001b[1;33m.\u001b[0m\u001b[0mfrom_iterable\u001b[0m\u001b[1;33m(\u001b[0m\u001b[0mnews\u001b[0m\u001b[1;33m)\u001b[0m\u001b[1;33m)\u001b[0m\u001b[1;33m)\u001b[0m\u001b[1;33m\u001b[0m\u001b[1;33m\u001b[0m\u001b[0m\n\u001b[0m",
      "\u001b[1;31mNameError\u001b[0m: name 'itertools' is not defined"
     ]
    }
   ],
   "source": [
    "# Extract all unique news related handles into a list\n",
    "n_temp = [re.findall(r'@[\\w]+',df_train['message'].iloc[i]) for i,x in enumerate(df_train['sentiment']) if x==2]\n",
    "news = [x for x in n_temp if x!=[]]\n",
    "news = list(set(itertools.chain.from_iterable(news)))"
   ]
  },
  {
   "cell_type": "code",
   "execution_count": 13,
   "metadata": {},
   "outputs": [],
   "source": []
  },
  {
   "cell_type": "code",
   "execution_count": 27,
   "metadata": {
    "scrolled": true
   },
   "outputs": [
    {
     "data": {
      "text/plain": [
       "sentiment    12.067767\n",
       "message      12.067767\n",
       "dtype: float64"
      ]
     },
     "execution_count": 27,
     "metadata": {},
     "output_type": "execute_result"
    }
   ],
   "source": [
    "#checking for duplicates in tweets\n",
    "df_train[df_train.duplicated(subset='message') == True].count()/len(df_train)*100\n",
    "# df_train.drop_duplicates(subset=['message'],keep = 'first',inplace = True)"
   ]
  },
  {
   "cell_type": "markdown",
   "metadata": {},
   "source": [
    "10% of the tweets seem to be duplicated tweets but with different ID's. Since we don't have a significantly large amount of data we will keep these duplicates and check the impact of having them or not having them, when we fit the models."
   ]
  },
  {
   "cell_type": "code",
   "execution_count": null,
   "metadata": {},
   "outputs": [],
   "source": []
  },
  {
   "cell_type": "markdown",
   "metadata": {},
   "source": [
    "### Feature creation"
   ]
  },
  {
   "cell_type": "code",
   "execution_count": null,
   "metadata": {},
   "outputs": [],
   "source": [
    "# Create some features from the given tweets,e.g length of tweet. Visualise these created features\n"
   ]
  },
  {
   "cell_type": "code",
   "execution_count": null,
   "metadata": {},
   "outputs": [],
   "source": []
  },
  {
   "cell_type": "code",
   "execution_count": null,
   "metadata": {},
   "outputs": [],
   "source": []
  },
  {
   "cell_type": "markdown",
   "metadata": {},
   "source": [
    "### Split data into response and predictors"
   ]
  },
  {
   "cell_type": "code",
   "execution_count": null,
   "metadata": {},
   "outputs": [],
   "source": [
    "#### clean_message = the cleaned text data ####\n",
    "y = df_train['sentiment']\n",
    "X = df_train['clean_message']"
   ]
  },
  {
   "cell_type": "markdown",
   "metadata": {},
   "source": [
    "### Split data into training and validation sets"
   ]
  },
  {
   "cell_type": "code",
   "execution_count": null,
   "metadata": {},
   "outputs": [],
   "source": [
    "X_train, X_test, y_train, y_test = train_test_split(X, y, test_size=0.2, random_state=42)"
   ]
  },
  {
   "cell_type": "markdown",
   "metadata": {},
   "source": [
    "### Build pipelines to vectorize the data"
   ]
  },
  {
   "cell_type": "code",
   "execution_count": null,
   "metadata": {},
   "outputs": [],
   "source": [
    "# Stem, tokenize and remove stopwords (all done within vectorization)\n",
    "# Build a pipeline that vectorizes the text and creates classifiers for the different models \n",
    "# (logistic reg, SVM, Naive Bayes, Random Forest, Neural Nets)\n"
   ]
  },
  {
   "cell_type": "code",
   "execution_count": null,
   "metadata": {},
   "outputs": [],
   "source": [
    "# Write class that has object that tokenizes text data AND stems the tokens\n",
    "class StemAndTokenize:\n",
    "    def __init__(self):\n",
    "        self.ss = SnowballStemmer('english')\n",
    "    def __call__(self, doc):\n",
    "        return [self.ss.stem(t) for t in word_tokenize(doc)]"
   ]
  },
  {
   "cell_type": "markdown",
   "metadata": {},
   "source": [
    "#### Logistic Regression"
   ]
  },
  {
   "cell_type": "code",
   "execution_count": null,
   "metadata": {},
   "outputs": [],
   "source": [
    "# Create pipeline for Logistic Regression:\n",
    "lr = Pipeline([('tfidf', TfidfVectorizer(tokenizer=StemAndTokenize())),\n",
    "               ('lr', LogisticRegression())\n",
    "              ])"
   ]
  },
  {
   "cell_type": "markdown",
   "metadata": {},
   "source": [
    "#### Naïve Bayes"
   ]
  },
  {
   "cell_type": "code",
   "execution_count": null,
   "metadata": {},
   "outputs": [],
   "source": [
    "# Create pipeline for Naïve Bayes:\n",
    "nb = Pipeline([('tfidf', TfidfVectorizer(tokenizer=StemAndTokenize())),\n",
    "               ('nb', MultinomialNB())\n",
    "              ])"
   ]
  },
  {
   "cell_type": "markdown",
   "metadata": {},
   "source": [
    "#### Linear SVM (Support Vector Machine)"
   ]
  },
  {
   "cell_type": "code",
   "execution_count": null,
   "metadata": {},
   "outputs": [],
   "source": [
    "# Create pipeline for SVM:\n",
    "Lsvm = Pipeline([('tfidf', TfidfVectorizer(tokenizer=StemAndTokenize())),\n",
    "               ('Lsvm', LinearSVC())\n",
    "              ])"
   ]
  },
  {
   "cell_type": "markdown",
   "metadata": {},
   "source": [
    "#### Random Forest"
   ]
  },
  {
   "cell_type": "code",
   "execution_count": null,
   "metadata": {},
   "outputs": [],
   "source": [
    "# Create pipeline for Random Forest:\n",
    "rf = Pipeline([('tfidf', TfidfVectorizer(tokenizer=StemAndTokenize())),\n",
    "               ('rf', RandomForestClassifier())\n",
    "              ])"
   ]
  },
  {
   "cell_type": "markdown",
   "metadata": {},
   "source": [
    "#### KNN (K Nearest Neighbors)"
   ]
  },
  {
   "cell_type": "code",
   "execution_count": null,
   "metadata": {},
   "outputs": [],
   "source": [
    "# Create pipeline for KNN:\n",
    "knn = Pipeline([('tfidf', TfidfVectorizer(tokenizer=StemAndTokenize())),\n",
    "               ('knn', KNeighborsClassifier())\n",
    "              ])"
   ]
  },
  {
   "cell_type": "markdown",
   "metadata": {},
   "source": [
    "#### Neural Networks"
   ]
  },
  {
   "cell_type": "code",
   "execution_count": null,
   "metadata": {},
   "outputs": [],
   "source": [
    "# Create pipeline for Neural Networks:\n",
    "nn = Pipeline([('tfidf', TfidfVectorizer(tokenizer=StemAndTokenize())),\n",
    "               ('nn', MLPClassifier())\n",
    "              ])"
   ]
  },
  {
   "cell_type": "markdown",
   "metadata": {},
   "source": [
    "### Hyperparameter optimization"
   ]
  },
  {
   "cell_type": "code",
   "execution_count": null,
   "metadata": {},
   "outputs": [],
   "source": [
    "# optimize models by tuning parameters (GridSearch)\n"
   ]
  },
  {
   "cell_type": "code",
   "execution_count": null,
   "metadata": {},
   "outputs": [],
   "source": []
  },
  {
   "cell_type": "code",
   "execution_count": null,
   "metadata": {},
   "outputs": [],
   "source": []
  },
  {
   "cell_type": "markdown",
   "metadata": {},
   "source": [
    "### Train models"
   ]
  },
  {
   "cell_type": "markdown",
   "metadata": {},
   "source": [
    "#### Logistic Regression"
   ]
  },
  {
   "cell_type": "code",
   "execution_count": null,
   "metadata": {},
   "outputs": [],
   "source": [
    "# Fitting the Logistic Regression model\n",
    "lr.fit(X_train, y_train)"
   ]
  },
  {
   "cell_type": "markdown",
   "metadata": {},
   "source": [
    "#### Naïve Bayes"
   ]
  },
  {
   "cell_type": "code",
   "execution_count": null,
   "metadata": {},
   "outputs": [],
   "source": [
    "# Fitting the Naïve Bayes model\n",
    "nb.fit(X_train, y_train)"
   ]
  },
  {
   "cell_type": "markdown",
   "metadata": {},
   "source": [
    "#### Linear SVM (Support Vector Machine)"
   ]
  },
  {
   "cell_type": "code",
   "execution_count": null,
   "metadata": {},
   "outputs": [],
   "source": [
    "# Fitting the SVM model\n",
    "Lsvm.fit(X_train, y_train)"
   ]
  },
  {
   "cell_type": "markdown",
   "metadata": {},
   "source": [
    "#### Random Forest"
   ]
  },
  {
   "cell_type": "code",
   "execution_count": null,
   "metadata": {},
   "outputs": [],
   "source": [
    "# Fitting the Random Forest model\n",
    "rf.fit(X_train, y_train)"
   ]
  },
  {
   "cell_type": "markdown",
   "metadata": {},
   "source": [
    "#### KNN (K Nearest Neighbors)"
   ]
  },
  {
   "cell_type": "code",
   "execution_count": null,
   "metadata": {},
   "outputs": [],
   "source": [
    "# Fitting the KNN model\n",
    "knn.fit(X_train, y_train)"
   ]
  },
  {
   "cell_type": "markdown",
   "metadata": {},
   "source": [
    "#### Neural Networks"
   ]
  },
  {
   "cell_type": "code",
   "execution_count": null,
   "metadata": {},
   "outputs": [],
   "source": [
    "# Fitting the Neural Networks model\n",
    "nn.fit(X_train, y_train)"
   ]
  },
  {
   "cell_type": "markdown",
   "metadata": {},
   "source": [
    "### Make predictions"
   ]
  },
  {
   "cell_type": "code",
   "execution_count": null,
   "metadata": {},
   "outputs": [],
   "source": [
    "# make predicts \n"
   ]
  },
  {
   "cell_type": "markdown",
   "metadata": {},
   "source": [
    "#### Logistic Regression"
   ]
  },
  {
   "cell_type": "code",
   "execution_count": null,
   "metadata": {},
   "outputs": [],
   "source": [
    "# Form a prediction set for the Logistic Regression model\n",
    "pred_lr = lr.predict(X_test)"
   ]
  },
  {
   "cell_type": "markdown",
   "metadata": {},
   "source": [
    "#### Naïve Bayes"
   ]
  },
  {
   "cell_type": "code",
   "execution_count": null,
   "metadata": {},
   "outputs": [],
   "source": [
    "# Form a prediction set for the Naïve Bayes model\n",
    "pred_nb = nb.predict(X_test)"
   ]
  },
  {
   "cell_type": "markdown",
   "metadata": {},
   "source": [
    "#### Linear SVM (Support Vector Machine)"
   ]
  },
  {
   "cell_type": "code",
   "execution_count": null,
   "metadata": {},
   "outputs": [],
   "source": [
    "# Form a prediction set for the Linear SVM model\n",
    "pred_Lsvm = Lsvm.predict(X_test)"
   ]
  },
  {
   "cell_type": "markdown",
   "metadata": {},
   "source": [
    "#### Random Forest"
   ]
  },
  {
   "cell_type": "code",
   "execution_count": null,
   "metadata": {},
   "outputs": [],
   "source": [
    "# Form a prediction set for the Random Forest model\n",
    "pred_rf = rf.predict(X_test)"
   ]
  },
  {
   "cell_type": "markdown",
   "metadata": {},
   "source": [
    "#### KNN (K Nearest Neighbors)"
   ]
  },
  {
   "cell_type": "code",
   "execution_count": null,
   "metadata": {},
   "outputs": [],
   "source": [
    "# Form a prediction set for the KNN model\n",
    "pred_knn = knn.predict(X_test)"
   ]
  },
  {
   "cell_type": "markdown",
   "metadata": {},
   "source": [
    "#### Neural Networks"
   ]
  },
  {
   "cell_type": "code",
   "execution_count": null,
   "metadata": {},
   "outputs": [],
   "source": [
    "# Form a prediction set for the Neural Network model\n",
    "pred_nn = nn.predict(X_test)"
   ]
  },
  {
   "cell_type": "markdown",
   "metadata": {},
   "source": [
    "### Evaluate model accuracy"
   ]
  },
  {
   "cell_type": "code",
   "execution_count": null,
   "metadata": {},
   "outputs": [],
   "source": [
    "# confusion matrix\n",
    "# classification report\n"
   ]
  },
  {
   "cell_type": "markdown",
   "metadata": {},
   "source": [
    "#### Confusion Matrices"
   ]
  },
  {
   "cell_type": "markdown",
   "metadata": {},
   "source": [
    "..."
   ]
  },
  {
   "cell_type": "code",
   "execution_count": null,
   "metadata": {},
   "outputs": [],
   "source": [
    "labels = ['2: News', '1: Pro', '0: Neutral', '-1: Anti']"
   ]
  },
  {
   "cell_type": "markdown",
   "metadata": {},
   "source": [
    "#### Logistic Regression"
   ]
  },
  {
   "cell_type": "code",
   "execution_count": null,
   "metadata": {},
   "outputs": [],
   "source": [
    "pd.DataFrame(data=confusion_matrix(y_test, pred_lr), index=labels, columns=labels)"
   ]
  },
  {
   "cell_type": "markdown",
   "metadata": {},
   "source": [
    "#### Naïve Bayes"
   ]
  },
  {
   "cell_type": "code",
   "execution_count": null,
   "metadata": {},
   "outputs": [],
   "source": [
    "pd.DataFrame(data=confusion_matrix(y_test, pred_nb), index=labels, columns=labels)"
   ]
  },
  {
   "cell_type": "markdown",
   "metadata": {},
   "source": [
    "#### Linear SVM (Support Vector Machine)"
   ]
  },
  {
   "cell_type": "code",
   "execution_count": null,
   "metadata": {},
   "outputs": [],
   "source": [
    "pd.DataFrame(data=confusion_matrix(y_test, pred_Lsvm), index=labels, columns=labels)"
   ]
  },
  {
   "cell_type": "markdown",
   "metadata": {},
   "source": [
    "#### Random Forest"
   ]
  },
  {
   "cell_type": "code",
   "execution_count": null,
   "metadata": {},
   "outputs": [],
   "source": [
    "pd.DataFrame(data=confusion_matrix(y_test, pred_rf), index=labels, columns=labels)"
   ]
  },
  {
   "cell_type": "markdown",
   "metadata": {},
   "source": [
    "#### KNN (K Nearest Neighbors)"
   ]
  },
  {
   "cell_type": "code",
   "execution_count": null,
   "metadata": {},
   "outputs": [],
   "source": [
    "pd.DataFrame(data=confusion_matrix(y_test, pred_knn), index=labels, columns=labels)"
   ]
  },
  {
   "cell_type": "markdown",
   "metadata": {},
   "source": [
    "#### Neural Networks"
   ]
  },
  {
   "cell_type": "code",
   "execution_count": null,
   "metadata": {},
   "outputs": [],
   "source": [
    "pd.DataFrame(data=confusion_matrix(y_test, pred_nn), index=labels, columns=labels)"
   ]
  },
  {
   "cell_type": "markdown",
   "metadata": {},
   "source": [
    "#### Classification Report"
   ]
  },
  {
   "cell_type": "markdown",
   "metadata": {},
   "source": [
    "..."
   ]
  },
  {
   "cell_type": "markdown",
   "metadata": {},
   "source": [
    "#### Logistic Regression"
   ]
  },
  {
   "cell_type": "code",
   "execution_count": null,
   "metadata": {},
   "outputs": [],
   "source": [
    "print('Classification Report from Logistic Regression Model')\n",
    "print(classification_report(y_test, pred_lr, target_names=['2: News', '1: Pro', '0: Neutral', '-1: Anti']))"
   ]
  },
  {
   "cell_type": "markdown",
   "metadata": {},
   "source": [
    "#### Naïve Bayes"
   ]
  },
  {
   "cell_type": "code",
   "execution_count": null,
   "metadata": {},
   "outputs": [],
   "source": [
    "print('Classification Report from Naïve Model')\n",
    "print(classification_report(y_test, pred_nb, target_names=['2: News', '1: Pro', '0: Neutral', '-1: Anti']))"
   ]
  },
  {
   "cell_type": "markdown",
   "metadata": {},
   "source": [
    "#### Linear SVM (Support Vector Machine)"
   ]
  },
  {
   "cell_type": "code",
   "execution_count": null,
   "metadata": {},
   "outputs": [],
   "source": [
    "print('Classification Report from Linear SVM (Support Vector Machine) Model')\n",
    "print(classification_report(y_test, pred_Lsvm, target_names=['2: News', '1: Pro', '0: Neutral', '-1: Anti']))"
   ]
  },
  {
   "cell_type": "markdown",
   "metadata": {},
   "source": [
    "#### Random Forest"
   ]
  },
  {
   "cell_type": "code",
   "execution_count": null,
   "metadata": {},
   "outputs": [],
   "source": [
    "print('Classification Report from Random Forest Model')\n",
    "print(classification_report(y_test, pred_rf, target_names=['2: News', '1: Pro', '0: Neutral', '-1: Anti']))"
   ]
  },
  {
   "cell_type": "markdown",
   "metadata": {},
   "source": [
    "#### KNN (K Nearest Neighbors)"
   ]
  },
  {
   "cell_type": "code",
   "execution_count": null,
   "metadata": {},
   "outputs": [],
   "source": [
    "print('Classification Report from KNN(K Nearest Neighbours) Model')\n",
    "print(classification_report(y_test, pred_knn, target_names=['2: News', '1: Pro', '0: Neutral', '-1: Anti']))"
   ]
  },
  {
   "cell_type": "markdown",
   "metadata": {},
   "source": [
    "#### Neural Networks"
   ]
  },
  {
   "cell_type": "code",
   "execution_count": null,
   "metadata": {},
   "outputs": [],
   "source": [
    "print('Classification Report from Neural Networks Model')\n",
    "print(classification_report(y_test, pred_nn, target_names=['2: News', '1: Pro', '0: Neutral', '-1: Anti']))"
   ]
  },
  {
   "cell_type": "code",
   "execution_count": null,
   "metadata": {},
   "outputs": [],
   "source": [
    "#Table for all models with only f1 score"
   ]
  },
  {
   "cell_type": "code",
   "execution_count": null,
   "metadata": {},
   "outputs": [],
   "source": [
    "#lr.predict(X_test) -> use predictions created above\n",
    "data = {'Model':['Logistic Regression','Naïve Bayes','Linear SVM','Random Forest','KNN','Neural Network'],\n",
    "        'F1_score' :[f1_score(y_test, lr.predict(X_test)),\n",
    "       f1_score(y_test, pred_lr),\n",
    "       f1_score(y_test, pred_nb)\n",
    "       f1_score(y_test, pred_Lsvm),\n",
    "       f1_score(y_test, pred_knn),\n",
    "       f1_score(y_test, pred_nn)]}\n",
    "\n",
    "pd.DataFrame(data=data, columns=['Model F1_score'])"
   ]
  },
  {
   "cell_type": "markdown",
   "metadata": {},
   "source": [
    "### Save the model"
   ]
  },
  {
   "cell_type": "code",
   "execution_count": null,
   "metadata": {},
   "outputs": [],
   "source": [
    "# model = l_bm_1\n",
    "# model_save_path = \"model_sub3.pkl\"\n",
    "# with open(model_save_path,'wb') as file:\n",
    "#     pickle.dump(model,file)"
   ]
  },
  {
   "cell_type": "markdown",
   "metadata": {},
   "source": [
    "### Log parameters"
   ]
  },
  {
   "cell_type": "code",
   "execution_count": null,
   "metadata": {},
   "outputs": [],
   "source": [
    "# save parameters in variables to be logged to comet\n"
   ]
  },
  {
   "cell_type": "markdown",
   "metadata": {},
   "source": [
    "### End experiment"
   ]
  },
  {
   "cell_type": "code",
   "execution_count": null,
   "metadata": {},
   "outputs": [],
   "source": [
    "# experiment.end()"
   ]
  },
  {
   "cell_type": "markdown",
   "metadata": {},
   "source": [
    "### Conclusion"
   ]
  },
  {
   "cell_type": "code",
   "execution_count": null,
   "metadata": {},
   "outputs": [],
   "source": []
  }
 ],
 "metadata": {
  "kernelspec": {
   "display_name": "Python 3",
   "language": "python",
   "name": "python3"
  },
  "language_info": {
   "codemirror_mode": {
    "name": "ipython",
    "version": 3
   },
   "file_extension": ".py",
   "mimetype": "text/x-python",
   "name": "python",
   "nbconvert_exporter": "python",
   "pygments_lexer": "ipython3",
   "version": "3.7.6"
  }
 },
 "nbformat": 4,
 "nbformat_minor": 2
}
